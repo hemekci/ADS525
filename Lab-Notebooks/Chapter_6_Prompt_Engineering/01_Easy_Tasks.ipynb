{
  "cells": [
    {
      "cell_type": "markdown",
      "metadata": {
        "id": "DRzqIWcNhapW"
      },
      "source": [
        "# Chapter 6: Prompt Engineering - Easy Tasks\n",
        "\n",
        "This notebook covers basic prompt engineering concepts: temperature effects, prompt components, in-context learning, and chain-of-thought reasoning."
      ]
    },
    {
      "cell_type": "markdown",
      "metadata": {
        "id": "L-G7sDQehapZ"
      },
      "source": [
        "## Setup\n",
        "\n",
        "Run all cells in this section to set up the environment and load the model.\n",
        "\n",
        "Before running these cells, review the concepts from the main Chapter 6 notebook (00_Start_Here.ipynb)."
      ]
    },
    {
      "cell_type": "markdown",
      "metadata": {
        "id": "Krjc07zphapa"
      },
      "source": [
        "### [Optional] - Installing Packages on <img src=\"https://colab.google/static/images/icons/colab.png\" width=100>\n",
        "\n",
        "If you are viewing this notebook on Google Colab, uncomment and run the following code to install dependencies.\n",
        "\n",
        "**Note**: Use a GPU for this notebook. In Google Colab, go to Runtime > Change runtime type > Hardware accelerator > GPU > GPU type > T4."
      ]
    },
    {
      "cell_type": "code",
      "execution_count": 1,
      "metadata": {
        "id": "_rg-7L4bhapc"
      },
      "outputs": [],
      "source": [
        "%%capture\n",
        "!pip install transformers>=4.40.0 torch accelerate"
      ]
    },
    {
      "cell_type": "markdown",
      "metadata": {
        "id": "ckF6KJOUhape"
      },
      "source": [
        "### Model Loading"
      ]
    },
    {
      "cell_type": "code",
      "execution_count": 2,
      "metadata": {
        "id": "b-keCkFYhapf"
      },
      "outputs": [],
      "source": [
        "import torch\n",
        "from transformers import AutoModelForCausalLM, AutoTokenizer, pipeline"
      ]
    },
    {
      "cell_type": "code",
      "execution_count": 3,
      "metadata": {
        "id": "NlwLNGmThapg",
        "outputId": "8cac4d56-54b7-421d-ba87-66bde80745c4",
        "colab": {
          "base_uri": "https://localhost:8080/",
          "height": 545,
          "referenced_widgets": [
            "339e5d68463f4f1e95f539196467cf31",
            "8736989445724c2e8b07937c681bcf17",
            "557c0834762445968cc7a6e5e881ef3e",
            "892a2de84d794d9aaab34cd91f834335",
            "05218d2b974e438bb158f50da40017c7",
            "c99c3da30a6947759134725b4b28cddb",
            "13a8e1c1d1f443daa93c71596ac254b5",
            "f862d9b8053c4e9ea19be435edff3999",
            "858aace480dd4811be3fca75e1364284",
            "ef277020e8e04ce4b299c4b920adf87a",
            "f038664a78674f72a41239870021adce",
            "10dc4f58a57b460fa03ba44463d45b5f",
            "16f7b316b10c4ebeb8c61e475f8b252f",
            "95c7ba8bfa65419e9fcb1c08c5c500d8",
            "3108bd17bc76411cbcd6115bdc998896",
            "6a61d9e650d54182829f6698df30e16f",
            "e7c301703ff44f54afde2639400f3640",
            "b98cbc3ed51647cfb3ad98db5359354b",
            "25576ac11b4e4cefab8f9e075ba34482",
            "b726aa2f241342ff908ca7b6a80eb9c6",
            "d63218a903354825af6505b6a6223d8d",
            "7705d7f1db61432490c65dc4f446ac3f",
            "2f9601d2f93346c78b8ffae5681baafe",
            "88bb652cc472414f9f17b046e96cf0b1",
            "266254dbb2944dc9a477083a9727a61d",
            "b47212c566954b41b5a4cef1ad338544",
            "f7a5d07ddf404e08873bd226b64caba3",
            "4d2cddba17074b27940ff45b48559081",
            "8d4c3dfb40fd420b8afcaa4137c379d6",
            "54dcbcd6c3644a00ac1acb70ecb5441a",
            "3f94a3c2db0e4ec197c9f76424680653",
            "cc2229844fd141df85b1b9258b4d3bf7",
            "b028a64624c649dfaeb52731c9651f70",
            "f5ad2fe5162f4ee89e29c0566487b194",
            "6c86da122a424b51b6d7b872d8779dde",
            "7dfc2290a4bd4fa0a46cb697ec87448b",
            "74d0b41ef7e14c9ea08b2cc9364a0026",
            "3d835f1f556740e6bc79171152e50e93",
            "55463612374e42b18eee2599b7e988ff",
            "eb1c4ea4e6b24aff85df487ab89263f3",
            "67d1fd7dcadb43a4b7bd3ba50a2ee732",
            "50d4b0190d1f44feb3cb2dea939f4670",
            "4732794f126144fcac9755ce4b145d03",
            "e541f185df704c0da7635e2671993f66",
            "1b86925154414c68a0d5a6ffbb970b47",
            "33d265f840a64e409c535f92b661e86a",
            "28dd2274231e417a8311723e51770eb2",
            "638b3da948ee4ae9a5886b34b6c82b0b",
            "4429a8e15c514c958ce2277f304ba40a",
            "a7953d2bc5e741938f1e0cec2ff574a6",
            "5057e83fc23745e58e1aa684c1b229c9",
            "ac405df6627c4c6ea60f1dd400bac855",
            "64bdc0c5c23046e5880f880b38dbd55f",
            "ad0801c5698a4b729742e28cb44bd920",
            "35940d2e48f54f8db6e890bed38f0943",
            "63d1eb80b91e4f36af3f78e824027a44",
            "82a6c3b21c5b43c2bc3800be8ebcb7c7",
            "0aa7cf37ae2640d598787068104f362d",
            "81e7d54f80fc4b0695827f7a812b6a2e",
            "c2267ffc9467405daa14e4c3ba37949c",
            "6fd35c4a30c74f9781a7aad356e32482",
            "f29ad15928e24a6e99be4d6c5a971900",
            "892bfa4283524afcaa05719e353e2dab",
            "537b06933a1b4aeb871dbbc79d357600",
            "017bf15360fa47b9b49ce6e56d1cd0f6",
            "ddb92fe9b1ee4e34b361dfe0d36339b4",
            "41c497eabd8e4f22b2286a0c41d2ef04",
            "935635787c7647ffb84d52a304900ad5",
            "c05501d77f814c55a1a0e2e011e23c52",
            "8d7163c1444e4b8d9aeda007b14f3c19",
            "8b29732c19a04231a82008878ff184b2",
            "def68d4f72b94f109e96d780fe6e9c68",
            "5357b18caff1420ba9aa58c2d5a44223",
            "7d7409b683d747439a054ef4d30426d2",
            "7b6e61d02bdc4b0ca8ec56f629c2248f",
            "f1f37e59486e43689dc7d2dc11ac6a4f",
            "c2a4f34266334ac4b3354a71b637b400",
            "6cd3fb59c9ef4ec1b537cf1777e9510f",
            "45b094cfe7e941fda00fba49435f761a",
            "ac247f4d833041eb8ae42911c840843b",
            "abc52a37d7fe4f0aa49c02188c151ca0",
            "511577c1460c4c42baefb84bf5905d91",
            "b931ad9b93294f098cda432b5f8c09b7",
            "84b747c5de304e128efc93acfd1cefac",
            "fe581f4d9f6d4eb5b36e30c8d4df9426",
            "743bc9c263054b5eac87834b7f24dd9d",
            "e3b81716487b4617aa97fbce98a435c9",
            "ee0d954d7c884a4094351b412e8c7330",
            "60852d51d47c4fa5b28198bd87c45161",
            "28df7f168466402095a0d0546ad28689",
            "a665d26c53254467a438567c81f25579",
            "7e528a9baf69412aab74185fe9400981",
            "264a99eb43394db69d9d6d58c7ab8ff9",
            "5d826b61f4d54377a1e1c5746c3a09b3",
            "465fa59da29d44e3ba82d4f8d20aef4d",
            "64dae89482204884a14705c2bacf8d47",
            "37d4b34ed76946359a5bc1a46f36d69e",
            "d03b09a2b509421f940032c9e6269f30",
            "471bb3b3c73f4086a1997cf3207977d9",
            "50e5b3e3beaf4fb3bd7f92d27eb0d83e",
            "eea824957ec14e52bdea070ffb31c682",
            "4151c8725246413f8cb2689686988c9d",
            "ed54bae6a227424bad2448b355bdc9a8",
            "6d58d5a2005e432fa35e305400fe6a4a",
            "101d9e25d26f480092f7df0aab8c2300",
            "7a80b662a3fc4b53a20078877db80bfd",
            "55eb90ce839b4e3b9ca54faa1aa46afa",
            "2c643367b0c34eacb1739f426f245b29",
            "117fc6bfcba1415d9b51dd63cfb7e6c9",
            "405a02d644524198b6da3a6e445d7bbb",
            "4a17dd68eb9a4d04a9f8c222279ca43a",
            "3f946f90f1d04a43a03fad2f2e88b094",
            "fc68b02f01bf4e89974bf2b544ea4da1",
            "72cfb03df9b148a6af25b2bf91aae478",
            "125d3e7bec2841138d2954ea05dfcd57",
            "99112dc481d44a929643094486eabd00",
            "df8b8d34af5f43d693af20339bbf43e8",
            "a034e93145b54c628c9352d95e1ebd02",
            "f08ae7839db34d2798ab1f33bf51a4e8",
            "0323a137d7574dd5bb53fda3907cc79f",
            "9ab16391afac4cd1883ab2a313341347",
            "74ccc032950c4b32a55fb37fa9e181c6",
            "9f41f1812a524440acaa34bbf9ef2aed",
            "f1fce6ea144d49e49de26599e3e0995f",
            "328f27953db14a14963ff3e0a8671152",
            "3ea7545a08ee44bcb26c31cfad245623",
            "24c526ae699544ba9b3e576dd990370c",
            "83440b0bec1c4d12ad421c75129b9ca8",
            "2f099979142f41d195c05768706123b0",
            "e279f8da71af41a0a6aa8f3f67928cc1",
            "f4afb0f2ee794b2a8ed72fe1365527e2",
            "4b107b1b445e4c23af8486a4c33c08f8"
          ]
        }
      },
      "outputs": [
        {
          "output_type": "stream",
          "name": "stderr",
          "text": [
            "/usr/local/lib/python3.12/dist-packages/huggingface_hub/utils/_auth.py:94: UserWarning: \n",
            "The secret `HF_TOKEN` does not exist in your Colab secrets.\n",
            "To authenticate with the Hugging Face Hub, create a token in your settings tab (https://huggingface.co/settings/tokens), set it as secret in your Google Colab and restart your session.\n",
            "You will be able to reuse this secret in all of your notebooks.\n",
            "Please note that authentication is recommended but still optional to access public models or datasets.\n",
            "  warnings.warn(\n"
          ]
        },
        {
          "output_type": "display_data",
          "data": {
            "text/plain": [
              "config.json:   0%|          | 0.00/967 [00:00<?, ?B/s]"
            ],
            "application/vnd.jupyter.widget-view+json": {
              "version_major": 2,
              "version_minor": 0,
              "model_id": "339e5d68463f4f1e95f539196467cf31"
            }
          },
          "metadata": {}
        },
        {
          "output_type": "stream",
          "name": "stderr",
          "text": [
            "`torch_dtype` is deprecated! Use `dtype` instead!\n"
          ]
        },
        {
          "output_type": "display_data",
          "data": {
            "text/plain": [
              "model.safetensors.index.json: 0.00B [00:00, ?B/s]"
            ],
            "application/vnd.jupyter.widget-view+json": {
              "version_major": 2,
              "version_minor": 0,
              "model_id": "10dc4f58a57b460fa03ba44463d45b5f"
            }
          },
          "metadata": {}
        },
        {
          "output_type": "display_data",
          "data": {
            "text/plain": [
              "Fetching 2 files:   0%|          | 0/2 [00:00<?, ?it/s]"
            ],
            "application/vnd.jupyter.widget-view+json": {
              "version_major": 2,
              "version_minor": 0,
              "model_id": "2f9601d2f93346c78b8ffae5681baafe"
            }
          },
          "metadata": {}
        },
        {
          "output_type": "display_data",
          "data": {
            "text/plain": [
              "model-00001-of-00002.safetensors:   0%|          | 0.00/4.97G [00:00<?, ?B/s]"
            ],
            "application/vnd.jupyter.widget-view+json": {
              "version_major": 2,
              "version_minor": 0,
              "model_id": "f5ad2fe5162f4ee89e29c0566487b194"
            }
          },
          "metadata": {}
        },
        {
          "output_type": "display_data",
          "data": {
            "text/plain": [
              "model-00002-of-00002.safetensors:   0%|          | 0.00/2.67G [00:00<?, ?B/s]"
            ],
            "application/vnd.jupyter.widget-view+json": {
              "version_major": 2,
              "version_minor": 0,
              "model_id": "1b86925154414c68a0d5a6ffbb970b47"
            }
          },
          "metadata": {}
        },
        {
          "output_type": "display_data",
          "data": {
            "text/plain": [
              "Loading checkpoint shards:   0%|          | 0/2 [00:00<?, ?it/s]"
            ],
            "application/vnd.jupyter.widget-view+json": {
              "version_major": 2,
              "version_minor": 0,
              "model_id": "63d1eb80b91e4f36af3f78e824027a44"
            }
          },
          "metadata": {}
        },
        {
          "output_type": "display_data",
          "data": {
            "text/plain": [
              "generation_config.json:   0%|          | 0.00/181 [00:00<?, ?B/s]"
            ],
            "application/vnd.jupyter.widget-view+json": {
              "version_major": 2,
              "version_minor": 0,
              "model_id": "41c497eabd8e4f22b2286a0c41d2ef04"
            }
          },
          "metadata": {}
        },
        {
          "output_type": "display_data",
          "data": {
            "text/plain": [
              "tokenizer_config.json: 0.00B [00:00, ?B/s]"
            ],
            "application/vnd.jupyter.widget-view+json": {
              "version_major": 2,
              "version_minor": 0,
              "model_id": "6cd3fb59c9ef4ec1b537cf1777e9510f"
            }
          },
          "metadata": {}
        },
        {
          "output_type": "display_data",
          "data": {
            "text/plain": [
              "tokenizer.model:   0%|          | 0.00/500k [00:00<?, ?B/s]"
            ],
            "application/vnd.jupyter.widget-view+json": {
              "version_major": 2,
              "version_minor": 0,
              "model_id": "60852d51d47c4fa5b28198bd87c45161"
            }
          },
          "metadata": {}
        },
        {
          "output_type": "display_data",
          "data": {
            "text/plain": [
              "tokenizer.json: 0.00B [00:00, ?B/s]"
            ],
            "application/vnd.jupyter.widget-view+json": {
              "version_major": 2,
              "version_minor": 0,
              "model_id": "50e5b3e3beaf4fb3bd7f92d27eb0d83e"
            }
          },
          "metadata": {}
        },
        {
          "output_type": "display_data",
          "data": {
            "text/plain": [
              "added_tokens.json:   0%|          | 0.00/306 [00:00<?, ?B/s]"
            ],
            "application/vnd.jupyter.widget-view+json": {
              "version_major": 2,
              "version_minor": 0,
              "model_id": "4a17dd68eb9a4d04a9f8c222279ca43a"
            }
          },
          "metadata": {}
        },
        {
          "output_type": "display_data",
          "data": {
            "text/plain": [
              "special_tokens_map.json:   0%|          | 0.00/599 [00:00<?, ?B/s]"
            ],
            "application/vnd.jupyter.widget-view+json": {
              "version_major": 2,
              "version_minor": 0,
              "model_id": "74ccc032950c4b32a55fb37fa9e181c6"
            }
          },
          "metadata": {}
        }
      ],
      "source": [
        "model_path = \"microsoft/Phi-3-mini-4k-instruct\"\n",
        "\n",
        "model = AutoModelForCausalLM.from_pretrained(\n",
        "    model_path,\n",
        "    device_map=\"cuda\",\n",
        "    torch_dtype=\"auto\",\n",
        "    trust_remote_code=False,\n",
        ")\n",
        "\n",
        "tokenizer = AutoTokenizer.from_pretrained(model_path)"
      ]
    },
    {
      "cell_type": "markdown",
      "metadata": {
        "id": "2PBa4AhDhapi"
      },
      "source": [
        "### Helper Functions"
      ]
    },
    {
      "cell_type": "code",
      "execution_count": 4,
      "metadata": {
        "id": "d1Lw2uFUhapj"
      },
      "outputs": [],
      "source": [
        "def generate_text(prompt, temperature=0.7, max_tokens=200):\n",
        "    \"\"\"Generate text with specified parameters\"\"\"\n",
        "    pipe = pipeline(\n",
        "        \"text-generation\",\n",
        "        model=model,\n",
        "        tokenizer=tokenizer,\n",
        "        return_full_text=False,\n",
        "        max_new_tokens=max_tokens,\n",
        "        do_sample=True if temperature > 0 else False,\n",
        "        temperature=temperature if temperature > 0 else None,\n",
        "    )\n",
        "\n",
        "    messages = [{\"role\": \"user\", \"content\": prompt}]\n",
        "    output = pipe(messages)\n",
        "    return output[0]['generated_text']"
      ]
    },
    {
      "cell_type": "markdown",
      "metadata": {
        "id": "ZZ72a1jQhapm"
      },
      "source": [
        "## Challenges\n",
        "\n",
        "Complete the following tasks by implementing the starter code."
      ]
    },
    {
      "cell_type": "markdown",
      "metadata": {
        "id": "bq9Gs_vPhapo"
      },
      "source": [
        "### Level: Easy"
      ]
    },
    {
      "cell_type": "markdown",
      "metadata": {
        "id": "dEyqqpbZhapp"
      },
      "source": [
        "**About This Task:**\n",
        "Temperature controls randomness in generation. Lower values give consistent outputs, higher values give varied outputs."
      ]
    },
    {
      "cell_type": "markdown",
      "metadata": {
        "id": "VK0A8Dorhapq"
      },
      "source": [
        "#### Easy Task 1: Finding the Right Temperature\n",
        "\n",
        "### Instructions\n",
        "\n",
        "1. Execute code to compare temperature effects on three use cases\n",
        "2. Fill in missing temperature values based on your observations\n",
        "3. Run determinism test to verify temperature=0 consistency\n",
        "4. Test with your own prompts\n",
        "5. Analyze which temperatures work best for different tasks"
      ]
    },
    {
      "cell_type": "code",
      "execution_count": 43,
      "metadata": {
        "id": "p_YJQylfhapu"
      },
      "outputs": [],
      "source": [
        "temperatures = [0.0, 0.3, 0.7, 1.0, 1.5, 4.0]"
      ]
    },
    {
      "cell_type": "markdown",
      "metadata": {
        "id": "CSjyRB3Uhapv"
      },
      "source": [
        "Notice how different temperatures affect each use case."
      ]
    },
    {
      "cell_type": "code",
      "execution_count": 52,
      "metadata": {
        "id": "HS7i-jUAhapv",
        "outputId": "2dd1c554-3c46-4303-8eec-c3d2493d3ca5",
        "colab": {
          "base_uri": "https://localhost:8080/"
        }
      },
      "outputs": [
        {
          "output_type": "stream",
          "name": "stderr",
          "text": [
            "Device set to use cuda\n"
          ]
        },
        {
          "output_type": "stream",
          "name": "stdout",
          "text": [
            "Prompt 1: What is the capital city of France?\n"
          ]
        },
        {
          "output_type": "stream",
          "name": "stderr",
          "text": [
            "Device set to use cuda\n"
          ]
        },
        {
          "output_type": "stream",
          "name": "stdout",
          "text": [
            "Temp=0.0:  The capital city of France is Paris.\n"
          ]
        },
        {
          "output_type": "stream",
          "name": "stderr",
          "text": [
            "Device set to use cuda\n"
          ]
        },
        {
          "output_type": "stream",
          "name": "stdout",
          "text": [
            "Temp=0.3:  The capital city of France is Paris.\n"
          ]
        },
        {
          "output_type": "stream",
          "name": "stderr",
          "text": [
            "Device set to use cuda\n"
          ]
        },
        {
          "output_type": "stream",
          "name": "stdout",
          "text": [
            "Temp=0.7:  The capital city of France is Paris.\n"
          ]
        },
        {
          "output_type": "stream",
          "name": "stderr",
          "text": [
            "Device set to use cuda\n"
          ]
        },
        {
          "output_type": "stream",
          "name": "stdout",
          "text": [
            "Temp=1.0:  The capital city of France is Paris.\n"
          ]
        },
        {
          "output_type": "stream",
          "name": "stderr",
          "text": [
            "Device set to use cuda\n"
          ]
        },
        {
          "output_type": "stream",
          "name": "stdout",
          "text": [
            "Temp=1.5:  The capital city of France is Paris.\n",
            "Temp=4.0:  Marseille 28\n"
          ]
        }
      ],
      "source": [
        "# Factual: What is the capital city of France?\n",
        "prompt1 = \"What is the capital city of France?\"\n",
        "print(f\"Prompt 1: {prompt1}\")\n",
        "for temp in temperatures:\n",
        "  output = generate_text(prompt1, temperature=temp, max_tokens=50)\n",
        "  print(f\"Temp={temp}: {output}\")"
      ]
    },
    {
      "cell_type": "code",
      "source": [
        "# Creative: Write the first sentence of a romance novel.\n",
        "prompt2 = \"Write the first sentence of a romance novel.\"\n",
        "print(f\"Prompt 2: {prompt2}\")\n",
        "for temp in temperatures:\n",
        "  output = generate_text(prompt2, temperature=temp, max_tokens=50)\n",
        "  print(f\"Temp={temp}: {output}\")"
      ],
      "metadata": {
        "id": "cn5GK5WOoKy6",
        "outputId": "50cef860-baa2-406a-b9bf-8473adc4e342",
        "colab": {
          "base_uri": "https://localhost:8080/"
        }
      },
      "execution_count": 53,
      "outputs": [
        {
          "output_type": "stream",
          "name": "stderr",
          "text": [
            "Device set to use cuda\n"
          ]
        },
        {
          "output_type": "stream",
          "name": "stdout",
          "text": [
            "Prompt 2: Write the first sentence of a romance novel.\n"
          ]
        },
        {
          "output_type": "stream",
          "name": "stderr",
          "text": [
            "Device set to use cuda\n"
          ]
        },
        {
          "output_type": "stream",
          "name": "stdout",
          "text": [
            "Temp=0.0:  As the sun dipped below the horizon, their eyes met across the crowded room, and in that fleeting moment, they knew their lives would never be the same again.\n"
          ]
        },
        {
          "output_type": "stream",
          "name": "stderr",
          "text": [
            "Device set to use cuda\n"
          ]
        },
        {
          "output_type": "stream",
          "name": "stdout",
          "text": [
            "Temp=0.3:  Under the soft glow of the moonlight, their eyes met for the first time, and an unspoken promise of love hung in the air between them.\n"
          ]
        },
        {
          "output_type": "stream",
          "name": "stderr",
          "text": [
            "Device set to use cuda\n"
          ]
        },
        {
          "output_type": "stream",
          "name": "stdout",
          "text": [
            "Temp=0.7:  Underneath the vibrant hues of the setting sun, Ella found herself entranced by the mysterious stranger who had just entered the quaint little café.\n"
          ]
        },
        {
          "output_type": "stream",
          "name": "stderr",
          "text": [
            "Device set to use cuda\n"
          ]
        },
        {
          "output_type": "stream",
          "name": "stdout",
          "text": [
            "Temp=1.0:  Amelia gazed through the foggy windowpane, finding the first glimmer of sunrise in Ethan's eyes, her heart fluttering like a captive bird.\n"
          ]
        },
        {
          "output_type": "stream",
          "name": "stderr",
          "text": [
            "Device set to use cuda\n"
          ]
        },
        {
          "output_type": "stream",
          "name": "stdout",
          "text": [
            "Temp=1.5:  Amelia nervously clenched her partner's calloused hand as the fading sunlight basked their garden date in a warm, ethereal light.\n",
            "Temp=4.0:  The dextone cliff behind, Cass designed a stunning plan of escape but forgot just twice before reaching Olivet Hill: not before meeting in-betreft Alex beneath the centuries-piled autumntal leaves during Worldly Games\n"
          ]
        }
      ]
    },
    {
      "cell_type": "code",
      "source": [
        "# Math: \"What is the square root of 10000?\"\n",
        "prompt3 = \"What is the square root of 10000?\"\n",
        "print(f\"Prompt 3: {prompt3}\")\n",
        "for temp in temperatures:\n",
        "  output = generate_text(prompt3, temperature=temp, max_tokens=50)\n",
        "  print(f\"Temp={temp}: {output}\")"
      ],
      "metadata": {
        "id": "uMj2GV0Eo-A1",
        "outputId": "86826228-683c-46b0-d029-5b3947998d97",
        "colab": {
          "base_uri": "https://localhost:8080/"
        }
      },
      "execution_count": 54,
      "outputs": [
        {
          "output_type": "stream",
          "name": "stderr",
          "text": [
            "Device set to use cuda\n"
          ]
        },
        {
          "output_type": "stream",
          "name": "stdout",
          "text": [
            "Prompt 3: What is the square root of 10000?\n"
          ]
        },
        {
          "output_type": "stream",
          "name": "stderr",
          "text": [
            "Device set to use cuda\n"
          ]
        },
        {
          "output_type": "stream",
          "name": "stdout",
          "text": [
            "Temp=0.0:  The square root of 10000 is 100. This is because 100 multiplied by itself (100 * 100) equals 10000.\n"
          ]
        },
        {
          "output_type": "stream",
          "name": "stderr",
          "text": [
            "Device set to use cuda\n"
          ]
        },
        {
          "output_type": "stream",
          "name": "stdout",
          "text": [
            "Temp=0.3:  The square root of 10000 is 100.\n"
          ]
        },
        {
          "output_type": "stream",
          "name": "stderr",
          "text": [
            "Device set to use cuda\n"
          ]
        },
        {
          "output_type": "stream",
          "name": "stdout",
          "text": [
            "Temp=0.7:  The square root of a number is a value that, when multiplied by itself, gives the original number. For the number 10000:\n",
            "\n",
            "√10000 = 100\n",
            "\n",
            "This is because\n"
          ]
        },
        {
          "output_type": "stream",
          "name": "stderr",
          "text": [
            "Device set to use cuda\n"
          ]
        },
        {
          "output_type": "stream",
          "name": "stdout",
          "text": [
            "Temp=1.0:  The square root of a number is a value that, when multiplied by itself, gives the original number. In this case, the square root of 10000 is 100, because when you multiply 100\n"
          ]
        },
        {
          "output_type": "stream",
          "name": "stderr",
          "text": [
            "Device set to use cuda\n"
          ]
        },
        {
          "output_type": "stream",
          "name": "stdout",
          "text": [
            "Temp=1.5:  The square root of 10000 is exactly\n",
            "Temp=4.0:  **Calculations on Solution Exhibitor.model(sqrt).calc() for problem number $Mathemat-2* Mathemai...** 36 | ApproXe at..:42 + or~ $-0^.$\n",
            "Sol\n"
          ]
        }
      ]
    },
    {
      "cell_type": "markdown",
      "source": [
        "The effects of temperature is clear in the codes above"
      ],
      "metadata": {
        "id": "b9szseWpq-t7"
      }
    },
    {
      "cell_type": "markdown",
      "metadata": {
        "id": "fdceHXpnhapw"
      },
      "source": [
        "### Task 1a: Select Best Temperature\n",
        "\n",
        "Based on the outputs above, fill in the best temperature for each use case."
      ]
    },
    {
      "cell_type": "code",
      "execution_count": 55,
      "metadata": {
        "id": "iBA7Ttdohapw"
      },
      "outputs": [],
      "source": [
        "# Fill in: What temperature works best for each task?\n",
        "best_temp_factual = None  # For \"What is the capital of France?\"\n",
        "best_temp_creative = None  # For \"Write the first sentence...\"\n",
        "best_temp_math = None  # For \"What is the square...\""
      ]
    },
    {
      "cell_type": "markdown",
      "metadata": {
        "id": "cOwtpbg-hapw"
      },
      "source": [
        "Test your selections here."
      ]
    },
    {
      "cell_type": "code",
      "execution_count": 9,
      "metadata": {
        "id": "1zXkPClThapx",
        "outputId": "0c98c3a2-330d-4619-8600-e42180cb0001",
        "colab": {
          "base_uri": "https://localhost:8080/"
        }
      },
      "outputs": [
        {
          "output_type": "stream",
          "name": "stdout",
          "text": [
            "Testing your temperature selections:\n"
          ]
        }
      ],
      "source": [
        "print(\"Testing your temperature selections:\")\n",
        "\n",
        "if best_temp_factual is not None:\n",
        "    output = generate_text(\"What is the capital of France?\", temperature=best_temp_factual, max_tokens=30)\n",
        "    print(f\"\\nFactual (temp={best_temp_factual}): {output}\")\n",
        "\n",
        "if best_temp_creative is not None:\n",
        "    output = generate_text(\"Write the first sentence of a mystery novel.\", temperature=best_temp_creative, max_tokens=50)\n",
        "    print(f\"\\nCreative (temp={best_temp_creative}): {output}\")\n",
        "\n",
        "if best_temp_code is not None:\n",
        "    output = generate_text(\"Write a Python function to calculate factorial.\", temperature=best_temp_code, max_tokens=100)\n",
        "    print(f\"\\nCode (temp={best_temp_code}): {output}\")"
      ]
    },
    {
      "cell_type": "markdown",
      "metadata": {
        "id": "_-fxp3Uxhapx"
      },
      "source": [
        "### Task 1b: Determinism Test\n",
        "\n",
        "Run this cell multiple times to verify temperature=0 gives identical outputs."
      ]
    },
    {
      "cell_type": "code",
      "execution_count": 10,
      "metadata": {
        "id": "fMnwnRLuhapx",
        "outputId": "67c97822-19d8-48df-e463-54483cb0ecc5",
        "colab": {
          "base_uri": "https://localhost:8080/"
        }
      },
      "outputs": [
        {
          "output_type": "stream",
          "name": "stderr",
          "text": [
            "Device set to use cuda\n"
          ]
        },
        {
          "output_type": "stream",
          "name": "stdout",
          "text": [
            "Output:  The sum of 2 and 2 is 4.\n",
            "\n",
            "Run this cell again - you should get the EXACT same output.\n"
          ]
        }
      ],
      "source": [
        "output = generate_text(\"What is 2+2?\", temperature=0, max_tokens=20)\n",
        "print(f\"Output: {output}\")\n",
        "print(\"\\nRun this cell again - you should get the EXACT same output.\")"
      ]
    },
    {
      "cell_type": "markdown",
      "metadata": {
        "id": "Q-OylD3Bhapz"
      },
      "source": [
        "### Questions\n",
        "\n",
        "1. At temperature=1.5, did the factual question give wrong answers? Why is determinism critical for factual tasks?\n",
        "\n",
        "2. For creative writing, compare outputs at temperature=0.3 vs 1.0. Which produced more interesting variations?\n",
        "\n",
        "3. Did code generation at temperature=1.5 produce valid Python? What's the risk of high temperature for code?"
      ]
    },
    {
      "cell_type": "markdown",
      "metadata": {
        "id": "QIxF9IeGhap0"
      },
      "source": [
        "**About This Task:**\n",
        "Prompts have seven components: Persona, Instruction, Context, Format, Audience, Tone, Data. Adding more components improves output quality."
      ]
    },
    {
      "cell_type": "markdown",
      "metadata": {
        "id": "dadGVCcbhap0"
      },
      "source": [
        "#### Easy Task 2: Building a Complete Prompt\n",
        "\n",
        "### Instructions\n",
        "\n",
        "1. Run pre-built prompt versions to see incremental improvements\n",
        "2. Complete `prompt_v5` by adding the missing 3 components\n",
        "3. Test removing Format to see its impact\n",
        "4. Create your own scenario\n",
        "5. Compare output quality as components are added"
      ]
    },
    {
      "cell_type": "markdown",
      "metadata": {
        "id": "N5sG5TXzhap1"
      },
      "source": [
        "We start with just an instruction and gradually add components."
      ]
    },
    {
      "cell_type": "code",
      "execution_count": 11,
      "metadata": {
        "id": "FiJ2rIRDhap1"
      },
      "outputs": [],
      "source": [
        "# Version 1: Instruction only\n",
        "prompt_v1 = \"Explain how to make coffee.\""
      ]
    },
    {
      "cell_type": "code",
      "execution_count": 12,
      "metadata": {
        "id": "DE6UsZo7hap2",
        "outputId": "8e0057e3-af31-4f90-ad42-3b5453d504cc",
        "colab": {
          "base_uri": "https://localhost:8080/"
        }
      },
      "outputs": [
        {
          "output_type": "stream",
          "name": "stderr",
          "text": [
            "Device set to use cuda\n"
          ]
        },
        {
          "output_type": "stream",
          "name": "stdout",
          "text": [
            "V1: Instruction only\n",
            " Making coffee is a simple process that can be done with a few basic tools and ingredients. Here is a step-by-step guide to making a basic cup of coffee:\n",
            "\n",
            "1. Gather your supplies: You will need a coffee maker, coffee grounds, water, a coffee filter, a spoon, and a mug.\n",
            "\n",
            "2. Measure the water: Fill the water reservoir of your coffee maker with the desired amount of water. The general rule of thumb is to use 1 to 2 tablespoons of coffee grounds per 6 ounces of water.\n",
            "\n",
            "3. Add the coffee grounds: Place a coffee filter in the coffee maker's filter\n"
          ]
        }
      ],
      "source": [
        "print(\"V1: Instruction only\")\n",
        "output = generate_text(prompt_v1, temperature=0, max_tokens=150)\n",
        "print(output)"
      ]
    },
    {
      "cell_type": "code",
      "execution_count": 13,
      "metadata": {
        "id": "yWxRualEhap2"
      },
      "outputs": [],
      "source": [
        "# Version 2: + Audience\n",
        "prompt_v2 = \"\"\"Explain how to make coffee.\n",
        "\n",
        "Audience: Someone who has never made coffee before.\"\"\""
      ]
    },
    {
      "cell_type": "code",
      "execution_count": 14,
      "metadata": {
        "id": "j4dlYH1whap3",
        "outputId": "b8d37a02-e87c-4505-9f6a-d24f41e9d64f",
        "colab": {
          "base_uri": "https://localhost:8080/"
        }
      },
      "outputs": [
        {
          "output_type": "stream",
          "name": "stderr",
          "text": [
            "Device set to use cuda\n"
          ]
        },
        {
          "output_type": "stream",
          "name": "stdout",
          "text": [
            "V2: + Audience\n",
            " Making coffee is a simple process that can be enjoyed by anyone. Here's a step-by-step guide to help you make a delicious cup of coffee:\n",
            "\n",
            "1. Gather your supplies: You will need a coffee maker, coffee grounds, water, a coffee filter, and a mug.\n",
            "\n",
            "2. Measure the coffee grounds: A good rule of thumb is to use 1-2 tablespoons of coffee grounds for every 6 ounces of water. Adjust the amount according to your taste preference.\n",
            "\n",
            "3. Fill the coffee maker: Pour water into the reservoir of your coffee maker. The amount of water you use will depend on the size of\n"
          ]
        }
      ],
      "source": [
        "print(\"V2: + Audience\")\n",
        "output = generate_text(prompt_v2, temperature=0, max_tokens=150)\n",
        "print(output)"
      ]
    },
    {
      "cell_type": "markdown",
      "metadata": {
        "id": "FkY0AqjDhap4"
      },
      "source": [
        "Notice how adding Audience changes the language."
      ]
    },
    {
      "cell_type": "code",
      "execution_count": 15,
      "metadata": {
        "id": "wwDefDwNhap4"
      },
      "outputs": [],
      "source": [
        "# Version 3: + Format\n",
        "prompt_v3 = \"\"\"Explain how to make coffee.\n",
        "\n",
        "Audience: Someone who has never made coffee before.\n",
        "\n",
        "Format:\n",
        "1. Equipment needed\n",
        "2. Step-by-step instructions\n",
        "3. Common mistakes\"\"\""
      ]
    },
    {
      "cell_type": "code",
      "execution_count": 16,
      "metadata": {
        "id": "9ZH7uHPGhap5",
        "outputId": "ab071488-3581-4c81-9a94-9cf07ceb163e",
        "colab": {
          "base_uri": "https://localhost:8080/"
        }
      },
      "outputs": [
        {
          "output_type": "stream",
          "name": "stderr",
          "text": [
            "Device set to use cuda\n"
          ]
        },
        {
          "output_type": "stream",
          "name": "stdout",
          "text": [
            "V3: + Format\n",
            " To make coffee, you'll need the following equipment: a coffee maker or a French press, a kettle, a coffee grinder (if you're using whole beans), a mug, and water.\n",
            "\n",
            "\n",
            "Step-by-step instructions:\n",
            "\n",
            "1. Measure out the desired amount of coffee beans. A standard ratio is 1 to 2 tablespoons of coffee per 6 ounces of water.\n",
            "\n",
            "2. Grind the coffee beans to a medium-coarse consistency, similar to sea salt.\n",
            "\n",
            "3. Boil water in the kettle. If using a French press, aim for water just off the boil (around 200°F or 93°C).\n",
            "\n",
            "4. Place the coffee grounds in the coffee maker's filter or directly into the French press.\n",
            "\n",
            "5. Slowly pour the hot water over the coffee grounds,\n"
          ]
        }
      ],
      "source": [
        "print(\"V3: + Format\")\n",
        "output = generate_text(prompt_v3, temperature=0, max_tokens=200)\n",
        "print(output)"
      ]
    },
    {
      "cell_type": "markdown",
      "metadata": {
        "id": "cBRnUFsbhap6"
      },
      "source": [
        "See how Format structures the output."
      ]
    },
    {
      "cell_type": "code",
      "execution_count": 17,
      "metadata": {
        "id": "NFpzltckhap6"
      },
      "outputs": [],
      "source": [
        "# Version 4: + Tone\n",
        "prompt_v4 = \"\"\"Explain how to make coffee.\n",
        "\n",
        "Audience: Someone who has never made coffee before.\n",
        "\n",
        "Format:\n",
        "1. Equipment needed\n",
        "2. Step-by-step instructions\n",
        "3. Common mistakes\n",
        "\n",
        "Tone: Friendly and encouraging.\"\"\""
      ]
    },
    {
      "cell_type": "code",
      "execution_count": 18,
      "metadata": {
        "id": "NZOwYW0Whap7",
        "outputId": "25d2fd0d-63e2-4b0a-f828-98d643eaa29e",
        "colab": {
          "base_uri": "https://localhost:8080/"
        }
      },
      "outputs": [
        {
          "output_type": "stream",
          "name": "stderr",
          "text": [
            "Device set to use cuda\n"
          ]
        },
        {
          "output_type": "stream",
          "name": "stdout",
          "text": [
            "V4: + Tone\n",
            " Making coffee can be a delightful experience, and with a few simple steps, you can enjoy a perfect cup of coffee at home. Here's how to do it:\n",
            "\n",
            "\n",
            "**Equipment Needed:**\n",
            "\n",
            "- A coffee maker (drip, French press, or espresso machine)\n",
            "\n",
            "- Fresh coffee beans or ground coffee\n",
            "\n",
            "- A coffee grinder (if using whole beans)\n",
            "\n",
            "- A kettle or a coffee maker with a built-in heater\n",
            "\n",
            "- A coffee mug\n",
            "\n",
            "- A spoon\n",
            "\n",
            "- A timer\n",
            "\n",
            "\n",
            "**Step-by-Step Instructions:**\n",
            "\n",
            "1. Measure out the coffee beans or ground coffee. A general guideline is about 2 tablespoons of coffee per 6 ounces of water.\n",
            "\n",
            "2. If using whole beans, grind them to a medium-coarse consist\n"
          ]
        }
      ],
      "source": [
        "print(\"V4: + Tone\")\n",
        "output = generate_text(prompt_v4, temperature=0, max_tokens=200)\n",
        "print(output)"
      ]
    },
    {
      "cell_type": "markdown",
      "metadata": {
        "id": "Z8vJA-C_hap8"
      },
      "source": [
        "### Task 2a: Complete Version 5\n",
        "\n",
        "Your task: Add Character, Context, and Data to create a complete prompt."
      ]
    },
    {
      "cell_type": "code",
      "execution_count": 56,
      "metadata": {
        "id": "nT-eaYajhap9"
      },
      "outputs": [],
      "source": [
        "# Fill in: Add the 3 missing components\n",
        "prompt_v5 = \"\"\"Character: [Who is giving this explanation?]\n",
        "\n",
        "Explain how to make coffee.\n",
        "\n",
        "Context: [Why does the person need to learn this?]\n",
        "\n",
        "Audience: Someone who has never made coffee before.\n",
        "\n",
        "Format:\n",
        "1. Equipment needed\n",
        "2. Step-by-step instructions\n",
        "3. Common mistakes\n",
        "\n",
        "Tone: Friendly and encouraging.\n",
        "\n",
        "Data: [Specific details like coffee-to-water ratio]\"\"\""
      ]
    },
    {
      "cell_type": "code",
      "execution_count": 57,
      "metadata": {
        "id": "bFNeKxFdhap-",
        "outputId": "34858625-9381-485a-9833-f1edc78b16e4",
        "colab": {
          "base_uri": "https://localhost:8080/"
        }
      },
      "outputs": [
        {
          "output_type": "stream",
          "name": "stderr",
          "text": [
            "Device set to use cuda\n"
          ]
        },
        {
          "output_type": "stream",
          "name": "stdout",
          "text": [
            "V5: All 7 components\n",
            " Character: A coffee enthusiast named Alex.\n",
            "\n",
            "\n",
            "Context: Alex is teaching a friend who has never made coffee before.\n",
            "\n",
            "\n",
            "Audience: Someone who has never made coffee before.\n",
            "\n",
            "\n",
            "Format:\n",
            "\n",
            "1. Equipment needed:\n",
            "\n",
            "   - Coffee maker (drip, French press, or espresso machine)\n",
            "\n",
            "   - Fresh coffee beans or ground coffee\n",
            "\n",
            "   - Filter (for drip coffee makers)\n",
            "\n",
            "   - Coffee scoop or measuring spoon\n",
            "\n",
            "   - Water\n",
            "\n",
            "   - Mug\n",
            "\n",
            "\n",
            "2. Step-by-step instructions:\n",
            "\n",
            "   - Measure out the coffee beans or ground coffee. A standard ratio is 1 to 2 tablespoons of coffee per 6 ounces of water.\n",
            "\n",
            "   - If using a drip coffee maker, place a filter in the basket and add the ground coffee.\n",
            "\n",
            "   - Fill the water reservoir with fresh, cold water up to the fill line.\n",
            "\n",
            "   - Turn on the coffee maker and wait for the brewing process to complete.\n",
            "\n",
            "   - If\n"
          ]
        }
      ],
      "source": [
        "print(\"V5: All 7 components\")\n",
        "output = generate_text(prompt_v5, temperature=0, max_tokens=250)\n",
        "print(output)"
      ]
    },
    {
      "cell_type": "markdown",
      "metadata": {
        "id": "3moaCS1Dhap_"
      },
      "source": [
        "### Questions\n",
        "\n",
        "1. Compare V1 and V2 outputs. How did specifying Audience change the language complexity?\n",
        "\n",
        "2. Which component made the biggest single improvement to output quality?\n",
        "\n",
        "3. When might you intentionally use fewer components? Give a specific scenario where V1 would be better than V5."
      ]
    },
    {
      "cell_type": "markdown",
      "metadata": {
        "id": "5EX2qfefhaqA"
      },
      "source": [
        "**About This Task:**\n",
        "In-context learning uses examples to guide the model. Zero-shot has no examples, one-shot has one, few-shot has multiple."
      ]
    },
    {
      "cell_type": "markdown",
      "metadata": {
        "id": "6OWJlT_-haqB"
      },
      "source": [
        "#### Easy Task 3: Improving Few-Shot Examples\n",
        "\n",
        "### Instructions\n",
        "\n",
        "1. Run zero-shot, one-shot, and few-shot on test greetings\n",
        "2. Identify which greetings cause disagreement\n",
        "3. Improve the few-shot prompt by adding better examples\n",
        "4. Test edge cases\n",
        "5. Analyze why certain examples improve accuracy"
      ]
    },
    {
      "cell_type": "code",
      "execution_count": 21,
      "metadata": {
        "id": "tIlhPE3UhaqC"
      },
      "outputs": [],
      "source": [
        "test_greetings = [\n",
        "    \"Good morning, how may I assist you?\",\n",
        "    \"Hey, what's up?\",\n",
        "    \"Hello, nice to meet you.\",\n",
        "    \"Hi there.\",\n",
        "    \"Dear valued customer,\",  # Very formal\n",
        "    \"Yo!\",  # Very casual\n",
        "]"
      ]
    },
    {
      "cell_type": "markdown",
      "metadata": {
        "id": "Zg5QjIrQhaqD"
      },
      "source": [
        "### Zero-Shot\n",
        "\n",
        "Here we ask the model to classify without any examples."
      ]
    },
    {
      "cell_type": "code",
      "execution_count": 22,
      "metadata": {
        "id": "fbAlhlaBhaqD",
        "outputId": "33ab3b12-87c5-47d3-c4e5-64b3d19eaeaa",
        "colab": {
          "base_uri": "https://localhost:8080/"
        }
      },
      "outputs": [
        {
          "output_type": "stream",
          "name": "stderr",
          "text": [
            "Device set to use cuda\n"
          ]
        },
        {
          "output_type": "stream",
          "name": "stdout",
          "text": [
            "Zero-shot classification:\n"
          ]
        },
        {
          "output_type": "stream",
          "name": "stderr",
          "text": [
            "Device set to use cuda\n"
          ]
        },
        {
          "output_type": "stream",
          "name": "stdout",
          "text": [
            "Good morning, how may I assist you? -> Formal\n"
          ]
        },
        {
          "output_type": "stream",
          "name": "stderr",
          "text": [
            "Device set to use cuda\n"
          ]
        },
        {
          "output_type": "stream",
          "name": "stdout",
          "text": [
            "Hey, what's up? -> Greeting: Hey, what's up?\n"
          ]
        },
        {
          "output_type": "stream",
          "name": "stderr",
          "text": [
            "Device set to use cuda\n"
          ]
        },
        {
          "output_type": "stream",
          "name": "stdout",
          "text": [
            "Hello, nice to meet you. -> Formal\n"
          ]
        },
        {
          "output_type": "stream",
          "name": "stderr",
          "text": [
            "Device set to use cuda\n"
          ]
        },
        {
          "output_type": "stream",
          "name": "stdout",
          "text": [
            "Hi there. -> Greeting: Hi there.\n",
            "Formality:\n"
          ]
        },
        {
          "output_type": "stream",
          "name": "stderr",
          "text": [
            "Device set to use cuda\n"
          ]
        },
        {
          "output_type": "stream",
          "name": "stdout",
          "text": [
            "Dear valued customer, -> Formal\n",
            "Yo! -> Greeting: Yo!\n",
            "Formality:\n"
          ]
        }
      ],
      "source": [
        "print(\"Zero-shot classification:\")\n",
        "zero_results = {}\n",
        "\n",
        "for greeting in test_greetings:\n",
        "    prompt = f\"\"\"Classify formality: formal, neutral, or casual.\n",
        "\n",
        "Greeting: {greeting}\n",
        "Formality:\"\"\"\n",
        "\n",
        "    result = generate_text(prompt, temperature=0, max_tokens=10).strip()\n",
        "    zero_results[greeting] = result\n",
        "    print(f\"{greeting} -> {result}\")"
      ]
    },
    {
      "cell_type": "markdown",
      "metadata": {
        "id": "vNb0-_XghaqE"
      },
      "source": [
        "### One-Shot\n",
        "\n",
        "See how a single example helps guide the model."
      ]
    },
    {
      "cell_type": "code",
      "execution_count": 62,
      "metadata": {
        "id": "qf4l_PGVhaqF",
        "outputId": "aa11077e-58fb-46f3-9b33-b4d03dfee9d7",
        "colab": {
          "base_uri": "https://localhost:8080/"
        }
      },
      "outputs": [
        {
          "output_type": "stream",
          "name": "stderr",
          "text": [
            "Device set to use cuda\n"
          ]
        },
        {
          "output_type": "stream",
          "name": "stdout",
          "text": [
            "One-shot classification:\n"
          ]
        },
        {
          "output_type": "stream",
          "name": "stderr",
          "text": [
            "Device set to use cuda\n"
          ]
        },
        {
          "output_type": "stream",
          "name": "stdout",
          "text": [
            "Good morning, how may I assist you? -> Greeting: Good morning, how may I assist\n"
          ]
        },
        {
          "output_type": "stream",
          "name": "stderr",
          "text": [
            "Device set to use cuda\n"
          ]
        },
        {
          "output_type": "stream",
          "name": "stdout",
          "text": [
            "Hey, what's up? -> Greeting: Hey, what's up?\n"
          ]
        },
        {
          "output_type": "stream",
          "name": "stderr",
          "text": [
            "Device set to use cuda\n"
          ]
        },
        {
          "output_type": "stream",
          "name": "stdout",
          "text": [
            "Hello, nice to meet you. -> Greeting: Hello, nice to meet you.\n"
          ]
        },
        {
          "output_type": "stream",
          "name": "stderr",
          "text": [
            "Device set to use cuda\n"
          ]
        },
        {
          "output_type": "stream",
          "name": "stdout",
          "text": [
            "Hi there. -> Greeting: Hi there.\n",
            "Formality:\n"
          ]
        },
        {
          "output_type": "stream",
          "name": "stderr",
          "text": [
            "Device set to use cuda\n"
          ]
        },
        {
          "output_type": "stream",
          "name": "stdout",
          "text": [
            "Dear valued customer, -> Formality: formal\n",
            "Yo! -> Greeting: Yo!\n",
            "Formality:\n"
          ]
        }
      ],
      "source": [
        "print(\"One-shot classification:\")\n",
        "one_results = {}\n",
        "\n",
        "for greeting in test_greetings:\n",
        "    prompt = f\"\"\"Classify formality: formal, neutral, or casual.\n",
        "\n",
        "Example:\n",
        "Greeting: Dear Sir or Madam\n",
        "Formality: formal\n",
        "\n",
        "Greeting: {greeting}\n",
        "Formality:\"\"\"\n",
        "\n",
        "    result = generate_text(prompt, temperature=0, max_tokens=10).strip()\n",
        "    one_results[greeting] = result\n",
        "    print(f\"{greeting} -> {result}\")"
      ]
    },
    {
      "cell_type": "markdown",
      "metadata": {
        "id": "z3VVVyvmhaqG"
      },
      "source": [
        "### Few-Shot\n",
        "\n",
        "Your task: Improve this prompt by adding 1-2 more examples to handle edge cases better."
      ]
    },
    {
      "cell_type": "code",
      "execution_count": 24,
      "metadata": {
        "id": "N4-lZi4EhaqH",
        "outputId": "11091205-1e24-47cf-e78b-f8b26dc382b2",
        "colab": {
          "base_uri": "https://localhost:8080/"
        }
      },
      "outputs": [
        {
          "output_type": "stream",
          "name": "stderr",
          "text": [
            "Device set to use cuda\n"
          ]
        },
        {
          "output_type": "stream",
          "name": "stdout",
          "text": [
            "Few-shot classification:\n"
          ]
        },
        {
          "output_type": "stream",
          "name": "stderr",
          "text": [
            "Device set to use cuda\n"
          ]
        },
        {
          "output_type": "stream",
          "name": "stdout",
          "text": [
            "Good morning, how may I assist you? -> Greeting: Good morning, how may I assist\n"
          ]
        },
        {
          "output_type": "stream",
          "name": "stderr",
          "text": [
            "Device set to use cuda\n"
          ]
        },
        {
          "output_type": "stream",
          "name": "stdout",
          "text": [
            "Hey, what's up? -> Greeting: Good evening, Professor Smith\n",
            "Form\n"
          ]
        },
        {
          "output_type": "stream",
          "name": "stderr",
          "text": [
            "Device set to use cuda\n"
          ]
        },
        {
          "output_type": "stream",
          "name": "stdout",
          "text": [
            "Hello, nice to meet you. -> Greeting: Good evening, Professor Smith\n",
            "Form\n"
          ]
        },
        {
          "output_type": "stream",
          "name": "stderr",
          "text": [
            "Device set to use cuda\n"
          ]
        },
        {
          "output_type": "stream",
          "name": "stdout",
          "text": [
            "Hi there. -> Greeting: Hi there.\n",
            "Formality:\n"
          ]
        },
        {
          "output_type": "stream",
          "name": "stderr",
          "text": [
            "Device set to use cuda\n"
          ]
        },
        {
          "output_type": "stream",
          "name": "stdout",
          "text": [
            "Dear valued customer, -> Greeting: Dear valued customer,\n",
            "Yo! -> Greeting: Yo!\n",
            "Formality:\n"
          ]
        }
      ],
      "source": [
        "print(\"Few-shot classification:\")\n",
        "few_results = {}\n",
        "\n",
        "for greeting in test_greetings:\n",
        "    # Fill in: Add 1-2 more examples after \"Hello, how are you\"\n",
        "    prompt = f\"\"\"Classify formality: formal, neutral, or casual.\n",
        "\n",
        "Examples:\n",
        "\n",
        "Greeting: Dear Sir or Madam\n",
        "Formality: formal\n",
        "\n",
        "Greeting: Yo dude\n",
        "Formality: casual\n",
        "\n",
        "Greeting: Hello, how are you\n",
        "Formality: neutral\n",
        "\n",
        "[Add 1-2 more examples here]\n",
        "\n",
        "Greeting: {greeting}\n",
        "Formality:\"\"\"\n",
        "\n",
        "    result = generate_text(prompt, temperature=0, max_tokens=10).strip()\n",
        "    few_results[greeting] = result\n",
        "    print(f\"{greeting} -> {result}\")"
      ]
    },
    {
      "cell_type": "markdown",
      "metadata": {
        "id": "SYftvmKchaqI"
      },
      "source": [
        "### Comparison\n",
        "\n",
        "Here we identify disagreements to see where examples help most."
      ]
    },
    {
      "cell_type": "code",
      "execution_count": 25,
      "metadata": {
        "id": "bd5HBT_MhaqI",
        "outputId": "fa6ae037-fcbb-45c1-fae4-d5c3d54baeb9",
        "colab": {
          "base_uri": "https://localhost:8080/"
        }
      },
      "outputs": [
        {
          "output_type": "stream",
          "name": "stdout",
          "text": [
            "\n",
            "Good morning, how may I assist you?\n",
            "  Zero-shot: Formal\n",
            "  One-shot:  Greeting: Good morning, how may I assist\n",
            "  Few-shot:  Greeting: Good morning, how may I assist\n",
            "  DISAGREEMENT\n",
            "\n",
            "Hey, what's up?\n",
            "  Zero-shot: Greeting: Hey, what's up?\n",
            "  One-shot:  Greeting: Hey, what's up?\n",
            "  Few-shot:  Greeting: Good evening, Professor Smith\n",
            "Form\n",
            "  DISAGREEMENT\n",
            "\n",
            "Hello, nice to meet you.\n",
            "  Zero-shot: Formal\n",
            "  One-shot:  Greeting: Hello, nice to meet you.\n",
            "  Few-shot:  Greeting: Good evening, Professor Smith\n",
            "Form\n",
            "  DISAGREEMENT\n",
            "\n",
            "Hi there.\n",
            "  Zero-shot: Greeting: Hi there.\n",
            "Formality:\n",
            "  One-shot:  Greeting: Hi there.\n",
            "Formality:\n",
            "  Few-shot:  Greeting: Hi there.\n",
            "Formality:\n",
            "  All agree\n",
            "\n",
            "Dear valued customer,\n",
            "  Zero-shot: Formal\n",
            "  One-shot:  Formality: formal\n",
            "  Few-shot:  Greeting: Dear valued customer,\n",
            "  DISAGREEMENT\n",
            "\n",
            "Yo!\n",
            "  Zero-shot: Greeting: Yo!\n",
            "Formality:\n",
            "  One-shot:  Greeting: Yo!\n",
            "Formality:\n",
            "  Few-shot:  Greeting: Yo!\n",
            "Formality:\n",
            "  All agree\n"
          ]
        }
      ],
      "source": [
        "disagreements = []\n",
        "\n",
        "for greeting in test_greetings:\n",
        "    zero = zero_results[greeting]\n",
        "    one = one_results[greeting]\n",
        "    few = few_results[greeting]\n",
        "\n",
        "    print(f\"\\n{greeting}\")\n",
        "    print(f\"  Zero-shot: {zero}\")\n",
        "    print(f\"  One-shot:  {one}\")\n",
        "    print(f\"  Few-shot:  {few}\")\n",
        "\n",
        "    if zero == one == few:\n",
        "        print(f\"  All agree\")\n",
        "    else:\n",
        "        print(f\"  DISAGREEMENT\")\n",
        "        disagreements.append(greeting)"
      ]
    },
    {
      "cell_type": "markdown",
      "metadata": {
        "id": "G3VFN7kfhaqJ"
      },
      "source": [
        "Notice which greetings benefit most from examples."
      ]
    },
    {
      "cell_type": "code",
      "execution_count": 26,
      "metadata": {
        "id": "kmJ6lIL_haqK",
        "outputId": "7408edb3-d3f7-4099-86e8-ac4d7e861d1c",
        "colab": {
          "base_uri": "https://localhost:8080/"
        }
      },
      "outputs": [
        {
          "output_type": "stream",
          "name": "stdout",
          "text": [
            "\n",
            "4 greetings showed disagreement:\n",
            "  - Good morning, how may I assist you?\n",
            "  - Hey, what's up?\n",
            "  - Hello, nice to meet you.\n",
            "  - Dear valued customer,\n"
          ]
        }
      ],
      "source": [
        "print(f\"\\n{len(disagreements)} greetings showed disagreement:\")\n",
        "for g in disagreements:\n",
        "    print(f\"  - {g}\")"
      ]
    },
    {
      "cell_type": "markdown",
      "metadata": {
        "id": "wkZcXXfJhaqL"
      },
      "source": [
        "### Questions\n",
        "\n",
        "1. Which greeting showed the biggest difference between zero-shot and few-shot? Why was it ambiguous?\n",
        "\n",
        "2. Did adding more examples improve accuracy on edge cases like \"Yo!\" or \"Dear valued customer\"?\n",
        "\n",
        "3. What makes a good few-shot example? Should you show edge cases or clear typical examples?"
      ]
    },
    {
      "cell_type": "markdown",
      "metadata": {
        "id": "IDezS6_XhaqM"
      },
      "source": [
        "**About This Task:**\n",
        "Chain-of-Thought prompting asks the model to show its reasoning step-by-step, improving accuracy on complex problems."
      ]
    },
    {
      "cell_type": "markdown",
      "metadata": {
        "id": "__QKqe8ShaqN"
      },
      "source": [
        "#### Easy Task 4: Testing Chain-of-Thought\n",
        "\n",
        "### Instructions\n",
        "\n",
        "1. Run direct prompting on simple and tricky problems\n",
        "2. Compare with few-shot CoT to see reasoning improvements\n",
        "3. Test zero-shot CoT on hard problems\n",
        "4. Improve CoT examples to fix errors\n",
        "5. Analyze when step-by-step reasoning prevents mistakes"
      ]
    },
    {
      "cell_type": "markdown",
      "metadata": {
        "id": "CHP8fcJwhaqO"
      },
      "source": [
        "We test on both simple problems and counter-intuitive ones."
      ]
    },
    {
      "cell_type": "code",
      "execution_count": 27,
      "metadata": {
        "id": "S4UF_7RvhaqP"
      },
      "outputs": [],
      "source": [
        "problems = [\n",
        "    (\"If John has 5 apples and gives 2 to Mary, how many does he have?\", 3, \"easy\"),\n",
        "    (\"A ticket costs $15. I buy 3 tickets with a $50 bill. How much change?\", 5, \"easy\"),\n",
        "    (\"A bat and ball cost $1.10 total. The bat costs $1 more than the ball. How much is the ball?\", 0.05, \"tricky\"),\n",
        "]"
      ]
    },
    {
      "cell_type": "markdown",
      "metadata": {
        "id": "27p0iW6OhaqQ"
      },
      "source": [
        "### Direct Prompting\n",
        "\n",
        "Here we ask for answers directly without reasoning."
      ]
    },
    {
      "cell_type": "code",
      "execution_count": 28,
      "metadata": {
        "id": "KTiPXZ3YhaqQ",
        "outputId": "290f3c69-1d23-41f0-d894-0b960c5cd48b",
        "colab": {
          "base_uri": "https://localhost:8080/"
        }
      },
      "outputs": [
        {
          "output_type": "stream",
          "name": "stderr",
          "text": [
            "Device set to use cuda\n"
          ]
        },
        {
          "output_type": "stream",
          "name": "stdout",
          "text": [
            "Direct prompting (no reasoning):\n"
          ]
        },
        {
          "output_type": "stream",
          "name": "stderr",
          "text": [
            "Device set to use cuda\n"
          ]
        },
        {
          "output_type": "stream",
          "name": "stdout",
          "text": [
            "\n",
            "[EASY] If John has 5 apples and gives 2 to Mary, how many does he have?\n",
            "Model: John has 3 apples left.\n",
            "Correct: 3\n"
          ]
        },
        {
          "output_type": "stream",
          "name": "stderr",
          "text": [
            "Device set to use cuda\n"
          ]
        },
        {
          "output_type": "stream",
          "name": "stdout",
          "text": [
            "\n",
            "[EASY] A ticket costs $15. I buy 3 tickets with a $50 bill. How much change?\n",
            "Model: The total cost of the tickets is 3 tickets * $15/ticket = $45.\n",
            "\n",
            "You paid with a\n",
            "Correct: 5\n",
            "\n",
            "[TRICKY] A bat and ball cost $1.10 total. The bat costs $1 more than the ball. How much is the ball?\n",
            "Model: Let's call the cost of the ball x dollars. Since the bat costs $1 more than the ball, the cost of the bat is x\n",
            "Correct: 0.05\n"
          ]
        }
      ],
      "source": [
        "print(\"Direct prompting (no reasoning):\")\n",
        "\n",
        "for question, correct, difficulty in problems:\n",
        "    prompt = f\"{question}\\nAnswer:\"\n",
        "    answer = generate_text(prompt, temperature=0, max_tokens=30)\n",
        "\n",
        "    print(f\"\\n[{difficulty.upper()}] {question}\")\n",
        "    print(f\"Model: {answer.strip()}\")\n",
        "    print(f\"Correct: {correct}\")"
      ]
    },
    {
      "cell_type": "markdown",
      "metadata": {
        "id": "Frvy-AgAhaqR"
      },
      "source": [
        "Notice how direct prompting might fail on the tricky problem."
      ]
    },
    {
      "cell_type": "markdown",
      "metadata": {
        "id": "0jjsjhcshaqS"
      },
      "source": [
        "### Few-Shot CoT\n",
        "\n",
        "Your task: Improve the prompt by adding a third example showing careful algebra."
      ]
    },
    {
      "cell_type": "code",
      "execution_count": 29,
      "metadata": {
        "id": "esu9E47BhaqS",
        "outputId": "0d470532-7725-4a82-ed8f-0cc140c2e68f",
        "colab": {
          "base_uri": "https://localhost:8080/"
        }
      },
      "outputs": [
        {
          "output_type": "stream",
          "name": "stderr",
          "text": [
            "Device set to use cuda\n"
          ]
        },
        {
          "output_type": "stream",
          "name": "stdout",
          "text": [
            "Few-shot CoT:\n"
          ]
        },
        {
          "output_type": "stream",
          "name": "stderr",
          "text": [
            "Device set to use cuda\n"
          ]
        },
        {
          "output_type": "stream",
          "name": "stdout",
          "text": [
            "\n",
            "[EASY] If John has 5 apples and gives 2 to Mary, how many does he have?\n",
            "Reasoning:  John starts with 5 apples.\n",
            "He gives 2 apples to Mary.\n",
            "Remaining apples: 5 - 2 = 3\n",
            "Answer: 3\n",
            "Correct: 3\n"
          ]
        },
        {
          "output_type": "stream",
          "name": "stderr",
          "text": [
            "Device set to use cuda\n"
          ]
        },
        {
          "output_type": "stream",
          "name": "stdout",
          "text": [
            "\n",
            "[EASY] A ticket costs $15. I buy 3 tickets with a $50 bill. How much change?\n",
            "Reasoning:  Cost of 3 tickets: 3 × $15 = $45\n",
            "Amount paid: $50\n",
            "Change: $50 - $45 = $5\n",
            "Answer: $5\n",
            "Correct: 5\n",
            "\n",
            "[TRICKY] A bat and ball cost $1.10 total. The bat costs $1 more than the ball. How much is the ball?\n",
            "Reasoning:  Let's denote the cost of the ball as x.\n",
            "\n",
            "Since the bat costs $1 more than the ball, the cost of the bat is x + $1.\n",
            "\n",
            "The total cost of the bat and ball is $1.10, so we can write the equation:\n",
            "\n",
            "x + (x + $1) = $1.10\n",
            "\n",
            "Now, let's solve for x:\n",
            "\n",
            "2x + $1 = $1.10\n",
            "\n",
            "Subtract $1 from both sides:\n",
            "\n",
            "2x = $0.10\n",
            "\n",
            "Divide both sides by 2:\n",
            "\n",
            "x = $0.05\n",
            "\n",
            "Answer: The ball costs $0.\n",
            "Correct: 0.05\n"
          ]
        }
      ],
      "source": [
        "print(\"Few-shot CoT:\")\n",
        "\n",
        "for question, correct, difficulty in problems:\n",
        "    # Fill in: Add a third example to help with the tricky problem\n",
        "    prompt = f\"\"\"Solve step-by-step.\n",
        "\n",
        "Q: Roger has 5 balls. He buys 2 cans with 3 balls each. How many balls does he have?\n",
        "A: Roger starts with 5 balls.\n",
        "He buys 2 cans, each has 3 balls.\n",
        "New balls: 2 × 3 = 6\n",
        "Total: 5 + 6 = 11\n",
        "Answer: 11\n",
        "\n",
        "Q: A cafe had 23 apples. They used 20 for lunch and bought 6 more. How many now?\n",
        "A: Start with 23 apples.\n",
        "After using 20: 23 - 20 = 3\n",
        "After buying 6: 3 + 6 = 9\n",
        "Answer: 9\n",
        "\n",
        "[Add another example showing careful math]\n",
        "\n",
        "Q: {question}\n",
        "A:\"\"\"\n",
        "\n",
        "    answer = generate_text(prompt, temperature=0, max_tokens=150)\n",
        "\n",
        "    print(f\"\\n[{difficulty.upper()}] {question}\")\n",
        "    print(f\"Reasoning: {answer}\")\n",
        "    print(f\"Correct: {correct}\")"
      ]
    },
    {
      "cell_type": "markdown",
      "metadata": {
        "id": "Hp5FdaqvhaqT"
      },
      "source": [
        "See how showing reasoning steps helps catch mistakes."
      ]
    },
    {
      "cell_type": "markdown",
      "metadata": {
        "id": "9ChTG0eihaqU"
      },
      "source": [
        "### Zero-Shot CoT\n",
        "\n",
        "Here we use the phrase \"Let's think step-by-step\" to trigger reasoning without examples."
      ]
    },
    {
      "cell_type": "code",
      "execution_count": 30,
      "metadata": {
        "id": "TRHIAMLchaqV",
        "outputId": "559b1ab3-f6a2-4268-a504-6f33be300f7e",
        "colab": {
          "base_uri": "https://localhost:8080/"
        }
      },
      "outputs": [
        {
          "output_type": "stream",
          "name": "stderr",
          "text": [
            "Device set to use cuda\n"
          ]
        },
        {
          "output_type": "stream",
          "name": "stdout",
          "text": [
            "Zero-shot CoT:\n"
          ]
        },
        {
          "output_type": "stream",
          "name": "stderr",
          "text": [
            "Device set to use cuda\n"
          ]
        },
        {
          "output_type": "stream",
          "name": "stdout",
          "text": [
            "\n",
            "[EASY] If John has 5 apples and gives 2 to Mary, how many does he have?\n",
            "Reasoning:  To solve this problem, we need to follow these steps:\n",
            "\n",
            "1. Identify the initial number of apples John has.\n",
            "2. Determine the number of apples John gives to Mary.\n",
            "3. Subtract the number of apples given to Mary from the initial number of apples John has.\n",
            "\n",
            "Step 1: John initially has 5 apples.\n",
            "Step 2: John gives 2 apples to Mary.\n",
            "Step 3: Subtract the number of apples given to Mary from the initial number of apples John has: 5 - 2 = 3.\n",
            "\n",
            "So, after giving 2 apples to Mary, John has 3 apples left\n",
            "Correct: 3\n"
          ]
        },
        {
          "output_type": "stream",
          "name": "stderr",
          "text": [
            "Device set to use cuda\n"
          ]
        },
        {
          "output_type": "stream",
          "name": "stdout",
          "text": [
            "\n",
            "[EASY] A ticket costs $15. I buy 3 tickets with a $50 bill. How much change?\n",
            "Reasoning:  Step 1: Calculate the total cost of the tickets.\n",
            "The cost of one ticket is $15, and you are buying 3 tickets. So, the total cost is 15 * 3 = $45.\n",
            "\n",
            "Step 2: Calculate the change.\n",
            "You paid with a $50 bill, so the change you should receive is the difference between the amount you paid and the total cost of the tickets.\n",
            "Change = Amount paid - Total cost = $50 - $45 = $5.\n",
            "\n",
            "So, you should receive $5 in change.\n",
            "Correct: 5\n",
            "\n",
            "[TRICKY] A bat and ball cost $1.10 total. The bat costs $1 more than the ball. How much is the ball?\n",
            "Reasoning:  Let's denote the cost of the ball as x (in dollars). Since the bat costs $1 more than the ball, the cost of the bat can be represented as x + $1.\n",
            "\n",
            "According to the problem, the total cost of the bat and ball is $1.10. So, we can set up the following equation:\n",
            "\n",
            "x (ball cost) + (x + $1) (bat cost) = $1.10\n",
            "\n",
            "Now, let's solve the equation:\n",
            "\n",
            "2x + $1 = $1.10\n",
            "\n",
            "Subtract $1 from both sides:\n",
            "\n",
            "2x = $0.10\n",
            "\n",
            "Now, divide both sides by\n",
            "Correct: 0.05\n"
          ]
        }
      ],
      "source": [
        "print(\"Zero-shot CoT:\")\n",
        "\n",
        "for question, correct, difficulty in problems:\n",
        "    prompt = f\"{question}\\n\\nLet's think step-by-step:\"\n",
        "    answer = generate_text(prompt, temperature=0, max_tokens=150)\n",
        "\n",
        "    print(f\"\\n[{difficulty.upper()}] {question}\")\n",
        "    print(f\"Reasoning: {answer}\")\n",
        "    print(f\"Correct: {correct}\")"
      ]
    },
    {
      "cell_type": "markdown",
      "metadata": {
        "id": "bcLYZmi9haqW"
      },
      "source": [
        "Notice how a simple phrase triggers step-by-step reasoning."
      ]
    },
    {
      "cell_type": "markdown",
      "metadata": {
        "id": "AeGTKgJjhaqW"
      },
      "source": [
        "### Questions\n",
        "\n",
        "1. Did direct prompting get the bat-and-ball problem wrong? What's the common wrong answer ($0.10)?\n",
        "\n",
        "2. Compare few-shot CoT vs zero-shot CoT on the tricky problem. Which caught the mistake better?\n",
        "\n",
        "3. What type of problems benefit most from CoT? When is direct prompting good enough?"
      ]
    }
  ],
  "metadata": {
    "kernelspec": {
      "display_name": "Python 3",
      "name": "python3"
    },
    "language_info": {
      "name": "python",
      "version": "3.8.0"
    },
    "colab": {
      "provenance": [],
      "gpuType": "T4"
    },
    "accelerator": "GPU",
    "widgets": {
      "application/vnd.jupyter.widget-state+json": {
        "339e5d68463f4f1e95f539196467cf31": {
          "model_module": "@jupyter-widgets/controls",
          "model_name": "HBoxModel",
          "model_module_version": "1.5.0",
          "state": {
            "_dom_classes": [],
            "_model_module": "@jupyter-widgets/controls",
            "_model_module_version": "1.5.0",
            "_model_name": "HBoxModel",
            "_view_count": null,
            "_view_module": "@jupyter-widgets/controls",
            "_view_module_version": "1.5.0",
            "_view_name": "HBoxView",
            "box_style": "",
            "children": [
              "IPY_MODEL_8736989445724c2e8b07937c681bcf17",
              "IPY_MODEL_557c0834762445968cc7a6e5e881ef3e",
              "IPY_MODEL_892a2de84d794d9aaab34cd91f834335"
            ],
            "layout": "IPY_MODEL_05218d2b974e438bb158f50da40017c7"
          }
        },
        "8736989445724c2e8b07937c681bcf17": {
          "model_module": "@jupyter-widgets/controls",
          "model_name": "HTMLModel",
          "model_module_version": "1.5.0",
          "state": {
            "_dom_classes": [],
            "_model_module": "@jupyter-widgets/controls",
            "_model_module_version": "1.5.0",
            "_model_name": "HTMLModel",
            "_view_count": null,
            "_view_module": "@jupyter-widgets/controls",
            "_view_module_version": "1.5.0",
            "_view_name": "HTMLView",
            "description": "",
            "description_tooltip": null,
            "layout": "IPY_MODEL_c99c3da30a6947759134725b4b28cddb",
            "placeholder": "​",
            "style": "IPY_MODEL_13a8e1c1d1f443daa93c71596ac254b5",
            "value": "config.json: 100%"
          }
        },
        "557c0834762445968cc7a6e5e881ef3e": {
          "model_module": "@jupyter-widgets/controls",
          "model_name": "FloatProgressModel",
          "model_module_version": "1.5.0",
          "state": {
            "_dom_classes": [],
            "_model_module": "@jupyter-widgets/controls",
            "_model_module_version": "1.5.0",
            "_model_name": "FloatProgressModel",
            "_view_count": null,
            "_view_module": "@jupyter-widgets/controls",
            "_view_module_version": "1.5.0",
            "_view_name": "ProgressView",
            "bar_style": "success",
            "description": "",
            "description_tooltip": null,
            "layout": "IPY_MODEL_f862d9b8053c4e9ea19be435edff3999",
            "max": 967,
            "min": 0,
            "orientation": "horizontal",
            "style": "IPY_MODEL_858aace480dd4811be3fca75e1364284",
            "value": 967
          }
        },
        "892a2de84d794d9aaab34cd91f834335": {
          "model_module": "@jupyter-widgets/controls",
          "model_name": "HTMLModel",
          "model_module_version": "1.5.0",
          "state": {
            "_dom_classes": [],
            "_model_module": "@jupyter-widgets/controls",
            "_model_module_version": "1.5.0",
            "_model_name": "HTMLModel",
            "_view_count": null,
            "_view_module": "@jupyter-widgets/controls",
            "_view_module_version": "1.5.0",
            "_view_name": "HTMLView",
            "description": "",
            "description_tooltip": null,
            "layout": "IPY_MODEL_ef277020e8e04ce4b299c4b920adf87a",
            "placeholder": "​",
            "style": "IPY_MODEL_f038664a78674f72a41239870021adce",
            "value": " 967/967 [00:00&lt;00:00, 102kB/s]"
          }
        },
        "05218d2b974e438bb158f50da40017c7": {
          "model_module": "@jupyter-widgets/base",
          "model_name": "LayoutModel",
          "model_module_version": "1.2.0",
          "state": {
            "_model_module": "@jupyter-widgets/base",
            "_model_module_version": "1.2.0",
            "_model_name": "LayoutModel",
            "_view_count": null,
            "_view_module": "@jupyter-widgets/base",
            "_view_module_version": "1.2.0",
            "_view_name": "LayoutView",
            "align_content": null,
            "align_items": null,
            "align_self": null,
            "border": null,
            "bottom": null,
            "display": null,
            "flex": null,
            "flex_flow": null,
            "grid_area": null,
            "grid_auto_columns": null,
            "grid_auto_flow": null,
            "grid_auto_rows": null,
            "grid_column": null,
            "grid_gap": null,
            "grid_row": null,
            "grid_template_areas": null,
            "grid_template_columns": null,
            "grid_template_rows": null,
            "height": null,
            "justify_content": null,
            "justify_items": null,
            "left": null,
            "margin": null,
            "max_height": null,
            "max_width": null,
            "min_height": null,
            "min_width": null,
            "object_fit": null,
            "object_position": null,
            "order": null,
            "overflow": null,
            "overflow_x": null,
            "overflow_y": null,
            "padding": null,
            "right": null,
            "top": null,
            "visibility": null,
            "width": null
          }
        },
        "c99c3da30a6947759134725b4b28cddb": {
          "model_module": "@jupyter-widgets/base",
          "model_name": "LayoutModel",
          "model_module_version": "1.2.0",
          "state": {
            "_model_module": "@jupyter-widgets/base",
            "_model_module_version": "1.2.0",
            "_model_name": "LayoutModel",
            "_view_count": null,
            "_view_module": "@jupyter-widgets/base",
            "_view_module_version": "1.2.0",
            "_view_name": "LayoutView",
            "align_content": null,
            "align_items": null,
            "align_self": null,
            "border": null,
            "bottom": null,
            "display": null,
            "flex": null,
            "flex_flow": null,
            "grid_area": null,
            "grid_auto_columns": null,
            "grid_auto_flow": null,
            "grid_auto_rows": null,
            "grid_column": null,
            "grid_gap": null,
            "grid_row": null,
            "grid_template_areas": null,
            "grid_template_columns": null,
            "grid_template_rows": null,
            "height": null,
            "justify_content": null,
            "justify_items": null,
            "left": null,
            "margin": null,
            "max_height": null,
            "max_width": null,
            "min_height": null,
            "min_width": null,
            "object_fit": null,
            "object_position": null,
            "order": null,
            "overflow": null,
            "overflow_x": null,
            "overflow_y": null,
            "padding": null,
            "right": null,
            "top": null,
            "visibility": null,
            "width": null
          }
        },
        "13a8e1c1d1f443daa93c71596ac254b5": {
          "model_module": "@jupyter-widgets/controls",
          "model_name": "DescriptionStyleModel",
          "model_module_version": "1.5.0",
          "state": {
            "_model_module": "@jupyter-widgets/controls",
            "_model_module_version": "1.5.0",
            "_model_name": "DescriptionStyleModel",
            "_view_count": null,
            "_view_module": "@jupyter-widgets/base",
            "_view_module_version": "1.2.0",
            "_view_name": "StyleView",
            "description_width": ""
          }
        },
        "f862d9b8053c4e9ea19be435edff3999": {
          "model_module": "@jupyter-widgets/base",
          "model_name": "LayoutModel",
          "model_module_version": "1.2.0",
          "state": {
            "_model_module": "@jupyter-widgets/base",
            "_model_module_version": "1.2.0",
            "_model_name": "LayoutModel",
            "_view_count": null,
            "_view_module": "@jupyter-widgets/base",
            "_view_module_version": "1.2.0",
            "_view_name": "LayoutView",
            "align_content": null,
            "align_items": null,
            "align_self": null,
            "border": null,
            "bottom": null,
            "display": null,
            "flex": null,
            "flex_flow": null,
            "grid_area": null,
            "grid_auto_columns": null,
            "grid_auto_flow": null,
            "grid_auto_rows": null,
            "grid_column": null,
            "grid_gap": null,
            "grid_row": null,
            "grid_template_areas": null,
            "grid_template_columns": null,
            "grid_template_rows": null,
            "height": null,
            "justify_content": null,
            "justify_items": null,
            "left": null,
            "margin": null,
            "max_height": null,
            "max_width": null,
            "min_height": null,
            "min_width": null,
            "object_fit": null,
            "object_position": null,
            "order": null,
            "overflow": null,
            "overflow_x": null,
            "overflow_y": null,
            "padding": null,
            "right": null,
            "top": null,
            "visibility": null,
            "width": null
          }
        },
        "858aace480dd4811be3fca75e1364284": {
          "model_module": "@jupyter-widgets/controls",
          "model_name": "ProgressStyleModel",
          "model_module_version": "1.5.0",
          "state": {
            "_model_module": "@jupyter-widgets/controls",
            "_model_module_version": "1.5.0",
            "_model_name": "ProgressStyleModel",
            "_view_count": null,
            "_view_module": "@jupyter-widgets/base",
            "_view_module_version": "1.2.0",
            "_view_name": "StyleView",
            "bar_color": null,
            "description_width": ""
          }
        },
        "ef277020e8e04ce4b299c4b920adf87a": {
          "model_module": "@jupyter-widgets/base",
          "model_name": "LayoutModel",
          "model_module_version": "1.2.0",
          "state": {
            "_model_module": "@jupyter-widgets/base",
            "_model_module_version": "1.2.0",
            "_model_name": "LayoutModel",
            "_view_count": null,
            "_view_module": "@jupyter-widgets/base",
            "_view_module_version": "1.2.0",
            "_view_name": "LayoutView",
            "align_content": null,
            "align_items": null,
            "align_self": null,
            "border": null,
            "bottom": null,
            "display": null,
            "flex": null,
            "flex_flow": null,
            "grid_area": null,
            "grid_auto_columns": null,
            "grid_auto_flow": null,
            "grid_auto_rows": null,
            "grid_column": null,
            "grid_gap": null,
            "grid_row": null,
            "grid_template_areas": null,
            "grid_template_columns": null,
            "grid_template_rows": null,
            "height": null,
            "justify_content": null,
            "justify_items": null,
            "left": null,
            "margin": null,
            "max_height": null,
            "max_width": null,
            "min_height": null,
            "min_width": null,
            "object_fit": null,
            "object_position": null,
            "order": null,
            "overflow": null,
            "overflow_x": null,
            "overflow_y": null,
            "padding": null,
            "right": null,
            "top": null,
            "visibility": null,
            "width": null
          }
        },
        "f038664a78674f72a41239870021adce": {
          "model_module": "@jupyter-widgets/controls",
          "model_name": "DescriptionStyleModel",
          "model_module_version": "1.5.0",
          "state": {
            "_model_module": "@jupyter-widgets/controls",
            "_model_module_version": "1.5.0",
            "_model_name": "DescriptionStyleModel",
            "_view_count": null,
            "_view_module": "@jupyter-widgets/base",
            "_view_module_version": "1.2.0",
            "_view_name": "StyleView",
            "description_width": ""
          }
        },
        "10dc4f58a57b460fa03ba44463d45b5f": {
          "model_module": "@jupyter-widgets/controls",
          "model_name": "HBoxModel",
          "model_module_version": "1.5.0",
          "state": {
            "_dom_classes": [],
            "_model_module": "@jupyter-widgets/controls",
            "_model_module_version": "1.5.0",
            "_model_name": "HBoxModel",
            "_view_count": null,
            "_view_module": "@jupyter-widgets/controls",
            "_view_module_version": "1.5.0",
            "_view_name": "HBoxView",
            "box_style": "",
            "children": [
              "IPY_MODEL_16f7b316b10c4ebeb8c61e475f8b252f",
              "IPY_MODEL_95c7ba8bfa65419e9fcb1c08c5c500d8",
              "IPY_MODEL_3108bd17bc76411cbcd6115bdc998896"
            ],
            "layout": "IPY_MODEL_6a61d9e650d54182829f6698df30e16f"
          }
        },
        "16f7b316b10c4ebeb8c61e475f8b252f": {
          "model_module": "@jupyter-widgets/controls",
          "model_name": "HTMLModel",
          "model_module_version": "1.5.0",
          "state": {
            "_dom_classes": [],
            "_model_module": "@jupyter-widgets/controls",
            "_model_module_version": "1.5.0",
            "_model_name": "HTMLModel",
            "_view_count": null,
            "_view_module": "@jupyter-widgets/controls",
            "_view_module_version": "1.5.0",
            "_view_name": "HTMLView",
            "description": "",
            "description_tooltip": null,
            "layout": "IPY_MODEL_e7c301703ff44f54afde2639400f3640",
            "placeholder": "​",
            "style": "IPY_MODEL_b98cbc3ed51647cfb3ad98db5359354b",
            "value": "model.safetensors.index.json: "
          }
        },
        "95c7ba8bfa65419e9fcb1c08c5c500d8": {
          "model_module": "@jupyter-widgets/controls",
          "model_name": "FloatProgressModel",
          "model_module_version": "1.5.0",
          "state": {
            "_dom_classes": [],
            "_model_module": "@jupyter-widgets/controls",
            "_model_module_version": "1.5.0",
            "_model_name": "FloatProgressModel",
            "_view_count": null,
            "_view_module": "@jupyter-widgets/controls",
            "_view_module_version": "1.5.0",
            "_view_name": "ProgressView",
            "bar_style": "success",
            "description": "",
            "description_tooltip": null,
            "layout": "IPY_MODEL_25576ac11b4e4cefab8f9e075ba34482",
            "max": 1,
            "min": 0,
            "orientation": "horizontal",
            "style": "IPY_MODEL_b726aa2f241342ff908ca7b6a80eb9c6",
            "value": 1
          }
        },
        "3108bd17bc76411cbcd6115bdc998896": {
          "model_module": "@jupyter-widgets/controls",
          "model_name": "HTMLModel",
          "model_module_version": "1.5.0",
          "state": {
            "_dom_classes": [],
            "_model_module": "@jupyter-widgets/controls",
            "_model_module_version": "1.5.0",
            "_model_name": "HTMLModel",
            "_view_count": null,
            "_view_module": "@jupyter-widgets/controls",
            "_view_module_version": "1.5.0",
            "_view_name": "HTMLView",
            "description": "",
            "description_tooltip": null,
            "layout": "IPY_MODEL_d63218a903354825af6505b6a6223d8d",
            "placeholder": "​",
            "style": "IPY_MODEL_7705d7f1db61432490c65dc4f446ac3f",
            "value": " 16.5k/? [00:00&lt;00:00, 617kB/s]"
          }
        },
        "6a61d9e650d54182829f6698df30e16f": {
          "model_module": "@jupyter-widgets/base",
          "model_name": "LayoutModel",
          "model_module_version": "1.2.0",
          "state": {
            "_model_module": "@jupyter-widgets/base",
            "_model_module_version": "1.2.0",
            "_model_name": "LayoutModel",
            "_view_count": null,
            "_view_module": "@jupyter-widgets/base",
            "_view_module_version": "1.2.0",
            "_view_name": "LayoutView",
            "align_content": null,
            "align_items": null,
            "align_self": null,
            "border": null,
            "bottom": null,
            "display": null,
            "flex": null,
            "flex_flow": null,
            "grid_area": null,
            "grid_auto_columns": null,
            "grid_auto_flow": null,
            "grid_auto_rows": null,
            "grid_column": null,
            "grid_gap": null,
            "grid_row": null,
            "grid_template_areas": null,
            "grid_template_columns": null,
            "grid_template_rows": null,
            "height": null,
            "justify_content": null,
            "justify_items": null,
            "left": null,
            "margin": null,
            "max_height": null,
            "max_width": null,
            "min_height": null,
            "min_width": null,
            "object_fit": null,
            "object_position": null,
            "order": null,
            "overflow": null,
            "overflow_x": null,
            "overflow_y": null,
            "padding": null,
            "right": null,
            "top": null,
            "visibility": null,
            "width": null
          }
        },
        "e7c301703ff44f54afde2639400f3640": {
          "model_module": "@jupyter-widgets/base",
          "model_name": "LayoutModel",
          "model_module_version": "1.2.0",
          "state": {
            "_model_module": "@jupyter-widgets/base",
            "_model_module_version": "1.2.0",
            "_model_name": "LayoutModel",
            "_view_count": null,
            "_view_module": "@jupyter-widgets/base",
            "_view_module_version": "1.2.0",
            "_view_name": "LayoutView",
            "align_content": null,
            "align_items": null,
            "align_self": null,
            "border": null,
            "bottom": null,
            "display": null,
            "flex": null,
            "flex_flow": null,
            "grid_area": null,
            "grid_auto_columns": null,
            "grid_auto_flow": null,
            "grid_auto_rows": null,
            "grid_column": null,
            "grid_gap": null,
            "grid_row": null,
            "grid_template_areas": null,
            "grid_template_columns": null,
            "grid_template_rows": null,
            "height": null,
            "justify_content": null,
            "justify_items": null,
            "left": null,
            "margin": null,
            "max_height": null,
            "max_width": null,
            "min_height": null,
            "min_width": null,
            "object_fit": null,
            "object_position": null,
            "order": null,
            "overflow": null,
            "overflow_x": null,
            "overflow_y": null,
            "padding": null,
            "right": null,
            "top": null,
            "visibility": null,
            "width": null
          }
        },
        "b98cbc3ed51647cfb3ad98db5359354b": {
          "model_module": "@jupyter-widgets/controls",
          "model_name": "DescriptionStyleModel",
          "model_module_version": "1.5.0",
          "state": {
            "_model_module": "@jupyter-widgets/controls",
            "_model_module_version": "1.5.0",
            "_model_name": "DescriptionStyleModel",
            "_view_count": null,
            "_view_module": "@jupyter-widgets/base",
            "_view_module_version": "1.2.0",
            "_view_name": "StyleView",
            "description_width": ""
          }
        },
        "25576ac11b4e4cefab8f9e075ba34482": {
          "model_module": "@jupyter-widgets/base",
          "model_name": "LayoutModel",
          "model_module_version": "1.2.0",
          "state": {
            "_model_module": "@jupyter-widgets/base",
            "_model_module_version": "1.2.0",
            "_model_name": "LayoutModel",
            "_view_count": null,
            "_view_module": "@jupyter-widgets/base",
            "_view_module_version": "1.2.0",
            "_view_name": "LayoutView",
            "align_content": null,
            "align_items": null,
            "align_self": null,
            "border": null,
            "bottom": null,
            "display": null,
            "flex": null,
            "flex_flow": null,
            "grid_area": null,
            "grid_auto_columns": null,
            "grid_auto_flow": null,
            "grid_auto_rows": null,
            "grid_column": null,
            "grid_gap": null,
            "grid_row": null,
            "grid_template_areas": null,
            "grid_template_columns": null,
            "grid_template_rows": null,
            "height": null,
            "justify_content": null,
            "justify_items": null,
            "left": null,
            "margin": null,
            "max_height": null,
            "max_width": null,
            "min_height": null,
            "min_width": null,
            "object_fit": null,
            "object_position": null,
            "order": null,
            "overflow": null,
            "overflow_x": null,
            "overflow_y": null,
            "padding": null,
            "right": null,
            "top": null,
            "visibility": null,
            "width": "20px"
          }
        },
        "b726aa2f241342ff908ca7b6a80eb9c6": {
          "model_module": "@jupyter-widgets/controls",
          "model_name": "ProgressStyleModel",
          "model_module_version": "1.5.0",
          "state": {
            "_model_module": "@jupyter-widgets/controls",
            "_model_module_version": "1.5.0",
            "_model_name": "ProgressStyleModel",
            "_view_count": null,
            "_view_module": "@jupyter-widgets/base",
            "_view_module_version": "1.2.0",
            "_view_name": "StyleView",
            "bar_color": null,
            "description_width": ""
          }
        },
        "d63218a903354825af6505b6a6223d8d": {
          "model_module": "@jupyter-widgets/base",
          "model_name": "LayoutModel",
          "model_module_version": "1.2.0",
          "state": {
            "_model_module": "@jupyter-widgets/base",
            "_model_module_version": "1.2.0",
            "_model_name": "LayoutModel",
            "_view_count": null,
            "_view_module": "@jupyter-widgets/base",
            "_view_module_version": "1.2.0",
            "_view_name": "LayoutView",
            "align_content": null,
            "align_items": null,
            "align_self": null,
            "border": null,
            "bottom": null,
            "display": null,
            "flex": null,
            "flex_flow": null,
            "grid_area": null,
            "grid_auto_columns": null,
            "grid_auto_flow": null,
            "grid_auto_rows": null,
            "grid_column": null,
            "grid_gap": null,
            "grid_row": null,
            "grid_template_areas": null,
            "grid_template_columns": null,
            "grid_template_rows": null,
            "height": null,
            "justify_content": null,
            "justify_items": null,
            "left": null,
            "margin": null,
            "max_height": null,
            "max_width": null,
            "min_height": null,
            "min_width": null,
            "object_fit": null,
            "object_position": null,
            "order": null,
            "overflow": null,
            "overflow_x": null,
            "overflow_y": null,
            "padding": null,
            "right": null,
            "top": null,
            "visibility": null,
            "width": null
          }
        },
        "7705d7f1db61432490c65dc4f446ac3f": {
          "model_module": "@jupyter-widgets/controls",
          "model_name": "DescriptionStyleModel",
          "model_module_version": "1.5.0",
          "state": {
            "_model_module": "@jupyter-widgets/controls",
            "_model_module_version": "1.5.0",
            "_model_name": "DescriptionStyleModel",
            "_view_count": null,
            "_view_module": "@jupyter-widgets/base",
            "_view_module_version": "1.2.0",
            "_view_name": "StyleView",
            "description_width": ""
          }
        },
        "2f9601d2f93346c78b8ffae5681baafe": {
          "model_module": "@jupyter-widgets/controls",
          "model_name": "HBoxModel",
          "model_module_version": "1.5.0",
          "state": {
            "_dom_classes": [],
            "_model_module": "@jupyter-widgets/controls",
            "_model_module_version": "1.5.0",
            "_model_name": "HBoxModel",
            "_view_count": null,
            "_view_module": "@jupyter-widgets/controls",
            "_view_module_version": "1.5.0",
            "_view_name": "HBoxView",
            "box_style": "",
            "children": [
              "IPY_MODEL_88bb652cc472414f9f17b046e96cf0b1",
              "IPY_MODEL_266254dbb2944dc9a477083a9727a61d",
              "IPY_MODEL_b47212c566954b41b5a4cef1ad338544"
            ],
            "layout": "IPY_MODEL_f7a5d07ddf404e08873bd226b64caba3"
          }
        },
        "88bb652cc472414f9f17b046e96cf0b1": {
          "model_module": "@jupyter-widgets/controls",
          "model_name": "HTMLModel",
          "model_module_version": "1.5.0",
          "state": {
            "_dom_classes": [],
            "_model_module": "@jupyter-widgets/controls",
            "_model_module_version": "1.5.0",
            "_model_name": "HTMLModel",
            "_view_count": null,
            "_view_module": "@jupyter-widgets/controls",
            "_view_module_version": "1.5.0",
            "_view_name": "HTMLView",
            "description": "",
            "description_tooltip": null,
            "layout": "IPY_MODEL_4d2cddba17074b27940ff45b48559081",
            "placeholder": "​",
            "style": "IPY_MODEL_8d4c3dfb40fd420b8afcaa4137c379d6",
            "value": "Fetching 2 files: 100%"
          }
        },
        "266254dbb2944dc9a477083a9727a61d": {
          "model_module": "@jupyter-widgets/controls",
          "model_name": "FloatProgressModel",
          "model_module_version": "1.5.0",
          "state": {
            "_dom_classes": [],
            "_model_module": "@jupyter-widgets/controls",
            "_model_module_version": "1.5.0",
            "_model_name": "FloatProgressModel",
            "_view_count": null,
            "_view_module": "@jupyter-widgets/controls",
            "_view_module_version": "1.5.0",
            "_view_name": "ProgressView",
            "bar_style": "success",
            "description": "",
            "description_tooltip": null,
            "layout": "IPY_MODEL_54dcbcd6c3644a00ac1acb70ecb5441a",
            "max": 2,
            "min": 0,
            "orientation": "horizontal",
            "style": "IPY_MODEL_3f94a3c2db0e4ec197c9f76424680653",
            "value": 2
          }
        },
        "b47212c566954b41b5a4cef1ad338544": {
          "model_module": "@jupyter-widgets/controls",
          "model_name": "HTMLModel",
          "model_module_version": "1.5.0",
          "state": {
            "_dom_classes": [],
            "_model_module": "@jupyter-widgets/controls",
            "_model_module_version": "1.5.0",
            "_model_name": "HTMLModel",
            "_view_count": null,
            "_view_module": "@jupyter-widgets/controls",
            "_view_module_version": "1.5.0",
            "_view_name": "HTMLView",
            "description": "",
            "description_tooltip": null,
            "layout": "IPY_MODEL_cc2229844fd141df85b1b9258b4d3bf7",
            "placeholder": "​",
            "style": "IPY_MODEL_b028a64624c649dfaeb52731c9651f70",
            "value": " 2/2 [02:11&lt;00:00, 131.04s/it]"
          }
        },
        "f7a5d07ddf404e08873bd226b64caba3": {
          "model_module": "@jupyter-widgets/base",
          "model_name": "LayoutModel",
          "model_module_version": "1.2.0",
          "state": {
            "_model_module": "@jupyter-widgets/base",
            "_model_module_version": "1.2.0",
            "_model_name": "LayoutModel",
            "_view_count": null,
            "_view_module": "@jupyter-widgets/base",
            "_view_module_version": "1.2.0",
            "_view_name": "LayoutView",
            "align_content": null,
            "align_items": null,
            "align_self": null,
            "border": null,
            "bottom": null,
            "display": null,
            "flex": null,
            "flex_flow": null,
            "grid_area": null,
            "grid_auto_columns": null,
            "grid_auto_flow": null,
            "grid_auto_rows": null,
            "grid_column": null,
            "grid_gap": null,
            "grid_row": null,
            "grid_template_areas": null,
            "grid_template_columns": null,
            "grid_template_rows": null,
            "height": null,
            "justify_content": null,
            "justify_items": null,
            "left": null,
            "margin": null,
            "max_height": null,
            "max_width": null,
            "min_height": null,
            "min_width": null,
            "object_fit": null,
            "object_position": null,
            "order": null,
            "overflow": null,
            "overflow_x": null,
            "overflow_y": null,
            "padding": null,
            "right": null,
            "top": null,
            "visibility": null,
            "width": null
          }
        },
        "4d2cddba17074b27940ff45b48559081": {
          "model_module": "@jupyter-widgets/base",
          "model_name": "LayoutModel",
          "model_module_version": "1.2.0",
          "state": {
            "_model_module": "@jupyter-widgets/base",
            "_model_module_version": "1.2.0",
            "_model_name": "LayoutModel",
            "_view_count": null,
            "_view_module": "@jupyter-widgets/base",
            "_view_module_version": "1.2.0",
            "_view_name": "LayoutView",
            "align_content": null,
            "align_items": null,
            "align_self": null,
            "border": null,
            "bottom": null,
            "display": null,
            "flex": null,
            "flex_flow": null,
            "grid_area": null,
            "grid_auto_columns": null,
            "grid_auto_flow": null,
            "grid_auto_rows": null,
            "grid_column": null,
            "grid_gap": null,
            "grid_row": null,
            "grid_template_areas": null,
            "grid_template_columns": null,
            "grid_template_rows": null,
            "height": null,
            "justify_content": null,
            "justify_items": null,
            "left": null,
            "margin": null,
            "max_height": null,
            "max_width": null,
            "min_height": null,
            "min_width": null,
            "object_fit": null,
            "object_position": null,
            "order": null,
            "overflow": null,
            "overflow_x": null,
            "overflow_y": null,
            "padding": null,
            "right": null,
            "top": null,
            "visibility": null,
            "width": null
          }
        },
        "8d4c3dfb40fd420b8afcaa4137c379d6": {
          "model_module": "@jupyter-widgets/controls",
          "model_name": "DescriptionStyleModel",
          "model_module_version": "1.5.0",
          "state": {
            "_model_module": "@jupyter-widgets/controls",
            "_model_module_version": "1.5.0",
            "_model_name": "DescriptionStyleModel",
            "_view_count": null,
            "_view_module": "@jupyter-widgets/base",
            "_view_module_version": "1.2.0",
            "_view_name": "StyleView",
            "description_width": ""
          }
        },
        "54dcbcd6c3644a00ac1acb70ecb5441a": {
          "model_module": "@jupyter-widgets/base",
          "model_name": "LayoutModel",
          "model_module_version": "1.2.0",
          "state": {
            "_model_module": "@jupyter-widgets/base",
            "_model_module_version": "1.2.0",
            "_model_name": "LayoutModel",
            "_view_count": null,
            "_view_module": "@jupyter-widgets/base",
            "_view_module_version": "1.2.0",
            "_view_name": "LayoutView",
            "align_content": null,
            "align_items": null,
            "align_self": null,
            "border": null,
            "bottom": null,
            "display": null,
            "flex": null,
            "flex_flow": null,
            "grid_area": null,
            "grid_auto_columns": null,
            "grid_auto_flow": null,
            "grid_auto_rows": null,
            "grid_column": null,
            "grid_gap": null,
            "grid_row": null,
            "grid_template_areas": null,
            "grid_template_columns": null,
            "grid_template_rows": null,
            "height": null,
            "justify_content": null,
            "justify_items": null,
            "left": null,
            "margin": null,
            "max_height": null,
            "max_width": null,
            "min_height": null,
            "min_width": null,
            "object_fit": null,
            "object_position": null,
            "order": null,
            "overflow": null,
            "overflow_x": null,
            "overflow_y": null,
            "padding": null,
            "right": null,
            "top": null,
            "visibility": null,
            "width": null
          }
        },
        "3f94a3c2db0e4ec197c9f76424680653": {
          "model_module": "@jupyter-widgets/controls",
          "model_name": "ProgressStyleModel",
          "model_module_version": "1.5.0",
          "state": {
            "_model_module": "@jupyter-widgets/controls",
            "_model_module_version": "1.5.0",
            "_model_name": "ProgressStyleModel",
            "_view_count": null,
            "_view_module": "@jupyter-widgets/base",
            "_view_module_version": "1.2.0",
            "_view_name": "StyleView",
            "bar_color": null,
            "description_width": ""
          }
        },
        "cc2229844fd141df85b1b9258b4d3bf7": {
          "model_module": "@jupyter-widgets/base",
          "model_name": "LayoutModel",
          "model_module_version": "1.2.0",
          "state": {
            "_model_module": "@jupyter-widgets/base",
            "_model_module_version": "1.2.0",
            "_model_name": "LayoutModel",
            "_view_count": null,
            "_view_module": "@jupyter-widgets/base",
            "_view_module_version": "1.2.0",
            "_view_name": "LayoutView",
            "align_content": null,
            "align_items": null,
            "align_self": null,
            "border": null,
            "bottom": null,
            "display": null,
            "flex": null,
            "flex_flow": null,
            "grid_area": null,
            "grid_auto_columns": null,
            "grid_auto_flow": null,
            "grid_auto_rows": null,
            "grid_column": null,
            "grid_gap": null,
            "grid_row": null,
            "grid_template_areas": null,
            "grid_template_columns": null,
            "grid_template_rows": null,
            "height": null,
            "justify_content": null,
            "justify_items": null,
            "left": null,
            "margin": null,
            "max_height": null,
            "max_width": null,
            "min_height": null,
            "min_width": null,
            "object_fit": null,
            "object_position": null,
            "order": null,
            "overflow": null,
            "overflow_x": null,
            "overflow_y": null,
            "padding": null,
            "right": null,
            "top": null,
            "visibility": null,
            "width": null
          }
        },
        "b028a64624c649dfaeb52731c9651f70": {
          "model_module": "@jupyter-widgets/controls",
          "model_name": "DescriptionStyleModel",
          "model_module_version": "1.5.0",
          "state": {
            "_model_module": "@jupyter-widgets/controls",
            "_model_module_version": "1.5.0",
            "_model_name": "DescriptionStyleModel",
            "_view_count": null,
            "_view_module": "@jupyter-widgets/base",
            "_view_module_version": "1.2.0",
            "_view_name": "StyleView",
            "description_width": ""
          }
        },
        "f5ad2fe5162f4ee89e29c0566487b194": {
          "model_module": "@jupyter-widgets/controls",
          "model_name": "HBoxModel",
          "model_module_version": "1.5.0",
          "state": {
            "_dom_classes": [],
            "_model_module": "@jupyter-widgets/controls",
            "_model_module_version": "1.5.0",
            "_model_name": "HBoxModel",
            "_view_count": null,
            "_view_module": "@jupyter-widgets/controls",
            "_view_module_version": "1.5.0",
            "_view_name": "HBoxView",
            "box_style": "",
            "children": [
              "IPY_MODEL_6c86da122a424b51b6d7b872d8779dde",
              "IPY_MODEL_7dfc2290a4bd4fa0a46cb697ec87448b",
              "IPY_MODEL_74d0b41ef7e14c9ea08b2cc9364a0026"
            ],
            "layout": "IPY_MODEL_3d835f1f556740e6bc79171152e50e93"
          }
        },
        "6c86da122a424b51b6d7b872d8779dde": {
          "model_module": "@jupyter-widgets/controls",
          "model_name": "HTMLModel",
          "model_module_version": "1.5.0",
          "state": {
            "_dom_classes": [],
            "_model_module": "@jupyter-widgets/controls",
            "_model_module_version": "1.5.0",
            "_model_name": "HTMLModel",
            "_view_count": null,
            "_view_module": "@jupyter-widgets/controls",
            "_view_module_version": "1.5.0",
            "_view_name": "HTMLView",
            "description": "",
            "description_tooltip": null,
            "layout": "IPY_MODEL_55463612374e42b18eee2599b7e988ff",
            "placeholder": "​",
            "style": "IPY_MODEL_eb1c4ea4e6b24aff85df487ab89263f3",
            "value": "model-00001-of-00002.safetensors: 100%"
          }
        },
        "7dfc2290a4bd4fa0a46cb697ec87448b": {
          "model_module": "@jupyter-widgets/controls",
          "model_name": "FloatProgressModel",
          "model_module_version": "1.5.0",
          "state": {
            "_dom_classes": [],
            "_model_module": "@jupyter-widgets/controls",
            "_model_module_version": "1.5.0",
            "_model_name": "FloatProgressModel",
            "_view_count": null,
            "_view_module": "@jupyter-widgets/controls",
            "_view_module_version": "1.5.0",
            "_view_name": "ProgressView",
            "bar_style": "success",
            "description": "",
            "description_tooltip": null,
            "layout": "IPY_MODEL_67d1fd7dcadb43a4b7bd3ba50a2ee732",
            "max": 4972489328,
            "min": 0,
            "orientation": "horizontal",
            "style": "IPY_MODEL_50d4b0190d1f44feb3cb2dea939f4670",
            "value": 4972489328
          }
        },
        "74d0b41ef7e14c9ea08b2cc9364a0026": {
          "model_module": "@jupyter-widgets/controls",
          "model_name": "HTMLModel",
          "model_module_version": "1.5.0",
          "state": {
            "_dom_classes": [],
            "_model_module": "@jupyter-widgets/controls",
            "_model_module_version": "1.5.0",
            "_model_name": "HTMLModel",
            "_view_count": null,
            "_view_module": "@jupyter-widgets/controls",
            "_view_module_version": "1.5.0",
            "_view_name": "HTMLView",
            "description": "",
            "description_tooltip": null,
            "layout": "IPY_MODEL_4732794f126144fcac9755ce4b145d03",
            "placeholder": "​",
            "style": "IPY_MODEL_e541f185df704c0da7635e2671993f66",
            "value": " 4.97G/4.97G [02:10&lt;00:00, 96.9MB/s]"
          }
        },
        "3d835f1f556740e6bc79171152e50e93": {
          "model_module": "@jupyter-widgets/base",
          "model_name": "LayoutModel",
          "model_module_version": "1.2.0",
          "state": {
            "_model_module": "@jupyter-widgets/base",
            "_model_module_version": "1.2.0",
            "_model_name": "LayoutModel",
            "_view_count": null,
            "_view_module": "@jupyter-widgets/base",
            "_view_module_version": "1.2.0",
            "_view_name": "LayoutView",
            "align_content": null,
            "align_items": null,
            "align_self": null,
            "border": null,
            "bottom": null,
            "display": null,
            "flex": null,
            "flex_flow": null,
            "grid_area": null,
            "grid_auto_columns": null,
            "grid_auto_flow": null,
            "grid_auto_rows": null,
            "grid_column": null,
            "grid_gap": null,
            "grid_row": null,
            "grid_template_areas": null,
            "grid_template_columns": null,
            "grid_template_rows": null,
            "height": null,
            "justify_content": null,
            "justify_items": null,
            "left": null,
            "margin": null,
            "max_height": null,
            "max_width": null,
            "min_height": null,
            "min_width": null,
            "object_fit": null,
            "object_position": null,
            "order": null,
            "overflow": null,
            "overflow_x": null,
            "overflow_y": null,
            "padding": null,
            "right": null,
            "top": null,
            "visibility": null,
            "width": null
          }
        },
        "55463612374e42b18eee2599b7e988ff": {
          "model_module": "@jupyter-widgets/base",
          "model_name": "LayoutModel",
          "model_module_version": "1.2.0",
          "state": {
            "_model_module": "@jupyter-widgets/base",
            "_model_module_version": "1.2.0",
            "_model_name": "LayoutModel",
            "_view_count": null,
            "_view_module": "@jupyter-widgets/base",
            "_view_module_version": "1.2.0",
            "_view_name": "LayoutView",
            "align_content": null,
            "align_items": null,
            "align_self": null,
            "border": null,
            "bottom": null,
            "display": null,
            "flex": null,
            "flex_flow": null,
            "grid_area": null,
            "grid_auto_columns": null,
            "grid_auto_flow": null,
            "grid_auto_rows": null,
            "grid_column": null,
            "grid_gap": null,
            "grid_row": null,
            "grid_template_areas": null,
            "grid_template_columns": null,
            "grid_template_rows": null,
            "height": null,
            "justify_content": null,
            "justify_items": null,
            "left": null,
            "margin": null,
            "max_height": null,
            "max_width": null,
            "min_height": null,
            "min_width": null,
            "object_fit": null,
            "object_position": null,
            "order": null,
            "overflow": null,
            "overflow_x": null,
            "overflow_y": null,
            "padding": null,
            "right": null,
            "top": null,
            "visibility": null,
            "width": null
          }
        },
        "eb1c4ea4e6b24aff85df487ab89263f3": {
          "model_module": "@jupyter-widgets/controls",
          "model_name": "DescriptionStyleModel",
          "model_module_version": "1.5.0",
          "state": {
            "_model_module": "@jupyter-widgets/controls",
            "_model_module_version": "1.5.0",
            "_model_name": "DescriptionStyleModel",
            "_view_count": null,
            "_view_module": "@jupyter-widgets/base",
            "_view_module_version": "1.2.0",
            "_view_name": "StyleView",
            "description_width": ""
          }
        },
        "67d1fd7dcadb43a4b7bd3ba50a2ee732": {
          "model_module": "@jupyter-widgets/base",
          "model_name": "LayoutModel",
          "model_module_version": "1.2.0",
          "state": {
            "_model_module": "@jupyter-widgets/base",
            "_model_module_version": "1.2.0",
            "_model_name": "LayoutModel",
            "_view_count": null,
            "_view_module": "@jupyter-widgets/base",
            "_view_module_version": "1.2.0",
            "_view_name": "LayoutView",
            "align_content": null,
            "align_items": null,
            "align_self": null,
            "border": null,
            "bottom": null,
            "display": null,
            "flex": null,
            "flex_flow": null,
            "grid_area": null,
            "grid_auto_columns": null,
            "grid_auto_flow": null,
            "grid_auto_rows": null,
            "grid_column": null,
            "grid_gap": null,
            "grid_row": null,
            "grid_template_areas": null,
            "grid_template_columns": null,
            "grid_template_rows": null,
            "height": null,
            "justify_content": null,
            "justify_items": null,
            "left": null,
            "margin": null,
            "max_height": null,
            "max_width": null,
            "min_height": null,
            "min_width": null,
            "object_fit": null,
            "object_position": null,
            "order": null,
            "overflow": null,
            "overflow_x": null,
            "overflow_y": null,
            "padding": null,
            "right": null,
            "top": null,
            "visibility": null,
            "width": null
          }
        },
        "50d4b0190d1f44feb3cb2dea939f4670": {
          "model_module": "@jupyter-widgets/controls",
          "model_name": "ProgressStyleModel",
          "model_module_version": "1.5.0",
          "state": {
            "_model_module": "@jupyter-widgets/controls",
            "_model_module_version": "1.5.0",
            "_model_name": "ProgressStyleModel",
            "_view_count": null,
            "_view_module": "@jupyter-widgets/base",
            "_view_module_version": "1.2.0",
            "_view_name": "StyleView",
            "bar_color": null,
            "description_width": ""
          }
        },
        "4732794f126144fcac9755ce4b145d03": {
          "model_module": "@jupyter-widgets/base",
          "model_name": "LayoutModel",
          "model_module_version": "1.2.0",
          "state": {
            "_model_module": "@jupyter-widgets/base",
            "_model_module_version": "1.2.0",
            "_model_name": "LayoutModel",
            "_view_count": null,
            "_view_module": "@jupyter-widgets/base",
            "_view_module_version": "1.2.0",
            "_view_name": "LayoutView",
            "align_content": null,
            "align_items": null,
            "align_self": null,
            "border": null,
            "bottom": null,
            "display": null,
            "flex": null,
            "flex_flow": null,
            "grid_area": null,
            "grid_auto_columns": null,
            "grid_auto_flow": null,
            "grid_auto_rows": null,
            "grid_column": null,
            "grid_gap": null,
            "grid_row": null,
            "grid_template_areas": null,
            "grid_template_columns": null,
            "grid_template_rows": null,
            "height": null,
            "justify_content": null,
            "justify_items": null,
            "left": null,
            "margin": null,
            "max_height": null,
            "max_width": null,
            "min_height": null,
            "min_width": null,
            "object_fit": null,
            "object_position": null,
            "order": null,
            "overflow": null,
            "overflow_x": null,
            "overflow_y": null,
            "padding": null,
            "right": null,
            "top": null,
            "visibility": null,
            "width": null
          }
        },
        "e541f185df704c0da7635e2671993f66": {
          "model_module": "@jupyter-widgets/controls",
          "model_name": "DescriptionStyleModel",
          "model_module_version": "1.5.0",
          "state": {
            "_model_module": "@jupyter-widgets/controls",
            "_model_module_version": "1.5.0",
            "_model_name": "DescriptionStyleModel",
            "_view_count": null,
            "_view_module": "@jupyter-widgets/base",
            "_view_module_version": "1.2.0",
            "_view_name": "StyleView",
            "description_width": ""
          }
        },
        "1b86925154414c68a0d5a6ffbb970b47": {
          "model_module": "@jupyter-widgets/controls",
          "model_name": "HBoxModel",
          "model_module_version": "1.5.0",
          "state": {
            "_dom_classes": [],
            "_model_module": "@jupyter-widgets/controls",
            "_model_module_version": "1.5.0",
            "_model_name": "HBoxModel",
            "_view_count": null,
            "_view_module": "@jupyter-widgets/controls",
            "_view_module_version": "1.5.0",
            "_view_name": "HBoxView",
            "box_style": "",
            "children": [
              "IPY_MODEL_33d265f840a64e409c535f92b661e86a",
              "IPY_MODEL_28dd2274231e417a8311723e51770eb2",
              "IPY_MODEL_638b3da948ee4ae9a5886b34b6c82b0b"
            ],
            "layout": "IPY_MODEL_4429a8e15c514c958ce2277f304ba40a"
          }
        },
        "33d265f840a64e409c535f92b661e86a": {
          "model_module": "@jupyter-widgets/controls",
          "model_name": "HTMLModel",
          "model_module_version": "1.5.0",
          "state": {
            "_dom_classes": [],
            "_model_module": "@jupyter-widgets/controls",
            "_model_module_version": "1.5.0",
            "_model_name": "HTMLModel",
            "_view_count": null,
            "_view_module": "@jupyter-widgets/controls",
            "_view_module_version": "1.5.0",
            "_view_name": "HTMLView",
            "description": "",
            "description_tooltip": null,
            "layout": "IPY_MODEL_a7953d2bc5e741938f1e0cec2ff574a6",
            "placeholder": "​",
            "style": "IPY_MODEL_5057e83fc23745e58e1aa684c1b229c9",
            "value": "model-00002-of-00002.safetensors: 100%"
          }
        },
        "28dd2274231e417a8311723e51770eb2": {
          "model_module": "@jupyter-widgets/controls",
          "model_name": "FloatProgressModel",
          "model_module_version": "1.5.0",
          "state": {
            "_dom_classes": [],
            "_model_module": "@jupyter-widgets/controls",
            "_model_module_version": "1.5.0",
            "_model_name": "FloatProgressModel",
            "_view_count": null,
            "_view_module": "@jupyter-widgets/controls",
            "_view_module_version": "1.5.0",
            "_view_name": "ProgressView",
            "bar_style": "success",
            "description": "",
            "description_tooltip": null,
            "layout": "IPY_MODEL_ac405df6627c4c6ea60f1dd400bac855",
            "max": 2669692552,
            "min": 0,
            "orientation": "horizontal",
            "style": "IPY_MODEL_64bdc0c5c23046e5880f880b38dbd55f",
            "value": 2669692552
          }
        },
        "638b3da948ee4ae9a5886b34b6c82b0b": {
          "model_module": "@jupyter-widgets/controls",
          "model_name": "HTMLModel",
          "model_module_version": "1.5.0",
          "state": {
            "_dom_classes": [],
            "_model_module": "@jupyter-widgets/controls",
            "_model_module_version": "1.5.0",
            "_model_name": "HTMLModel",
            "_view_count": null,
            "_view_module": "@jupyter-widgets/controls",
            "_view_module_version": "1.5.0",
            "_view_name": "HTMLView",
            "description": "",
            "description_tooltip": null,
            "layout": "IPY_MODEL_ad0801c5698a4b729742e28cb44bd920",
            "placeholder": "​",
            "style": "IPY_MODEL_35940d2e48f54f8db6e890bed38f0943",
            "value": " 2.67G/2.67G [01:56&lt;00:00, 15.1MB/s]"
          }
        },
        "4429a8e15c514c958ce2277f304ba40a": {
          "model_module": "@jupyter-widgets/base",
          "model_name": "LayoutModel",
          "model_module_version": "1.2.0",
          "state": {
            "_model_module": "@jupyter-widgets/base",
            "_model_module_version": "1.2.0",
            "_model_name": "LayoutModel",
            "_view_count": null,
            "_view_module": "@jupyter-widgets/base",
            "_view_module_version": "1.2.0",
            "_view_name": "LayoutView",
            "align_content": null,
            "align_items": null,
            "align_self": null,
            "border": null,
            "bottom": null,
            "display": null,
            "flex": null,
            "flex_flow": null,
            "grid_area": null,
            "grid_auto_columns": null,
            "grid_auto_flow": null,
            "grid_auto_rows": null,
            "grid_column": null,
            "grid_gap": null,
            "grid_row": null,
            "grid_template_areas": null,
            "grid_template_columns": null,
            "grid_template_rows": null,
            "height": null,
            "justify_content": null,
            "justify_items": null,
            "left": null,
            "margin": null,
            "max_height": null,
            "max_width": null,
            "min_height": null,
            "min_width": null,
            "object_fit": null,
            "object_position": null,
            "order": null,
            "overflow": null,
            "overflow_x": null,
            "overflow_y": null,
            "padding": null,
            "right": null,
            "top": null,
            "visibility": null,
            "width": null
          }
        },
        "a7953d2bc5e741938f1e0cec2ff574a6": {
          "model_module": "@jupyter-widgets/base",
          "model_name": "LayoutModel",
          "model_module_version": "1.2.0",
          "state": {
            "_model_module": "@jupyter-widgets/base",
            "_model_module_version": "1.2.0",
            "_model_name": "LayoutModel",
            "_view_count": null,
            "_view_module": "@jupyter-widgets/base",
            "_view_module_version": "1.2.0",
            "_view_name": "LayoutView",
            "align_content": null,
            "align_items": null,
            "align_self": null,
            "border": null,
            "bottom": null,
            "display": null,
            "flex": null,
            "flex_flow": null,
            "grid_area": null,
            "grid_auto_columns": null,
            "grid_auto_flow": null,
            "grid_auto_rows": null,
            "grid_column": null,
            "grid_gap": null,
            "grid_row": null,
            "grid_template_areas": null,
            "grid_template_columns": null,
            "grid_template_rows": null,
            "height": null,
            "justify_content": null,
            "justify_items": null,
            "left": null,
            "margin": null,
            "max_height": null,
            "max_width": null,
            "min_height": null,
            "min_width": null,
            "object_fit": null,
            "object_position": null,
            "order": null,
            "overflow": null,
            "overflow_x": null,
            "overflow_y": null,
            "padding": null,
            "right": null,
            "top": null,
            "visibility": null,
            "width": null
          }
        },
        "5057e83fc23745e58e1aa684c1b229c9": {
          "model_module": "@jupyter-widgets/controls",
          "model_name": "DescriptionStyleModel",
          "model_module_version": "1.5.0",
          "state": {
            "_model_module": "@jupyter-widgets/controls",
            "_model_module_version": "1.5.0",
            "_model_name": "DescriptionStyleModel",
            "_view_count": null,
            "_view_module": "@jupyter-widgets/base",
            "_view_module_version": "1.2.0",
            "_view_name": "StyleView",
            "description_width": ""
          }
        },
        "ac405df6627c4c6ea60f1dd400bac855": {
          "model_module": "@jupyter-widgets/base",
          "model_name": "LayoutModel",
          "model_module_version": "1.2.0",
          "state": {
            "_model_module": "@jupyter-widgets/base",
            "_model_module_version": "1.2.0",
            "_model_name": "LayoutModel",
            "_view_count": null,
            "_view_module": "@jupyter-widgets/base",
            "_view_module_version": "1.2.0",
            "_view_name": "LayoutView",
            "align_content": null,
            "align_items": null,
            "align_self": null,
            "border": null,
            "bottom": null,
            "display": null,
            "flex": null,
            "flex_flow": null,
            "grid_area": null,
            "grid_auto_columns": null,
            "grid_auto_flow": null,
            "grid_auto_rows": null,
            "grid_column": null,
            "grid_gap": null,
            "grid_row": null,
            "grid_template_areas": null,
            "grid_template_columns": null,
            "grid_template_rows": null,
            "height": null,
            "justify_content": null,
            "justify_items": null,
            "left": null,
            "margin": null,
            "max_height": null,
            "max_width": null,
            "min_height": null,
            "min_width": null,
            "object_fit": null,
            "object_position": null,
            "order": null,
            "overflow": null,
            "overflow_x": null,
            "overflow_y": null,
            "padding": null,
            "right": null,
            "top": null,
            "visibility": null,
            "width": null
          }
        },
        "64bdc0c5c23046e5880f880b38dbd55f": {
          "model_module": "@jupyter-widgets/controls",
          "model_name": "ProgressStyleModel",
          "model_module_version": "1.5.0",
          "state": {
            "_model_module": "@jupyter-widgets/controls",
            "_model_module_version": "1.5.0",
            "_model_name": "ProgressStyleModel",
            "_view_count": null,
            "_view_module": "@jupyter-widgets/base",
            "_view_module_version": "1.2.0",
            "_view_name": "StyleView",
            "bar_color": null,
            "description_width": ""
          }
        },
        "ad0801c5698a4b729742e28cb44bd920": {
          "model_module": "@jupyter-widgets/base",
          "model_name": "LayoutModel",
          "model_module_version": "1.2.0",
          "state": {
            "_model_module": "@jupyter-widgets/base",
            "_model_module_version": "1.2.0",
            "_model_name": "LayoutModel",
            "_view_count": null,
            "_view_module": "@jupyter-widgets/base",
            "_view_module_version": "1.2.0",
            "_view_name": "LayoutView",
            "align_content": null,
            "align_items": null,
            "align_self": null,
            "border": null,
            "bottom": null,
            "display": null,
            "flex": null,
            "flex_flow": null,
            "grid_area": null,
            "grid_auto_columns": null,
            "grid_auto_flow": null,
            "grid_auto_rows": null,
            "grid_column": null,
            "grid_gap": null,
            "grid_row": null,
            "grid_template_areas": null,
            "grid_template_columns": null,
            "grid_template_rows": null,
            "height": null,
            "justify_content": null,
            "justify_items": null,
            "left": null,
            "margin": null,
            "max_height": null,
            "max_width": null,
            "min_height": null,
            "min_width": null,
            "object_fit": null,
            "object_position": null,
            "order": null,
            "overflow": null,
            "overflow_x": null,
            "overflow_y": null,
            "padding": null,
            "right": null,
            "top": null,
            "visibility": null,
            "width": null
          }
        },
        "35940d2e48f54f8db6e890bed38f0943": {
          "model_module": "@jupyter-widgets/controls",
          "model_name": "DescriptionStyleModel",
          "model_module_version": "1.5.0",
          "state": {
            "_model_module": "@jupyter-widgets/controls",
            "_model_module_version": "1.5.0",
            "_model_name": "DescriptionStyleModel",
            "_view_count": null,
            "_view_module": "@jupyter-widgets/base",
            "_view_module_version": "1.2.0",
            "_view_name": "StyleView",
            "description_width": ""
          }
        },
        "63d1eb80b91e4f36af3f78e824027a44": {
          "model_module": "@jupyter-widgets/controls",
          "model_name": "HBoxModel",
          "model_module_version": "1.5.0",
          "state": {
            "_dom_classes": [],
            "_model_module": "@jupyter-widgets/controls",
            "_model_module_version": "1.5.0",
            "_model_name": "HBoxModel",
            "_view_count": null,
            "_view_module": "@jupyter-widgets/controls",
            "_view_module_version": "1.5.0",
            "_view_name": "HBoxView",
            "box_style": "",
            "children": [
              "IPY_MODEL_82a6c3b21c5b43c2bc3800be8ebcb7c7",
              "IPY_MODEL_0aa7cf37ae2640d598787068104f362d",
              "IPY_MODEL_81e7d54f80fc4b0695827f7a812b6a2e"
            ],
            "layout": "IPY_MODEL_c2267ffc9467405daa14e4c3ba37949c"
          }
        },
        "82a6c3b21c5b43c2bc3800be8ebcb7c7": {
          "model_module": "@jupyter-widgets/controls",
          "model_name": "HTMLModel",
          "model_module_version": "1.5.0",
          "state": {
            "_dom_classes": [],
            "_model_module": "@jupyter-widgets/controls",
            "_model_module_version": "1.5.0",
            "_model_name": "HTMLModel",
            "_view_count": null,
            "_view_module": "@jupyter-widgets/controls",
            "_view_module_version": "1.5.0",
            "_view_name": "HTMLView",
            "description": "",
            "description_tooltip": null,
            "layout": "IPY_MODEL_6fd35c4a30c74f9781a7aad356e32482",
            "placeholder": "​",
            "style": "IPY_MODEL_f29ad15928e24a6e99be4d6c5a971900",
            "value": "Loading checkpoint shards: 100%"
          }
        },
        "0aa7cf37ae2640d598787068104f362d": {
          "model_module": "@jupyter-widgets/controls",
          "model_name": "FloatProgressModel",
          "model_module_version": "1.5.0",
          "state": {
            "_dom_classes": [],
            "_model_module": "@jupyter-widgets/controls",
            "_model_module_version": "1.5.0",
            "_model_name": "FloatProgressModel",
            "_view_count": null,
            "_view_module": "@jupyter-widgets/controls",
            "_view_module_version": "1.5.0",
            "_view_name": "ProgressView",
            "bar_style": "success",
            "description": "",
            "description_tooltip": null,
            "layout": "IPY_MODEL_892bfa4283524afcaa05719e353e2dab",
            "max": 2,
            "min": 0,
            "orientation": "horizontal",
            "style": "IPY_MODEL_537b06933a1b4aeb871dbbc79d357600",
            "value": 2
          }
        },
        "81e7d54f80fc4b0695827f7a812b6a2e": {
          "model_module": "@jupyter-widgets/controls",
          "model_name": "HTMLModel",
          "model_module_version": "1.5.0",
          "state": {
            "_dom_classes": [],
            "_model_module": "@jupyter-widgets/controls",
            "_model_module_version": "1.5.0",
            "_model_name": "HTMLModel",
            "_view_count": null,
            "_view_module": "@jupyter-widgets/controls",
            "_view_module_version": "1.5.0",
            "_view_name": "HTMLView",
            "description": "",
            "description_tooltip": null,
            "layout": "IPY_MODEL_017bf15360fa47b9b49ce6e56d1cd0f6",
            "placeholder": "​",
            "style": "IPY_MODEL_ddb92fe9b1ee4e34b361dfe0d36339b4",
            "value": " 2/2 [00:36&lt;00:00, 17.21s/it]"
          }
        },
        "c2267ffc9467405daa14e4c3ba37949c": {
          "model_module": "@jupyter-widgets/base",
          "model_name": "LayoutModel",
          "model_module_version": "1.2.0",
          "state": {
            "_model_module": "@jupyter-widgets/base",
            "_model_module_version": "1.2.0",
            "_model_name": "LayoutModel",
            "_view_count": null,
            "_view_module": "@jupyter-widgets/base",
            "_view_module_version": "1.2.0",
            "_view_name": "LayoutView",
            "align_content": null,
            "align_items": null,
            "align_self": null,
            "border": null,
            "bottom": null,
            "display": null,
            "flex": null,
            "flex_flow": null,
            "grid_area": null,
            "grid_auto_columns": null,
            "grid_auto_flow": null,
            "grid_auto_rows": null,
            "grid_column": null,
            "grid_gap": null,
            "grid_row": null,
            "grid_template_areas": null,
            "grid_template_columns": null,
            "grid_template_rows": null,
            "height": null,
            "justify_content": null,
            "justify_items": null,
            "left": null,
            "margin": null,
            "max_height": null,
            "max_width": null,
            "min_height": null,
            "min_width": null,
            "object_fit": null,
            "object_position": null,
            "order": null,
            "overflow": null,
            "overflow_x": null,
            "overflow_y": null,
            "padding": null,
            "right": null,
            "top": null,
            "visibility": null,
            "width": null
          }
        },
        "6fd35c4a30c74f9781a7aad356e32482": {
          "model_module": "@jupyter-widgets/base",
          "model_name": "LayoutModel",
          "model_module_version": "1.2.0",
          "state": {
            "_model_module": "@jupyter-widgets/base",
            "_model_module_version": "1.2.0",
            "_model_name": "LayoutModel",
            "_view_count": null,
            "_view_module": "@jupyter-widgets/base",
            "_view_module_version": "1.2.0",
            "_view_name": "LayoutView",
            "align_content": null,
            "align_items": null,
            "align_self": null,
            "border": null,
            "bottom": null,
            "display": null,
            "flex": null,
            "flex_flow": null,
            "grid_area": null,
            "grid_auto_columns": null,
            "grid_auto_flow": null,
            "grid_auto_rows": null,
            "grid_column": null,
            "grid_gap": null,
            "grid_row": null,
            "grid_template_areas": null,
            "grid_template_columns": null,
            "grid_template_rows": null,
            "height": null,
            "justify_content": null,
            "justify_items": null,
            "left": null,
            "margin": null,
            "max_height": null,
            "max_width": null,
            "min_height": null,
            "min_width": null,
            "object_fit": null,
            "object_position": null,
            "order": null,
            "overflow": null,
            "overflow_x": null,
            "overflow_y": null,
            "padding": null,
            "right": null,
            "top": null,
            "visibility": null,
            "width": null
          }
        },
        "f29ad15928e24a6e99be4d6c5a971900": {
          "model_module": "@jupyter-widgets/controls",
          "model_name": "DescriptionStyleModel",
          "model_module_version": "1.5.0",
          "state": {
            "_model_module": "@jupyter-widgets/controls",
            "_model_module_version": "1.5.0",
            "_model_name": "DescriptionStyleModel",
            "_view_count": null,
            "_view_module": "@jupyter-widgets/base",
            "_view_module_version": "1.2.0",
            "_view_name": "StyleView",
            "description_width": ""
          }
        },
        "892bfa4283524afcaa05719e353e2dab": {
          "model_module": "@jupyter-widgets/base",
          "model_name": "LayoutModel",
          "model_module_version": "1.2.0",
          "state": {
            "_model_module": "@jupyter-widgets/base",
            "_model_module_version": "1.2.0",
            "_model_name": "LayoutModel",
            "_view_count": null,
            "_view_module": "@jupyter-widgets/base",
            "_view_module_version": "1.2.0",
            "_view_name": "LayoutView",
            "align_content": null,
            "align_items": null,
            "align_self": null,
            "border": null,
            "bottom": null,
            "display": null,
            "flex": null,
            "flex_flow": null,
            "grid_area": null,
            "grid_auto_columns": null,
            "grid_auto_flow": null,
            "grid_auto_rows": null,
            "grid_column": null,
            "grid_gap": null,
            "grid_row": null,
            "grid_template_areas": null,
            "grid_template_columns": null,
            "grid_template_rows": null,
            "height": null,
            "justify_content": null,
            "justify_items": null,
            "left": null,
            "margin": null,
            "max_height": null,
            "max_width": null,
            "min_height": null,
            "min_width": null,
            "object_fit": null,
            "object_position": null,
            "order": null,
            "overflow": null,
            "overflow_x": null,
            "overflow_y": null,
            "padding": null,
            "right": null,
            "top": null,
            "visibility": null,
            "width": null
          }
        },
        "537b06933a1b4aeb871dbbc79d357600": {
          "model_module": "@jupyter-widgets/controls",
          "model_name": "ProgressStyleModel",
          "model_module_version": "1.5.0",
          "state": {
            "_model_module": "@jupyter-widgets/controls",
            "_model_module_version": "1.5.0",
            "_model_name": "ProgressStyleModel",
            "_view_count": null,
            "_view_module": "@jupyter-widgets/base",
            "_view_module_version": "1.2.0",
            "_view_name": "StyleView",
            "bar_color": null,
            "description_width": ""
          }
        },
        "017bf15360fa47b9b49ce6e56d1cd0f6": {
          "model_module": "@jupyter-widgets/base",
          "model_name": "LayoutModel",
          "model_module_version": "1.2.0",
          "state": {
            "_model_module": "@jupyter-widgets/base",
            "_model_module_version": "1.2.0",
            "_model_name": "LayoutModel",
            "_view_count": null,
            "_view_module": "@jupyter-widgets/base",
            "_view_module_version": "1.2.0",
            "_view_name": "LayoutView",
            "align_content": null,
            "align_items": null,
            "align_self": null,
            "border": null,
            "bottom": null,
            "display": null,
            "flex": null,
            "flex_flow": null,
            "grid_area": null,
            "grid_auto_columns": null,
            "grid_auto_flow": null,
            "grid_auto_rows": null,
            "grid_column": null,
            "grid_gap": null,
            "grid_row": null,
            "grid_template_areas": null,
            "grid_template_columns": null,
            "grid_template_rows": null,
            "height": null,
            "justify_content": null,
            "justify_items": null,
            "left": null,
            "margin": null,
            "max_height": null,
            "max_width": null,
            "min_height": null,
            "min_width": null,
            "object_fit": null,
            "object_position": null,
            "order": null,
            "overflow": null,
            "overflow_x": null,
            "overflow_y": null,
            "padding": null,
            "right": null,
            "top": null,
            "visibility": null,
            "width": null
          }
        },
        "ddb92fe9b1ee4e34b361dfe0d36339b4": {
          "model_module": "@jupyter-widgets/controls",
          "model_name": "DescriptionStyleModel",
          "model_module_version": "1.5.0",
          "state": {
            "_model_module": "@jupyter-widgets/controls",
            "_model_module_version": "1.5.0",
            "_model_name": "DescriptionStyleModel",
            "_view_count": null,
            "_view_module": "@jupyter-widgets/base",
            "_view_module_version": "1.2.0",
            "_view_name": "StyleView",
            "description_width": ""
          }
        },
        "41c497eabd8e4f22b2286a0c41d2ef04": {
          "model_module": "@jupyter-widgets/controls",
          "model_name": "HBoxModel",
          "model_module_version": "1.5.0",
          "state": {
            "_dom_classes": [],
            "_model_module": "@jupyter-widgets/controls",
            "_model_module_version": "1.5.0",
            "_model_name": "HBoxModel",
            "_view_count": null,
            "_view_module": "@jupyter-widgets/controls",
            "_view_module_version": "1.5.0",
            "_view_name": "HBoxView",
            "box_style": "",
            "children": [
              "IPY_MODEL_935635787c7647ffb84d52a304900ad5",
              "IPY_MODEL_c05501d77f814c55a1a0e2e011e23c52",
              "IPY_MODEL_8d7163c1444e4b8d9aeda007b14f3c19"
            ],
            "layout": "IPY_MODEL_8b29732c19a04231a82008878ff184b2"
          }
        },
        "935635787c7647ffb84d52a304900ad5": {
          "model_module": "@jupyter-widgets/controls",
          "model_name": "HTMLModel",
          "model_module_version": "1.5.0",
          "state": {
            "_dom_classes": [],
            "_model_module": "@jupyter-widgets/controls",
            "_model_module_version": "1.5.0",
            "_model_name": "HTMLModel",
            "_view_count": null,
            "_view_module": "@jupyter-widgets/controls",
            "_view_module_version": "1.5.0",
            "_view_name": "HTMLView",
            "description": "",
            "description_tooltip": null,
            "layout": "IPY_MODEL_def68d4f72b94f109e96d780fe6e9c68",
            "placeholder": "​",
            "style": "IPY_MODEL_5357b18caff1420ba9aa58c2d5a44223",
            "value": "generation_config.json: 100%"
          }
        },
        "c05501d77f814c55a1a0e2e011e23c52": {
          "model_module": "@jupyter-widgets/controls",
          "model_name": "FloatProgressModel",
          "model_module_version": "1.5.0",
          "state": {
            "_dom_classes": [],
            "_model_module": "@jupyter-widgets/controls",
            "_model_module_version": "1.5.0",
            "_model_name": "FloatProgressModel",
            "_view_count": null,
            "_view_module": "@jupyter-widgets/controls",
            "_view_module_version": "1.5.0",
            "_view_name": "ProgressView",
            "bar_style": "success",
            "description": "",
            "description_tooltip": null,
            "layout": "IPY_MODEL_7d7409b683d747439a054ef4d30426d2",
            "max": 181,
            "min": 0,
            "orientation": "horizontal",
            "style": "IPY_MODEL_7b6e61d02bdc4b0ca8ec56f629c2248f",
            "value": 181
          }
        },
        "8d7163c1444e4b8d9aeda007b14f3c19": {
          "model_module": "@jupyter-widgets/controls",
          "model_name": "HTMLModel",
          "model_module_version": "1.5.0",
          "state": {
            "_dom_classes": [],
            "_model_module": "@jupyter-widgets/controls",
            "_model_module_version": "1.5.0",
            "_model_name": "HTMLModel",
            "_view_count": null,
            "_view_module": "@jupyter-widgets/controls",
            "_view_module_version": "1.5.0",
            "_view_name": "HTMLView",
            "description": "",
            "description_tooltip": null,
            "layout": "IPY_MODEL_f1f37e59486e43689dc7d2dc11ac6a4f",
            "placeholder": "​",
            "style": "IPY_MODEL_c2a4f34266334ac4b3354a71b637b400",
            "value": " 181/181 [00:00&lt;00:00, 20.1kB/s]"
          }
        },
        "8b29732c19a04231a82008878ff184b2": {
          "model_module": "@jupyter-widgets/base",
          "model_name": "LayoutModel",
          "model_module_version": "1.2.0",
          "state": {
            "_model_module": "@jupyter-widgets/base",
            "_model_module_version": "1.2.0",
            "_model_name": "LayoutModel",
            "_view_count": null,
            "_view_module": "@jupyter-widgets/base",
            "_view_module_version": "1.2.0",
            "_view_name": "LayoutView",
            "align_content": null,
            "align_items": null,
            "align_self": null,
            "border": null,
            "bottom": null,
            "display": null,
            "flex": null,
            "flex_flow": null,
            "grid_area": null,
            "grid_auto_columns": null,
            "grid_auto_flow": null,
            "grid_auto_rows": null,
            "grid_column": null,
            "grid_gap": null,
            "grid_row": null,
            "grid_template_areas": null,
            "grid_template_columns": null,
            "grid_template_rows": null,
            "height": null,
            "justify_content": null,
            "justify_items": null,
            "left": null,
            "margin": null,
            "max_height": null,
            "max_width": null,
            "min_height": null,
            "min_width": null,
            "object_fit": null,
            "object_position": null,
            "order": null,
            "overflow": null,
            "overflow_x": null,
            "overflow_y": null,
            "padding": null,
            "right": null,
            "top": null,
            "visibility": null,
            "width": null
          }
        },
        "def68d4f72b94f109e96d780fe6e9c68": {
          "model_module": "@jupyter-widgets/base",
          "model_name": "LayoutModel",
          "model_module_version": "1.2.0",
          "state": {
            "_model_module": "@jupyter-widgets/base",
            "_model_module_version": "1.2.0",
            "_model_name": "LayoutModel",
            "_view_count": null,
            "_view_module": "@jupyter-widgets/base",
            "_view_module_version": "1.2.0",
            "_view_name": "LayoutView",
            "align_content": null,
            "align_items": null,
            "align_self": null,
            "border": null,
            "bottom": null,
            "display": null,
            "flex": null,
            "flex_flow": null,
            "grid_area": null,
            "grid_auto_columns": null,
            "grid_auto_flow": null,
            "grid_auto_rows": null,
            "grid_column": null,
            "grid_gap": null,
            "grid_row": null,
            "grid_template_areas": null,
            "grid_template_columns": null,
            "grid_template_rows": null,
            "height": null,
            "justify_content": null,
            "justify_items": null,
            "left": null,
            "margin": null,
            "max_height": null,
            "max_width": null,
            "min_height": null,
            "min_width": null,
            "object_fit": null,
            "object_position": null,
            "order": null,
            "overflow": null,
            "overflow_x": null,
            "overflow_y": null,
            "padding": null,
            "right": null,
            "top": null,
            "visibility": null,
            "width": null
          }
        },
        "5357b18caff1420ba9aa58c2d5a44223": {
          "model_module": "@jupyter-widgets/controls",
          "model_name": "DescriptionStyleModel",
          "model_module_version": "1.5.0",
          "state": {
            "_model_module": "@jupyter-widgets/controls",
            "_model_module_version": "1.5.0",
            "_model_name": "DescriptionStyleModel",
            "_view_count": null,
            "_view_module": "@jupyter-widgets/base",
            "_view_module_version": "1.2.0",
            "_view_name": "StyleView",
            "description_width": ""
          }
        },
        "7d7409b683d747439a054ef4d30426d2": {
          "model_module": "@jupyter-widgets/base",
          "model_name": "LayoutModel",
          "model_module_version": "1.2.0",
          "state": {
            "_model_module": "@jupyter-widgets/base",
            "_model_module_version": "1.2.0",
            "_model_name": "LayoutModel",
            "_view_count": null,
            "_view_module": "@jupyter-widgets/base",
            "_view_module_version": "1.2.0",
            "_view_name": "LayoutView",
            "align_content": null,
            "align_items": null,
            "align_self": null,
            "border": null,
            "bottom": null,
            "display": null,
            "flex": null,
            "flex_flow": null,
            "grid_area": null,
            "grid_auto_columns": null,
            "grid_auto_flow": null,
            "grid_auto_rows": null,
            "grid_column": null,
            "grid_gap": null,
            "grid_row": null,
            "grid_template_areas": null,
            "grid_template_columns": null,
            "grid_template_rows": null,
            "height": null,
            "justify_content": null,
            "justify_items": null,
            "left": null,
            "margin": null,
            "max_height": null,
            "max_width": null,
            "min_height": null,
            "min_width": null,
            "object_fit": null,
            "object_position": null,
            "order": null,
            "overflow": null,
            "overflow_x": null,
            "overflow_y": null,
            "padding": null,
            "right": null,
            "top": null,
            "visibility": null,
            "width": null
          }
        },
        "7b6e61d02bdc4b0ca8ec56f629c2248f": {
          "model_module": "@jupyter-widgets/controls",
          "model_name": "ProgressStyleModel",
          "model_module_version": "1.5.0",
          "state": {
            "_model_module": "@jupyter-widgets/controls",
            "_model_module_version": "1.5.0",
            "_model_name": "ProgressStyleModel",
            "_view_count": null,
            "_view_module": "@jupyter-widgets/base",
            "_view_module_version": "1.2.0",
            "_view_name": "StyleView",
            "bar_color": null,
            "description_width": ""
          }
        },
        "f1f37e59486e43689dc7d2dc11ac6a4f": {
          "model_module": "@jupyter-widgets/base",
          "model_name": "LayoutModel",
          "model_module_version": "1.2.0",
          "state": {
            "_model_module": "@jupyter-widgets/base",
            "_model_module_version": "1.2.0",
            "_model_name": "LayoutModel",
            "_view_count": null,
            "_view_module": "@jupyter-widgets/base",
            "_view_module_version": "1.2.0",
            "_view_name": "LayoutView",
            "align_content": null,
            "align_items": null,
            "align_self": null,
            "border": null,
            "bottom": null,
            "display": null,
            "flex": null,
            "flex_flow": null,
            "grid_area": null,
            "grid_auto_columns": null,
            "grid_auto_flow": null,
            "grid_auto_rows": null,
            "grid_column": null,
            "grid_gap": null,
            "grid_row": null,
            "grid_template_areas": null,
            "grid_template_columns": null,
            "grid_template_rows": null,
            "height": null,
            "justify_content": null,
            "justify_items": null,
            "left": null,
            "margin": null,
            "max_height": null,
            "max_width": null,
            "min_height": null,
            "min_width": null,
            "object_fit": null,
            "object_position": null,
            "order": null,
            "overflow": null,
            "overflow_x": null,
            "overflow_y": null,
            "padding": null,
            "right": null,
            "top": null,
            "visibility": null,
            "width": null
          }
        },
        "c2a4f34266334ac4b3354a71b637b400": {
          "model_module": "@jupyter-widgets/controls",
          "model_name": "DescriptionStyleModel",
          "model_module_version": "1.5.0",
          "state": {
            "_model_module": "@jupyter-widgets/controls",
            "_model_module_version": "1.5.0",
            "_model_name": "DescriptionStyleModel",
            "_view_count": null,
            "_view_module": "@jupyter-widgets/base",
            "_view_module_version": "1.2.0",
            "_view_name": "StyleView",
            "description_width": ""
          }
        },
        "6cd3fb59c9ef4ec1b537cf1777e9510f": {
          "model_module": "@jupyter-widgets/controls",
          "model_name": "HBoxModel",
          "model_module_version": "1.5.0",
          "state": {
            "_dom_classes": [],
            "_model_module": "@jupyter-widgets/controls",
            "_model_module_version": "1.5.0",
            "_model_name": "HBoxModel",
            "_view_count": null,
            "_view_module": "@jupyter-widgets/controls",
            "_view_module_version": "1.5.0",
            "_view_name": "HBoxView",
            "box_style": "",
            "children": [
              "IPY_MODEL_45b094cfe7e941fda00fba49435f761a",
              "IPY_MODEL_ac247f4d833041eb8ae42911c840843b",
              "IPY_MODEL_abc52a37d7fe4f0aa49c02188c151ca0"
            ],
            "layout": "IPY_MODEL_511577c1460c4c42baefb84bf5905d91"
          }
        },
        "45b094cfe7e941fda00fba49435f761a": {
          "model_module": "@jupyter-widgets/controls",
          "model_name": "HTMLModel",
          "model_module_version": "1.5.0",
          "state": {
            "_dom_classes": [],
            "_model_module": "@jupyter-widgets/controls",
            "_model_module_version": "1.5.0",
            "_model_name": "HTMLModel",
            "_view_count": null,
            "_view_module": "@jupyter-widgets/controls",
            "_view_module_version": "1.5.0",
            "_view_name": "HTMLView",
            "description": "",
            "description_tooltip": null,
            "layout": "IPY_MODEL_b931ad9b93294f098cda432b5f8c09b7",
            "placeholder": "​",
            "style": "IPY_MODEL_84b747c5de304e128efc93acfd1cefac",
            "value": "tokenizer_config.json: "
          }
        },
        "ac247f4d833041eb8ae42911c840843b": {
          "model_module": "@jupyter-widgets/controls",
          "model_name": "FloatProgressModel",
          "model_module_version": "1.5.0",
          "state": {
            "_dom_classes": [],
            "_model_module": "@jupyter-widgets/controls",
            "_model_module_version": "1.5.0",
            "_model_name": "FloatProgressModel",
            "_view_count": null,
            "_view_module": "@jupyter-widgets/controls",
            "_view_module_version": "1.5.0",
            "_view_name": "ProgressView",
            "bar_style": "success",
            "description": "",
            "description_tooltip": null,
            "layout": "IPY_MODEL_fe581f4d9f6d4eb5b36e30c8d4df9426",
            "max": 1,
            "min": 0,
            "orientation": "horizontal",
            "style": "IPY_MODEL_743bc9c263054b5eac87834b7f24dd9d",
            "value": 1
          }
        },
        "abc52a37d7fe4f0aa49c02188c151ca0": {
          "model_module": "@jupyter-widgets/controls",
          "model_name": "HTMLModel",
          "model_module_version": "1.5.0",
          "state": {
            "_dom_classes": [],
            "_model_module": "@jupyter-widgets/controls",
            "_model_module_version": "1.5.0",
            "_model_name": "HTMLModel",
            "_view_count": null,
            "_view_module": "@jupyter-widgets/controls",
            "_view_module_version": "1.5.0",
            "_view_name": "HTMLView",
            "description": "",
            "description_tooltip": null,
            "layout": "IPY_MODEL_e3b81716487b4617aa97fbce98a435c9",
            "placeholder": "​",
            "style": "IPY_MODEL_ee0d954d7c884a4094351b412e8c7330",
            "value": " 3.44k/? [00:00&lt;00:00, 294kB/s]"
          }
        },
        "511577c1460c4c42baefb84bf5905d91": {
          "model_module": "@jupyter-widgets/base",
          "model_name": "LayoutModel",
          "model_module_version": "1.2.0",
          "state": {
            "_model_module": "@jupyter-widgets/base",
            "_model_module_version": "1.2.0",
            "_model_name": "LayoutModel",
            "_view_count": null,
            "_view_module": "@jupyter-widgets/base",
            "_view_module_version": "1.2.0",
            "_view_name": "LayoutView",
            "align_content": null,
            "align_items": null,
            "align_self": null,
            "border": null,
            "bottom": null,
            "display": null,
            "flex": null,
            "flex_flow": null,
            "grid_area": null,
            "grid_auto_columns": null,
            "grid_auto_flow": null,
            "grid_auto_rows": null,
            "grid_column": null,
            "grid_gap": null,
            "grid_row": null,
            "grid_template_areas": null,
            "grid_template_columns": null,
            "grid_template_rows": null,
            "height": null,
            "justify_content": null,
            "justify_items": null,
            "left": null,
            "margin": null,
            "max_height": null,
            "max_width": null,
            "min_height": null,
            "min_width": null,
            "object_fit": null,
            "object_position": null,
            "order": null,
            "overflow": null,
            "overflow_x": null,
            "overflow_y": null,
            "padding": null,
            "right": null,
            "top": null,
            "visibility": null,
            "width": null
          }
        },
        "b931ad9b93294f098cda432b5f8c09b7": {
          "model_module": "@jupyter-widgets/base",
          "model_name": "LayoutModel",
          "model_module_version": "1.2.0",
          "state": {
            "_model_module": "@jupyter-widgets/base",
            "_model_module_version": "1.2.0",
            "_model_name": "LayoutModel",
            "_view_count": null,
            "_view_module": "@jupyter-widgets/base",
            "_view_module_version": "1.2.0",
            "_view_name": "LayoutView",
            "align_content": null,
            "align_items": null,
            "align_self": null,
            "border": null,
            "bottom": null,
            "display": null,
            "flex": null,
            "flex_flow": null,
            "grid_area": null,
            "grid_auto_columns": null,
            "grid_auto_flow": null,
            "grid_auto_rows": null,
            "grid_column": null,
            "grid_gap": null,
            "grid_row": null,
            "grid_template_areas": null,
            "grid_template_columns": null,
            "grid_template_rows": null,
            "height": null,
            "justify_content": null,
            "justify_items": null,
            "left": null,
            "margin": null,
            "max_height": null,
            "max_width": null,
            "min_height": null,
            "min_width": null,
            "object_fit": null,
            "object_position": null,
            "order": null,
            "overflow": null,
            "overflow_x": null,
            "overflow_y": null,
            "padding": null,
            "right": null,
            "top": null,
            "visibility": null,
            "width": null
          }
        },
        "84b747c5de304e128efc93acfd1cefac": {
          "model_module": "@jupyter-widgets/controls",
          "model_name": "DescriptionStyleModel",
          "model_module_version": "1.5.0",
          "state": {
            "_model_module": "@jupyter-widgets/controls",
            "_model_module_version": "1.5.0",
            "_model_name": "DescriptionStyleModel",
            "_view_count": null,
            "_view_module": "@jupyter-widgets/base",
            "_view_module_version": "1.2.0",
            "_view_name": "StyleView",
            "description_width": ""
          }
        },
        "fe581f4d9f6d4eb5b36e30c8d4df9426": {
          "model_module": "@jupyter-widgets/base",
          "model_name": "LayoutModel",
          "model_module_version": "1.2.0",
          "state": {
            "_model_module": "@jupyter-widgets/base",
            "_model_module_version": "1.2.0",
            "_model_name": "LayoutModel",
            "_view_count": null,
            "_view_module": "@jupyter-widgets/base",
            "_view_module_version": "1.2.0",
            "_view_name": "LayoutView",
            "align_content": null,
            "align_items": null,
            "align_self": null,
            "border": null,
            "bottom": null,
            "display": null,
            "flex": null,
            "flex_flow": null,
            "grid_area": null,
            "grid_auto_columns": null,
            "grid_auto_flow": null,
            "grid_auto_rows": null,
            "grid_column": null,
            "grid_gap": null,
            "grid_row": null,
            "grid_template_areas": null,
            "grid_template_columns": null,
            "grid_template_rows": null,
            "height": null,
            "justify_content": null,
            "justify_items": null,
            "left": null,
            "margin": null,
            "max_height": null,
            "max_width": null,
            "min_height": null,
            "min_width": null,
            "object_fit": null,
            "object_position": null,
            "order": null,
            "overflow": null,
            "overflow_x": null,
            "overflow_y": null,
            "padding": null,
            "right": null,
            "top": null,
            "visibility": null,
            "width": "20px"
          }
        },
        "743bc9c263054b5eac87834b7f24dd9d": {
          "model_module": "@jupyter-widgets/controls",
          "model_name": "ProgressStyleModel",
          "model_module_version": "1.5.0",
          "state": {
            "_model_module": "@jupyter-widgets/controls",
            "_model_module_version": "1.5.0",
            "_model_name": "ProgressStyleModel",
            "_view_count": null,
            "_view_module": "@jupyter-widgets/base",
            "_view_module_version": "1.2.0",
            "_view_name": "StyleView",
            "bar_color": null,
            "description_width": ""
          }
        },
        "e3b81716487b4617aa97fbce98a435c9": {
          "model_module": "@jupyter-widgets/base",
          "model_name": "LayoutModel",
          "model_module_version": "1.2.0",
          "state": {
            "_model_module": "@jupyter-widgets/base",
            "_model_module_version": "1.2.0",
            "_model_name": "LayoutModel",
            "_view_count": null,
            "_view_module": "@jupyter-widgets/base",
            "_view_module_version": "1.2.0",
            "_view_name": "LayoutView",
            "align_content": null,
            "align_items": null,
            "align_self": null,
            "border": null,
            "bottom": null,
            "display": null,
            "flex": null,
            "flex_flow": null,
            "grid_area": null,
            "grid_auto_columns": null,
            "grid_auto_flow": null,
            "grid_auto_rows": null,
            "grid_column": null,
            "grid_gap": null,
            "grid_row": null,
            "grid_template_areas": null,
            "grid_template_columns": null,
            "grid_template_rows": null,
            "height": null,
            "justify_content": null,
            "justify_items": null,
            "left": null,
            "margin": null,
            "max_height": null,
            "max_width": null,
            "min_height": null,
            "min_width": null,
            "object_fit": null,
            "object_position": null,
            "order": null,
            "overflow": null,
            "overflow_x": null,
            "overflow_y": null,
            "padding": null,
            "right": null,
            "top": null,
            "visibility": null,
            "width": null
          }
        },
        "ee0d954d7c884a4094351b412e8c7330": {
          "model_module": "@jupyter-widgets/controls",
          "model_name": "DescriptionStyleModel",
          "model_module_version": "1.5.0",
          "state": {
            "_model_module": "@jupyter-widgets/controls",
            "_model_module_version": "1.5.0",
            "_model_name": "DescriptionStyleModel",
            "_view_count": null,
            "_view_module": "@jupyter-widgets/base",
            "_view_module_version": "1.2.0",
            "_view_name": "StyleView",
            "description_width": ""
          }
        },
        "60852d51d47c4fa5b28198bd87c45161": {
          "model_module": "@jupyter-widgets/controls",
          "model_name": "HBoxModel",
          "model_module_version": "1.5.0",
          "state": {
            "_dom_classes": [],
            "_model_module": "@jupyter-widgets/controls",
            "_model_module_version": "1.5.0",
            "_model_name": "HBoxModel",
            "_view_count": null,
            "_view_module": "@jupyter-widgets/controls",
            "_view_module_version": "1.5.0",
            "_view_name": "HBoxView",
            "box_style": "",
            "children": [
              "IPY_MODEL_28df7f168466402095a0d0546ad28689",
              "IPY_MODEL_a665d26c53254467a438567c81f25579",
              "IPY_MODEL_7e528a9baf69412aab74185fe9400981"
            ],
            "layout": "IPY_MODEL_264a99eb43394db69d9d6d58c7ab8ff9"
          }
        },
        "28df7f168466402095a0d0546ad28689": {
          "model_module": "@jupyter-widgets/controls",
          "model_name": "HTMLModel",
          "model_module_version": "1.5.0",
          "state": {
            "_dom_classes": [],
            "_model_module": "@jupyter-widgets/controls",
            "_model_module_version": "1.5.0",
            "_model_name": "HTMLModel",
            "_view_count": null,
            "_view_module": "@jupyter-widgets/controls",
            "_view_module_version": "1.5.0",
            "_view_name": "HTMLView",
            "description": "",
            "description_tooltip": null,
            "layout": "IPY_MODEL_5d826b61f4d54377a1e1c5746c3a09b3",
            "placeholder": "​",
            "style": "IPY_MODEL_465fa59da29d44e3ba82d4f8d20aef4d",
            "value": "tokenizer.model: 100%"
          }
        },
        "a665d26c53254467a438567c81f25579": {
          "model_module": "@jupyter-widgets/controls",
          "model_name": "FloatProgressModel",
          "model_module_version": "1.5.0",
          "state": {
            "_dom_classes": [],
            "_model_module": "@jupyter-widgets/controls",
            "_model_module_version": "1.5.0",
            "_model_name": "FloatProgressModel",
            "_view_count": null,
            "_view_module": "@jupyter-widgets/controls",
            "_view_module_version": "1.5.0",
            "_view_name": "ProgressView",
            "bar_style": "success",
            "description": "",
            "description_tooltip": null,
            "layout": "IPY_MODEL_64dae89482204884a14705c2bacf8d47",
            "max": 499723,
            "min": 0,
            "orientation": "horizontal",
            "style": "IPY_MODEL_37d4b34ed76946359a5bc1a46f36d69e",
            "value": 499723
          }
        },
        "7e528a9baf69412aab74185fe9400981": {
          "model_module": "@jupyter-widgets/controls",
          "model_name": "HTMLModel",
          "model_module_version": "1.5.0",
          "state": {
            "_dom_classes": [],
            "_model_module": "@jupyter-widgets/controls",
            "_model_module_version": "1.5.0",
            "_model_name": "HTMLModel",
            "_view_count": null,
            "_view_module": "@jupyter-widgets/controls",
            "_view_module_version": "1.5.0",
            "_view_name": "HTMLView",
            "description": "",
            "description_tooltip": null,
            "layout": "IPY_MODEL_d03b09a2b509421f940032c9e6269f30",
            "placeholder": "​",
            "style": "IPY_MODEL_471bb3b3c73f4086a1997cf3207977d9",
            "value": " 500k/500k [00:01&lt;00:00, 334kB/s]"
          }
        },
        "264a99eb43394db69d9d6d58c7ab8ff9": {
          "model_module": "@jupyter-widgets/base",
          "model_name": "LayoutModel",
          "model_module_version": "1.2.0",
          "state": {
            "_model_module": "@jupyter-widgets/base",
            "_model_module_version": "1.2.0",
            "_model_name": "LayoutModel",
            "_view_count": null,
            "_view_module": "@jupyter-widgets/base",
            "_view_module_version": "1.2.0",
            "_view_name": "LayoutView",
            "align_content": null,
            "align_items": null,
            "align_self": null,
            "border": null,
            "bottom": null,
            "display": null,
            "flex": null,
            "flex_flow": null,
            "grid_area": null,
            "grid_auto_columns": null,
            "grid_auto_flow": null,
            "grid_auto_rows": null,
            "grid_column": null,
            "grid_gap": null,
            "grid_row": null,
            "grid_template_areas": null,
            "grid_template_columns": null,
            "grid_template_rows": null,
            "height": null,
            "justify_content": null,
            "justify_items": null,
            "left": null,
            "margin": null,
            "max_height": null,
            "max_width": null,
            "min_height": null,
            "min_width": null,
            "object_fit": null,
            "object_position": null,
            "order": null,
            "overflow": null,
            "overflow_x": null,
            "overflow_y": null,
            "padding": null,
            "right": null,
            "top": null,
            "visibility": null,
            "width": null
          }
        },
        "5d826b61f4d54377a1e1c5746c3a09b3": {
          "model_module": "@jupyter-widgets/base",
          "model_name": "LayoutModel",
          "model_module_version": "1.2.0",
          "state": {
            "_model_module": "@jupyter-widgets/base",
            "_model_module_version": "1.2.0",
            "_model_name": "LayoutModel",
            "_view_count": null,
            "_view_module": "@jupyter-widgets/base",
            "_view_module_version": "1.2.0",
            "_view_name": "LayoutView",
            "align_content": null,
            "align_items": null,
            "align_self": null,
            "border": null,
            "bottom": null,
            "display": null,
            "flex": null,
            "flex_flow": null,
            "grid_area": null,
            "grid_auto_columns": null,
            "grid_auto_flow": null,
            "grid_auto_rows": null,
            "grid_column": null,
            "grid_gap": null,
            "grid_row": null,
            "grid_template_areas": null,
            "grid_template_columns": null,
            "grid_template_rows": null,
            "height": null,
            "justify_content": null,
            "justify_items": null,
            "left": null,
            "margin": null,
            "max_height": null,
            "max_width": null,
            "min_height": null,
            "min_width": null,
            "object_fit": null,
            "object_position": null,
            "order": null,
            "overflow": null,
            "overflow_x": null,
            "overflow_y": null,
            "padding": null,
            "right": null,
            "top": null,
            "visibility": null,
            "width": null
          }
        },
        "465fa59da29d44e3ba82d4f8d20aef4d": {
          "model_module": "@jupyter-widgets/controls",
          "model_name": "DescriptionStyleModel",
          "model_module_version": "1.5.0",
          "state": {
            "_model_module": "@jupyter-widgets/controls",
            "_model_module_version": "1.5.0",
            "_model_name": "DescriptionStyleModel",
            "_view_count": null,
            "_view_module": "@jupyter-widgets/base",
            "_view_module_version": "1.2.0",
            "_view_name": "StyleView",
            "description_width": ""
          }
        },
        "64dae89482204884a14705c2bacf8d47": {
          "model_module": "@jupyter-widgets/base",
          "model_name": "LayoutModel",
          "model_module_version": "1.2.0",
          "state": {
            "_model_module": "@jupyter-widgets/base",
            "_model_module_version": "1.2.0",
            "_model_name": "LayoutModel",
            "_view_count": null,
            "_view_module": "@jupyter-widgets/base",
            "_view_module_version": "1.2.0",
            "_view_name": "LayoutView",
            "align_content": null,
            "align_items": null,
            "align_self": null,
            "border": null,
            "bottom": null,
            "display": null,
            "flex": null,
            "flex_flow": null,
            "grid_area": null,
            "grid_auto_columns": null,
            "grid_auto_flow": null,
            "grid_auto_rows": null,
            "grid_column": null,
            "grid_gap": null,
            "grid_row": null,
            "grid_template_areas": null,
            "grid_template_columns": null,
            "grid_template_rows": null,
            "height": null,
            "justify_content": null,
            "justify_items": null,
            "left": null,
            "margin": null,
            "max_height": null,
            "max_width": null,
            "min_height": null,
            "min_width": null,
            "object_fit": null,
            "object_position": null,
            "order": null,
            "overflow": null,
            "overflow_x": null,
            "overflow_y": null,
            "padding": null,
            "right": null,
            "top": null,
            "visibility": null,
            "width": null
          }
        },
        "37d4b34ed76946359a5bc1a46f36d69e": {
          "model_module": "@jupyter-widgets/controls",
          "model_name": "ProgressStyleModel",
          "model_module_version": "1.5.0",
          "state": {
            "_model_module": "@jupyter-widgets/controls",
            "_model_module_version": "1.5.0",
            "_model_name": "ProgressStyleModel",
            "_view_count": null,
            "_view_module": "@jupyter-widgets/base",
            "_view_module_version": "1.2.0",
            "_view_name": "StyleView",
            "bar_color": null,
            "description_width": ""
          }
        },
        "d03b09a2b509421f940032c9e6269f30": {
          "model_module": "@jupyter-widgets/base",
          "model_name": "LayoutModel",
          "model_module_version": "1.2.0",
          "state": {
            "_model_module": "@jupyter-widgets/base",
            "_model_module_version": "1.2.0",
            "_model_name": "LayoutModel",
            "_view_count": null,
            "_view_module": "@jupyter-widgets/base",
            "_view_module_version": "1.2.0",
            "_view_name": "LayoutView",
            "align_content": null,
            "align_items": null,
            "align_self": null,
            "border": null,
            "bottom": null,
            "display": null,
            "flex": null,
            "flex_flow": null,
            "grid_area": null,
            "grid_auto_columns": null,
            "grid_auto_flow": null,
            "grid_auto_rows": null,
            "grid_column": null,
            "grid_gap": null,
            "grid_row": null,
            "grid_template_areas": null,
            "grid_template_columns": null,
            "grid_template_rows": null,
            "height": null,
            "justify_content": null,
            "justify_items": null,
            "left": null,
            "margin": null,
            "max_height": null,
            "max_width": null,
            "min_height": null,
            "min_width": null,
            "object_fit": null,
            "object_position": null,
            "order": null,
            "overflow": null,
            "overflow_x": null,
            "overflow_y": null,
            "padding": null,
            "right": null,
            "top": null,
            "visibility": null,
            "width": null
          }
        },
        "471bb3b3c73f4086a1997cf3207977d9": {
          "model_module": "@jupyter-widgets/controls",
          "model_name": "DescriptionStyleModel",
          "model_module_version": "1.5.0",
          "state": {
            "_model_module": "@jupyter-widgets/controls",
            "_model_module_version": "1.5.0",
            "_model_name": "DescriptionStyleModel",
            "_view_count": null,
            "_view_module": "@jupyter-widgets/base",
            "_view_module_version": "1.2.0",
            "_view_name": "StyleView",
            "description_width": ""
          }
        },
        "50e5b3e3beaf4fb3bd7f92d27eb0d83e": {
          "model_module": "@jupyter-widgets/controls",
          "model_name": "HBoxModel",
          "model_module_version": "1.5.0",
          "state": {
            "_dom_classes": [],
            "_model_module": "@jupyter-widgets/controls",
            "_model_module_version": "1.5.0",
            "_model_name": "HBoxModel",
            "_view_count": null,
            "_view_module": "@jupyter-widgets/controls",
            "_view_module_version": "1.5.0",
            "_view_name": "HBoxView",
            "box_style": "",
            "children": [
              "IPY_MODEL_eea824957ec14e52bdea070ffb31c682",
              "IPY_MODEL_4151c8725246413f8cb2689686988c9d",
              "IPY_MODEL_ed54bae6a227424bad2448b355bdc9a8"
            ],
            "layout": "IPY_MODEL_6d58d5a2005e432fa35e305400fe6a4a"
          }
        },
        "eea824957ec14e52bdea070ffb31c682": {
          "model_module": "@jupyter-widgets/controls",
          "model_name": "HTMLModel",
          "model_module_version": "1.5.0",
          "state": {
            "_dom_classes": [],
            "_model_module": "@jupyter-widgets/controls",
            "_model_module_version": "1.5.0",
            "_model_name": "HTMLModel",
            "_view_count": null,
            "_view_module": "@jupyter-widgets/controls",
            "_view_module_version": "1.5.0",
            "_view_name": "HTMLView",
            "description": "",
            "description_tooltip": null,
            "layout": "IPY_MODEL_101d9e25d26f480092f7df0aab8c2300",
            "placeholder": "​",
            "style": "IPY_MODEL_7a80b662a3fc4b53a20078877db80bfd",
            "value": "tokenizer.json: "
          }
        },
        "4151c8725246413f8cb2689686988c9d": {
          "model_module": "@jupyter-widgets/controls",
          "model_name": "FloatProgressModel",
          "model_module_version": "1.5.0",
          "state": {
            "_dom_classes": [],
            "_model_module": "@jupyter-widgets/controls",
            "_model_module_version": "1.5.0",
            "_model_name": "FloatProgressModel",
            "_view_count": null,
            "_view_module": "@jupyter-widgets/controls",
            "_view_module_version": "1.5.0",
            "_view_name": "ProgressView",
            "bar_style": "success",
            "description": "",
            "description_tooltip": null,
            "layout": "IPY_MODEL_55eb90ce839b4e3b9ca54faa1aa46afa",
            "max": 1,
            "min": 0,
            "orientation": "horizontal",
            "style": "IPY_MODEL_2c643367b0c34eacb1739f426f245b29",
            "value": 1
          }
        },
        "ed54bae6a227424bad2448b355bdc9a8": {
          "model_module": "@jupyter-widgets/controls",
          "model_name": "HTMLModel",
          "model_module_version": "1.5.0",
          "state": {
            "_dom_classes": [],
            "_model_module": "@jupyter-widgets/controls",
            "_model_module_version": "1.5.0",
            "_model_name": "HTMLModel",
            "_view_count": null,
            "_view_module": "@jupyter-widgets/controls",
            "_view_module_version": "1.5.0",
            "_view_name": "HTMLView",
            "description": "",
            "description_tooltip": null,
            "layout": "IPY_MODEL_117fc6bfcba1415d9b51dd63cfb7e6c9",
            "placeholder": "​",
            "style": "IPY_MODEL_405a02d644524198b6da3a6e445d7bbb",
            "value": " 1.94M/? [00:00&lt;00:00, 44.1MB/s]"
          }
        },
        "6d58d5a2005e432fa35e305400fe6a4a": {
          "model_module": "@jupyter-widgets/base",
          "model_name": "LayoutModel",
          "model_module_version": "1.2.0",
          "state": {
            "_model_module": "@jupyter-widgets/base",
            "_model_module_version": "1.2.0",
            "_model_name": "LayoutModel",
            "_view_count": null,
            "_view_module": "@jupyter-widgets/base",
            "_view_module_version": "1.2.0",
            "_view_name": "LayoutView",
            "align_content": null,
            "align_items": null,
            "align_self": null,
            "border": null,
            "bottom": null,
            "display": null,
            "flex": null,
            "flex_flow": null,
            "grid_area": null,
            "grid_auto_columns": null,
            "grid_auto_flow": null,
            "grid_auto_rows": null,
            "grid_column": null,
            "grid_gap": null,
            "grid_row": null,
            "grid_template_areas": null,
            "grid_template_columns": null,
            "grid_template_rows": null,
            "height": null,
            "justify_content": null,
            "justify_items": null,
            "left": null,
            "margin": null,
            "max_height": null,
            "max_width": null,
            "min_height": null,
            "min_width": null,
            "object_fit": null,
            "object_position": null,
            "order": null,
            "overflow": null,
            "overflow_x": null,
            "overflow_y": null,
            "padding": null,
            "right": null,
            "top": null,
            "visibility": null,
            "width": null
          }
        },
        "101d9e25d26f480092f7df0aab8c2300": {
          "model_module": "@jupyter-widgets/base",
          "model_name": "LayoutModel",
          "model_module_version": "1.2.0",
          "state": {
            "_model_module": "@jupyter-widgets/base",
            "_model_module_version": "1.2.0",
            "_model_name": "LayoutModel",
            "_view_count": null,
            "_view_module": "@jupyter-widgets/base",
            "_view_module_version": "1.2.0",
            "_view_name": "LayoutView",
            "align_content": null,
            "align_items": null,
            "align_self": null,
            "border": null,
            "bottom": null,
            "display": null,
            "flex": null,
            "flex_flow": null,
            "grid_area": null,
            "grid_auto_columns": null,
            "grid_auto_flow": null,
            "grid_auto_rows": null,
            "grid_column": null,
            "grid_gap": null,
            "grid_row": null,
            "grid_template_areas": null,
            "grid_template_columns": null,
            "grid_template_rows": null,
            "height": null,
            "justify_content": null,
            "justify_items": null,
            "left": null,
            "margin": null,
            "max_height": null,
            "max_width": null,
            "min_height": null,
            "min_width": null,
            "object_fit": null,
            "object_position": null,
            "order": null,
            "overflow": null,
            "overflow_x": null,
            "overflow_y": null,
            "padding": null,
            "right": null,
            "top": null,
            "visibility": null,
            "width": null
          }
        },
        "7a80b662a3fc4b53a20078877db80bfd": {
          "model_module": "@jupyter-widgets/controls",
          "model_name": "DescriptionStyleModel",
          "model_module_version": "1.5.0",
          "state": {
            "_model_module": "@jupyter-widgets/controls",
            "_model_module_version": "1.5.0",
            "_model_name": "DescriptionStyleModel",
            "_view_count": null,
            "_view_module": "@jupyter-widgets/base",
            "_view_module_version": "1.2.0",
            "_view_name": "StyleView",
            "description_width": ""
          }
        },
        "55eb90ce839b4e3b9ca54faa1aa46afa": {
          "model_module": "@jupyter-widgets/base",
          "model_name": "LayoutModel",
          "model_module_version": "1.2.0",
          "state": {
            "_model_module": "@jupyter-widgets/base",
            "_model_module_version": "1.2.0",
            "_model_name": "LayoutModel",
            "_view_count": null,
            "_view_module": "@jupyter-widgets/base",
            "_view_module_version": "1.2.0",
            "_view_name": "LayoutView",
            "align_content": null,
            "align_items": null,
            "align_self": null,
            "border": null,
            "bottom": null,
            "display": null,
            "flex": null,
            "flex_flow": null,
            "grid_area": null,
            "grid_auto_columns": null,
            "grid_auto_flow": null,
            "grid_auto_rows": null,
            "grid_column": null,
            "grid_gap": null,
            "grid_row": null,
            "grid_template_areas": null,
            "grid_template_columns": null,
            "grid_template_rows": null,
            "height": null,
            "justify_content": null,
            "justify_items": null,
            "left": null,
            "margin": null,
            "max_height": null,
            "max_width": null,
            "min_height": null,
            "min_width": null,
            "object_fit": null,
            "object_position": null,
            "order": null,
            "overflow": null,
            "overflow_x": null,
            "overflow_y": null,
            "padding": null,
            "right": null,
            "top": null,
            "visibility": null,
            "width": "20px"
          }
        },
        "2c643367b0c34eacb1739f426f245b29": {
          "model_module": "@jupyter-widgets/controls",
          "model_name": "ProgressStyleModel",
          "model_module_version": "1.5.0",
          "state": {
            "_model_module": "@jupyter-widgets/controls",
            "_model_module_version": "1.5.0",
            "_model_name": "ProgressStyleModel",
            "_view_count": null,
            "_view_module": "@jupyter-widgets/base",
            "_view_module_version": "1.2.0",
            "_view_name": "StyleView",
            "bar_color": null,
            "description_width": ""
          }
        },
        "117fc6bfcba1415d9b51dd63cfb7e6c9": {
          "model_module": "@jupyter-widgets/base",
          "model_name": "LayoutModel",
          "model_module_version": "1.2.0",
          "state": {
            "_model_module": "@jupyter-widgets/base",
            "_model_module_version": "1.2.0",
            "_model_name": "LayoutModel",
            "_view_count": null,
            "_view_module": "@jupyter-widgets/base",
            "_view_module_version": "1.2.0",
            "_view_name": "LayoutView",
            "align_content": null,
            "align_items": null,
            "align_self": null,
            "border": null,
            "bottom": null,
            "display": null,
            "flex": null,
            "flex_flow": null,
            "grid_area": null,
            "grid_auto_columns": null,
            "grid_auto_flow": null,
            "grid_auto_rows": null,
            "grid_column": null,
            "grid_gap": null,
            "grid_row": null,
            "grid_template_areas": null,
            "grid_template_columns": null,
            "grid_template_rows": null,
            "height": null,
            "justify_content": null,
            "justify_items": null,
            "left": null,
            "margin": null,
            "max_height": null,
            "max_width": null,
            "min_height": null,
            "min_width": null,
            "object_fit": null,
            "object_position": null,
            "order": null,
            "overflow": null,
            "overflow_x": null,
            "overflow_y": null,
            "padding": null,
            "right": null,
            "top": null,
            "visibility": null,
            "width": null
          }
        },
        "405a02d644524198b6da3a6e445d7bbb": {
          "model_module": "@jupyter-widgets/controls",
          "model_name": "DescriptionStyleModel",
          "model_module_version": "1.5.0",
          "state": {
            "_model_module": "@jupyter-widgets/controls",
            "_model_module_version": "1.5.0",
            "_model_name": "DescriptionStyleModel",
            "_view_count": null,
            "_view_module": "@jupyter-widgets/base",
            "_view_module_version": "1.2.0",
            "_view_name": "StyleView",
            "description_width": ""
          }
        },
        "4a17dd68eb9a4d04a9f8c222279ca43a": {
          "model_module": "@jupyter-widgets/controls",
          "model_name": "HBoxModel",
          "model_module_version": "1.5.0",
          "state": {
            "_dom_classes": [],
            "_model_module": "@jupyter-widgets/controls",
            "_model_module_version": "1.5.0",
            "_model_name": "HBoxModel",
            "_view_count": null,
            "_view_module": "@jupyter-widgets/controls",
            "_view_module_version": "1.5.0",
            "_view_name": "HBoxView",
            "box_style": "",
            "children": [
              "IPY_MODEL_3f946f90f1d04a43a03fad2f2e88b094",
              "IPY_MODEL_fc68b02f01bf4e89974bf2b544ea4da1",
              "IPY_MODEL_72cfb03df9b148a6af25b2bf91aae478"
            ],
            "layout": "IPY_MODEL_125d3e7bec2841138d2954ea05dfcd57"
          }
        },
        "3f946f90f1d04a43a03fad2f2e88b094": {
          "model_module": "@jupyter-widgets/controls",
          "model_name": "HTMLModel",
          "model_module_version": "1.5.0",
          "state": {
            "_dom_classes": [],
            "_model_module": "@jupyter-widgets/controls",
            "_model_module_version": "1.5.0",
            "_model_name": "HTMLModel",
            "_view_count": null,
            "_view_module": "@jupyter-widgets/controls",
            "_view_module_version": "1.5.0",
            "_view_name": "HTMLView",
            "description": "",
            "description_tooltip": null,
            "layout": "IPY_MODEL_99112dc481d44a929643094486eabd00",
            "placeholder": "​",
            "style": "IPY_MODEL_df8b8d34af5f43d693af20339bbf43e8",
            "value": "added_tokens.json: 100%"
          }
        },
        "fc68b02f01bf4e89974bf2b544ea4da1": {
          "model_module": "@jupyter-widgets/controls",
          "model_name": "FloatProgressModel",
          "model_module_version": "1.5.0",
          "state": {
            "_dom_classes": [],
            "_model_module": "@jupyter-widgets/controls",
            "_model_module_version": "1.5.0",
            "_model_name": "FloatProgressModel",
            "_view_count": null,
            "_view_module": "@jupyter-widgets/controls",
            "_view_module_version": "1.5.0",
            "_view_name": "ProgressView",
            "bar_style": "success",
            "description": "",
            "description_tooltip": null,
            "layout": "IPY_MODEL_a034e93145b54c628c9352d95e1ebd02",
            "max": 306,
            "min": 0,
            "orientation": "horizontal",
            "style": "IPY_MODEL_f08ae7839db34d2798ab1f33bf51a4e8",
            "value": 306
          }
        },
        "72cfb03df9b148a6af25b2bf91aae478": {
          "model_module": "@jupyter-widgets/controls",
          "model_name": "HTMLModel",
          "model_module_version": "1.5.0",
          "state": {
            "_dom_classes": [],
            "_model_module": "@jupyter-widgets/controls",
            "_model_module_version": "1.5.0",
            "_model_name": "HTMLModel",
            "_view_count": null,
            "_view_module": "@jupyter-widgets/controls",
            "_view_module_version": "1.5.0",
            "_view_name": "HTMLView",
            "description": "",
            "description_tooltip": null,
            "layout": "IPY_MODEL_0323a137d7574dd5bb53fda3907cc79f",
            "placeholder": "​",
            "style": "IPY_MODEL_9ab16391afac4cd1883ab2a313341347",
            "value": " 306/306 [00:00&lt;00:00, 28.1kB/s]"
          }
        },
        "125d3e7bec2841138d2954ea05dfcd57": {
          "model_module": "@jupyter-widgets/base",
          "model_name": "LayoutModel",
          "model_module_version": "1.2.0",
          "state": {
            "_model_module": "@jupyter-widgets/base",
            "_model_module_version": "1.2.0",
            "_model_name": "LayoutModel",
            "_view_count": null,
            "_view_module": "@jupyter-widgets/base",
            "_view_module_version": "1.2.0",
            "_view_name": "LayoutView",
            "align_content": null,
            "align_items": null,
            "align_self": null,
            "border": null,
            "bottom": null,
            "display": null,
            "flex": null,
            "flex_flow": null,
            "grid_area": null,
            "grid_auto_columns": null,
            "grid_auto_flow": null,
            "grid_auto_rows": null,
            "grid_column": null,
            "grid_gap": null,
            "grid_row": null,
            "grid_template_areas": null,
            "grid_template_columns": null,
            "grid_template_rows": null,
            "height": null,
            "justify_content": null,
            "justify_items": null,
            "left": null,
            "margin": null,
            "max_height": null,
            "max_width": null,
            "min_height": null,
            "min_width": null,
            "object_fit": null,
            "object_position": null,
            "order": null,
            "overflow": null,
            "overflow_x": null,
            "overflow_y": null,
            "padding": null,
            "right": null,
            "top": null,
            "visibility": null,
            "width": null
          }
        },
        "99112dc481d44a929643094486eabd00": {
          "model_module": "@jupyter-widgets/base",
          "model_name": "LayoutModel",
          "model_module_version": "1.2.0",
          "state": {
            "_model_module": "@jupyter-widgets/base",
            "_model_module_version": "1.2.0",
            "_model_name": "LayoutModel",
            "_view_count": null,
            "_view_module": "@jupyter-widgets/base",
            "_view_module_version": "1.2.0",
            "_view_name": "LayoutView",
            "align_content": null,
            "align_items": null,
            "align_self": null,
            "border": null,
            "bottom": null,
            "display": null,
            "flex": null,
            "flex_flow": null,
            "grid_area": null,
            "grid_auto_columns": null,
            "grid_auto_flow": null,
            "grid_auto_rows": null,
            "grid_column": null,
            "grid_gap": null,
            "grid_row": null,
            "grid_template_areas": null,
            "grid_template_columns": null,
            "grid_template_rows": null,
            "height": null,
            "justify_content": null,
            "justify_items": null,
            "left": null,
            "margin": null,
            "max_height": null,
            "max_width": null,
            "min_height": null,
            "min_width": null,
            "object_fit": null,
            "object_position": null,
            "order": null,
            "overflow": null,
            "overflow_x": null,
            "overflow_y": null,
            "padding": null,
            "right": null,
            "top": null,
            "visibility": null,
            "width": null
          }
        },
        "df8b8d34af5f43d693af20339bbf43e8": {
          "model_module": "@jupyter-widgets/controls",
          "model_name": "DescriptionStyleModel",
          "model_module_version": "1.5.0",
          "state": {
            "_model_module": "@jupyter-widgets/controls",
            "_model_module_version": "1.5.0",
            "_model_name": "DescriptionStyleModel",
            "_view_count": null,
            "_view_module": "@jupyter-widgets/base",
            "_view_module_version": "1.2.0",
            "_view_name": "StyleView",
            "description_width": ""
          }
        },
        "a034e93145b54c628c9352d95e1ebd02": {
          "model_module": "@jupyter-widgets/base",
          "model_name": "LayoutModel",
          "model_module_version": "1.2.0",
          "state": {
            "_model_module": "@jupyter-widgets/base",
            "_model_module_version": "1.2.0",
            "_model_name": "LayoutModel",
            "_view_count": null,
            "_view_module": "@jupyter-widgets/base",
            "_view_module_version": "1.2.0",
            "_view_name": "LayoutView",
            "align_content": null,
            "align_items": null,
            "align_self": null,
            "border": null,
            "bottom": null,
            "display": null,
            "flex": null,
            "flex_flow": null,
            "grid_area": null,
            "grid_auto_columns": null,
            "grid_auto_flow": null,
            "grid_auto_rows": null,
            "grid_column": null,
            "grid_gap": null,
            "grid_row": null,
            "grid_template_areas": null,
            "grid_template_columns": null,
            "grid_template_rows": null,
            "height": null,
            "justify_content": null,
            "justify_items": null,
            "left": null,
            "margin": null,
            "max_height": null,
            "max_width": null,
            "min_height": null,
            "min_width": null,
            "object_fit": null,
            "object_position": null,
            "order": null,
            "overflow": null,
            "overflow_x": null,
            "overflow_y": null,
            "padding": null,
            "right": null,
            "top": null,
            "visibility": null,
            "width": null
          }
        },
        "f08ae7839db34d2798ab1f33bf51a4e8": {
          "model_module": "@jupyter-widgets/controls",
          "model_name": "ProgressStyleModel",
          "model_module_version": "1.5.0",
          "state": {
            "_model_module": "@jupyter-widgets/controls",
            "_model_module_version": "1.5.0",
            "_model_name": "ProgressStyleModel",
            "_view_count": null,
            "_view_module": "@jupyter-widgets/base",
            "_view_module_version": "1.2.0",
            "_view_name": "StyleView",
            "bar_color": null,
            "description_width": ""
          }
        },
        "0323a137d7574dd5bb53fda3907cc79f": {
          "model_module": "@jupyter-widgets/base",
          "model_name": "LayoutModel",
          "model_module_version": "1.2.0",
          "state": {
            "_model_module": "@jupyter-widgets/base",
            "_model_module_version": "1.2.0",
            "_model_name": "LayoutModel",
            "_view_count": null,
            "_view_module": "@jupyter-widgets/base",
            "_view_module_version": "1.2.0",
            "_view_name": "LayoutView",
            "align_content": null,
            "align_items": null,
            "align_self": null,
            "border": null,
            "bottom": null,
            "display": null,
            "flex": null,
            "flex_flow": null,
            "grid_area": null,
            "grid_auto_columns": null,
            "grid_auto_flow": null,
            "grid_auto_rows": null,
            "grid_column": null,
            "grid_gap": null,
            "grid_row": null,
            "grid_template_areas": null,
            "grid_template_columns": null,
            "grid_template_rows": null,
            "height": null,
            "justify_content": null,
            "justify_items": null,
            "left": null,
            "margin": null,
            "max_height": null,
            "max_width": null,
            "min_height": null,
            "min_width": null,
            "object_fit": null,
            "object_position": null,
            "order": null,
            "overflow": null,
            "overflow_x": null,
            "overflow_y": null,
            "padding": null,
            "right": null,
            "top": null,
            "visibility": null,
            "width": null
          }
        },
        "9ab16391afac4cd1883ab2a313341347": {
          "model_module": "@jupyter-widgets/controls",
          "model_name": "DescriptionStyleModel",
          "model_module_version": "1.5.0",
          "state": {
            "_model_module": "@jupyter-widgets/controls",
            "_model_module_version": "1.5.0",
            "_model_name": "DescriptionStyleModel",
            "_view_count": null,
            "_view_module": "@jupyter-widgets/base",
            "_view_module_version": "1.2.0",
            "_view_name": "StyleView",
            "description_width": ""
          }
        },
        "74ccc032950c4b32a55fb37fa9e181c6": {
          "model_module": "@jupyter-widgets/controls",
          "model_name": "HBoxModel",
          "model_module_version": "1.5.0",
          "state": {
            "_dom_classes": [],
            "_model_module": "@jupyter-widgets/controls",
            "_model_module_version": "1.5.0",
            "_model_name": "HBoxModel",
            "_view_count": null,
            "_view_module": "@jupyter-widgets/controls",
            "_view_module_version": "1.5.0",
            "_view_name": "HBoxView",
            "box_style": "",
            "children": [
              "IPY_MODEL_9f41f1812a524440acaa34bbf9ef2aed",
              "IPY_MODEL_f1fce6ea144d49e49de26599e3e0995f",
              "IPY_MODEL_328f27953db14a14963ff3e0a8671152"
            ],
            "layout": "IPY_MODEL_3ea7545a08ee44bcb26c31cfad245623"
          }
        },
        "9f41f1812a524440acaa34bbf9ef2aed": {
          "model_module": "@jupyter-widgets/controls",
          "model_name": "HTMLModel",
          "model_module_version": "1.5.0",
          "state": {
            "_dom_classes": [],
            "_model_module": "@jupyter-widgets/controls",
            "_model_module_version": "1.5.0",
            "_model_name": "HTMLModel",
            "_view_count": null,
            "_view_module": "@jupyter-widgets/controls",
            "_view_module_version": "1.5.0",
            "_view_name": "HTMLView",
            "description": "",
            "description_tooltip": null,
            "layout": "IPY_MODEL_24c526ae699544ba9b3e576dd990370c",
            "placeholder": "​",
            "style": "IPY_MODEL_83440b0bec1c4d12ad421c75129b9ca8",
            "value": "special_tokens_map.json: 100%"
          }
        },
        "f1fce6ea144d49e49de26599e3e0995f": {
          "model_module": "@jupyter-widgets/controls",
          "model_name": "FloatProgressModel",
          "model_module_version": "1.5.0",
          "state": {
            "_dom_classes": [],
            "_model_module": "@jupyter-widgets/controls",
            "_model_module_version": "1.5.0",
            "_model_name": "FloatProgressModel",
            "_view_count": null,
            "_view_module": "@jupyter-widgets/controls",
            "_view_module_version": "1.5.0",
            "_view_name": "ProgressView",
            "bar_style": "success",
            "description": "",
            "description_tooltip": null,
            "layout": "IPY_MODEL_2f099979142f41d195c05768706123b0",
            "max": 599,
            "min": 0,
            "orientation": "horizontal",
            "style": "IPY_MODEL_e279f8da71af41a0a6aa8f3f67928cc1",
            "value": 599
          }
        },
        "328f27953db14a14963ff3e0a8671152": {
          "model_module": "@jupyter-widgets/controls",
          "model_name": "HTMLModel",
          "model_module_version": "1.5.0",
          "state": {
            "_dom_classes": [],
            "_model_module": "@jupyter-widgets/controls",
            "_model_module_version": "1.5.0",
            "_model_name": "HTMLModel",
            "_view_count": null,
            "_view_module": "@jupyter-widgets/controls",
            "_view_module_version": "1.5.0",
            "_view_name": "HTMLView",
            "description": "",
            "description_tooltip": null,
            "layout": "IPY_MODEL_f4afb0f2ee794b2a8ed72fe1365527e2",
            "placeholder": "​",
            "style": "IPY_MODEL_4b107b1b445e4c23af8486a4c33c08f8",
            "value": " 599/599 [00:00&lt;00:00, 81.7kB/s]"
          }
        },
        "3ea7545a08ee44bcb26c31cfad245623": {
          "model_module": "@jupyter-widgets/base",
          "model_name": "LayoutModel",
          "model_module_version": "1.2.0",
          "state": {
            "_model_module": "@jupyter-widgets/base",
            "_model_module_version": "1.2.0",
            "_model_name": "LayoutModel",
            "_view_count": null,
            "_view_module": "@jupyter-widgets/base",
            "_view_module_version": "1.2.0",
            "_view_name": "LayoutView",
            "align_content": null,
            "align_items": null,
            "align_self": null,
            "border": null,
            "bottom": null,
            "display": null,
            "flex": null,
            "flex_flow": null,
            "grid_area": null,
            "grid_auto_columns": null,
            "grid_auto_flow": null,
            "grid_auto_rows": null,
            "grid_column": null,
            "grid_gap": null,
            "grid_row": null,
            "grid_template_areas": null,
            "grid_template_columns": null,
            "grid_template_rows": null,
            "height": null,
            "justify_content": null,
            "justify_items": null,
            "left": null,
            "margin": null,
            "max_height": null,
            "max_width": null,
            "min_height": null,
            "min_width": null,
            "object_fit": null,
            "object_position": null,
            "order": null,
            "overflow": null,
            "overflow_x": null,
            "overflow_y": null,
            "padding": null,
            "right": null,
            "top": null,
            "visibility": null,
            "width": null
          }
        },
        "24c526ae699544ba9b3e576dd990370c": {
          "model_module": "@jupyter-widgets/base",
          "model_name": "LayoutModel",
          "model_module_version": "1.2.0",
          "state": {
            "_model_module": "@jupyter-widgets/base",
            "_model_module_version": "1.2.0",
            "_model_name": "LayoutModel",
            "_view_count": null,
            "_view_module": "@jupyter-widgets/base",
            "_view_module_version": "1.2.0",
            "_view_name": "LayoutView",
            "align_content": null,
            "align_items": null,
            "align_self": null,
            "border": null,
            "bottom": null,
            "display": null,
            "flex": null,
            "flex_flow": null,
            "grid_area": null,
            "grid_auto_columns": null,
            "grid_auto_flow": null,
            "grid_auto_rows": null,
            "grid_column": null,
            "grid_gap": null,
            "grid_row": null,
            "grid_template_areas": null,
            "grid_template_columns": null,
            "grid_template_rows": null,
            "height": null,
            "justify_content": null,
            "justify_items": null,
            "left": null,
            "margin": null,
            "max_height": null,
            "max_width": null,
            "min_height": null,
            "min_width": null,
            "object_fit": null,
            "object_position": null,
            "order": null,
            "overflow": null,
            "overflow_x": null,
            "overflow_y": null,
            "padding": null,
            "right": null,
            "top": null,
            "visibility": null,
            "width": null
          }
        },
        "83440b0bec1c4d12ad421c75129b9ca8": {
          "model_module": "@jupyter-widgets/controls",
          "model_name": "DescriptionStyleModel",
          "model_module_version": "1.5.0",
          "state": {
            "_model_module": "@jupyter-widgets/controls",
            "_model_module_version": "1.5.0",
            "_model_name": "DescriptionStyleModel",
            "_view_count": null,
            "_view_module": "@jupyter-widgets/base",
            "_view_module_version": "1.2.0",
            "_view_name": "StyleView",
            "description_width": ""
          }
        },
        "2f099979142f41d195c05768706123b0": {
          "model_module": "@jupyter-widgets/base",
          "model_name": "LayoutModel",
          "model_module_version": "1.2.0",
          "state": {
            "_model_module": "@jupyter-widgets/base",
            "_model_module_version": "1.2.0",
            "_model_name": "LayoutModel",
            "_view_count": null,
            "_view_module": "@jupyter-widgets/base",
            "_view_module_version": "1.2.0",
            "_view_name": "LayoutView",
            "align_content": null,
            "align_items": null,
            "align_self": null,
            "border": null,
            "bottom": null,
            "display": null,
            "flex": null,
            "flex_flow": null,
            "grid_area": null,
            "grid_auto_columns": null,
            "grid_auto_flow": null,
            "grid_auto_rows": null,
            "grid_column": null,
            "grid_gap": null,
            "grid_row": null,
            "grid_template_areas": null,
            "grid_template_columns": null,
            "grid_template_rows": null,
            "height": null,
            "justify_content": null,
            "justify_items": null,
            "left": null,
            "margin": null,
            "max_height": null,
            "max_width": null,
            "min_height": null,
            "min_width": null,
            "object_fit": null,
            "object_position": null,
            "order": null,
            "overflow": null,
            "overflow_x": null,
            "overflow_y": null,
            "padding": null,
            "right": null,
            "top": null,
            "visibility": null,
            "width": null
          }
        },
        "e279f8da71af41a0a6aa8f3f67928cc1": {
          "model_module": "@jupyter-widgets/controls",
          "model_name": "ProgressStyleModel",
          "model_module_version": "1.5.0",
          "state": {
            "_model_module": "@jupyter-widgets/controls",
            "_model_module_version": "1.5.0",
            "_model_name": "ProgressStyleModel",
            "_view_count": null,
            "_view_module": "@jupyter-widgets/base",
            "_view_module_version": "1.2.0",
            "_view_name": "StyleView",
            "bar_color": null,
            "description_width": ""
          }
        },
        "f4afb0f2ee794b2a8ed72fe1365527e2": {
          "model_module": "@jupyter-widgets/base",
          "model_name": "LayoutModel",
          "model_module_version": "1.2.0",
          "state": {
            "_model_module": "@jupyter-widgets/base",
            "_model_module_version": "1.2.0",
            "_model_name": "LayoutModel",
            "_view_count": null,
            "_view_module": "@jupyter-widgets/base",
            "_view_module_version": "1.2.0",
            "_view_name": "LayoutView",
            "align_content": null,
            "align_items": null,
            "align_self": null,
            "border": null,
            "bottom": null,
            "display": null,
            "flex": null,
            "flex_flow": null,
            "grid_area": null,
            "grid_auto_columns": null,
            "grid_auto_flow": null,
            "grid_auto_rows": null,
            "grid_column": null,
            "grid_gap": null,
            "grid_row": null,
            "grid_template_areas": null,
            "grid_template_columns": null,
            "grid_template_rows": null,
            "height": null,
            "justify_content": null,
            "justify_items": null,
            "left": null,
            "margin": null,
            "max_height": null,
            "max_width": null,
            "min_height": null,
            "min_width": null,
            "object_fit": null,
            "object_position": null,
            "order": null,
            "overflow": null,
            "overflow_x": null,
            "overflow_y": null,
            "padding": null,
            "right": null,
            "top": null,
            "visibility": null,
            "width": null
          }
        },
        "4b107b1b445e4c23af8486a4c33c08f8": {
          "model_module": "@jupyter-widgets/controls",
          "model_name": "DescriptionStyleModel",
          "model_module_version": "1.5.0",
          "state": {
            "_model_module": "@jupyter-widgets/controls",
            "_model_module_version": "1.5.0",
            "_model_name": "DescriptionStyleModel",
            "_view_count": null,
            "_view_module": "@jupyter-widgets/base",
            "_view_module_version": "1.2.0",
            "_view_name": "StyleView",
            "description_width": ""
          }
        }
      }
    }
  },
  "nbformat": 4,
  "nbformat_minor": 0
}