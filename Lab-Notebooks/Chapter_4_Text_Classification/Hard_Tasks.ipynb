{
 "cells": [
  {
   "cell_type": "markdown",
   "metadata": {
    "id": "iF8lDgqJnzyT"
   },
   "source": [
    "# Chapter 4: Text Classification - Hard Tasks\n",
    "\n",
    "This notebook tackles advanced classification challenges. You'll implement hierarchical multi-level classifiers for complex taxonomies, use active learning to minimize labeling costs, build ensemble classifiers to improve robustness, and apply transfer learning across domains. These techniques are essential for production-level NLP systems.\n"
   ]
  },
  {
   "cell_type": "markdown",
   "metadata": {
    "id": "cFpMVC20nzyW"
   },
   "source": [
    "---\n",
    "\n",
    "## Setup\n",
    "\n",
    "Run all cells in this section to set up the environment and load necessary data.\n"
   ]
  },
  {
   "cell_type": "markdown",
   "metadata": {
    "id": "0LGW2SD-c864"
   },
   "source": [
    "### [OPTIONAL] - Installing Packages on <img src=\"https://colab.google/static/images/icons/colab.png\" width=100>\n",
    "\n",
    "\n",
    "If you are viewing this notebook on Google Colab (or any other cloud vendor), you need to **uncomment and run** the following codeblock to install the dependencies for this chapter:\n",
    "\n",
    "---\n",
    "\n",
    " **NOTE**: We will want to use a GPU to run the examples in this notebook. In Google Colab, go to\n",
    "**Runtime > Change runtime type > Hardware accelerator > GPU > GPU type > T4**.\n",
    "\n",
    "---\n"
   ]
  },
  {
   "cell_type": "code",
   "execution_count": 1,
   "metadata": {
    "id": "N-PxmOIhc865"
   },
   "outputs": [],
   "source": [
    " %%capture\n",
    "!pip install transformers sentence-transformers openai\n",
    "!pip install -U datasets"
   ]
  },
  {
   "cell_type": "markdown",
   "metadata": {
    "id": "LJorXxPFnzyZ"
   },
   "source": [
    "### Data Loading\n"
   ]
  },
  {
   "cell_type": "code",
   "execution_count": 2,
   "metadata": {
    "colab": {
     "base_uri": "https://localhost:8080/",
     "height": 616,
     "referenced_widgets": [
      "05864f71430e4b828f6d4234b18beb4d",
      "823226771dbf4932ba7179341f3d6599",
      "18017308170c416f92f0659437b5ae46",
      "559edd8081144edba2d6f11c3798b995",
      "0c0d97d3718d454892403e2753667b67",
      "2aeffe55406d4228b13a6906a2c43532",
      "54880724891d4de8b67a460db592ad01",
      "a6fee69c86c74a16ba16c2f34e938dfd",
      "b2db4bc6f1e8417997e1660b4d9d8c7a",
      "52afe84c83f04455860588b0b0cd688a",
      "d88ac9900f5745dd9ae55da4ee92fc81",
      "df9eec6a378748f18df4afcb4b43cf65",
      "b73874da09874694894cba2afe855c96",
      "5ac94067cd004eab9bc7350a99945f1e",
      "8f4d42e08a8f478aba3b71b8204a588b",
      "265fd354deb047a79180bde96d62e569",
      "c39eb8c6da3f4eb898c3289c89ad4a07",
      "67ee2e7599bd4d619a9fcd0adf74fef4",
      "582a726236454b51b2297f8a54570e74",
      "f88670da371b4319b6cd6db2910356c3",
      "124315f631b04ae4b22d1c099587a7d8",
      "71eaa706e2b348f08721e70a8f3f02cf",
      "1e7a8a138dc84f43bfcd85a06bdaa807",
      "599e2d6f6cf54f3691d320fa06a68376",
      "da1afd8b1d664aafb3c7cdb0505a80c1",
      "5cca0cbb7e134b109f2607eee5a1b86f",
      "0f6cd462660e42c2821c8e29cbc81340",
      "3372fddf06e04965ae40ff0a53d2c02b",
      "f063fd5ba528452ba871501c56dfe759",
      "004f179fffe249f2aa1bd3c353eef72e",
      "a2c18b67d94046008c1bfde361039f2b",
      "cf9f8a75fcec4da0b7ea4e60cabb26a3",
      "758fa2517fe64ccaa5a08a2be5282bce",
      "f6441f70cd7348248fe609cf0a9ac3cf",
      "909944c852db423d91dc33fb77338f71",
      "e5a9303d18f4466bac0b6a0ec1aaf195",
      "14a6b05ef6d0491bbfc798a6be3f6ccc",
      "1b54827988e2414b99ea11fb4a5dca13",
      "a4d2478423db48cc90a05939b1f2512d",
      "b62fa3e410ed457db73653002dc2ab12",
      "d4f9258498164bbeb671ce31564009c8",
      "7dfcbdfc771848a8b86b037c588dd811",
      "51d299a16ef24b18a810dd22b19df2ae",
      "86f1ee386873409fa75bcc9e6c802978",
      "c18df9df765740d595e4ded0ccc5d3c6",
      "cf2108925de44c14b6397c68464ae40b",
      "0c956f9d94774ad3b7b4db943a9e3f20",
      "2800cb5042a44425aa04018e23ecc9e2",
      "ca0140cad1f04d15803d3b90f4228423",
      "e6d8cdb1c4b1441db43116fddfd6a392",
      "c66bf3176591489d89ace55b59f1d7e1",
      "ede8c623531d4487a070fe627e60c329",
      "f9272f95bfa54cefbdce583d46772765",
      "c040873ea5da4acdaa5a76defff32d7a",
      "e8770d01b0b34b459c1b84e84fda98c6",
      "79dc18145cfb4a81ad461d4a014ef38d",
      "1cd280d4b226442f8d81aa9b6ac0997c",
      "ba2f52890d41490e8d3585738134d06d",
      "20d31976c272455ca0b117d8019dc795",
      "dac0a867f2bc41d08f5e3fe71d073481",
      "38cc580d4f5d4175a5e6d741a3ffa7e0",
      "4540ac48af364e5f8d8f01cdb7579212",
      "3b5da8b5d859433c97c0547ee2760d5b",
      "9200d2c6d3a34135b5314f6f236b605a",
      "ec881299433440aa86c2afec45e1bdeb",
      "d9637f51ce21449f99b781b437410ef1",
      "a7641bb43cb64704854df0869b75ae75",
      "9380aadbeaac49658f10045b1267aaf1",
      "8c05943c310b4cf8bf5f5507c31ae2e1",
      "91e850c4007a47e981766abac963ac23",
      "c47f764ca6854000b4f0838d802db646",
      "01162d294684481cb6348d64f6ff1619",
      "3ab5d4058c924f50a2a3d898ca6055d7",
      "524fa6831935402eb8b08005d0447547",
      "75dd4345b20c4985be02e1479917fbec",
      "099e8708ba004cfcbbd217040898982d",
      "3e6b5b1b10114606bf4854c12aecb2ef"
     ]
    },
    "id": "5phRS_z2U_3T",
    "outputId": "3d07762c-1de3-4748-b526-11e58eede46a"
   },
   "outputs": [
    {
     "output_type": "stream",
     "name": "stderr",
     "text": [
      "/usr/local/lib/python3.12/dist-packages/huggingface_hub/utils/_auth.py:94: UserWarning: \n",
      "The secret `HF_TOKEN` does not exist in your Colab secrets.\n",
      "To authenticate with the Hugging Face Hub, create a token in your settings tab (https://huggingface.co/settings/tokens), set it as secret in your Google Colab and restart your session.\n",
      "You will be able to reuse this secret in all of your notebooks.\n",
      "Please note that authentication is recommended but still optional to access public models or datasets.\n",
      "  warnings.warn(\n"
     ]
    },
    {
     "output_type": "display_data",
     "data": {
      "text/plain": [
       "README.md: 0.00B [00:00, ?B/s]"
      ],
      "application/vnd.jupyter.widget-view+json": {
       "version_major": 2,
       "version_minor": 0,
       "model_id": "05864f71430e4b828f6d4234b18beb4d"
      }
     },
     "metadata": {}
    },
    {
     "output_type": "display_data",
     "data": {
      "text/plain": [
       "train.parquet:   0%|          | 0.00/699k [00:00<?, ?B/s]"
      ],
      "application/vnd.jupyter.widget-view+json": {
       "version_major": 2,
       "version_minor": 0,
       "model_id": "df9eec6a378748f18df4afcb4b43cf65"
      }
     },
     "metadata": {}
    },
    {
     "output_type": "display_data",
     "data": {
      "text/plain": [
       "validation.parquet:   0%|          | 0.00/90.0k [00:00<?, ?B/s]"
      ],
      "application/vnd.jupyter.widget-view+json": {
       "version_major": 2,
       "version_minor": 0,
       "model_id": "1e7a8a138dc84f43bfcd85a06bdaa807"
      }
     },
     "metadata": {}
    },
    {
     "output_type": "display_data",
     "data": {
      "text/plain": [
       "test.parquet:   0%|          | 0.00/92.2k [00:00<?, ?B/s]"
      ],
      "application/vnd.jupyter.widget-view+json": {
       "version_major": 2,
       "version_minor": 0,
       "model_id": "f6441f70cd7348248fe609cf0a9ac3cf"
      }
     },
     "metadata": {}
    },
    {
     "output_type": "display_data",
     "data": {
      "text/plain": [
       "Generating train split:   0%|          | 0/8530 [00:00<?, ? examples/s]"
      ],
      "application/vnd.jupyter.widget-view+json": {
       "version_major": 2,
       "version_minor": 0,
       "model_id": "c18df9df765740d595e4ded0ccc5d3c6"
      }
     },
     "metadata": {}
    },
    {
     "output_type": "display_data",
     "data": {
      "text/plain": [
       "Generating validation split:   0%|          | 0/1066 [00:00<?, ? examples/s]"
      ],
      "application/vnd.jupyter.widget-view+json": {
       "version_major": 2,
       "version_minor": 0,
       "model_id": "79dc18145cfb4a81ad461d4a014ef38d"
      }
     },
     "metadata": {}
    },
    {
     "output_type": "display_data",
     "data": {
      "text/plain": [
       "Generating test split:   0%|          | 0/1066 [00:00<?, ? examples/s]"
      ],
      "application/vnd.jupyter.widget-view+json": {
       "version_major": 2,
       "version_minor": 0,
       "model_id": "a7641bb43cb64704854df0869b75ae75"
      }
     },
     "metadata": {}
    },
    {
     "output_type": "execute_result",
     "data": {
      "text/plain": [
       "DatasetDict({\n",
       "    train: Dataset({\n",
       "        features: ['text', 'label'],\n",
       "        num_rows: 8530\n",
       "    })\n",
       "    validation: Dataset({\n",
       "        features: ['text', 'label'],\n",
       "        num_rows: 1066\n",
       "    })\n",
       "    test: Dataset({\n",
       "        features: ['text', 'label'],\n",
       "        num_rows: 1066\n",
       "    })\n",
       "})"
      ]
     },
     "metadata": {},
     "execution_count": 2
    }
   ],
   "source": [
    "from datasets import load_dataset\n",
    "# Load our data\n",
    "data = load_dataset(\"rotten_tomatoes\")\n",
    "data"
   ]
  },
  {
   "cell_type": "markdown",
   "metadata": {
    "id": "GS7ZhZfGnzyc"
   },
   "source": [
    "### Helper Functions\n"
   ]
  },
  {
   "cell_type": "code",
   "execution_count": 3,
   "metadata": {
    "id": "X0KyKHtqyjn3"
   },
   "outputs": [],
   "source": [
    "from sklearn.metrics import classification_report\n",
    "def evaluate_performance(y_true, y_pred):\n",
    "    \"\"\"Create and print the classification report\"\"\"\n",
    "    performance = classification_report(\n",
    "        y_true, y_pred,\n",
    "        target_names=[\"Negative Review\", \"Positive Review\"]\n",
    "    )\n",
    "    print(performance)"
   ]
  },
  {
   "cell_type": "markdown",
   "source": [
    "## Your Turn - Text Classification Experiments\n",
    "\n",
    "Run each task first to see the baseline results. Follow the instructions to modify and experiment."
   ],
   "metadata": {
    "id": "NKYNfoaVC4hU"
   }
  },
  {
   "cell_type": "markdown",
   "source": [
    "This section is divided into EASY, MEDIUM, & HARD."
   ],
   "metadata": {
    "id": "hHVONn85DElL"
   }
  },
  {
   "cell_type": "markdown",
   "metadata": {
    "id": "hpiSzld6nzyh"
   },
   "source": [
    "---\n",
    "\n",
    "## Hard Tasks\n"
   ]
  },
  {
   "cell_type": "markdown",
   "source": [
    "### Hard Tasks - Advanced Classification Challenges\n",
    "\n",
    "These tasks require significant modifications and deeper understanding. Take your time and experiment"
   ],
   "metadata": {
    "id": "sOcbrBwdGZbi"
   }
  },
  {
   "cell_type": "markdown",
   "metadata": {
    "id": "F649-TFqnzyi"
   },
   "source": [
    "#### Hard Task 1: Hierarchical Multi-Level Classifier\n",
    "Instead of flat classification (choosing from all categories at once), hierarchical classification makes decisions in steps: first broad categories, then fine-grained ones. This mirrors how humans often reason.\n",
    "Instructions:\n",
    "1. Run the 2-level classifier (Sentiment \u2192 Specific Aspect)\n",
    "2. Compare with flat classification to see confidence differences\n",
    "3. Try adding a 3rd level by uncommenting the code\n",
    "4. Analyze whether breaking decisions into steps helps or hurts"
   ]
  },
  {
   "cell_type": "code",
   "execution_count": 4,
   "metadata": {
    "id": "rYMpBGqonzyj"
   },
   "outputs": [],
   "source": [
    "# Level 1: Broad sentiment\n",
    "level1_labels = [\n",
    "    \"negative sentiment review\",\n",
    "    \"positive sentiment review\"\n",
    "]\n",
    "# Level 2: Specific aspects (conditional on Level 1)\n",
    "level2_negative = [\n",
    "    \"review criticizing entertainment value and pacing\",\n",
    "    \"review criticizing technical quality and production\"\n",
    "]\n",
    "level2_positive = [\n",
    "    \"review praising technical quality and artistry\",\n",
    "    \"review praising entertainment value and enjoyment\"\n",
    "]\n",
    "# TODO: Add Level 3 for even finer granularity\n",
    "# level3_positive_quality = [...]\n",
    "# level3_positive_entertainment = [...]"
   ]
  },
  {
   "cell_type": "code",
   "metadata": {
    "id": "DFgHMLAqnzyk",
    "outputId": "50e50cbc-bc1f-4605-85db-b0f9e488952a",
    "colab": {
     "base_uri": "https://localhost:8080/",
     "height": 369,
     "referenced_widgets": [
      "75a7611d062c46a4b92337ef166a486e",
      "27da9882bb144941922966e799097751",
      "8449bda91413494cae4513b634ce1fe0",
      "2cc7d4028b1445179dcc339e375a3708",
      "7b5919eaf39b4909b0a2bbd5344cc6e6",
      "f1886e1d4c1e42c1bfdca630063ce77f",
      "b034745633a6443abed2dade38a5be38",
      "01fd20daf4b54cd29789fb56f0284540",
      "23eef0ef24214706b2c481bfbaca3a39",
      "f07880239b3e41f7a5d0ad4cdfe4cbfd",
      "420b6f2bd6784164bab6fbaa4698329f",
      "a9915ff67b9140b89bc9aba720858af3",
      "482f48148fa74b2aa8f8f78e27bda6ab",
      "83ee42a137824e849a9a9e9a459a0975",
      "e11cbcffdd784da4b8e7fc0067a935db",
      "cec3f76f19c54fc19211876e70861f51",
      "b239f170409b4d1abdf60c48f5a53071",
      "fba2855250a84e98ad34801fe662fd89",
      "4342cdfc7f32438896646713143318a8",
      "5311e9b23250467a8396c6359dbe26e6",
      "6a2e990224ec4bc28786e6e9cd4bc742",
      "5148c3ccf8d34414aba947d9ad0db4b1",
      "4664ebc3ef6449c5a9374a4d7b95d47f",
      "4921c4cce32a453cb9ef62ae24b65ff4",
      "d9a13b0e60ab4d8991378c197cd58b94",
      "258d9b58bf1d46eb8e0034a5fbf0da79",
      "51ae0cddd0f4441ea302f0e6e58840c8",
      "fef5136f07c24ee09d51b65c5935f5fc",
      "15d829b6f1be445f942032777e62ead9",
      "f8ec919272194f2fa8e8a7024fc2442f",
      "61c73bb91df24613b2f358197f370b79",
      "e27345cbde3a43e49efb61bd3a029047",
      "8442c79dd857435f970c73688eef3311",
      "9f67a93b98d3441e96e75b19554c0197",
      "176d9b48bc744decbf36d0bd5e664dd4",
      "6aa3363f0c284cad96936a9c00d478f8",
      "685f6f984f9944cf91d8112b827166a0",
      "483e7a6d6e1d41c7a72d9603cc529c02",
      "fff5759747f74739985b3c236183a6bc",
      "cb7cec2e448e4557b64de205ed7d69ce",
      "b70c3e156a3d41acb921776890078fa2",
      "a07ddaf2ac7f42a8bb3091fe267f9792",
      "6e7f82deafbd40e1804688c9e6185a82",
      "c14c5918a00a403f9482e23494e6818e",
      "478369b8ce7040aaba9dab960ddafe1d",
      "0df10c1ddb794ff4a0a29461c752c8d7",
      "ea215f92c6634836a9f9d2c80d95bfc3",
      "a2550cc7b364469783d7772b1e0ed313",
      "b75725bb39224564afead534f2ab0221",
      "dd19fc6647c146b6bd295cc90bd2784b",
      "ab4a7376154d4f57815465087c7ecf78",
      "df3f93c51dd54ace8a481c70c045fd0d",
      "b2558b96f4924a4c8f9a0e3baf891d7b",
      "6c7f32b73b1b42d9882b18c2537278c9",
      "1c2b4ee8b2674b40af15d2df049300cf",
      "e2e52115385d4250a5aaecc5571f46db",
      "a07ce66f129446409e307c8bf5c9d09b",
      "8ead6f4902df450e81e2ba15ed70f67b",
      "9d3b06d0aa11420ea8dba6cfb995595f",
      "5925293a33e84605877337ce30084e9b",
      "58fc6640239047da8464e2cb312babc2",
      "e9242684ec9a4a6eb638e1661b8d5496",
      "a0078f76cb464f079f545dd444c22e83",
      "556a1e5278a14ace992b70231d3bad0a",
      "3868f599bab5472ab6456bd87add82cc",
      "16313db2b7db4b819efc7903456d891b",
      "88ea24d041cc4ab7897bc52fad7338df",
      "3535b0df959940a1b0f2ab91bf1eb6f5",
      "9a10e0d2bff542f9bbf31102385e1519",
      "0741cbc346634989991c6a7ec9ec9c8c",
      "ce19f5ecfbba4bd2afbd6ea7c040fc1e",
      "151edbf4e99342b694e5bce5fee607b6",
      "35308dd6567543afb334ab46ce453030",
      "83312bbc95444883a3d2dcb91a447be0",
      "ab3d09ee2aee409ca8dcd4eca2f40431",
      "e12e62c3f81a47d7bfc9e495c7d0f093",
      "00a85ab95f0443a998652afcacb1cb4f",
      "6237320f3b1941038b874bf982c8271a",
      "d90603b588994fcf91ada27607e4cb47",
      "3b1ac02f52fe4b9d8fe9cc309fae3b5e",
      "77d9b0d675474bdea0ea5af15156bed0",
      "1d3ff2a38735448d80f49fdf6da281ad",
      "1846d7c6142f4c6c83832c07f30669ee",
      "8fd17c24af364b55849b1f44f2d4d9b2",
      "5ee26a9dde1d4b85ac52a342e510114f",
      "c37071ea39c24a2cbe4b4b7e3b6db587",
      "efa0ca386d8a4e0580b59d339cafa7ee",
      "b6300f95f3e443b09860ff5af86b1b12",
      "d0163953964a4bfa887e12a96247b94b",
      "188c7b98950d4f4d97cf1a9a86a93f0a",
      "1c2199ae27e24c8d9e0f930ea8857930",
      "a787900502a6414dbda89e7b8d3d2924",
      "a0110c5415a940ff840d6a90ac15f74f",
      "4540eafd61334000b4c72a288f847a5a",
      "bbcddc6f584042aa98c3d2947363dd2f",
      "44f0266f82634afeb49f893845986f58",
      "7ca844eb3e464838abaef848014240f0",
      "eed371c049144acab9f45ac579bae10f",
      "e6b4b7b1d890438d8466c210c302f704",
      "b73eab7f80e145bb898eb92167390852",
      "7c2cfbef4ae149a998fc2ba6211d7a00",
      "7f542d2cf94a4376845465b9d30b693b",
      "56efe4e807a14609abbb0b2ec3491659",
      "38da7f0bc58d4f6282b620e419fdfcf8",
      "eb594716a9254fffb6b0709a1b4e48d8",
      "1914823e6c594159844aa2ee36906163",
      "3cf3380f8984486c85419bff111f89b7",
      "db1726cc9f2f4507a6d13125fd4545da",
      "970e700371f049ca84f23719c04d2c86",
      "3247465db7c24b97bae7b42e9471a0e0",
      "7814941e448e4b12a3921af45f175401",
      "d2bc82eddb27434c83069d8421c8135a",
      "ce19c59aca744f529e8e1a19a5fc3269",
      "1567705474554bf5974e5f94e3f4cd00",
      "976b5597cd54403ea34168d0d7eb6263",
      "323b0975c8da49f79dbcc99ebcd3d351",
      "e3b80c465d914fa08b85e59b4d5a85b6",
      "cb379232a274465798040bcf8fa8db94",
      "70135e633f644702a302f2409947335a",
      "b47528863ed7471baf7b51fe3ca7a513",
      "eb5e336113074dc8aa0f4d584c83bce9"
     ]
    }
   },
   "source": [
    "from sentence_transformers import SentenceTransformer\n",
    "from sklearn.metrics.pairwise import cosine_similarity\n",
    "import numpy as np\n",
    "\n",
    "model = SentenceTransformer('sentence-transformers/all-mpnet-base-v2')\n",
    "\n",
    "test_reviews = [\n",
    "    \"Amazing cinematography and brilliant direction!\",\n",
    "    \"Terrible pacing, very boring throughout\",\n",
    "    \"Excellent acting but weak storyline\",\n",
    "    \"Poor production quality, disappointing visuals\"\n",
    "]"
   ],
   "outputs": [
    {
     "output_type": "display_data",
     "data": {
      "text/plain": [
       "modules.json:   0%|          | 0.00/349 [00:00<?, ?B/s]"
      ],
      "application/vnd.jupyter.widget-view+json": {
       "version_major": 2,
       "version_minor": 0,
       "model_id": "75a7611d062c46a4b92337ef166a486e"
      }
     },
     "metadata": {}
    },
    {
     "output_type": "display_data",
     "data": {
      "text/plain": [
       "config_sentence_transformers.json:   0%|          | 0.00/116 [00:00<?, ?B/s]"
      ],
      "application/vnd.jupyter.widget-view+json": {
       "version_major": 2,
       "version_minor": 0,
       "model_id": "a9915ff67b9140b89bc9aba720858af3"
      }
     },
     "metadata": {}
    },
    {
     "output_type": "display_data",
     "data": {
      "text/plain": [
       "README.md: 0.00B [00:00, ?B/s]"
      ],
      "application/vnd.jupyter.widget-view+json": {
       "version_major": 2,
       "version_minor": 0,
       "model_id": "4664ebc3ef6449c5a9374a4d7b95d47f"
      }
     },
     "metadata": {}
    },
    {
     "output_type": "display_data",
     "data": {
      "text/plain": [
       "sentence_bert_config.json:   0%|          | 0.00/53.0 [00:00<?, ?B/s]"
      ],
      "application/vnd.jupyter.widget-view+json": {
       "version_major": 2,
       "version_minor": 0,
       "model_id": "9f67a93b98d3441e96e75b19554c0197"
      }
     },
     "metadata": {}
    },
    {
     "output_type": "display_data",
     "data": {
      "text/plain": [
       "config.json:   0%|          | 0.00/571 [00:00<?, ?B/s]"
      ],
      "application/vnd.jupyter.widget-view+json": {
       "version_major": 2,
       "version_minor": 0,
       "model_id": "478369b8ce7040aaba9dab960ddafe1d"
      }
     },
     "metadata": {}
    },
    {
     "output_type": "display_data",
     "data": {
      "text/plain": [
       "model.safetensors:   0%|          | 0.00/438M [00:00<?, ?B/s]"
      ],
      "application/vnd.jupyter.widget-view+json": {
       "version_major": 2,
       "version_minor": 0,
       "model_id": "e2e52115385d4250a5aaecc5571f46db"
      }
     },
     "metadata": {}
    },
    {
     "output_type": "display_data",
     "data": {
      "text/plain": [
       "tokenizer_config.json:   0%|          | 0.00/363 [00:00<?, ?B/s]"
      ],
      "application/vnd.jupyter.widget-view+json": {
       "version_major": 2,
       "version_minor": 0,
       "model_id": "88ea24d041cc4ab7897bc52fad7338df"
      }
     },
     "metadata": {}
    },
    {
     "output_type": "display_data",
     "data": {
      "text/plain": [
       "vocab.txt: 0.00B [00:00, ?B/s]"
      ],
      "application/vnd.jupyter.widget-view+json": {
       "version_major": 2,
       "version_minor": 0,
       "model_id": "6237320f3b1941038b874bf982c8271a"
      }
     },
     "metadata": {}
    },
    {
     "output_type": "display_data",
     "data": {
      "text/plain": [
       "tokenizer.json: 0.00B [00:00, ?B/s]"
      ],
      "application/vnd.jupyter.widget-view+json": {
       "version_major": 2,
       "version_minor": 0,
       "model_id": "d0163953964a4bfa887e12a96247b94b"
      }
     },
     "metadata": {}
    },
    {
     "output_type": "display_data",
     "data": {
      "text/plain": [
       "special_tokens_map.json:   0%|          | 0.00/239 [00:00<?, ?B/s]"
      ],
      "application/vnd.jupyter.widget-view+json": {
       "version_major": 2,
       "version_minor": 0,
       "model_id": "b73eab7f80e145bb898eb92167390852"
      }
     },
     "metadata": {}
    },
    {
     "output_type": "display_data",
     "data": {
      "text/plain": [
       "config.json:   0%|          | 0.00/190 [00:00<?, ?B/s]"
      ],
      "application/vnd.jupyter.widget-view+json": {
       "version_major": 2,
       "version_minor": 0,
       "model_id": "7814941e448e4b12a3921af45f175401"
      }
     },
     "metadata": {}
    }
   ],
   "execution_count": 5
  },
  {
   "cell_type": "code",
   "metadata": {
    "id": "PbnbmKYOnzyk"
   },
   "source": [
    "def hierarchical_classify_2level(review):\n",
    "    \"\"\"\n",
    "    Classify review using 2-level hierarchy:\n",
    "    Level 1: Sentiment (positive/negative)\n",
    "    Level 2: Specific aspect (quality/entertainment)\n",
    "    \"\"\"\n",
    "    # Level 1: Determine sentiment\n",
    "    level1_emb = model.encode(level1_labels)\n",
    "    review_emb = model.encode([review])\n",
    "    level1_sim = cosine_similarity(review_emb, level1_emb)[0]\n",
    "\n",
    "    level1_pred = np.argmax(level1_sim)\n",
    "    level1_conf = level1_sim[level1_pred]\n",
    "    level1_label = level1_labels[level1_pred]\n",
    "\n",
    "    # Level 2: Conditional on Level 1\n",
    "    if level1_pred == 0:  # Negative\n",
    "        level2_labels = level2_negative\n",
    "        path = \"Negative \u2192 \"\n",
    "    else:  # Positive\n",
    "        level2_labels = level2_positive\n",
    "        path = \"Positive \u2192 \"\n",
    "\n",
    "    level2_emb = model.encode(level2_labels)\n",
    "    level2_sim = cosine_similarity(review_emb, level2_emb)[0]\n",
    "\n",
    "    level2_pred = np.argmax(level2_sim)\n",
    "    level2_conf = level2_sim[level2_pred]\n",
    "    level2_label = level2_labels[level2_pred]\n",
    "    path += level2_label\n",
    "\n",
    "    return {\n",
    "        \"level1_label\": level1_label,\n",
    "        \"level1_conf\": level1_conf,\n",
    "        \"level2_label\": level2_label,\n",
    "        \"level2_conf\": level2_conf,\n",
    "        \"path\": path\n",
    "    }"
   ],
   "outputs": [],
   "execution_count": 6
  },
  {
   "cell_type": "markdown",
   "metadata": {
    "id": "Bm1JW3gBnzym"
   },
   "source": [
    "Classify the reviews:\n"
   ]
  },
  {
   "cell_type": "code",
   "execution_count": 7,
   "metadata": {
    "id": "_Hg7sMmhnzym",
    "outputId": "d32dc9ad-f624-4600-bb08-5e54b27e0264",
    "colab": {
     "base_uri": "https://localhost:8080/"
    }
   },
   "outputs": [
    {
     "output_type": "stream",
     "name": "stdout",
     "text": [
      "HIERARCHICAL CLASSIFICATION (2 LEVELS)\n",
      "\n",
      "Review 1: 'Amazing cinematography and brilliant direction!'\n",
      "\n",
      "  Level 1 (Sentiment):\n",
      "     positive sentiment review\n",
      "     Confidence: 0.148\n",
      "\n",
      "  Level 2 (Specific Aspect):\n",
      "     review praising technical quality and artistry\n",
      "     Confidence: 0.306\n",
      "\n",
      "  Final Classification Path:\n",
      "     Positive \u2192 review praising technical quality and artistry\n",
      "\n",
      "Review 2: 'Terrible pacing, very boring throughout'\n",
      "\n",
      "  Level 1 (Sentiment):\n",
      "     negative sentiment review\n",
      "     Confidence: 0.295\n",
      "\n",
      "  Level 2 (Specific Aspect):\n",
      "     review criticizing entertainment value and pacing\n",
      "     Confidence: 0.651\n",
      "\n",
      "  Final Classification Path:\n",
      "     Negative \u2192 review criticizing entertainment value and pacing\n",
      "\n",
      "Review 3: 'Excellent acting but weak storyline'\n",
      "\n",
      "  Level 1 (Sentiment):\n",
      "     negative sentiment review\n",
      "     Confidence: 0.275\n",
      "\n",
      "  Level 2 (Specific Aspect):\n",
      "     review criticizing entertainment value and pacing\n",
      "     Confidence: 0.507\n",
      "\n",
      "  Final Classification Path:\n",
      "     Negative \u2192 review criticizing entertainment value and pacing\n",
      "\n",
      "Review 4: 'Poor production quality, disappointing visuals'\n",
      "\n",
      "  Level 1 (Sentiment):\n",
      "     negative sentiment review\n",
      "     Confidence: 0.307\n",
      "\n",
      "  Level 2 (Specific Aspect):\n",
      "     review criticizing technical quality and production\n",
      "     Confidence: 0.479\n",
      "\n",
      "  Final Classification Path:\n",
      "     Negative \u2192 review criticizing technical quality and production\n",
      "\n",
      "COMPARISON: Hierarchical vs Flat Classification\n",
      "\n",
      "Showing first 3 reviews:\n",
      "\n",
      "Review: 'Amazing cinematography and brilliant direction!...'\n",
      "  Hierarchical: review praising technical quality and artistry\n",
      "     Confidence: 0.306\n",
      "  Flat:         review praising technical quality and artistry\n",
      "     Confidence: 0.306\n",
      "  Confidence Diff: -0.000\n",
      "\n",
      "Review: 'Terrible pacing, very boring throughout...'\n",
      "  Hierarchical: review criticizing entertainment value and pacing\n",
      "     Confidence: 0.651\n",
      "  Flat:         review criticizing entertainment value and pacing\n",
      "     Confidence: 0.651\n",
      "  Confidence Diff: +0.000\n",
      "\n",
      "Review: 'Excellent acting but weak storyline...'\n",
      "  Hierarchical: review criticizing entertainment value and pacing\n",
      "     Confidence: 0.507\n",
      "  Flat:         review criticizing entertainment value and pacing\n",
      "     Confidence: 0.507\n",
      "  Confidence Diff: +0.000\n"
     ]
    }
   ],
   "source": [
    "print(\"HIERARCHICAL CLASSIFICATION (2 LEVELS)\")\n",
    "for i, review in enumerate(test_reviews):\n",
    "    result = hierarchical_classify_2level(review)\n",
    "    print(f\"\\nReview {i+1}: '{review}'\")\n",
    "    print(f\"\\n  Level 1 (Sentiment):\")\n",
    "    print(f\"     {result['level1_label']}\")\n",
    "    print(f\"     Confidence: {result['level1_conf']:.3f}\")\n",
    "    print(f\"\\n  Level 2 (Specific Aspect):\")\n",
    "    print(f\"     {result['level2_label']}\")\n",
    "    print(f\"     Confidence: {result['level2_conf']:.3f}\")\n",
    "    print(f\"\\n  Final Classification Path:\")\n",
    "    print(f\"     {result['path']}\")\n",
    "# Compare with flat classification\n",
    "print()\n",
    "print(\"COMPARISON: Hierarchical vs Flat Classification\")\n",
    "# Flat: All 4 categories at once\n",
    "flat_labels = [\n",
    "    \"review criticizing entertainment value and pacing\",      # 0\n",
    "    \"review criticizing technical quality and production\",    # 1\n",
    "    \"review praising technical quality and artistry\",         # 2\n",
    "    \"review praising entertainment value and enjoyment\"       # 3\n",
    "]\n",
    "flat_embeddings = model.encode(flat_labels)\n",
    "review_embeddings = model.encode(test_reviews)\n",
    "flat_sim = cosine_similarity(review_embeddings, flat_embeddings)\n",
    "print(\"\\nShowing first 3 reviews:\")\n",
    "for i in range(min(3, len(test_reviews))):\n",
    "    hier_result = hierarchical_classify_2level(test_reviews[i])\n",
    "    flat_pred = np.argmax(flat_sim[i])\n",
    "    flat_conf = flat_sim[i][flat_pred]\n",
    "    print(f\"\\nReview: '{test_reviews[i][:50]}...'\")\n",
    "    print(f\"  Hierarchical: {hier_result['level2_label']}\")\n",
    "    print(f\"     Confidence: {hier_result['level2_conf']:.3f}\")\n",
    "    print(f\"  Flat:         {flat_labels[flat_pred]}\")\n",
    "    print(f\"     Confidence: {flat_conf:.3f}\")\n",
    "    print(f\"  Confidence Diff: {hier_result['level2_conf'] - flat_conf:+.3f}\")\n",
    "# TODO: After implementing 3-level, uncomment to test it:\n",
    "# print()\n",
    "# print(\"TESTING 3-LEVEL HIERARCHICAL CLASSIFICATION\")\n",
    "# for i, review in enumerate(test_reviews):\n",
    "#     result = hierarchical_classify_3level(review)\n",
    "#     print(f\"\\n{i+1}. '{review[:60]}...'\")\n",
    "#     print(f\"   Path: {result['path']}\")\n",
    "#     print(f\"   Level 3 confidence: {result['level3_conf']:.3f}\")"
   ]
  },
  {
   "cell_type": "markdown",
   "source": [
    "The hierarchical approach makes decisions in stages:\n",
    "1. Level 1: Determines if the review is positive or negative\n",
    "2. Level 2: Based on that sentiment, classifies the specific aspect\n",
    "\n",
    "Notice the confidence scores at each level. The hierarchical classifier's final confidence is often higher than flat classification because it's making simpler decisions at each step.\n",
    "\n",
    "Looking at the comparison between hierarchical and flat approaches:\n",
    "- Hierarchical often has higher confidence (makes easier per-step decisions)\n",
    "- But if Level 1 is wrong, Level 2 has no chance to correct it\n",
    "- Flat classification considers all options at once but may be less confident"
   ],
   "metadata": {
    "id": "DOgvT7Ffnzyn"
   }
  },
  {
   "cell_type": "markdown",
   "metadata": {
    "id": "Wea-7Goznzyo"
   },
   "source": [
    "#### Hard Task 2: Active Learning to Minimize Labeling Costs\n",
    "Labeling data is expensive. Active learning strategically selects the most informative samples to label, potentially saving 50%+ of labeling effort compared to random selection. Run the simulation to see active learning vs random sampling, observe which samples the model finds \"uncertain\", and track how many samples each approach needs to reach F1=0.85. Try implementing the alternative selection strategy (margin sampling) and compare labeling cost savings."
   ]
  },
  {
   "cell_type": "code",
   "metadata": {
    "id": "CHKseH6znzyo",
    "outputId": "30bec4be-8819-48a0-bdd3-3bd0743b3287",
    "colab": {
     "base_uri": "https://localhost:8080/"
    }
   },
   "source": [
    "from sentence_transformers import SentenceTransformer\n",
    "from sklearn.linear_model import LogisticRegression\n",
    "from sklearn.metrics import f1_score, accuracy_score\n",
    "import numpy as np\n",
    "\n",
    "# Simulate active learning vs random sampling\n",
    "print(\"ACTIVE LEARNING SIMULATION\")\n",
    "print(\"=\"*60)\n",
    "\n",
    "# Setup\n",
    "model = SentenceTransformer('sentence-transformers/all-mpnet-base-v2')\n",
    "train_data = data[\"train\"].shuffle(seed=42).select(range(1000))\n",
    "test_data = data[\"test\"].shuffle(seed=42).select(range(200))\n",
    "\n",
    "# Start with small labeled set\n",
    "labeled_size = 50\n",
    "target_f1 = 0.85\n",
    "\n",
    "print(f\"Starting with {labeled_size} labeled samples\")\n",
    "print(f\"Target F1: {target_f1}\")\n",
    "print(f\"\\nNote: This is a simplified simulation\")\n",
    "print(\"In real active learning, you'd query an oracle (human) for labels\\n\")"
   ],
   "outputs": [
    {
     "output_type": "stream",
     "name": "stdout",
     "text": [
      "ACTIVE LEARNING SIMULATION\n",
      "============================================================\n",
      "Starting with 50 labeled samples\n",
      "Target F1: 0.85\n",
      "\n",
      "Note: This is a simplified simulation\n",
      "In real active learning, you'd query an oracle (human) for labels\n",
      "\n"
     ]
    }
   ],
   "execution_count": 8
  },
  {
   "cell_type": "code",
   "metadata": {},
   "source": [
    "# Encode all training and test data upfront\n",
    "all_train_embeddings = model.encode(train_data[\"text\"], show_progress_bar=False)\n",
    "all_test_embeddings = model.encode(test_data[\"text\"], show_progress_bar=False)\n",
    "\n",
    "print(f\"Encoded {len(train_data)} training samples\")\n",
    "print(f\"Encoded {len(test_data)} test samples\")"
   ],
   "outputs": [],
   "execution_count": null
  },
  {
   "cell_type": "markdown",
   "metadata": {},
   "source": [
    "Start with a small labeled set and keep rest unlabeled:"
   ]
  },
  {
   "cell_type": "code",
   "metadata": {},
   "source": [
    "labeled_indices = list(range(labeled_size))  # First 50 samples\n",
    "unlabeled_indices = list(range(labeled_size, len(train_data)))  # Rest are unlabeled\n",
    "\n",
    "print(f\"Starting labeled set: {len(labeled_indices)} samples\")\n",
    "print(f\"Unlabeled pool: {len(unlabeled_indices)} samples\")"
   ],
   "outputs": [],
   "execution_count": null
  },
  {
   "cell_type": "markdown",
   "metadata": {},
   "source": [
    "Run active learning iterations:"
   ]
  },
  {
   "cell_type": "code",
   "metadata": {},
   "source": [
    "print(\"\\nIteration | Labeled Size | F1 Score\")\n",
    "print(\"-\" * 40)\n",
    "\n",
    "for iteration in range(5):\n",
    "    # Train on current labeled data\n",
    "    X_train = all_train_embeddings[labeled_indices]\n",
    "    y_train = [train_data[\"label\"][i] for i in labeled_indices]\n",
    "    \n",
    "    clf = LogisticRegression(random_state=42, max_iter=1000)\n",
    "    clf.fit(X_train, y_train)\n",
    "    \n",
    "    # Evaluate on test set\n",
    "    y_pred = clf.predict(all_test_embeddings)\n",
    "    current_f1 = f1_score(test_data[\"label\"], y_pred, average='weighted')\n",
    "    \n",
    "    print(f\"{iteration:9d} | {len(labeled_indices):12d} | {current_f1:.4f}\")\n",
    "    \n",
    "    if current_f1 >= target_f1:\n",
    "        print(f\"\\nReached target F1={target_f1}!\")\n",
    "        break\n",
    "    \n",
    "    # Select most uncertain samples from unlabeled pool\n",
    "    if len(unlabeled_indices) > 0:\n",
    "        unlabeled_embeddings = all_train_embeddings[unlabeled_indices]\n",
    "        probs = clf.predict_proba(unlabeled_embeddings)\n",
    "        \n",
    "        # Uncertainty = 1 - max(probability)\n",
    "        uncertainties = 1 - np.max(probs, axis=1)\n",
    "        \n",
    "        # Select 20 most uncertain samples\n",
    "        n_select = min(20, len(unlabeled_indices))\n",
    "        most_uncertain = np.argsort(uncertainties)[-n_select:]\n",
    "        selected_indices = [unlabeled_indices[idx] for idx in most_uncertain]\n",
    "        \n",
    "        # Move to labeled set\n",
    "        labeled_indices.extend(selected_indices)\n",
    "        unlabeled_indices = [idx for idx in unlabeled_indices if idx not in selected_indices]"
   ],
   "outputs": [],
   "execution_count": null
  },
  {
   "cell_type": "markdown",
   "source": [
    "Active learning iteratively:\n",
    "1. Trains on currently labeled data\n",
    "2. Finds the most uncertain unlabeled samples\n",
    "3. \"Labels\" those samples (adds them to training set)\n",
    "4. Repeats\n",
    "\n",
    "The uncertain samples being selected typically have prediction probabilities close to 50-50. These are the most informative because they lie near the decision boundary.\n",
    "\n",
    "Compare the learning curves to see how quickly each approach improves. Active learning often reaches target performance with fewer labeled samples, saving significant labeling costs."
   ],
   "metadata": {
    "id": "yzYVwXTBHOrA"
   }
  },
  {
   "cell_type": "markdown",
   "metadata": {
    "id": "R98vphjNnzyp"
   },
   "source": [
    "#### Hard Task 3: Ensemble Classifier for Improved Robustness\n",
    "\n",
    "Ensemble methods combine multiple models to reduce individual biases and improve reliability. The wisdom of crowds principle: multiple imperfect models together often beat any single model.\n",
    "\n",
    "Instructions:\n",
    "1. Run to see 3 individual models compared to ensemble methods\n",
    "2. Compare simple majority voting vs confidence-weighted voting\n",
    "3. Examine disagreement cases - when models disagree, which is usually right?\n",
    "4. Optionally add a 4th model and performance-weighted voting\n",
    "5. Determine if the ensemble beats the best individual model"
   ]
  },
  {
   "cell_type": "code",
   "metadata": {
    "id": "WD4KOy8jnzyq",
    "outputId": "3e4fe0c8-b88e-43a4-ffce-67bb38762677",
    "colab": {
     "base_uri": "https://localhost:8080/",
     "height": 970,
     "referenced_widgets": [
      "d6da645348104f82a48c139568d01aa8",
      "cdd671c620244670a2606555575b7b8f",
      "672a5243c73d441081c4d9ce1380ca16",
      "fabf37dbf36345e6b9f978e339417576",
      "11792805c69a4833b97ecf7ea609427e",
      "540eaeb0d21e410296f9902c7ba8738f",
      "7bee6f7326194942828fba36d00faead",
      "a39fb985f14a4fa69d649b0528735896",
      "de08c69c214d4f138461368c280e196b",
      "94b2f5ee45ec47ee9aac737d85a0bed2",
      "05b8967ad019420aa8b1639dd6f7b1ee",
      "59d8d928f7614f0aaa676a975c3a55ae",
      "9fd97f1f8cf24e5f99bc5619f3afe206",
      "22c9c372826c404d9b6200e7c81a83c0",
      "614b957f93344c6485a1d67e46ed0a17",
      "1ca52c70f4474182bac0ad6596625350",
      "d7ccfb57e7104e9daf8e7b0887d62b29",
      "80b7bb4000f74dc6a66c88ec7545c734",
      "c6c6a42ac899489da7267df3b4f4c0aa",
      "e217b6a80d04465a82055e271a04e798",
      "025a66c9eee645b5838115c0a4d7a611",
      "e104e709a89842fab220fc69c4582079",
      "36733e4abda147c797928be9e5694518",
      "09bb98894e834f3cb3ed12684378ee2c",
      "317b56478573413a9a51b6312266cff0",
      "9d2e06072fc649e19435f0f7c3738df7",
      "84a53796609548fd95fa907d18c73265",
      "978cdaa29d4148bdb7185b7e4c01891a",
      "ee3063ba75324fbb9b9a5b1022756792",
      "c33a51fd854b45f89aea09046f8cc355",
      "e739168f956d4c369ea8d609d2b80382",
      "b68d5294bc954ec19daa3a68f0af44bf",
      "229a05fde6c64cafa0310467b7b74587",
      "e376fc2fb8f94909b0b4ace2bf7c5630",
      "7292d9f3b0b74b5199d547db141294e2",
      "9b99e3f11c224754b2675247b641b11d",
      "8148420230d14f38b22322a3c41644f4",
      "305001bdfb684ee09f9fdeed0b4a1f95",
      "b19a8f4fe40c4ba2916a7d9d05f81f0e",
      "75741c0c6cbd4b7685f8af16b2e53f39",
      "5d58edb3632047ebacba6100fbd92448",
      "6da6d4b3bde54b9cb85ddf15d633d703",
      "b9ee1e69c5144b9e8318f81ce6d2fd75",
      "94c3540d6ddc46438c1705b5c2e5ac19",
      "dea02e70c3184f85a63c3f9221affa86",
      "d26d8713790e4c6c90461bc46248d5c9",
      "02d20332881a431abd8b4025d404f58c",
      "53fb7232a143476da0caeb4165110240",
      "9972d14533aa4a158eb954228416c700",
      "f413ffea50cb42ab97304dca930962a5",
      "9c074fbc47e2436ca857327220997495",
      "a04fa37aff4945b096a20b631f858b22",
      "9faf7b220ad74871adbd99e107e7df47",
      "36fc54796e5a4f21969b83812a9ce9f2",
      "d21d4b542768423da14bbb571f24bc17",
      "57fae2f698d941cebd62b93de4f92166",
      "c659638ddca145f5bf1b77348426e9b7",
      "8fa7b7ee701a47a6a1da5dc1c4e536a1",
      "02ca50f654934e6ba7431f2f5b05592a",
      "052572e86745474dbe66b0530da580a6",
      "8588daa17f5544608d2adcf644e712f6",
      "ffd83607716e4be09c8135ae44606f69",
      "47d67319be724805b252aa17b20ac7ab",
      "65a109e2d9d346768e1f7f966480fa60",
      "fc054025fecf4884b32debd4cf74eb04",
      "c5e5228401ee48febcb81a5367862459",
      "b5ae1fbe03b444c284314450447a3533",
      "9e0d6ab86c1c48c0ae9118b0d8c1917a",
      "6b59ee6d6dc146e0b87dae40438475bc",
      "19f75cf9786a4f719cb365c3f15335cd",
      "727b56407a2e4cf190896c412ef7c08b",
      "5f7270d789e543d69e784cf07e066e62",
      "cf6feb6630ed4ff29a57c68f720bde14",
      "08a08ff25d334757bb7f5d453196cb19",
      "b7b6101cb77143f0b59a30c6f619ad2c",
      "283113ba20354bf49919b64437d9346f",
      "1a6c0d364e204e109d4f220cfb9bf3af",
      "fc18aaeda3324ace914d9d3354ddb7c6",
      "b0e49a4ecc6d4d66af344ac6cd97659b",
      "3c57497bb7424345988fe925e295dd6b",
      "006eea0d353c495293201fd8cb4dc8d2",
      "bb0555f3f0af4c37ad1d3d47e326b254",
      "f9cf575c3f94412b8edd85bc3e473a16",
      "5a85f4c19b464bbe8d59f9fc1b94b244",
      "ec8044955ae542d18c36fef1a7927084",
      "82811edcdcdd422c892968d9b924a334",
      "94a6c18f5fe24e63a5335b8c633ade51",
      "1892d25ecd314343a12d9378e7b91da4",
      "349dbd6c6bb646b496a3ab1137d479fc",
      "df45bb1af5564a86959acd694d344419",
      "8142512b41be403eba87d25c0235f157",
      "04e504bc84c64da39fefc5b8928f84ab",
      "fd4096a61f2a426d8996b34a3cf8816c",
      "89711fd3a5a649fdb5605d1cd75add2b",
      "b0c29dbe2f7547a6bb7b4b66e6e3d5f8",
      "6609db3170404d60b3609ddf59bee320",
      "fd8abf56d5144853bca2a7c0657d530e",
      "345362b27fd5476a8feb5e1dc021f748",
      "bf98116d11564df2af10cf5e7eefe87e",
      "648efdc0bdca4284a31b2d2baf7861df",
      "bc6d5b16523f44df9b25aab27a5f2ca9",
      "1396e8e6a7ed43eca6ee23be4416d469",
      "ec1639c4254d4ca5b4ee4eb8f6c8b4d9",
      "16c61874c8c349b0a51c236ec80da3af",
      "f9521118afe14ec1917764e8f73427ab",
      "a8cec92d25e545f2b3a2442a31e37f77",
      "d236d5168d684c72962a3754f1954ad0",
      "17ae40786c324b3c9876ffa319ede3be",
      "6cf142e985cb493f8de4bf960e1faf68",
      "a694ef4b9ca2446e89fad1949e4cffd8",
      "c2f3122e948f4aa89d0b0fc9d327c82c",
      "9b1fe89807d945e0b218457d16625ca5",
      "95ccd1bcfdf04538915d335b8e2e3ede",
      "82e579d49f0744e2bb8823394bd53abc",
      "d5e9878543664538bd26d7e1d516f6d4",
      "aba7af644ddb48ccbc3ac9f7e6e3b4f6",
      "78dc8828a9e2434c82d6cca38cecc506",
      "1f87444215fe4108b67ea86a125f1824",
      "5d45269d6d374f0cb3216e1081149fb5",
      "076a0351572b4bb68191bd1fbdac598e",
      "39be9ea0cef04e27a7607c694208c288",
      "82a2e62fba3740aa9075d1e3f6c6b32f",
      "c077dfb0eec94529b1b651a0579916aa",
      "a52270865b8d4fd0a676e6e700061676",
      "fdf50fed3a9c4f02a6bc3f28520ce095",
      "18ecf91391c64478bbf216acc3bd4a84",
      "708b0b15cbad4519bc399c6849303823",
      "c0c405181d454c57a5064ab34df3bbe2",
      "75e75aa3ad914f1bb24a8426cb7cc43c",
      "7cc58f45ffca47f2b44926279176c7e9",
      "185c5b42a0c44fe19716f63772e1c88f",
      "c16ac1ca487e4972b1527d5e399407f1",
      "a008334c97f847bea184ffcef2a51083",
      "5c7077fdbceb4ce897c0f8ba169780a1",
      "d9de53e651024a2181c0199bb8132b4c",
      "1e817ace0e124208850e3ba734ced234",
      "49d3992d85ca4c9693755fd4c1f7d28e",
      "1fde60c869864f9482217eb265328704",
      "4428796aa68c4a73a5cb8bef1e9bb0ad",
      "f25890fff5374f869b9b9de22d30d78f",
      "255cfe0394454c5893903cb1467b74fd",
      "4dd26b46c2d848d2b29ec5f4eb799947",
      "158df162c8d141e0b657da7f90363bc0",
      "e58f5026bf7349d29b6924bc869c62e2",
      "58890cc775be45ebabdb9aa791701037",
      "061603b95eb44bac82abfe109cdff26d",
      "82a14a09fc304dc2bdced3a4441b83e2",
      "0be0f47bd8914b7aa2ef2c44bf798b2a",
      "16d87e8517b6453eb31db8d472667397",
      "a79100510d384833a06a9c3752779aae",
      "6c1e06c96a0c49f295d5da4b82731ba6",
      "21883a76e8964290ab0ef23fd56a51e2",
      "cf492d4682e547e3bb3ce4e187f17f12",
      "2810e75b03324fbc8ee7935626f606fa",
      "a00653421b004d969d0e3849cae91bd5",
      "1fea2b81f5f0429c92d446e822bde56c",
      "debe564003264613a617ea748ff1192d",
      "80da4a5027bc44fdad67de84cf0d75a2",
      "9c00850a53364f8988a6555a445f9360",
      "2b89066649124e00a7331e2c76c95363",
      "130092f09cd4493385a62b209b5e79da",
      "b71551e423154b878cfc3a7a0a976d3e",
      "bc1c2a34a8aa423ebae506ed2530e85c",
      "a66833f10a824fa3a4fd4b000002eb9c",
      "29dec122783c4d879c124057567105a7",
      "2d82b54994a642b38deb2b040bd79a94",
      "b64fe51d6f4b40189866788767863572",
      "c953ef1c535349b8b03060083396cf68",
      "b2500b1fca8241fbab4a2a016c3ce98d",
      "483351386a5843d7a338d144799db064",
      "4364130edd844a97a21494c5c71816e4",
      "145649147a25423aa713aaa51b5b9813",
      "7f45ab3e80cd46d68f5149b8e263bb87",
      "cb498ec0c7bb4b929173f1ecbd1b0356",
      "75fceda7dfa14988aaae13c81669ab7d",
      "012771a4a10047a78bdb3455b2167177",
      "506a75f1c64847c38cc4014dbd9abfb6",
      "b5b447be3f4745f9819ff2b4f4615107",
      "b02e3083a15e446a8000036ec8f90db1",
      "95a683d9d4454015ac979d25fde5cce4",
      "a7528f4445f947b6b407b4413d7a89b8",
      "0eb9a4c4cb2247daad86b7cf83f12fe0",
      "a88a53e076a846fbb73971dbb5f0ba55",
      "b8ca421f7d214626965c9d8fcddc9a1b",
      "e2bea007b4e14f6a9ea4a8c6fc26442c",
      "34f7400f7e174b0eb66e4eb3d131ecbf",
      "a0a21b4615fe4005824acbd87569ce9b",
      "371453d7903c4f98906c40deb20b2333",
      "252fd3e923774c88b99f35cb1780bb8b",
      "4575019d416a40adbb27c8dc1b786e72",
      "a323e8fa40c64991a7453f36a64eeb79",
      "c8ce027830dd495592c6502bc724ce04",
      "c4ebd28c17d64674a5390bbcb6e70ada",
      "d4d95d40d1f040618bed1ec3d04a2d01",
      "0200c44472ce41358a70ac936a0c46da",
      "f6fa08b389864b48b7c675966e471e24",
      "d0c29d2e9012458d88027148c6f2c578",
      "08a1900b81b04231910b848d759d8357",
      "43b48afcc2ef482a97c2fb047337ac0a",
      "c728d4c0c80349508745581b42bee258",
      "481e2107d14a4d1e96fb02ecfff52c67",
      "cc03051d9555483e936044e626d55ce2",
      "bb2ee3e8a8764149a41542fda47d36af",
      "0d604736acde452bac26e393361141d9",
      "ac3a7b95248e4c0881b0c4097d1417d1",
      "8cbe171cf4e74a378c7a7afb67a8a07b",
      "71f38f4dcc634224aa274522c4f7ff12",
      "3fdf8c5ee7e642f2ab3612f44bdb9ba6",
      "7a7c08e3680d4ba5acf037050492b4b8",
      "d3109a262cec4c5eb9d909e2564b564d",
      "206168ed1f834cc9aa41fd6bd6a308f6",
      "c5fa89ae20ad475face698abc1424bd2",
      "2642aeceb5834b2dbbf008e8d14d21f8",
      "290acc5790524972b742125908db9d7f",
      "c29a0d7d04f0430993825406eba82501",
      "8b5e76ec2b6a49fcb97e8d96f7938a0a",
      "ec1f8d05cb4c476bbc88d53e9d70f6c8",
      "fa73bdc2d85f4ecdaa43c24d8e986deb",
      "679bf279fc85415b96cfdda6a136a157",
      "21e3ee3600044c79846eec05e560620a",
      "9e21f57b86e9423184526fef51564db1",
      "e4523570a6fb4d2eb7a2fc4e300c55fc",
      "553dcf16acb94d36a1c3435fd492a18f",
      "9c5ef0f04a2f42a4b0e6182bffc23927",
      "693825842c9246cd9baf1610db578538",
      "6dc622b57aa94a3ea65ac3d355cc171b",
      "6150f1465bd74074a400be5e162976e9",
      "2e84263d48574c149d32950fb1fee792",
      "70cdd3e0d01a4d51ad691fc7a349b07a",
      "c3f57ef013c84055ba9aff32605a2306",
      "83f78cba8a9447938879034f58cf96a4",
      "fe410ba520d64304bdf1734e598ca1d7",
      "e5f2ca82a3f647e48863ea1d4f40a231",
      "453b328701bc4403a368d8401d92633c",
      "3fddc62559dd42288da60a813f2a39db",
      "f236420aa5b945d4a9d03bac06a27734",
      "12bf7236d608410bbf2d6db2762e8c6b",
      "1bdacc3c2a3549eab4b56fffce2e75d9",
      "9d4dbd47cd62451cb6c465d9bf702e78",
      "b5f582605cb9455788421c946aa96307",
      "b0c90e3f1dee461ca4dc2932fa3f0a09",
      "d96105ad1ee840fc9996d717502b6e7f"
     ]
    }
   },
   "source": [
    "from sentence_transformers import SentenceTransformer\n",
    "from sklearn.linear_model import LogisticRegression\n",
    "from sklearn.metrics import f1_score, accuracy_score\n",
    "import numpy as np\n",
    "\n",
    "print(\"ENSEMBLE CLASSIFIER COMPARISON\")\n",
    "print(\"=\"*60)\n",
    "\n",
    "# Load 3 different models\n",
    "model1 = SentenceTransformer('sentence-transformers/all-mpnet-base-v2')\n",
    "model2 = SentenceTransformer('sentence-transformers/all-MiniLM-L6-v2')\n",
    "model3 = SentenceTransformer('sentence-transformers/paraphrase-MiniLM-L3-v2')\n",
    "\n",
    "models = [model1, model2, model3]\n",
    "model_names = [\"MPNet\", \"MiniLM-L6\", \"MiniLM-L3\"]\n",
    "\n",
    "print(f\"Using {len(models)} models:\\n\")\n",
    "for name in model_names:\n",
    "    print(f\"  - {name}\")\n",
    "\n",
    "# Train each model\n",
    "train_subset = data[\"train\"].shuffle(seed=42).select(range(1000))\n",
    "test_subset = data[\"test\"].shuffle(seed=42).select(range(200))\n",
    "\n",
    "print(f\"\\nTraining on {len(train_subset)} samples...\")\n",
    "print(\"Note: In practice, ensemble diversity comes from:\")\n",
    "print(\"  - Different model architectures\")\n",
    "print(\"  - Different training data subsets\")\n",
    "print(\"  - Different hyperparameters\\n\")"
   ],
   "outputs": [
    {
     "output_type": "stream",
     "name": "stdout",
     "text": [
      "ENSEMBLE CLASSIFIER COMPARISON\n",
      "============================================================\n"
     ]
    },
    {
     "output_type": "display_data",
     "data": {
      "text/plain": [
       "modules.json:   0%|          | 0.00/349 [00:00<?, ?B/s]"
      ],
      "application/vnd.jupyter.widget-view+json": {
       "version_major": 2,
       "version_minor": 0,
       "model_id": "d6da645348104f82a48c139568d01aa8"
      }
     },
     "metadata": {}
    },
    {
     "output_type": "display_data",
     "data": {
      "text/plain": [
       "config_sentence_transformers.json:   0%|          | 0.00/116 [00:00<?, ?B/s]"
      ],
      "application/vnd.jupyter.widget-view+json": {
       "version_major": 2,
       "version_minor": 0,
       "model_id": "59d8d928f7614f0aaa676a975c3a55ae"
      }
     },
     "metadata": {}
    },
    {
     "output_type": "display_data",
     "data": {
      "text/plain": [
       "README.md: 0.00B [00:00, ?B/s]"
      ],
      "application/vnd.jupyter.widget-view+json": {
       "version_major": 2,
       "version_minor": 0,
       "model_id": "36733e4abda147c797928be9e5694518"
      }
     },
     "metadata": {}
    },
    {
     "output_type": "display_data",
     "data": {
      "text/plain": [
       "sentence_bert_config.json:   0%|          | 0.00/53.0 [00:00<?, ?B/s]"
      ],
      "application/vnd.jupyter.widget-view+json": {
       "version_major": 2,
       "version_minor": 0,
       "model_id": "e376fc2fb8f94909b0b4ace2bf7c5630"
      }
     },
     "metadata": {}
    },
    {
     "output_type": "display_data",
     "data": {
      "text/plain": [
       "config.json:   0%|          | 0.00/612 [00:00<?, ?B/s]"
      ],
      "application/vnd.jupyter.widget-view+json": {
       "version_major": 2,
       "version_minor": 0,
       "model_id": "dea02e70c3184f85a63c3f9221affa86"
      }
     },
     "metadata": {}
    },
    {
     "output_type": "display_data",
     "data": {
      "text/plain": [
       "model.safetensors:   0%|          | 0.00/90.9M [00:00<?, ?B/s]"
      ],
      "application/vnd.jupyter.widget-view+json": {
       "version_major": 2,
       "version_minor": 0,
       "model_id": "57fae2f698d941cebd62b93de4f92166"
      }
     },
     "metadata": {}
    },
    {
     "output_type": "display_data",
     "data": {
      "text/plain": [
       "tokenizer_config.json:   0%|          | 0.00/350 [00:00<?, ?B/s]"
      ],
      "application/vnd.jupyter.widget-view+json": {
       "version_major": 2,
       "version_minor": 0,
       "model_id": "b5ae1fbe03b444c284314450447a3533"
      }
     },
     "metadata": {}
    },
    {
     "output_type": "display_data",
     "data": {
      "text/plain": [
       "vocab.txt: 0.00B [00:00, ?B/s]"
      ],
      "application/vnd.jupyter.widget-view+json": {
       "version_major": 2,
       "version_minor": 0,
       "model_id": "fc18aaeda3324ace914d9d3354ddb7c6"
      }
     },
     "metadata": {}
    },
    {
     "output_type": "display_data",
     "data": {
      "text/plain": [
       "tokenizer.json: 0.00B [00:00, ?B/s]"
      ],
      "application/vnd.jupyter.widget-view+json": {
       "version_major": 2,
       "version_minor": 0,
       "model_id": "349dbd6c6bb646b496a3ab1137d479fc"
      }
     },
     "metadata": {}
    },
    {
     "output_type": "display_data",
     "data": {
      "text/plain": [
       "special_tokens_map.json:   0%|          | 0.00/112 [00:00<?, ?B/s]"
      ],
      "application/vnd.jupyter.widget-view+json": {
       "version_major": 2,
       "version_minor": 0,
       "model_id": "648efdc0bdca4284a31b2d2baf7861df"
      }
     },
     "metadata": {}
    },
    {
     "output_type": "display_data",
     "data": {
      "text/plain": [
       "config.json:   0%|          | 0.00/190 [00:00<?, ?B/s]"
      ],
      "application/vnd.jupyter.widget-view+json": {
       "version_major": 2,
       "version_minor": 0,
       "model_id": "c2f3122e948f4aa89d0b0fc9d327c82c"
      }
     },
     "metadata": {}
    },
    {
     "output_type": "display_data",
     "data": {
      "text/plain": [
       "modules.json:   0%|          | 0.00/229 [00:00<?, ?B/s]"
      ],
      "application/vnd.jupyter.widget-view+json": {
       "version_major": 2,
       "version_minor": 0,
       "model_id": "82a2e62fba3740aa9075d1e3f6c6b32f"
      }
     },
     "metadata": {}
    },
    {
     "output_type": "display_data",
     "data": {
      "text/plain": [
       "config_sentence_transformers.json:   0%|          | 0.00/122 [00:00<?, ?B/s]"
      ],
      "application/vnd.jupyter.widget-view+json": {
       "version_major": 2,
       "version_minor": 0,
       "model_id": "a008334c97f847bea184ffcef2a51083"
      }
     },
     "metadata": {}
    },
    {
     "output_type": "display_data",
     "data": {
      "text/plain": [
       "README.md: 0.00B [00:00, ?B/s]"
      ],
      "application/vnd.jupyter.widget-view+json": {
       "version_major": 2,
       "version_minor": 0,
       "model_id": "e58f5026bf7349d29b6924bc869c62e2"
      }
     },
     "metadata": {}
    },
    {
     "output_type": "display_data",
     "data": {
      "text/plain": [
       "sentence_bert_config.json:   0%|          | 0.00/53.0 [00:00<?, ?B/s]"
      ],
      "application/vnd.jupyter.widget-view+json": {
       "version_major": 2,
       "version_minor": 0,
       "model_id": "a00653421b004d969d0e3849cae91bd5"
      }
     },
     "metadata": {}
    },
    {
     "output_type": "display_data",
     "data": {
      "text/plain": [
       "config.json:   0%|          | 0.00/629 [00:00<?, ?B/s]"
      ],
      "application/vnd.jupyter.widget-view+json": {
       "version_major": 2,
       "version_minor": 0,
       "model_id": "2d82b54994a642b38deb2b040bd79a94"
      }
     },
     "metadata": {}
    },
    {
     "output_type": "display_data",
     "data": {
      "text/plain": [
       "model.safetensors:   0%|          | 0.00/69.6M [00:00<?, ?B/s]"
      ],
      "application/vnd.jupyter.widget-view+json": {
       "version_major": 2,
       "version_minor": 0,
       "model_id": "506a75f1c64847c38cc4014dbd9abfb6"
      }
     },
     "metadata": {}
    },
    {
     "output_type": "display_data",
     "data": {
      "text/plain": [
       "tokenizer_config.json:   0%|          | 0.00/314 [00:00<?, ?B/s]"
      ],
      "application/vnd.jupyter.widget-view+json": {
       "version_major": 2,
       "version_minor": 0,
       "model_id": "371453d7903c4f98906c40deb20b2333"
      }
     },
     "metadata": {}
    },
    {
     "output_type": "display_data",
     "data": {
      "text/plain": [
       "vocab.txt: 0.00B [00:00, ?B/s]"
      ],
      "application/vnd.jupyter.widget-view+json": {
       "version_major": 2,
       "version_minor": 0,
       "model_id": "43b48afcc2ef482a97c2fb047337ac0a"
      }
     },
     "metadata": {}
    },
    {
     "output_type": "display_data",
     "data": {
      "text/plain": [
       "tokenizer.json: 0.00B [00:00, ?B/s]"
      ],
      "application/vnd.jupyter.widget-view+json": {
       "version_major": 2,
       "version_minor": 0,
       "model_id": "d3109a262cec4c5eb9d909e2564b564d"
      }
     },
     "metadata": {}
    },
    {
     "output_type": "display_data",
     "data": {
      "text/plain": [
       "special_tokens_map.json:   0%|          | 0.00/112 [00:00<?, ?B/s]"
      ],
      "application/vnd.jupyter.widget-view+json": {
       "version_major": 2,
       "version_minor": 0,
       "model_id": "9e21f57b86e9423184526fef51564db1"
      }
     },
     "metadata": {}
    },
    {
     "output_type": "display_data",
     "data": {
      "text/plain": [
       "config.json:   0%|          | 0.00/190 [00:00<?, ?B/s]"
      ],
      "application/vnd.jupyter.widget-view+json": {
       "version_major": 2,
       "version_minor": 0,
       "model_id": "fe410ba520d64304bdf1734e598ca1d7"
      }
     },
     "metadata": {}
    },
    {
     "output_type": "stream",
     "name": "stdout",
     "text": [
      "Using 3 models:\n",
      "\n",
      "  - MPNet\n",
      "  - MiniLM-L6\n",
      "  - MiniLM-L3\n",
      "\n",
      "Training on 1000 samples...\n",
      "Note: In practice, ensemble diversity comes from:\n",
      "  - Different model architectures\n",
      "  - Different training data subsets\n",
      "  - Different hyperparameters\n",
      "\n"
     ]
    }
   ],
   "execution_count": 9
  },
  {
   "cell_type": "markdown",
   "metadata": {},
   "source": [
    "Train each model individually and track performance:"
   ]
  },
  {
   "cell_type": "code",
   "metadata": {},
   "source": [
    "classifiers = []\n",
    "individual_f1s = []\n",
    "\n",
    "print(\"Training individual models...\\n\")"
   ],
   "outputs": [],
   "execution_count": null
  },
  {
   "cell_type": "code",
   "metadata": {},
   "source": [
    "for i, (model, name) in enumerate(zip(models, model_names)):\n",
    "    # Encode with this model\n",
    "    train_emb = model.encode(train_subset[\"text\"], show_progress_bar=False)\n",
    "    test_emb = model.encode(test_subset[\"text\"], show_progress_bar=False)\n",
    "    \n",
    "    # Train classifier\n",
    "    clf = LogisticRegression(random_state=42, max_iter=1000)\n",
    "    clf.fit(train_emb, train_subset[\"label\"])\n",
    "    \n",
    "    # Evaluate\n",
    "    y_pred = clf.predict(test_emb)\n",
    "    f1 = f1_score(test_subset[\"label\"], y_pred, average='weighted')\n",
    "    \n",
    "    classifiers.append((clf, test_emb))\n",
    "    individual_f1s.append(f1)\n",
    "    \n",
    "    print(f\"{name:12s}: F1 = {f1:.4f}\")"
   ],
   "outputs": [],
   "execution_count": null
  },
  {
   "cell_type": "markdown",
   "metadata": {},
   "source": [
    "Collect predictions from all models for ensemble voting:"
   ]
  },
  {
   "cell_type": "code",
   "metadata": {},
   "source": [
    "all_predictions = []\n",
    "\n",
    "for clf, test_emb in classifiers:\n",
    "    preds = clf.predict(test_emb)\n",
    "    all_predictions.append(preds)\n",
    "\n",
    "all_predictions = np.array(all_predictions)\n",
    "print(f\"\\nCollected predictions from {len(all_predictions)} models\")"
   ],
   "outputs": [],
   "execution_count": null
  },
  {
   "cell_type": "markdown",
   "metadata": {},
   "source": [
    "Apply majority voting to get ensemble predictions:"
   ]
  },
  {
   "cell_type": "code",
   "metadata": {},
   "source": [
    "ensemble_predictions = []\n",
    "\n",
    "for i in range(len(test_subset)):\n",
    "    votes = all_predictions[:, i]\n",
    "    unique, counts = np.unique(votes, return_counts=True)\n",
    "    majority = unique[np.argmax(counts)]  # Pick most common vote\n",
    "    ensemble_predictions.append(majority)\n",
    "\n",
    "ensemble_f1 = f1_score(test_subset[\"label\"], ensemble_predictions, average='weighted')\n",
    "print(f\"Ensemble F1: {ensemble_f1:.4f}\")"
   ],
   "outputs": [],
   "execution_count": null
  },
  {
   "cell_type": "markdown",
   "metadata": {},
   "source": [
    "Compare ensemble vs individual models:"
   ]
  },
  {
   "cell_type": "code",
   "metadata": {},
   "source": [
    "print(\"\\nRESULTS COMPARISON\")\n",
    "print(\"-\" * 40)\n",
    "\n",
    "for name, f1 in zip(model_names, individual_f1s):\n",
    "    print(f\"{name:12s}: {f1:.4f}\")\n",
    "\n",
    "print(f\"\\nEnsemble:     {ensemble_f1:.4f}\")\n",
    "\n",
    "best_individual = max(individual_f1s)\n",
    "if ensemble_f1 > best_individual:\n",
    "    gain = ensemble_f1 - best_individual\n",
    "    print(f\"\\n\u2713 Ensemble wins by {gain:.4f}!\")\n",
    "else:\n",
    "    diff = best_individual - ensemble_f1\n",
    "    print(f\"\\nBest individual model wins by {diff:.4f}\")"
   ],
   "outputs": [],
   "execution_count": null
  },
  {
   "cell_type": "markdown",
   "metadata": {
    "id": "hGa8u5Ghnzyq"
   },
   "source": [
    "#### Hard Task 4: Cross-Domain Transfer Learning\n",
    "\n",
    "Can a classifier trained on movie reviews work on restaurant, product, or book reviews? Observe zero-shot transfer (no adaptation) performance on each domain, see which domains transfer well and which don't, then try few-shot adaptation (adding just 4 examples from target domain). Analyze domain similarity using embedding distances and optionally add your own custom domain to test."
   ]
  },
  {
   "cell_type": "markdown",
   "metadata": {
    "id": "nhueGby3nzyr"
   },
   "source": [
    "Load dependencies and set up source/target domains:"
   ]
  },
  {
   "cell_type": "code",
   "metadata": {
    "id": "574s5OB8nzys"
   },
   "source": [
    "from sentence_transformers import SentenceTransformer\n",
    "from sklearn.linear_model import LogisticRegression\n",
    "from sklearn.metrics import f1_score, accuracy_score\n",
    "import numpy as np"
   ],
   "outputs": [],
   "execution_count": 10
  },
  {
   "cell_type": "markdown",
   "metadata": {
    "id": "9m7SiDmknzys"
   },
   "source": [
    "Define source domain (movies) and target domains:"
   ]
  },
  {
   "cell_type": "code",
   "metadata": {
    "id": "7NsPi1yMnzys"
   },
   "source": [
    "movie_data = load_dataset(\"rotten_tomatoes\")\n",
    "model = SentenceTransformer('sentence-transformers/all-mpnet-base-v2')\n",
    "\n",
    "movie_train = movie_data[\"train\"].shuffle(seed=42).select(range(2000))\n",
    "movie_test = movie_data[\"test\"].shuffle(seed=42).select(range(200))"
   ],
   "outputs": [],
   "execution_count": 11
  },
  {
   "cell_type": "code",
   "metadata": {
    "id": "XmFlUawpnzyt"
   },
   "source": [
    "restaurant_reviews = {\n",
    "    'text': [\n",
    "        \"Amazing food and excellent service!\",\n",
    "        \"Best restaurant in town, highly recommend\",\n",
    "        \"Delicious meals and great atmosphere\",\n",
    "        \"Outstanding cuisine and friendly staff\",\n",
    "        \"Terrible food, very disappointing\",\n",
    "        \"Awful service and poor quality\",\n",
    "        \"Not worth the money, mediocre at best\",\n",
    "        \"Disgusting food and rude waiters\",\n",
    "        \"The pasta was okay but nothing special\",\n",
    "        \"Decent place for a quick meal\"\n",
    "    ],\n",
    "    'label': [1, 1, 1, 1, 0, 0, 0, 0, 0, 0]\n",
    "}\n",
    "\n",
    "product_reviews = {\n",
    "    'text': [\n",
    "        \"This product is amazing! Works perfectly\",\n",
    "        \"Excellent quality, very satisfied\",\n",
    "        \"Great value for money, highly recommend\",\n",
    "        \"Perfect! Exactly what I needed\",\n",
    "        \"Terrible product, broke immediately\",\n",
    "        \"Waste of money, very poor quality\",\n",
    "        \"Doesn't work as advertised, disappointed\",\n",
    "        \"Awful, don't buy this\",\n",
    "        \"It's okay, does the job\",\n",
    "        \"Average product, nothing special\"\n",
    "    ],\n",
    "    'label': [1, 1, 1, 1, 0, 0, 0, 0, 0, 0]\n",
    "}\n",
    "\n",
    "book_reviews = {\n",
    "    'text': [\n",
    "        \"Brilliant book! Couldn't put it down\",\n",
    "        \"Masterfully written, highly engaging\",\n",
    "        \"One of the best books I've read\",\n",
    "        \"Fantastic story and great characters\",\n",
    "        \"Boring and poorly written\",\n",
    "        \"Terrible book, waste of time\",\n",
    "        \"Disappointing, not worth reading\",\n",
    "        \"Awful plot and weak characters\",\n",
    "        \"Decent read but nothing groundbreaking\",\n",
    "        \"It was fine, not great not terrible\"\n",
    "    ],\n",
    "    'label': [1, 1, 1, 1, 0, 0, 0, 0, 0, 0]\n",
    "}"
   ],
   "outputs": [],
   "execution_count": 12
  },
  {
   "cell_type": "markdown",
   "metadata": {
    "id": "QJ7yP7KVnzyu"
   },
   "source": [
    "Train classifier on source domain (movies):"
   ]
  },
  {
   "cell_type": "code",
   "metadata": {
    "id": "NhM4esP1nzyv",
    "outputId": "d2063427-48ea-42e9-a71f-62afb4b33caf",
    "colab": {
     "base_uri": "https://localhost:8080/",
     "height": 102,
     "referenced_widgets": [
      "de250f398a7744be92eb20c33634baeb",
      "4fdfd656ee914eeaa7f9ef8d70e8f302",
      "cf2f26a01eed4719a17d60d3a9cb526e",
      "e004b56892ca446a914fa04ce32fc099",
      "c0d7a9026c0d4074be71496ca1acdc9f",
      "684408dce5914a2ba1c89e684220a78d",
      "7df166fb2b7a4391a52d013f67566d34",
      "e4d233e02ba541c7be0b13f19d60b6ec",
      "39ee212ba838454eb36183578d2fed3b",
      "6756e47a3d3f41e9bfc36e3d73891f74",
      "061e64518e9e4df0a89839b60f1fd8a0"
     ]
    }
   },
   "source": [
    "print(\"Training on movie reviews...\")\n",
    "train_embeddings = model.encode(movie_train[\"text\"], show_progress_bar=True)\n",
    "\n",
    "clf = LogisticRegression(random_state=42, max_iter=1000)\n",
    "clf.fit(train_embeddings, movie_train[\"label\"])\n",
    "\n",
    "# Test on source domain\n",
    "movie_test_embeddings = model.encode(movie_test[\"text\"], show_progress_bar=False)\n",
    "movie_test_pred = clf.predict(movie_test_embeddings)\n",
    "source_f1 = f1_score(movie_test[\"label\"], movie_test_pred, average='weighted')\n",
    "\n",
    "print(f\"\\nSource domain F1: {source_f1:.4f}\")"
   ],
   "outputs": [
    {
     "output_type": "stream",
     "name": "stdout",
     "text": [
      "Training on movie reviews...\n"
     ]
    },
    {
     "output_type": "display_data",
     "data": {
      "text/plain": [
       "Batches:   0%|          | 0/63 [00:00<?, ?it/s]"
      ],
      "application/vnd.jupyter.widget-view+json": {
       "version_major": 2,
       "version_minor": 0,
       "model_id": "de250f398a7744be92eb20c33634baeb"
      }
     },
     "metadata": {}
    },
    {
     "output_type": "stream",
     "name": "stdout",
     "text": [
      "\n",
      "Source domain F1: 0.8497\n"
     ]
    }
   ],
   "execution_count": 13
  },
  {
   "cell_type": "markdown",
   "metadata": {
    "id": "yEr0prtsnzyw"
   },
   "source": [
    "Test zero-shot transfer to target domains (no adaptation):"
   ]
  },
  {
   "cell_type": "code",
   "metadata": {
    "id": "VPD8PXiZnzyx",
    "outputId": "6455c016-8a8c-4694-88d1-ae88807558ee",
    "colab": {
     "base_uri": "https://localhost:8080/"
    }
   },
   "source": [
    "target_domains = {\n",
    "    \"Restaurant\": restaurant_reviews,\n",
    "    \"Product\": product_reviews,\n",
    "    \"Book\": book_reviews,\n",
    "}\n",
    "\n",
    "transfer_results = {}\n",
    "\n",
    "print(\"\\nZero-shot transfer results:\")\n",
    "for domain_name, domain_data in target_domains.items():\n",
    "    domain_embeddings = model.encode(domain_data['text'])\n",
    "    domain_pred = clf.predict(domain_embeddings)\n",
    "    domain_f1 = f1_score(domain_data['label'], domain_pred, average='weighted')\n",
    "    domain_acc = accuracy_score(domain_data['label'], domain_pred)\n",
    "\n",
    "    print(f\"\\n{domain_name}: F1={domain_f1:.4f}, Acc={domain_acc:.4f}\")\n",
    "    print(f\"  Drop from source: {source_f1 - domain_f1:.4f}\")\n",
    "\n",
    "    transfer_results[domain_name] = {\n",
    "        'zero_shot_f1': domain_f1,\n",
    "        'embeddings': domain_embeddings\n",
    "    }"
   ],
   "outputs": [
    {
     "output_type": "stream",
     "name": "stdout",
     "text": [
      "\n",
      "Zero-shot transfer results:\n",
      "\n",
      "Restaurant: F1=0.9010, Acc=0.9000\n",
      "  Drop from source: -0.0513\n",
      "\n",
      "Product: F1=1.0000, Acc=1.0000\n",
      "  Drop from source: -0.1503\n",
      "\n",
      "Book: F1=0.9010, Acc=0.9000\n",
      "  Drop from source: -0.0513\n"
     ]
    }
   ],
   "execution_count": 14
  },
  {
   "cell_type": "markdown",
   "metadata": {
    "id": "EEPIxwrLnzyy"
   },
   "source": [
    "Few-shot adaptation (add 4 examples from target domain):"
   ]
  },
  {
   "cell_type": "code",
   "metadata": {
    "id": "3SRItXyjnzyy",
    "outputId": "9bde5f82-559d-4a5c-aa9e-0f8039b06512",
    "colab": {
     "base_uri": "https://localhost:8080/"
    }
   },
   "source": [
    "adaptation_size = 4\n",
    "\n",
    "print(\"\\nFew-shot adaptation (4 examples):\")\n",
    "for domain_name, domain_data in target_domains.items():\n",
    "    # Split: first 4 for adaptation, rest for testing\n",
    "    adapt_texts = domain_data['text'][:adaptation_size]\n",
    "    adapt_labels = domain_data['label'][:adaptation_size]\n",
    "    test_texts = domain_data['text'][adaptation_size:]\n",
    "    test_labels = domain_data['label'][adaptation_size:]\n",
    "\n",
    "    # Combine source + adaptation\n",
    "    adapt_embeddings = model.encode(adapt_texts)\n",
    "    combined_embeddings = np.vstack([train_embeddings, adapt_embeddings])\n",
    "    combined_labels = list(movie_train[\"label\"]) + adapt_labels\n",
    "\n",
    "    # Retrain\n",
    "    clf_adapted = LogisticRegression(random_state=42, max_iter=1000)\n",
    "    clf_adapted.fit(combined_embeddings, combined_labels)\n",
    "\n",
    "    # Test\n",
    "    test_embeddings = model.encode(test_texts)\n",
    "    adapted_pred = clf_adapted.predict(test_embeddings)\n",
    "    adapted_f1 = f1_score(test_labels, adapted_pred, average='weighted')\n",
    "\n",
    "    zero_shot_f1 = transfer_results[domain_name]['zero_shot_f1']\n",
    "    improvement = adapted_f1 - zero_shot_f1\n",
    "\n",
    "    print(f\"\\n{domain_name}:\")\n",
    "    print(f\"  Zero-shot: {zero_shot_f1:.4f}\")\n",
    "    print(f\"  Adapted:   {adapted_f1:.4f}\")\n",
    "    print(f\"  Gain:      {improvement:+.4f}\")\n",
    "\n",
    "    transfer_results[domain_name]['adapted_f1'] = adapted_f1\n",
    "    transfer_results[domain_name]['improvement'] = improvement"
   ],
   "outputs": [
    {
     "output_type": "stream",
     "name": "stdout",
     "text": [
      "\n",
      "Few-shot adaptation (4 examples):\n",
      "\n",
      "Restaurant:\n",
      "  Zero-shot: 0.9010\n",
      "  Adapted:   0.9091\n",
      "  Gain:      +0.0081\n",
      "\n",
      "Product:\n",
      "  Zero-shot: 1.0000\n",
      "  Adapted:   1.0000\n",
      "  Gain:      +0.0000\n",
      "\n",
      "Book:\n",
      "  Zero-shot: 0.9010\n",
      "  Adapted:   0.9091\n",
      "  Gain:      +0.0081\n"
     ]
    }
   ],
   "execution_count": 15
  },
  {
   "cell_type": "markdown",
   "metadata": {
    "id": "yc6UDdfinzyz"
   },
   "source": [
    "Analyze domain similarity (embedding distance):"
   ]
  },
  {
   "cell_type": "code",
   "metadata": {
    "id": "4YMFCMYUnzyz",
    "outputId": "ded84043-cbef-4504-8ef3-703614c77737",
    "colab": {
     "base_uri": "https://localhost:8080/"
    }
   },
   "source": [
    "source_centroid = np.mean(train_embeddings, axis=0)\n",
    "\n",
    "print(\"\\nDomain distances from source:\")\n",
    "for domain_name in target_domains.keys():\n",
    "    domain_embeddings = transfer_results[domain_name]['embeddings']\n",
    "    domain_centroid = np.mean(domain_embeddings, axis=0)\n",
    "    distance = np.linalg.norm(source_centroid - domain_centroid)\n",
    "\n",
    "    zero_f1 = transfer_results[domain_name]['zero_shot_f1']\n",
    "    drop = source_f1 - zero_f1\n",
    "\n",
    "    print(f\"\\n{domain_name:12s}: distance={distance:.3f}, drop={drop:.3f}\")\n",
    "\n",
    "print(\"\\nObservation: Smaller distance = better transfer\")"
   ],
   "outputs": [
    {
     "output_type": "stream",
     "name": "stdout",
     "text": [
      "\n",
      "Domain distances from source:\n",
      "\n",
      "Restaurant  : distance=0.716, drop=-0.051\n",
      "\n",
      "Product     : distance=0.678, drop=-0.150\n",
      "\n",
      "Book        : distance=0.534, drop=-0.051\n",
      "\n",
      "Observation: Smaller distance = better transfer\n"
     ]
    }
   ],
   "execution_count": 16
  },
  {
   "cell_type": "markdown",
   "metadata": {
    "id": "kBJkCQOGnzy0"
   },
   "source": [
    "### Questions\n",
    "\n",
    "1. Which domain transferred best from movies? Which worst?\n",
    "\n",
    "2. Do you see patterns in what transfers well vs what fails?\n",
    "\n",
    "3. After few-shot adaptation: Which domains benefited most from just 4 examples?\n"
   ]
  },
  {
   "cell_type": "code",
   "source": [],
   "metadata": {
    "id": "yZLqm3S4IP2e"
   },
   "execution_count": 16,
   "outputs": []
  }
 ],
 "metadata": {
  "accelerator": "GPU",
  "colab": {
   "gpuType": "T4",
   "provenance": []
  },
  "kernelspec": {
   "display_name": "Python 3 (ipykernel)",
   "language": "python",
   "name": "python3"
  },
  "language_info": {
   "codemirror_mode": {
    "name": "ipython",
    "version": 3
   },
   "file_extension": ".py",
   "mimetype": "text/x-python",
   "name": "python",
   "nbconvert_exporter": "python",
   "pygments_lexer": "ipython3",
   "version": "3.12.9"
  }
 },
 "nbformat": 4,
 "nbformat_minor": 0
}