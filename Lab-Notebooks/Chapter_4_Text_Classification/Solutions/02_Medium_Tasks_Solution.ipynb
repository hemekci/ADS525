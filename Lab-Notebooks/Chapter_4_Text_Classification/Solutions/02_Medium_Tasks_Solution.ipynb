{
  "cells": [
    {
      "cell_type": "markdown",
      "metadata": {
        "id": "4IyffKxPbyhq"
      },
      "source": [
        "# Chapter 4: Text Classification - Medium Tasks (Solutions)\n",
        "\n",
        "Complete working solutions."
      ]
    },
    {
      "cell_type": "markdown",
      "metadata": {
        "id": "tOxEdnfDbyhu"
      },
      "source": [
        "---\n",
        "\n",
        "## Setup\n",
        "\n",
        "Run all cells in this section to set up the environment and load necessary data.\n"
      ]
    },
    {
      "cell_type": "markdown",
      "metadata": {
        "id": "0LGW2SD-c864"
      },
      "source": [
        "### [Optional] - Installing Packages on <img src=\"https://colab.google/static/images/icons/colab.png\" width=100>\n",
        "\n",
        "If you are viewing this notebook on Google Colab (or any other cloud vendor), you need to **uncomment and run** the following codeblock to install the dependencies for this chapter:\n",
        "\n",
        "---\n",
        "\n",
        " **Note**: We will want to use a GPU to run the examples in this notebook. In Google Colab, go to\n",
        "**Runtime > Change runtime type > Hardware accelerator > GPU > GPU type > T4**.\n",
        "\n",
        "---\n"
      ]
    },
    {
      "cell_type": "code",
      "execution_count": 9,
      "metadata": {
        "id": "N-PxmOIhc865"
      },
      "outputs": [],
      "source": [
        " %%capture\n",
        "!pip install transformers sentence-transformers openai\n",
        "!pip install -U datasets"
      ]
    },
    {
      "cell_type": "markdown",
      "metadata": {
        "id": "APb1rVC1byhy"
      },
      "source": [
        "### Data Loading\n"
      ]
    },
    {
      "cell_type": "code",
      "execution_count": 10,
      "metadata": {
        "colab": {
          "base_uri": "https://localhost:8080/"
        },
        "id": "5phRS_z2U_3T",
        "outputId": "58179f1c-d03b-4234-e291-70e4eebfbf58"
      },
      "outputs": [
        {
          "output_type": "execute_result",
          "data": {
            "text/plain": [
              "DatasetDict({\n",
              "    train: Dataset({\n",
              "        features: ['text', 'label'],\n",
              "        num_rows: 8530\n",
              "    })\n",
              "    validation: Dataset({\n",
              "        features: ['text', 'label'],\n",
              "        num_rows: 1066\n",
              "    })\n",
              "    test: Dataset({\n",
              "        features: ['text', 'label'],\n",
              "        num_rows: 1066\n",
              "    })\n",
              "})"
            ]
          },
          "metadata": {},
          "execution_count": 10
        }
      ],
      "source": [
        "from datasets import load_dataset\n",
        "# Load our data\n",
        "data = load_dataset(\"rotten_tomatoes\")\n",
        "data"
      ]
    },
    {
      "cell_type": "markdown",
      "metadata": {
        "id": "30nUV21qbyh0"
      },
      "source": [
        "### Helper Functions\n"
      ]
    },
    {
      "cell_type": "code",
      "execution_count": 11,
      "metadata": {
        "id": "X0KyKHtqyjn3"
      },
      "outputs": [],
      "source": [
        "from sklearn.metrics import classification_report\n",
        "def evaluate_performance(y_true, y_pred):\n",
        "    \"\"\"Create and print the classification report\"\"\"\n",
        "    performance = classification_report(\n",
        "        y_true, y_pred,\n",
        "        target_names=[\"Negative Review\", \"Positive Review\"]\n",
        "    )\n",
        "    print(performance)"
      ]
    },
    {
      "cell_type": "markdown",
      "source": [
        "## Your Turn - Text Classification Experiments\n",
        "\n",
        "Run each task first to see the baseline results. Follow the instructions to modify and experiment."
      ],
      "metadata": {
        "id": "NKYNfoaVC4hU"
      }
    },
    {
      "cell_type": "markdown",
      "metadata": {
        "id": "VlVd1GVpbyh5"
      },
      "source": [
        "---\n",
        "\n",
        "## Medium Tasks\n"
      ]
    },
    {
      "cell_type": "markdown",
      "source": [
        "### Medium Tasks - Building Real Classifiers\n",
        "\n",
        "These tasks require more modification and experimentation. You'll build complete classification systems."
      ],
      "metadata": {
        "id": "2ipz0pJYEne6"
      }
    },
    {
      "cell_type": "markdown",
      "metadata": {
        "id": "_uLZBrWMbyh8"
      },
      "source": [
        "Run the code to see how 5-level classification works. Then try adding a 6th category.\n"
      ]
    },
    {
      "cell_type": "markdown",
      "source": [
        "#### Medium Task 1: Multi-Class Sentiment Classification\n",
        "In this task, you'll build a sentiment classifier with 5 different categories (from extremely negative to extremely positive) instead of just binary positive/negative.\n",
        "**What to do:**\n",
        "1. Run the cells below to see baseline 5-level classification\n",
        "2. Observe which reviews are uncertain (low margin between top predictions)\n",
        "3. Try uncommenting the 6-level version to add more granularity\n",
        "4. Compare how predictions change with more categories"
      ],
      "metadata": {
        "id": "3CZEijHVcMGI"
      }
    },
    {
      "cell_type": "markdown",
      "metadata": {
        "id": "9PXpGfijbyh-"
      },
      "source": [
        "Set up the 5 sentiment categories and compute embeddings:"
      ]
    },
    {
      "cell_type": "code",
      "execution_count": 12,
      "metadata": {
        "id": "7ceixsfybyh-"
      },
      "outputs": [],
      "source": [
        "from sentence_transformers import SentenceTransformer\n",
        "from sklearn.metrics.pairwise import cosine_similarity\n",
        "\n",
        "model = SentenceTransformer('sentence-transformers/all-mpnet-base-v2')"
      ]
    },
    {
      "cell_type": "markdown",
      "metadata": {
        "id": "P3B5rf4Dbyh_"
      },
      "source": [
        "Classify each review and show confidence scores:"
      ]
    },
    {
      "cell_type": "code",
      "source": [
        "# Define 5 sentiment categories\n",
        "sentiment_labels = [\n",
        "    \"extremely negative review\",\n",
        "    \"somewhat negative review\",\n",
        "    \"neutral review\",\n",
        "    \"somewhat positive review\",\n",
        "    \"extremely positive review\"\n",
        "]\n",
        "\n",
        "# Create embeddings for each category\n",
        "label_embeddings = model.encode(sentiment_labels)\n",
        "\n",
        "print(\"Sentiment categories:\")\n",
        "for i, label in enumerate(sentiment_labels):\n",
        "    print(f\"  {i}: {label}\")"
      ],
      "metadata": {
        "id": "x7dk3IHDbyh_",
        "outputId": "08c34e0c-0a1f-4ba4-ad9e-5cf1ef39903b",
        "colab": {
          "base_uri": "https://localhost:8080/"
        }
      },
      "execution_count": 13,
      "outputs": [
        {
          "output_type": "stream",
          "name": "stdout",
          "text": [
            "Sentiment categories:\n",
            "  0: extremely negative review\n",
            "  1: somewhat negative review\n",
            "  2: neutral review\n",
            "  3: somewhat positive review\n",
            "  4: extremely positive review\n"
          ]
        }
      ]
    },
    {
      "cell_type": "code",
      "metadata": {
        "id": "34lIB2w6Sl2M"
      },
      "execution_count": 14,
      "outputs": [],
      "source": [
        "# Test reviews\n",
        "test_reviews = [\n",
        "    \"This is the best movie I have ever seen! Absolute masterpiece!\",\n",
        "    \"Pretty good film, I enjoyed it\",\n",
        "    \"It was okay, nothing special\",\n",
        "    \"Not very good, quite boring\",\n",
        "    \"Terrible movie, waste of time\"\n",
        "]\n",
        "\n",
        "review_embeddings = model.encode(test_reviews)\n",
        "similarities = cosine_similarity(review_embeddings, label_embeddings)"
      ]
    },
    {
      "cell_type": "code",
      "source": [
        "import numpy as np\n",
        "# Complete this: Classify each review\n",
        "print(\"Classification results:\")\n",
        "\n",
        "for i, review in enumerate(test_reviews):\n",
        "    predicted_idx = np.argmax(similarities[i])\n",
        "    confidence = similarities[i].max()\n",
        "\n",
        "    top_two = sorted(similarities[i], reverse=True)[:2]\n",
        "    margin = top_two[0] - top_two[1]\n",
        "\n",
        "    print(f\"\\n'{review}'\")\n",
        "    print(f\"  -> {sentiment_labels[predicted_idx]}\")\n",
        "    print(f\"  Confidence: {confidence:.3f} | Margin: {margin:.3f}\")"
      ],
      "metadata": {
        "id": "SlF4O-VVbyiA",
        "outputId": "7eca1d49-d5dc-4330-ac6c-2adeb8fb273e",
        "colab": {
          "base_uri": "https://localhost:8080/"
        }
      },
      "execution_count": 15,
      "outputs": [
        {
          "output_type": "stream",
          "name": "stdout",
          "text": [
            "Classification results:\n",
            "\n",
            "'This is the best movie I have ever seen! Absolute masterpiece!'\n",
            "  -> extremely positive review\n",
            "  Confidence: 0.256 | Margin: 0.099\n",
            "\n",
            "'Pretty good film, I enjoyed it'\n",
            "  -> somewhat positive review\n",
            "  Confidence: 0.428 | Margin: 0.073\n",
            "\n",
            "'It was okay, nothing special'\n",
            "  -> somewhat negative review\n",
            "  Confidence: 0.439 | Margin: 0.004\n",
            "\n",
            "'Not very good, quite boring'\n",
            "  -> somewhat positive review\n",
            "  Confidence: 0.378 | Margin: 0.000\n",
            "\n",
            "'Terrible movie, waste of time'\n",
            "  -> extremely negative review\n",
            "  Confidence: 0.426 | Margin: 0.009\n"
          ]
        }
      ]
    },
    {
      "cell_type": "code",
      "execution_count": 16,
      "metadata": {
        "id": "ZPl8Fu08byiB",
        "outputId": "96c7cd67-c724-44c6-8bcf-4542cbbc5a81",
        "colab": {
          "base_uri": "https://localhost:8080/"
        }
      },
      "outputs": [
        {
          "output_type": "stream",
          "name": "stdout",
          "text": [
            "\n",
            "Category Confusion Analysis\n",
            "extremely negative review <-> somewhat negative review: 0.952\n",
            "somewhat negative review <-> somewhat positive review: 0.863\n",
            "somewhat positive review <-> extremely positive review: 0.818\n",
            "somewhat negative review <-> neutral review: 0.794\n",
            "extremely negative review <-> somewhat positive review: 0.766\n"
          ]
        }
      ],
      "source": [
        "# Analyze category confusion\n",
        "print(\"\\nCategory Confusion Analysis\")\n",
        "label_similarity = cosine_similarity(label_embeddings)\n",
        "\n",
        "# Find most similar category pairs\n",
        "confusions = []\n",
        "for i in range(len(sentiment_labels)):\n",
        "    for j in range(i+1, len(sentiment_labels)):\n",
        "        sim = label_similarity[i][j]\n",
        "        confusions.append((i, j, sim))\n",
        "\n",
        "# Show top 5 confusions\n",
        "for i, j, sim in sorted(confusions, key=lambda x: x[2], reverse=True)[:5]:\n",
        "    print(f\"{sentiment_labels[i]} <-> {sentiment_labels[j]}: {sim:.3f}\")"
      ]
    },
    {
      "cell_type": "markdown",
      "source": [
        "As you can see, the classifier assigns each review to one of the 5 sentiment categories. The **margin** (difference between top 2 predictions) indicates confidence - large margins (>0.15) mean the model is confident, while small margins (<0.05) indicate uncertainty. Reviews with extreme language (\"best ever\", \"terrible\") have higher confidence, while moderate reviews (\"pretty good\", \"quite bad\") show more uncertainty."
      ],
      "metadata": {
        "id": "fECdQPWjbyiC"
      }
    },
    {
      "cell_type": "markdown",
      "metadata": {
        "id": "sFy4lcn9byiD"
      },
      "source": [
        "Analyze which categories are most similar to each other:"
      ]
    },
    {
      "cell_type": "markdown",
      "source": [
        "Notice that adjacent categories (like \"somewhat negative\" and \"neutral\") tend to have higher similarity scores, which explains why the model sometimes confuses them. Categories with similarity > 0.7 are particularly prone to confusion."
      ],
      "metadata": {
        "id": "EV2pv7pbbyiD"
      }
    },
    {
      "cell_type": "markdown",
      "metadata": {
        "id": "zL_xe6AabyiE"
      },
      "source": [
        "#### Medium Task 2: Classifier Performance with Limited Training Data\n",
        "\n",
        "Try different training sizes (100, 500, 1000, 2000) and fill in the results table.\n"
      ]
    },
    {
      "cell_type": "code",
      "execution_count": 17,
      "metadata": {
        "id": "JeFbrbUobyiE",
        "outputId": "7e1d1743-4974-4d1c-a12f-070853a7a86f",
        "colab": {
          "base_uri": "https://localhost:8080/"
        }
      },
      "outputs": [
        {
          "output_type": "stream",
          "name": "stdout",
          "text": [
            "Experiment: Training Size = 1000\n"
          ]
        }
      ],
      "source": [
        "from transformers import pipeline\n",
        "from sentence_transformers import SentenceTransformer\n",
        "from sklearn.linear_model import LogisticRegression\n",
        "from sklearn.metrics import f1_score, classification_report\n",
        "from datasets import load_dataset\n",
        "import numpy as np\n",
        "data = load_dataset(\"rotten_tomatoes\")\n",
        "# Try different values: 100, 500, 1000, 2000, 5000\n",
        "train_size = 1000\n",
        "test_size = 300\n",
        "train_subset = data[\"train\"].shuffle(seed=42).select(range(min(train_size, len(data[\"train\"]))))\n",
        "test_subset = data[\"test\"].shuffle(seed=42).select(range(test_size))\n",
        "print(f\"Experiment: Training Size = {train_size}\")"
      ]
    },
    {
      "cell_type": "code",
      "execution_count": 18,
      "metadata": {
        "id": "9_26CEFobyiF",
        "outputId": "dce9d8e4-42ba-4eb2-9e84-38cbe274fb64",
        "colab": {
          "base_uri": "https://localhost:8080/",
          "height": 389,
          "referenced_widgets": [
            "881e6d63d43e4e299b6be0079aadf7bd",
            "f914d65e404345f18425818ddd8fc110",
            "6ee32cee34c947bea2ce851512ff846a",
            "41bb0c6712f8487b841f54c3fe5bdf90",
            "8ac1e48aa7f04d9ba2f19ee29f0454ab",
            "6ddd3f64759c4a4684ec61631c0ea106",
            "a13ee67649fe480e92d0a9fcde504fba",
            "a4da93d85d164e42a5628c3ef95ebdfd",
            "e56123f13ffb4386b19af381e6a6ff82",
            "e876d772a13c40de9d1247f822c713db",
            "f808746c3c3545cdb223e7b048354863",
            "cf85a1a20d974692ad430c13de228ccb",
            "695e29d548cf41318ca46cc0f8f4d430",
            "46231a44d486406287c61000f670dae2",
            "564ee106de94415fbf321374e62a1d5f",
            "f121597dc0e94c9fb4cde017c68a9a73",
            "cbc1fe1baeb34138a095660fdb5e72b2",
            "eea4ab48ff104c12acaeecc3b83690f6",
            "93eb1164234141a397e464ebd7170d4f",
            "3ec98ac70c8e4f30be74b9e331696ce6",
            "a566fc3bde8d4c9b8ba0e471c88c1f78",
            "dbf9371e59b24056aa783383796a7528",
            "5bac4c3dab4440048b91a85441463760",
            "cc0632f6f1e64b54bb8e8ec639f9c2a7",
            "36c2224bddec47fc8fabeb6ebc624920",
            "7c97901979c44617802d29366011c3b2",
            "dccc0a8f04e545378b5dd357c61a2ef5",
            "c7f666bc0a7b487ea41fac2f2109048a",
            "fe1382587b7a4e299cdcbc3b77e31b94",
            "24fd2733fbff4133a2c62b66ec280876",
            "797cba44bda84ba9899c8691b404ecd4",
            "75ff12942518469ba71289f6f74fd0cf",
            "d20229b585ca4e7a845d9c3d1fac038b",
            "ae7e63d0c2734695a640e4822e79f9e8",
            "980cde318f82456dab01f37fbb3043c6",
            "61d890ede0824ea18c84b0472da4a29d",
            "dab30b92c0e1497ca8ec9e39a446bb86",
            "5c0188da793b4646907eabf5251a6b94",
            "b5bb8f4e517c4f16bd36d14e8138e296",
            "635d9aa67e02454e8c8db0b98abd61b6",
            "1c396e9397a34da4bde5fa60283a6616",
            "aa8382a82f754f5c9989da27f89aa135",
            "6d8c58b93a754739a5e389606d65ab4a",
            "3cec03ffaaa64fffb49575040d00a3d4",
            "a961fb3950a647c89a3c839c85e35e8a",
            "717d57be371d401986d5944899f55bb2",
            "2346e063fe394e05800a6b228fcb454d",
            "bb0e4d2b78be4117a43d32405182c5c3",
            "7f4015f6bd934fdd95892f073e1b13cd",
            "167e942d303443528feb83253ade2142",
            "c96cc2b8f8314c4f976f3508dcf28cfb",
            "d79e926edc984bf3897d2bb28081ff0e",
            "2ec65ce5cc554a0ca00ec943d23c61bc",
            "3ef44eb53d784ecc92c49bcc846680e3",
            "915c8892f6624e22a92a0f6bf1d94202",
            "a53b374a13d7451cb3705275003996bd",
            "21c86e81cc624cf2802e8b90b6c0f486",
            "b2288e92e8d746738001d9af4127434f",
            "2e09fab0603d44e09f4fa78c0056cabd",
            "500125e6c38a4d219c09dae6d7089530",
            "e9b485e03aaf42219862fbc69f533bd3",
            "ae6d82fb7ce745e2b92aea9a6d975b38",
            "06eaa7c59ea34cf18d720949ea883f54",
            "23ffddd3aec145238da5500b42b1a27d",
            "f8a308964956461c89b1608b2b707cd0",
            "54bf88d60ea14d7c9e30f864fb888103"
          ]
        }
      },
      "outputs": [
        {
          "output_type": "stream",
          "name": "stdout",
          "text": [
            "\n",
            "[1/2] Testing Task-Specific Model...\n"
          ]
        },
        {
          "output_type": "display_data",
          "data": {
            "text/plain": [
              "config.json:   0%|          | 0.00/929 [00:00<?, ?B/s]"
            ],
            "application/vnd.jupyter.widget-view+json": {
              "version_major": 2,
              "version_minor": 0,
              "model_id": "881e6d63d43e4e299b6be0079aadf7bd"
            }
          },
          "metadata": {}
        },
        {
          "output_type": "display_data",
          "data": {
            "text/plain": [
              "pytorch_model.bin:   0%|          | 0.00/501M [00:00<?, ?B/s]"
            ],
            "application/vnd.jupyter.widget-view+json": {
              "version_major": 2,
              "version_minor": 0,
              "model_id": "cf85a1a20d974692ad430c13de228ccb"
            }
          },
          "metadata": {}
        },
        {
          "output_type": "stream",
          "name": "stderr",
          "text": [
            "Some weights of the model checkpoint at cardiffnlp/twitter-roberta-base-sentiment-latest were not used when initializing RobertaForSequenceClassification: ['roberta.pooler.dense.bias', 'roberta.pooler.dense.weight']\n",
            "- This IS expected if you are initializing RobertaForSequenceClassification from the checkpoint of a model trained on another task or with another architecture (e.g. initializing a BertForSequenceClassification model from a BertForPreTraining model).\n",
            "- This IS NOT expected if you are initializing RobertaForSequenceClassification from the checkpoint of a model that you expect to be exactly identical (initializing a BertForSequenceClassification model from a BertForSequenceClassification model).\n"
          ]
        },
        {
          "output_type": "display_data",
          "data": {
            "text/plain": [
              "vocab.json: 0.00B [00:00, ?B/s]"
            ],
            "application/vnd.jupyter.widget-view+json": {
              "version_major": 2,
              "version_minor": 0,
              "model_id": "5bac4c3dab4440048b91a85441463760"
            }
          },
          "metadata": {}
        },
        {
          "output_type": "display_data",
          "data": {
            "text/plain": [
              "model.safetensors:   0%|          | 0.00/501M [00:00<?, ?B/s]"
            ],
            "application/vnd.jupyter.widget-view+json": {
              "version_major": 2,
              "version_minor": 0,
              "model_id": "ae7e63d0c2734695a640e4822e79f9e8"
            }
          },
          "metadata": {}
        },
        {
          "output_type": "display_data",
          "data": {
            "text/plain": [
              "merges.txt: 0.00B [00:00, ?B/s]"
            ],
            "application/vnd.jupyter.widget-view+json": {
              "version_major": 2,
              "version_minor": 0,
              "model_id": "a961fb3950a647c89a3c839c85e35e8a"
            }
          },
          "metadata": {}
        },
        {
          "output_type": "display_data",
          "data": {
            "text/plain": [
              "special_tokens_map.json:   0%|          | 0.00/239 [00:00<?, ?B/s]"
            ],
            "application/vnd.jupyter.widget-view+json": {
              "version_major": 2,
              "version_minor": 0,
              "model_id": "a53b374a13d7451cb3705275003996bd"
            }
          },
          "metadata": {}
        },
        {
          "output_type": "stream",
          "name": "stderr",
          "text": [
            "Device set to use cpu\n",
            "/usr/local/lib/python3.12/dist-packages/transformers/pipelines/text_classification.py:111: UserWarning: `return_all_scores` is now deprecated,  if want a similar functionality use `top_k=None` instead of `return_all_scores=True` or `top_k=1` instead of `return_all_scores=False`.\n",
            "  warnings.warn(\n"
          ]
        },
        {
          "output_type": "stream",
          "name": "stdout",
          "text": [
            " Task-Specific Model F1: 0.7709\n"
          ]
        }
      ],
      "source": [
        "print(\"\\n[1/2] Testing Task-Specific Model...\")\n",
        "task_model = pipeline(\n",
        "    model=\"cardiffnlp/twitter-roberta-base-sentiment-latest\",\n",
        "    tokenizer=\"cardiffnlp/twitter-roberta-base-sentiment-latest\",\n",
        "    return_all_scores=True,\n",
        "    device=-1\n",
        ")\n",
        "y_pred_task = []\n",
        "for text in test_subset[\"text\"]:\n",
        "    output = task_model(text)[0]\n",
        "    neg_score = output[0][\"score\"]\n",
        "    pos_score = output[2][\"score\"]\n",
        "    y_pred_task.append(1 if pos_score > neg_score else 0)\n",
        "task_f1 = f1_score(test_subset[\"label\"], y_pred_task, average='weighted')\n",
        "print(f\" Task-Specific Model F1: {task_f1:.4f}\")"
      ]
    },
    {
      "cell_type": "markdown",
      "metadata": {
        "id": "MYLELJ-hbyiF"
      },
      "source": [
        "Train the embedding-based classifier on your labeled data:"
      ]
    },
    {
      "cell_type": "code",
      "execution_count": 19,
      "metadata": {
        "id": "q7Jgae8WbyiG",
        "outputId": "1c4d85e9-17f5-40ac-9ead-74e651609b7e",
        "colab": {
          "base_uri": "https://localhost:8080/"
        }
      },
      "outputs": [
        {
          "output_type": "stream",
          "name": "stdout",
          "text": [
            "\n",
            "[2/2] Training Embedding Classifier on 1000 samples...\n",
            " Embedding Classifier F1: 0.8699\n"
          ]
        }
      ],
      "source": [
        "print(f\"\\n[2/2] Training Embedding Classifier on {train_size} samples...\")\n",
        "embedding_model = SentenceTransformer('sentence-transformers/all-mpnet-base-v2')\n",
        "train_embeddings = embedding_model.encode(train_subset[\"text\"], show_progress_bar=False)\n",
        "test_embeddings = embedding_model.encode(test_subset[\"text\"], show_progress_bar=False)\n",
        "clf = LogisticRegression(random_state=42, max_iter=1000)\n",
        "clf.fit(train_embeddings, train_subset[\"label\"])\n",
        "y_pred_embed = clf.predict(test_embeddings)\n",
        "embed_f1 = f1_score(test_subset[\"label\"], y_pred_embed, average='weighted')\n",
        "print(f\" Embedding Classifier F1: {embed_f1:.4f}\")"
      ]
    },
    {
      "cell_type": "markdown",
      "metadata": {
        "id": "acpiODYAbyiH"
      },
      "source": [
        "Compare the two approaches and show example predictions:"
      ]
    },
    {
      "cell_type": "code",
      "execution_count": 20,
      "metadata": {
        "id": "KKZ7v0nvbyiH",
        "outputId": "7da2ac06-e63d-4e85-bbac-0a1bc3c099a8",
        "colab": {
          "base_uri": "https://localhost:8080/"
        }
      },
      "outputs": [
        {
          "output_type": "stream",
          "name": "stdout",
          "text": [
            "\n",
            "Results Summary\n",
            "Training samples: 1000\n",
            "Task-Specific F1: 0.7709\n",
            "Embedding F1: 0.8699\n",
            "Difference: +0.0990\n",
            "\n",
            "Example predictions:\n",
            "\n",
            "'unpretentious , charming , quirky , original...'\n",
            "Task-Specific: 1 | Embedding: 1\n",
            "\n",
            "'a film really has to be exceptional to justify a t...'\n",
            "Task-Specific: 0 | Embedding: 0\n",
            "\n",
            "'working from a surprisingly sensitive script co-wr...'\n",
            "Task-Specific: 1 | Embedding: 1\n"
          ]
        }
      ],
      "source": [
        "print(\"\\nResults Summary\")\n",
        "print(f\"Training samples: {train_size}\")\n",
        "print(f\"Task-Specific F1: {task_f1:.4f}\")\n",
        "print(f\"Embedding F1: {embed_f1:.4f}\")\n",
        "print(f\"Difference: {embed_f1 - task_f1:+.4f}\")\n",
        "\n",
        "print(\"\\nExample predictions:\")\n",
        "for i in range(3):\n",
        "    print(f\"\\n'{test_subset['text'][i][:50]}...'\")\n",
        "    print(f\"Task-Specific: {y_pred_task[i]} | Embedding: {y_pred_embed[i]}\")"
      ]
    },
    {
      "cell_type": "markdown",
      "metadata": {
        "id": "BCWBW3qObyiH"
      },
      "source": [
        "### Questions\n",
        "\n",
        "1. At what training size did embedding classifier match the task-specific model?\n",
        "\n",
        "2. Were there cases where one model was correct and the other wrong?\n",
        "\n",
        "3. Is 100 samples enough labeled data?\n"
      ]
    },
    {
      "cell_type": "markdown",
      "metadata": {
        "id": "eKfJlPDtbyiI"
      },
      "source": [
        "#### Medium Task 3: Confidence-Based Classifier with Uncertainty Handling\n",
        "\n",
        "In production, refusing a prediction beats making a wrong one. Here's the key insight: when your model is uncertain, it should say \"I don't know\" rather than guessing. This creates a trade-off between coverage (how many predictions you make) and accuracy (how often you're right).\n",
        "\n",
        "Try this:\n",
        "- Run with threshold of 0.15 first\n",
        "- Test 0.05, 0.30, and 0.50 to see how the trade-off shifts\n",
        "- Check the uncertain cases (typically have hedging language)\n",
        "- Experiment with the alternative uncertainty measure"
      ]
    },
    {
      "cell_type": "code",
      "source": [
        "from sentence_transformers import SentenceTransformer\n",
        "from sklearn.metrics.pairwise import cosine_similarity\n",
        "import numpy as np"
      ],
      "metadata": {
        "id": "UrlfyjrabyiJ"
      },
      "outputs": [],
      "execution_count": 21
    },
    {
      "cell_type": "code",
      "source": [
        "model = SentenceTransformer('sentence-transformers/all-mpnet-base-v2')\n",
        "\n",
        "# Reviews with varying levels of clarity\n",
        "test_reviews = [\n",
        "    \"Absolutely fantastic! Best movie ever!\",           # Clear positive\n",
        "    \"Pretty good, I liked it\",                          # Weak positive\n",
        "    \"It was fine, nothing special\",                     # Ambiguous\n",
        "    \"Not bad but not great either\",                     # Very ambiguous\n",
        "    \"Quite disappointing\",                              # Weak negative\n",
        "    \"Terrible! Complete waste of time!\",                # Clear negative\n",
        "    \"The movie had some interesting moments\",           # Ambiguous positive\n",
        "    \"Outstanding performances all around!\",             # Clear positive\n",
        "]\n",
        "\n",
        "# True labels (for evaluation)\n",
        "y_true = [1, 1, 0, 0, 0, 0, 1, 1]  # 1=positive, 0=negative"
      ],
      "metadata": {
        "id": "9sf1K6sibyiJ"
      },
      "execution_count": 22,
      "outputs": []
    },
    {
      "cell_type": "code",
      "source": [
        "labels = [\"negative\", \"positive\"]\n",
        "\n",
        "# Experiment WITH THIS - Try: 0.05, 0.15, 0.30, 0.50\n",
        "confidence_threshold = 0.15"
      ],
      "metadata": {
        "id": "jLZjsRNVbyiK"
      },
      "execution_count": 23,
      "outputs": []
    },
    {
      "cell_type": "code",
      "source": [
        "def calculate_margin(similarities):\n",
        "    \"\"\"\n",
        "    Calculate margin between top two predictions\n",
        "    Hint: Sort similarities, get difference between top 2\n",
        "    \"\"\"\n",
        "    sorted_sims = np.sort(similarities)[::-1]\n",
        "    margin = sorted_sims[0] - sorted_sims[1]\n",
        "    return margin"
      ],
      "metadata": {
        "id": "Ss-J6mVsbyiL"
      },
      "execution_count": 24,
      "outputs": []
    },
    {
      "cell_type": "code",
      "source": [
        "label_embeddings = model.encode(labels)\n",
        "review_embeddings = model.encode(test_reviews)\n",
        "sim_matrix = cosine_similarity(review_embeddings, label_embeddings)"
      ],
      "metadata": {
        "id": "htw33fKTbyiL"
      },
      "execution_count": 25,
      "outputs": []
    },
    {
      "cell_type": "code",
      "source": [
        "# Complete this: Classify with confidence threshold\n",
        "results = []\n",
        "\n",
        "print(f\"Confidence-based classification (threshold={confidence_threshold})\")\n",
        "\n",
        "for i, review in enumerate(test_reviews):\n",
        "    similarities = sim_matrix[i]\n",
        "    predicted_idx = np.argmax(similarities)\n",
        "\n",
        "    margin = calculate_margin(similarities)\n",
        "\n",
        "    if margin >= confidence_threshold:\n",
        "        prediction = predicted_idx\n",
        "    else:\n",
        "        prediction = None\n",
        "\n",
        "    pred_label = labels[predicted_idx] if prediction is not None else \"uncertain\"\n",
        "    print(f\"{i+1}. '{review[:40]}...' -> {pred_label} (margin: {margin:.3f})\")\n",
        "\n",
        "    results.append({'pred': prediction, 'true': y_true[i], 'margin': margin})"
      ],
      "metadata": {
        "id": "oDGa7ACXbyiL",
        "outputId": "eb51b5b5-4b43-420c-a928-8c3a6c719fb4",
        "colab": {
          "base_uri": "https://localhost:8080/"
        }
      },
      "execution_count": 26,
      "outputs": [
        {
          "output_type": "stream",
          "name": "stdout",
          "text": [
            "Confidence-based classification (threshold=0.15)\n",
            "1. 'Absolutely fantastic! Best movie ever!...' -> uncertain (margin: 0.047)\n",
            "2. 'Pretty good, I liked it...' -> uncertain (margin: 0.033)\n",
            "3. 'It was fine, nothing special...' -> uncertain (margin: 0.055)\n",
            "4. 'Not bad but not great either...' -> uncertain (margin: 0.003)\n",
            "5. 'Quite disappointing...' -> uncertain (margin: 0.061)\n",
            "6. 'Terrible! Complete waste of time!...' -> uncertain (margin: 0.062)\n",
            "7. 'The movie had some interesting moments...' -> uncertain (margin: 0.054)\n",
            "8. 'Outstanding performances all around!...' -> uncertain (margin: 0.068)\n"
          ]
        }
      ]
    },
    {
      "cell_type": "code",
      "source": [
        "# Calculate metrics\n",
        "made_predictions = [r for r in results if r['pred'] is not None]\n",
        "correct = [r for r in made_predictions if r['pred'] == r['true']]\n",
        "\n",
        "coverage = len(made_predictions) / len(results)\n",
        "accuracy = len(correct) / len(made_predictions) if made_predictions else 0\n",
        "\n",
        "print(f\"\\nPerformance:\")\n",
        "print(f\"Coverage: {len(made_predictions)}/{len(results)} = {coverage:.1%}\")\n",
        "print(f\"Accuracy: {len(correct)}/{len(made_predictions)} = {accuracy:.1%}\")"
      ],
      "metadata": {
        "id": "Oc38LloRbyiM",
        "outputId": "ec257b37-ef22-46f1-958b-5562d8dd9ae7",
        "colab": {
          "base_uri": "https://localhost:8080/"
        }
      },
      "execution_count": 27,
      "outputs": [
        {
          "output_type": "stream",
          "name": "stdout",
          "text": [
            "\n",
            "Performance:\n",
            "Coverage: 0/8 = 0.0%\n",
            "Accuracy: 0/0 = 0.0%\n"
          ]
        }
      ]
    },
    {
      "cell_type": "markdown",
      "source": [
        "### Questions\n",
        "\n",
        "1. What do uncertain reviews have in common? Are they using hedging language like \"kind of\" or \"somewhat\"?\n",
        "\n",
        "2. Compare results at threshold=0.05 vs 0.30. Describe the coverage vs accuracy trade-off. When would you want high coverage vs high accuracy?\n",
        "\n",
        "3. How could you use confidence-based prediction in production? What should a system do when the model is uncertain?"
      ],
      "metadata": {
        "id": "H7-OE7H9F6vx"
      }
    },
    {
      "cell_type": "markdown",
      "metadata": {
        "id": "TDEBU0cLbyiN"
      },
      "source": [
        "#### Medium Task 4: Classifier Failure Analysis\n",
        "\n",
        "Train the classifier and see what kinds of reviews it gets wrong. Then add your own test cases.\n"
      ]
    },
    {
      "cell_type": "code",
      "metadata": {
        "id": "2UDR7v_0byiN"
      },
      "source": [
        "from sentence_transformers import SentenceTransformer\n",
        "from sklearn.linear_model import LogisticRegression\n",
        "from sklearn.metrics import confusion_matrix\n",
        "from datasets import load_dataset\n",
        "import numpy as np"
      ],
      "outputs": [],
      "execution_count": 28
    },
    {
      "cell_type": "markdown",
      "metadata": {
        "id": "sgPRrIxLbyiO"
      },
      "source": [
        "Load data and train a classifier."
      ]
    },
    {
      "cell_type": "code",
      "metadata": {
        "id": "mkW9_JNLbyiO",
        "outputId": "423b3e2c-3369-45ce-881e-e2bca1129321",
        "colab": {
          "base_uri": "https://localhost:8080/"
        }
      },
      "source": [
        "data = load_dataset(\"rotten_tomatoes\")\n",
        "model = SentenceTransformer('sentence-transformers/all-mpnet-base-v2')\n",
        "\n",
        "train_subset = data[\"train\"].shuffle(seed=42).select(range(1000))\n",
        "test_subset = data[\"test\"].shuffle(seed=42).select(range(200))\n",
        "\n",
        "print(\"Training classifier...\")\n",
        "train_embeddings = model.encode(train_subset[\"text\"], show_progress_bar=False)\n",
        "test_embeddings = model.encode(test_subset[\"text\"], show_progress_bar=False)\n",
        "\n",
        "clf = LogisticRegression(random_state=42, max_iter=1000)\n",
        "clf.fit(train_embeddings, train_subset[\"label\"])\n",
        "\n",
        "predictions = clf.predict(test_embeddings)\n",
        "probabilities = clf.predict_proba(test_embeddings)"
      ],
      "outputs": [
        {
          "output_type": "stream",
          "name": "stdout",
          "text": [
            "Training classifier...\n"
          ]
        }
      ],
      "execution_count": 29
    },
    {
      "cell_type": "markdown",
      "metadata": {
        "id": "Wm3p9MfHbyiO"
      },
      "source": [
        "Analyze the errors."
      ]
    },
    {
      "cell_type": "code",
      "metadata": {
        "id": "PpSZkDVobyiP",
        "outputId": "01148f98-ceaf-4ea0-f1a3-cc44ea7f706d",
        "colab": {
          "base_uri": "https://localhost:8080/"
        }
      },
      "source": [
        "# Complete this: Find and collect errors\n",
        "errors = []\n",
        "\n",
        "for i in range(len(test_subset)):\n",
        "    if predictions[i] != test_subset[\"label\"][i]:\n",
        "        errors.append({\n",
        "            'text': test_subset[\"text\"][i],\n",
        "            'true_label': test_subset[\"label\"][i],\n",
        "            'predicted_label': predictions[i],\n",
        "            'confidence': probabilities[i][predictions[i]]\n",
        "        })\n",
        "\n",
        "accuracy = (len(test_subset) - len(errors)) / len(test_subset)\n",
        "print(f\"Accuracy: {accuracy:.1%}\")\n",
        "print(f\"Errors: {len(errors)}\")"
      ],
      "outputs": [
        {
          "output_type": "stream",
          "name": "stdout",
          "text": [
            "Accuracy: 87.0%\n",
            "Errors: 26\n"
          ]
        }
      ],
      "execution_count": 30
    },
    {
      "cell_type": "markdown",
      "metadata": {
        "id": "LOX4A0LtbyiP"
      },
      "source": [
        "Look at high-confidence errors (the most surprising mistakes)."
      ]
    },
    {
      "cell_type": "code",
      "metadata": {
        "id": "kY0cgAP-byiP",
        "outputId": "b7ee33e9-d5e4-46a4-e01a-eba2cee829a5",
        "colab": {
          "base_uri": "https://localhost:8080/"
        }
      },
      "source": [
        "# Complete this: Filter for high-confidence errors\n",
        "high_conf_errors = [e for e in errors if e['confidence'] > 0.7]\n",
        "\n",
        "print(\"High-confidence errors:\")\n",
        "for error in high_conf_errors[:5]:\n",
        "    true_sent = \"positive\" if error['true_label'] == 1 else \"negative\"\n",
        "    pred_sent = \"positive\" if error['predicted_label'] == 1 else \"negative\"\n",
        "    print(f\"\\n'{error['text'][:50]}...'\")\n",
        "    print(f\"True: {true_sent} | Predicted: {pred_sent} (conf: {error['confidence']:.3f})\")"
      ],
      "outputs": [
        {
          "output_type": "stream",
          "name": "stdout",
          "text": [
            "High-confidence errors:\n",
            "\n",
            "'an uneasy mix of run-of-the-mill raunchy humor and...'\n",
            "True: negative | Predicted: positive (conf: 0.701)\n",
            "\n",
            "'the stunt work is top-notch ; the dialogue and dra...'\n",
            "True: negative | Predicted: positive (conf: 0.867)\n",
            "\n",
            "'goldmember is funny enough to justify the embarras...'\n",
            "True: positive | Predicted: negative (conf: 0.710)\n",
            "\n",
            "'steven soderbergh doesn't remake andrei tarkovsky'...'\n",
            "True: positive | Predicted: negative (conf: 0.730)\n",
            "\n",
            "'\" what really happened ? \" is a question for philo...'\n",
            "True: positive | Predicted: negative (conf: 0.717)\n"
          ]
        }
      ],
      "execution_count": 31
    },
    {
      "cell_type": "markdown",
      "metadata": {
        "id": "XQmT2SO8byiQ"
      },
      "source": [
        "Test on edge cases like sarcasm and mixed sentiment."
      ]
    },
    {
      "cell_type": "code",
      "metadata": {
        "id": "HbH3zcFMbyiQ",
        "outputId": "f70fba80-9180-48d6-9bc3-0c9349a3be8b",
        "colab": {
          "base_uri": "https://localhost:8080/"
        }
      },
      "source": [
        "# Complete this: Test edge cases\n",
        "edge_cases = [\n",
        "    (\"Sarcastic\", \"Oh great, another masterpiece. not!\", 0),\n",
        "    (\"Mixed\", \"The acting was great but the plot was terrible\", 0),\n",
        "    (\"Ambiguous\", \"It was a movie\", 0),\n",
        "]\n",
        "\n",
        "edge_embeddings = model.encode([text for _, text, _ in edge_cases])\n",
        "edge_predictions = clf.predict(edge_embeddings)\n",
        "\n",
        "print(\"\\nEdge Cases:\")\n",
        "correct = 0\n",
        "for i, (category, text, true_label) in enumerate(edge_cases):\n",
        "    pred = edge_predictions[i]\n",
        "    match = \"correct\" if pred == true_label else \"wrong\"\n",
        "    if pred == true_label:\n",
        "        correct += 1\n",
        "    print(f\"{category}: '{text}' -> {pred} ({match})\")\n",
        "\n",
        "print(f\"\\nEdge case accuracy: {correct}/{len(edge_cases)}\")"
      ],
      "outputs": [
        {
          "output_type": "stream",
          "name": "stdout",
          "text": [
            "\n",
            "Edge Cases:\n",
            "Sarcastic: 'Oh great, another masterpiece. not!' -> 1 (wrong)\n",
            "Mixed: 'The acting was great but the plot was terrible' -> 0 (correct)\n",
            "Ambiguous: 'It was a movie' -> 0 (correct)\n",
            "\n",
            "Edge case accuracy: 2/3\n"
          ]
        }
      ],
      "execution_count": 32
    },
    {
      "cell_type": "markdown",
      "metadata": {
        "id": "WgJCrepxbyiR"
      },
      "source": [
        "### Questions\n",
        "\n",
        "1. What do high-confidence errors have in common?\n",
        "\n",
        "2. Do errors tend to be shorter or longer than correct predictions?\n",
        "\n",
        "3. Which edge cases failed most - sarcasm, mixed sentiment, or double negatives?\n"
      ]
    },
    {
      "cell_type": "code",
      "source": [],
      "metadata": {
        "id": "0yNuuGK5cFj7"
      },
      "execution_count": 32,
      "outputs": []
    }
  ],
  "metadata": {
    "accelerator": "GPU",
    "colab": {
      "gpuType": "T4",
      "provenance": []
    },
    "kernelspec": {
      "display_name": "Python 3 (ipykernel)",
      "language": "python",
      "name": "python3"
    },
    "language_info": {
      "codemirror_mode": {
        "name": "ipython",
        "version": 3
      },
      "file_extension": ".py",
      "mimetype": "text/x-python",
      "name": "python",
      "nbconvert_exporter": "python",
      "pygments_lexer": "ipython3",
      "version": "3.12.9"
    },
    "widgets": {
      "application/vnd.jupyter.widget-state+json": {
        "881e6d63d43e4e299b6be0079aadf7bd": {
          "model_module": "@jupyter-widgets/controls",
          "model_name": "HBoxModel",
          "model_module_version": "1.5.0",
          "state": {
            "_dom_classes": [],
            "_model_module": "@jupyter-widgets/controls",
            "_model_module_version": "1.5.0",
            "_model_name": "HBoxModel",
            "_view_count": null,
            "_view_module": "@jupyter-widgets/controls",
            "_view_module_version": "1.5.0",
            "_view_name": "HBoxView",
            "box_style": "",
            "children": [
              "IPY_MODEL_f914d65e404345f18425818ddd8fc110",
              "IPY_MODEL_6ee32cee34c947bea2ce851512ff846a",
              "IPY_MODEL_41bb0c6712f8487b841f54c3fe5bdf90"
            ],
            "layout": "IPY_MODEL_8ac1e48aa7f04d9ba2f19ee29f0454ab"
          }
        },
        "f914d65e404345f18425818ddd8fc110": {
          "model_module": "@jupyter-widgets/controls",
          "model_name": "HTMLModel",
          "model_module_version": "1.5.0",
          "state": {
            "_dom_classes": [],
            "_model_module": "@jupyter-widgets/controls",
            "_model_module_version": "1.5.0",
            "_model_name": "HTMLModel",
            "_view_count": null,
            "_view_module": "@jupyter-widgets/controls",
            "_view_module_version": "1.5.0",
            "_view_name": "HTMLView",
            "description": "",
            "description_tooltip": null,
            "layout": "IPY_MODEL_6ddd3f64759c4a4684ec61631c0ea106",
            "placeholder": "​",
            "style": "IPY_MODEL_a13ee67649fe480e92d0a9fcde504fba",
            "value": "config.json: 100%"
          }
        },
        "6ee32cee34c947bea2ce851512ff846a": {
          "model_module": "@jupyter-widgets/controls",
          "model_name": "FloatProgressModel",
          "model_module_version": "1.5.0",
          "state": {
            "_dom_classes": [],
            "_model_module": "@jupyter-widgets/controls",
            "_model_module_version": "1.5.0",
            "_model_name": "FloatProgressModel",
            "_view_count": null,
            "_view_module": "@jupyter-widgets/controls",
            "_view_module_version": "1.5.0",
            "_view_name": "ProgressView",
            "bar_style": "success",
            "description": "",
            "description_tooltip": null,
            "layout": "IPY_MODEL_a4da93d85d164e42a5628c3ef95ebdfd",
            "max": 929,
            "min": 0,
            "orientation": "horizontal",
            "style": "IPY_MODEL_e56123f13ffb4386b19af381e6a6ff82",
            "value": 929
          }
        },
        "41bb0c6712f8487b841f54c3fe5bdf90": {
          "model_module": "@jupyter-widgets/controls",
          "model_name": "HTMLModel",
          "model_module_version": "1.5.0",
          "state": {
            "_dom_classes": [],
            "_model_module": "@jupyter-widgets/controls",
            "_model_module_version": "1.5.0",
            "_model_name": "HTMLModel",
            "_view_count": null,
            "_view_module": "@jupyter-widgets/controls",
            "_view_module_version": "1.5.0",
            "_view_name": "HTMLView",
            "description": "",
            "description_tooltip": null,
            "layout": "IPY_MODEL_e876d772a13c40de9d1247f822c713db",
            "placeholder": "​",
            "style": "IPY_MODEL_f808746c3c3545cdb223e7b048354863",
            "value": " 929/929 [00:00&lt;00:00, 13.4kB/s]"
          }
        },
        "8ac1e48aa7f04d9ba2f19ee29f0454ab": {
          "model_module": "@jupyter-widgets/base",
          "model_name": "LayoutModel",
          "model_module_version": "1.2.0",
          "state": {
            "_model_module": "@jupyter-widgets/base",
            "_model_module_version": "1.2.0",
            "_model_name": "LayoutModel",
            "_view_count": null,
            "_view_module": "@jupyter-widgets/base",
            "_view_module_version": "1.2.0",
            "_view_name": "LayoutView",
            "align_content": null,
            "align_items": null,
            "align_self": null,
            "border": null,
            "bottom": null,
            "display": null,
            "flex": null,
            "flex_flow": null,
            "grid_area": null,
            "grid_auto_columns": null,
            "grid_auto_flow": null,
            "grid_auto_rows": null,
            "grid_column": null,
            "grid_gap": null,
            "grid_row": null,
            "grid_template_areas": null,
            "grid_template_columns": null,
            "grid_template_rows": null,
            "height": null,
            "justify_content": null,
            "justify_items": null,
            "left": null,
            "margin": null,
            "max_height": null,
            "max_width": null,
            "min_height": null,
            "min_width": null,
            "object_fit": null,
            "object_position": null,
            "order": null,
            "overflow": null,
            "overflow_x": null,
            "overflow_y": null,
            "padding": null,
            "right": null,
            "top": null,
            "visibility": null,
            "width": null
          }
        },
        "6ddd3f64759c4a4684ec61631c0ea106": {
          "model_module": "@jupyter-widgets/base",
          "model_name": "LayoutModel",
          "model_module_version": "1.2.0",
          "state": {
            "_model_module": "@jupyter-widgets/base",
            "_model_module_version": "1.2.0",
            "_model_name": "LayoutModel",
            "_view_count": null,
            "_view_module": "@jupyter-widgets/base",
            "_view_module_version": "1.2.0",
            "_view_name": "LayoutView",
            "align_content": null,
            "align_items": null,
            "align_self": null,
            "border": null,
            "bottom": null,
            "display": null,
            "flex": null,
            "flex_flow": null,
            "grid_area": null,
            "grid_auto_columns": null,
            "grid_auto_flow": null,
            "grid_auto_rows": null,
            "grid_column": null,
            "grid_gap": null,
            "grid_row": null,
            "grid_template_areas": null,
            "grid_template_columns": null,
            "grid_template_rows": null,
            "height": null,
            "justify_content": null,
            "justify_items": null,
            "left": null,
            "margin": null,
            "max_height": null,
            "max_width": null,
            "min_height": null,
            "min_width": null,
            "object_fit": null,
            "object_position": null,
            "order": null,
            "overflow": null,
            "overflow_x": null,
            "overflow_y": null,
            "padding": null,
            "right": null,
            "top": null,
            "visibility": null,
            "width": null
          }
        },
        "a13ee67649fe480e92d0a9fcde504fba": {
          "model_module": "@jupyter-widgets/controls",
          "model_name": "DescriptionStyleModel",
          "model_module_version": "1.5.0",
          "state": {
            "_model_module": "@jupyter-widgets/controls",
            "_model_module_version": "1.5.0",
            "_model_name": "DescriptionStyleModel",
            "_view_count": null,
            "_view_module": "@jupyter-widgets/base",
            "_view_module_version": "1.2.0",
            "_view_name": "StyleView",
            "description_width": ""
          }
        },
        "a4da93d85d164e42a5628c3ef95ebdfd": {
          "model_module": "@jupyter-widgets/base",
          "model_name": "LayoutModel",
          "model_module_version": "1.2.0",
          "state": {
            "_model_module": "@jupyter-widgets/base",
            "_model_module_version": "1.2.0",
            "_model_name": "LayoutModel",
            "_view_count": null,
            "_view_module": "@jupyter-widgets/base",
            "_view_module_version": "1.2.0",
            "_view_name": "LayoutView",
            "align_content": null,
            "align_items": null,
            "align_self": null,
            "border": null,
            "bottom": null,
            "display": null,
            "flex": null,
            "flex_flow": null,
            "grid_area": null,
            "grid_auto_columns": null,
            "grid_auto_flow": null,
            "grid_auto_rows": null,
            "grid_column": null,
            "grid_gap": null,
            "grid_row": null,
            "grid_template_areas": null,
            "grid_template_columns": null,
            "grid_template_rows": null,
            "height": null,
            "justify_content": null,
            "justify_items": null,
            "left": null,
            "margin": null,
            "max_height": null,
            "max_width": null,
            "min_height": null,
            "min_width": null,
            "object_fit": null,
            "object_position": null,
            "order": null,
            "overflow": null,
            "overflow_x": null,
            "overflow_y": null,
            "padding": null,
            "right": null,
            "top": null,
            "visibility": null,
            "width": null
          }
        },
        "e56123f13ffb4386b19af381e6a6ff82": {
          "model_module": "@jupyter-widgets/controls",
          "model_name": "ProgressStyleModel",
          "model_module_version": "1.5.0",
          "state": {
            "_model_module": "@jupyter-widgets/controls",
            "_model_module_version": "1.5.0",
            "_model_name": "ProgressStyleModel",
            "_view_count": null,
            "_view_module": "@jupyter-widgets/base",
            "_view_module_version": "1.2.0",
            "_view_name": "StyleView",
            "bar_color": null,
            "description_width": ""
          }
        },
        "e876d772a13c40de9d1247f822c713db": {
          "model_module": "@jupyter-widgets/base",
          "model_name": "LayoutModel",
          "model_module_version": "1.2.0",
          "state": {
            "_model_module": "@jupyter-widgets/base",
            "_model_module_version": "1.2.0",
            "_model_name": "LayoutModel",
            "_view_count": null,
            "_view_module": "@jupyter-widgets/base",
            "_view_module_version": "1.2.0",
            "_view_name": "LayoutView",
            "align_content": null,
            "align_items": null,
            "align_self": null,
            "border": null,
            "bottom": null,
            "display": null,
            "flex": null,
            "flex_flow": null,
            "grid_area": null,
            "grid_auto_columns": null,
            "grid_auto_flow": null,
            "grid_auto_rows": null,
            "grid_column": null,
            "grid_gap": null,
            "grid_row": null,
            "grid_template_areas": null,
            "grid_template_columns": null,
            "grid_template_rows": null,
            "height": null,
            "justify_content": null,
            "justify_items": null,
            "left": null,
            "margin": null,
            "max_height": null,
            "max_width": null,
            "min_height": null,
            "min_width": null,
            "object_fit": null,
            "object_position": null,
            "order": null,
            "overflow": null,
            "overflow_x": null,
            "overflow_y": null,
            "padding": null,
            "right": null,
            "top": null,
            "visibility": null,
            "width": null
          }
        },
        "f808746c3c3545cdb223e7b048354863": {
          "model_module": "@jupyter-widgets/controls",
          "model_name": "DescriptionStyleModel",
          "model_module_version": "1.5.0",
          "state": {
            "_model_module": "@jupyter-widgets/controls",
            "_model_module_version": "1.5.0",
            "_model_name": "DescriptionStyleModel",
            "_view_count": null,
            "_view_module": "@jupyter-widgets/base",
            "_view_module_version": "1.2.0",
            "_view_name": "StyleView",
            "description_width": ""
          }
        },
        "cf85a1a20d974692ad430c13de228ccb": {
          "model_module": "@jupyter-widgets/controls",
          "model_name": "HBoxModel",
          "model_module_version": "1.5.0",
          "state": {
            "_dom_classes": [],
            "_model_module": "@jupyter-widgets/controls",
            "_model_module_version": "1.5.0",
            "_model_name": "HBoxModel",
            "_view_count": null,
            "_view_module": "@jupyter-widgets/controls",
            "_view_module_version": "1.5.0",
            "_view_name": "HBoxView",
            "box_style": "",
            "children": [
              "IPY_MODEL_695e29d548cf41318ca46cc0f8f4d430",
              "IPY_MODEL_46231a44d486406287c61000f670dae2",
              "IPY_MODEL_564ee106de94415fbf321374e62a1d5f"
            ],
            "layout": "IPY_MODEL_f121597dc0e94c9fb4cde017c68a9a73"
          }
        },
        "695e29d548cf41318ca46cc0f8f4d430": {
          "model_module": "@jupyter-widgets/controls",
          "model_name": "HTMLModel",
          "model_module_version": "1.5.0",
          "state": {
            "_dom_classes": [],
            "_model_module": "@jupyter-widgets/controls",
            "_model_module_version": "1.5.0",
            "_model_name": "HTMLModel",
            "_view_count": null,
            "_view_module": "@jupyter-widgets/controls",
            "_view_module_version": "1.5.0",
            "_view_name": "HTMLView",
            "description": "",
            "description_tooltip": null,
            "layout": "IPY_MODEL_cbc1fe1baeb34138a095660fdb5e72b2",
            "placeholder": "​",
            "style": "IPY_MODEL_eea4ab48ff104c12acaeecc3b83690f6",
            "value": "pytorch_model.bin: 100%"
          }
        },
        "46231a44d486406287c61000f670dae2": {
          "model_module": "@jupyter-widgets/controls",
          "model_name": "FloatProgressModel",
          "model_module_version": "1.5.0",
          "state": {
            "_dom_classes": [],
            "_model_module": "@jupyter-widgets/controls",
            "_model_module_version": "1.5.0",
            "_model_name": "FloatProgressModel",
            "_view_count": null,
            "_view_module": "@jupyter-widgets/controls",
            "_view_module_version": "1.5.0",
            "_view_name": "ProgressView",
            "bar_style": "success",
            "description": "",
            "description_tooltip": null,
            "layout": "IPY_MODEL_93eb1164234141a397e464ebd7170d4f",
            "max": 501045531,
            "min": 0,
            "orientation": "horizontal",
            "style": "IPY_MODEL_3ec98ac70c8e4f30be74b9e331696ce6",
            "value": 501045531
          }
        },
        "564ee106de94415fbf321374e62a1d5f": {
          "model_module": "@jupyter-widgets/controls",
          "model_name": "HTMLModel",
          "model_module_version": "1.5.0",
          "state": {
            "_dom_classes": [],
            "_model_module": "@jupyter-widgets/controls",
            "_model_module_version": "1.5.0",
            "_model_name": "HTMLModel",
            "_view_count": null,
            "_view_module": "@jupyter-widgets/controls",
            "_view_module_version": "1.5.0",
            "_view_name": "HTMLView",
            "description": "",
            "description_tooltip": null,
            "layout": "IPY_MODEL_a566fc3bde8d4c9b8ba0e471c88c1f78",
            "placeholder": "​",
            "style": "IPY_MODEL_dbf9371e59b24056aa783383796a7528",
            "value": " 501M/501M [00:12&lt;00:00, 48.0MB/s]"
          }
        },
        "f121597dc0e94c9fb4cde017c68a9a73": {
          "model_module": "@jupyter-widgets/base",
          "model_name": "LayoutModel",
          "model_module_version": "1.2.0",
          "state": {
            "_model_module": "@jupyter-widgets/base",
            "_model_module_version": "1.2.0",
            "_model_name": "LayoutModel",
            "_view_count": null,
            "_view_module": "@jupyter-widgets/base",
            "_view_module_version": "1.2.0",
            "_view_name": "LayoutView",
            "align_content": null,
            "align_items": null,
            "align_self": null,
            "border": null,
            "bottom": null,
            "display": null,
            "flex": null,
            "flex_flow": null,
            "grid_area": null,
            "grid_auto_columns": null,
            "grid_auto_flow": null,
            "grid_auto_rows": null,
            "grid_column": null,
            "grid_gap": null,
            "grid_row": null,
            "grid_template_areas": null,
            "grid_template_columns": null,
            "grid_template_rows": null,
            "height": null,
            "justify_content": null,
            "justify_items": null,
            "left": null,
            "margin": null,
            "max_height": null,
            "max_width": null,
            "min_height": null,
            "min_width": null,
            "object_fit": null,
            "object_position": null,
            "order": null,
            "overflow": null,
            "overflow_x": null,
            "overflow_y": null,
            "padding": null,
            "right": null,
            "top": null,
            "visibility": null,
            "width": null
          }
        },
        "cbc1fe1baeb34138a095660fdb5e72b2": {
          "model_module": "@jupyter-widgets/base",
          "model_name": "LayoutModel",
          "model_module_version": "1.2.0",
          "state": {
            "_model_module": "@jupyter-widgets/base",
            "_model_module_version": "1.2.0",
            "_model_name": "LayoutModel",
            "_view_count": null,
            "_view_module": "@jupyter-widgets/base",
            "_view_module_version": "1.2.0",
            "_view_name": "LayoutView",
            "align_content": null,
            "align_items": null,
            "align_self": null,
            "border": null,
            "bottom": null,
            "display": null,
            "flex": null,
            "flex_flow": null,
            "grid_area": null,
            "grid_auto_columns": null,
            "grid_auto_flow": null,
            "grid_auto_rows": null,
            "grid_column": null,
            "grid_gap": null,
            "grid_row": null,
            "grid_template_areas": null,
            "grid_template_columns": null,
            "grid_template_rows": null,
            "height": null,
            "justify_content": null,
            "justify_items": null,
            "left": null,
            "margin": null,
            "max_height": null,
            "max_width": null,
            "min_height": null,
            "min_width": null,
            "object_fit": null,
            "object_position": null,
            "order": null,
            "overflow": null,
            "overflow_x": null,
            "overflow_y": null,
            "padding": null,
            "right": null,
            "top": null,
            "visibility": null,
            "width": null
          }
        },
        "eea4ab48ff104c12acaeecc3b83690f6": {
          "model_module": "@jupyter-widgets/controls",
          "model_name": "DescriptionStyleModel",
          "model_module_version": "1.5.0",
          "state": {
            "_model_module": "@jupyter-widgets/controls",
            "_model_module_version": "1.5.0",
            "_model_name": "DescriptionStyleModel",
            "_view_count": null,
            "_view_module": "@jupyter-widgets/base",
            "_view_module_version": "1.2.0",
            "_view_name": "StyleView",
            "description_width": ""
          }
        },
        "93eb1164234141a397e464ebd7170d4f": {
          "model_module": "@jupyter-widgets/base",
          "model_name": "LayoutModel",
          "model_module_version": "1.2.0",
          "state": {
            "_model_module": "@jupyter-widgets/base",
            "_model_module_version": "1.2.0",
            "_model_name": "LayoutModel",
            "_view_count": null,
            "_view_module": "@jupyter-widgets/base",
            "_view_module_version": "1.2.0",
            "_view_name": "LayoutView",
            "align_content": null,
            "align_items": null,
            "align_self": null,
            "border": null,
            "bottom": null,
            "display": null,
            "flex": null,
            "flex_flow": null,
            "grid_area": null,
            "grid_auto_columns": null,
            "grid_auto_flow": null,
            "grid_auto_rows": null,
            "grid_column": null,
            "grid_gap": null,
            "grid_row": null,
            "grid_template_areas": null,
            "grid_template_columns": null,
            "grid_template_rows": null,
            "height": null,
            "justify_content": null,
            "justify_items": null,
            "left": null,
            "margin": null,
            "max_height": null,
            "max_width": null,
            "min_height": null,
            "min_width": null,
            "object_fit": null,
            "object_position": null,
            "order": null,
            "overflow": null,
            "overflow_x": null,
            "overflow_y": null,
            "padding": null,
            "right": null,
            "top": null,
            "visibility": null,
            "width": null
          }
        },
        "3ec98ac70c8e4f30be74b9e331696ce6": {
          "model_module": "@jupyter-widgets/controls",
          "model_name": "ProgressStyleModel",
          "model_module_version": "1.5.0",
          "state": {
            "_model_module": "@jupyter-widgets/controls",
            "_model_module_version": "1.5.0",
            "_model_name": "ProgressStyleModel",
            "_view_count": null,
            "_view_module": "@jupyter-widgets/base",
            "_view_module_version": "1.2.0",
            "_view_name": "StyleView",
            "bar_color": null,
            "description_width": ""
          }
        },
        "a566fc3bde8d4c9b8ba0e471c88c1f78": {
          "model_module": "@jupyter-widgets/base",
          "model_name": "LayoutModel",
          "model_module_version": "1.2.0",
          "state": {
            "_model_module": "@jupyter-widgets/base",
            "_model_module_version": "1.2.0",
            "_model_name": "LayoutModel",
            "_view_count": null,
            "_view_module": "@jupyter-widgets/base",
            "_view_module_version": "1.2.0",
            "_view_name": "LayoutView",
            "align_content": null,
            "align_items": null,
            "align_self": null,
            "border": null,
            "bottom": null,
            "display": null,
            "flex": null,
            "flex_flow": null,
            "grid_area": null,
            "grid_auto_columns": null,
            "grid_auto_flow": null,
            "grid_auto_rows": null,
            "grid_column": null,
            "grid_gap": null,
            "grid_row": null,
            "grid_template_areas": null,
            "grid_template_columns": null,
            "grid_template_rows": null,
            "height": null,
            "justify_content": null,
            "justify_items": null,
            "left": null,
            "margin": null,
            "max_height": null,
            "max_width": null,
            "min_height": null,
            "min_width": null,
            "object_fit": null,
            "object_position": null,
            "order": null,
            "overflow": null,
            "overflow_x": null,
            "overflow_y": null,
            "padding": null,
            "right": null,
            "top": null,
            "visibility": null,
            "width": null
          }
        },
        "dbf9371e59b24056aa783383796a7528": {
          "model_module": "@jupyter-widgets/controls",
          "model_name": "DescriptionStyleModel",
          "model_module_version": "1.5.0",
          "state": {
            "_model_module": "@jupyter-widgets/controls",
            "_model_module_version": "1.5.0",
            "_model_name": "DescriptionStyleModel",
            "_view_count": null,
            "_view_module": "@jupyter-widgets/base",
            "_view_module_version": "1.2.0",
            "_view_name": "StyleView",
            "description_width": ""
          }
        },
        "5bac4c3dab4440048b91a85441463760": {
          "model_module": "@jupyter-widgets/controls",
          "model_name": "HBoxModel",
          "model_module_version": "1.5.0",
          "state": {
            "_dom_classes": [],
            "_model_module": "@jupyter-widgets/controls",
            "_model_module_version": "1.5.0",
            "_model_name": "HBoxModel",
            "_view_count": null,
            "_view_module": "@jupyter-widgets/controls",
            "_view_module_version": "1.5.0",
            "_view_name": "HBoxView",
            "box_style": "",
            "children": [
              "IPY_MODEL_cc0632f6f1e64b54bb8e8ec639f9c2a7",
              "IPY_MODEL_36c2224bddec47fc8fabeb6ebc624920",
              "IPY_MODEL_7c97901979c44617802d29366011c3b2"
            ],
            "layout": "IPY_MODEL_dccc0a8f04e545378b5dd357c61a2ef5"
          }
        },
        "cc0632f6f1e64b54bb8e8ec639f9c2a7": {
          "model_module": "@jupyter-widgets/controls",
          "model_name": "HTMLModel",
          "model_module_version": "1.5.0",
          "state": {
            "_dom_classes": [],
            "_model_module": "@jupyter-widgets/controls",
            "_model_module_version": "1.5.0",
            "_model_name": "HTMLModel",
            "_view_count": null,
            "_view_module": "@jupyter-widgets/controls",
            "_view_module_version": "1.5.0",
            "_view_name": "HTMLView",
            "description": "",
            "description_tooltip": null,
            "layout": "IPY_MODEL_c7f666bc0a7b487ea41fac2f2109048a",
            "placeholder": "​",
            "style": "IPY_MODEL_fe1382587b7a4e299cdcbc3b77e31b94",
            "value": "vocab.json: "
          }
        },
        "36c2224bddec47fc8fabeb6ebc624920": {
          "model_module": "@jupyter-widgets/controls",
          "model_name": "FloatProgressModel",
          "model_module_version": "1.5.0",
          "state": {
            "_dom_classes": [],
            "_model_module": "@jupyter-widgets/controls",
            "_model_module_version": "1.5.0",
            "_model_name": "FloatProgressModel",
            "_view_count": null,
            "_view_module": "@jupyter-widgets/controls",
            "_view_module_version": "1.5.0",
            "_view_name": "ProgressView",
            "bar_style": "success",
            "description": "",
            "description_tooltip": null,
            "layout": "IPY_MODEL_24fd2733fbff4133a2c62b66ec280876",
            "max": 1,
            "min": 0,
            "orientation": "horizontal",
            "style": "IPY_MODEL_797cba44bda84ba9899c8691b404ecd4",
            "value": 1
          }
        },
        "7c97901979c44617802d29366011c3b2": {
          "model_module": "@jupyter-widgets/controls",
          "model_name": "HTMLModel",
          "model_module_version": "1.5.0",
          "state": {
            "_dom_classes": [],
            "_model_module": "@jupyter-widgets/controls",
            "_model_module_version": "1.5.0",
            "_model_name": "HTMLModel",
            "_view_count": null,
            "_view_module": "@jupyter-widgets/controls",
            "_view_module_version": "1.5.0",
            "_view_name": "HTMLView",
            "description": "",
            "description_tooltip": null,
            "layout": "IPY_MODEL_75ff12942518469ba71289f6f74fd0cf",
            "placeholder": "​",
            "style": "IPY_MODEL_d20229b585ca4e7a845d9c3d1fac038b",
            "value": " 899k/? [00:00&lt;00:00, 17.3MB/s]"
          }
        },
        "dccc0a8f04e545378b5dd357c61a2ef5": {
          "model_module": "@jupyter-widgets/base",
          "model_name": "LayoutModel",
          "model_module_version": "1.2.0",
          "state": {
            "_model_module": "@jupyter-widgets/base",
            "_model_module_version": "1.2.0",
            "_model_name": "LayoutModel",
            "_view_count": null,
            "_view_module": "@jupyter-widgets/base",
            "_view_module_version": "1.2.0",
            "_view_name": "LayoutView",
            "align_content": null,
            "align_items": null,
            "align_self": null,
            "border": null,
            "bottom": null,
            "display": null,
            "flex": null,
            "flex_flow": null,
            "grid_area": null,
            "grid_auto_columns": null,
            "grid_auto_flow": null,
            "grid_auto_rows": null,
            "grid_column": null,
            "grid_gap": null,
            "grid_row": null,
            "grid_template_areas": null,
            "grid_template_columns": null,
            "grid_template_rows": null,
            "height": null,
            "justify_content": null,
            "justify_items": null,
            "left": null,
            "margin": null,
            "max_height": null,
            "max_width": null,
            "min_height": null,
            "min_width": null,
            "object_fit": null,
            "object_position": null,
            "order": null,
            "overflow": null,
            "overflow_x": null,
            "overflow_y": null,
            "padding": null,
            "right": null,
            "top": null,
            "visibility": null,
            "width": null
          }
        },
        "c7f666bc0a7b487ea41fac2f2109048a": {
          "model_module": "@jupyter-widgets/base",
          "model_name": "LayoutModel",
          "model_module_version": "1.2.0",
          "state": {
            "_model_module": "@jupyter-widgets/base",
            "_model_module_version": "1.2.0",
            "_model_name": "LayoutModel",
            "_view_count": null,
            "_view_module": "@jupyter-widgets/base",
            "_view_module_version": "1.2.0",
            "_view_name": "LayoutView",
            "align_content": null,
            "align_items": null,
            "align_self": null,
            "border": null,
            "bottom": null,
            "display": null,
            "flex": null,
            "flex_flow": null,
            "grid_area": null,
            "grid_auto_columns": null,
            "grid_auto_flow": null,
            "grid_auto_rows": null,
            "grid_column": null,
            "grid_gap": null,
            "grid_row": null,
            "grid_template_areas": null,
            "grid_template_columns": null,
            "grid_template_rows": null,
            "height": null,
            "justify_content": null,
            "justify_items": null,
            "left": null,
            "margin": null,
            "max_height": null,
            "max_width": null,
            "min_height": null,
            "min_width": null,
            "object_fit": null,
            "object_position": null,
            "order": null,
            "overflow": null,
            "overflow_x": null,
            "overflow_y": null,
            "padding": null,
            "right": null,
            "top": null,
            "visibility": null,
            "width": null
          }
        },
        "fe1382587b7a4e299cdcbc3b77e31b94": {
          "model_module": "@jupyter-widgets/controls",
          "model_name": "DescriptionStyleModel",
          "model_module_version": "1.5.0",
          "state": {
            "_model_module": "@jupyter-widgets/controls",
            "_model_module_version": "1.5.0",
            "_model_name": "DescriptionStyleModel",
            "_view_count": null,
            "_view_module": "@jupyter-widgets/base",
            "_view_module_version": "1.2.0",
            "_view_name": "StyleView",
            "description_width": ""
          }
        },
        "24fd2733fbff4133a2c62b66ec280876": {
          "model_module": "@jupyter-widgets/base",
          "model_name": "LayoutModel",
          "model_module_version": "1.2.0",
          "state": {
            "_model_module": "@jupyter-widgets/base",
            "_model_module_version": "1.2.0",
            "_model_name": "LayoutModel",
            "_view_count": null,
            "_view_module": "@jupyter-widgets/base",
            "_view_module_version": "1.2.0",
            "_view_name": "LayoutView",
            "align_content": null,
            "align_items": null,
            "align_self": null,
            "border": null,
            "bottom": null,
            "display": null,
            "flex": null,
            "flex_flow": null,
            "grid_area": null,
            "grid_auto_columns": null,
            "grid_auto_flow": null,
            "grid_auto_rows": null,
            "grid_column": null,
            "grid_gap": null,
            "grid_row": null,
            "grid_template_areas": null,
            "grid_template_columns": null,
            "grid_template_rows": null,
            "height": null,
            "justify_content": null,
            "justify_items": null,
            "left": null,
            "margin": null,
            "max_height": null,
            "max_width": null,
            "min_height": null,
            "min_width": null,
            "object_fit": null,
            "object_position": null,
            "order": null,
            "overflow": null,
            "overflow_x": null,
            "overflow_y": null,
            "padding": null,
            "right": null,
            "top": null,
            "visibility": null,
            "width": "20px"
          }
        },
        "797cba44bda84ba9899c8691b404ecd4": {
          "model_module": "@jupyter-widgets/controls",
          "model_name": "ProgressStyleModel",
          "model_module_version": "1.5.0",
          "state": {
            "_model_module": "@jupyter-widgets/controls",
            "_model_module_version": "1.5.0",
            "_model_name": "ProgressStyleModel",
            "_view_count": null,
            "_view_module": "@jupyter-widgets/base",
            "_view_module_version": "1.2.0",
            "_view_name": "StyleView",
            "bar_color": null,
            "description_width": ""
          }
        },
        "75ff12942518469ba71289f6f74fd0cf": {
          "model_module": "@jupyter-widgets/base",
          "model_name": "LayoutModel",
          "model_module_version": "1.2.0",
          "state": {
            "_model_module": "@jupyter-widgets/base",
            "_model_module_version": "1.2.0",
            "_model_name": "LayoutModel",
            "_view_count": null,
            "_view_module": "@jupyter-widgets/base",
            "_view_module_version": "1.2.0",
            "_view_name": "LayoutView",
            "align_content": null,
            "align_items": null,
            "align_self": null,
            "border": null,
            "bottom": null,
            "display": null,
            "flex": null,
            "flex_flow": null,
            "grid_area": null,
            "grid_auto_columns": null,
            "grid_auto_flow": null,
            "grid_auto_rows": null,
            "grid_column": null,
            "grid_gap": null,
            "grid_row": null,
            "grid_template_areas": null,
            "grid_template_columns": null,
            "grid_template_rows": null,
            "height": null,
            "justify_content": null,
            "justify_items": null,
            "left": null,
            "margin": null,
            "max_height": null,
            "max_width": null,
            "min_height": null,
            "min_width": null,
            "object_fit": null,
            "object_position": null,
            "order": null,
            "overflow": null,
            "overflow_x": null,
            "overflow_y": null,
            "padding": null,
            "right": null,
            "top": null,
            "visibility": null,
            "width": null
          }
        },
        "d20229b585ca4e7a845d9c3d1fac038b": {
          "model_module": "@jupyter-widgets/controls",
          "model_name": "DescriptionStyleModel",
          "model_module_version": "1.5.0",
          "state": {
            "_model_module": "@jupyter-widgets/controls",
            "_model_module_version": "1.5.0",
            "_model_name": "DescriptionStyleModel",
            "_view_count": null,
            "_view_module": "@jupyter-widgets/base",
            "_view_module_version": "1.2.0",
            "_view_name": "StyleView",
            "description_width": ""
          }
        },
        "ae7e63d0c2734695a640e4822e79f9e8": {
          "model_module": "@jupyter-widgets/controls",
          "model_name": "HBoxModel",
          "model_module_version": "1.5.0",
          "state": {
            "_dom_classes": [],
            "_model_module": "@jupyter-widgets/controls",
            "_model_module_version": "1.5.0",
            "_model_name": "HBoxModel",
            "_view_count": null,
            "_view_module": "@jupyter-widgets/controls",
            "_view_module_version": "1.5.0",
            "_view_name": "HBoxView",
            "box_style": "",
            "children": [
              "IPY_MODEL_980cde318f82456dab01f37fbb3043c6",
              "IPY_MODEL_61d890ede0824ea18c84b0472da4a29d",
              "IPY_MODEL_dab30b92c0e1497ca8ec9e39a446bb86"
            ],
            "layout": "IPY_MODEL_5c0188da793b4646907eabf5251a6b94"
          }
        },
        "980cde318f82456dab01f37fbb3043c6": {
          "model_module": "@jupyter-widgets/controls",
          "model_name": "HTMLModel",
          "model_module_version": "1.5.0",
          "state": {
            "_dom_classes": [],
            "_model_module": "@jupyter-widgets/controls",
            "_model_module_version": "1.5.0",
            "_model_name": "HTMLModel",
            "_view_count": null,
            "_view_module": "@jupyter-widgets/controls",
            "_view_module_version": "1.5.0",
            "_view_name": "HTMLView",
            "description": "",
            "description_tooltip": null,
            "layout": "IPY_MODEL_b5bb8f4e517c4f16bd36d14e8138e296",
            "placeholder": "​",
            "style": "IPY_MODEL_635d9aa67e02454e8c8db0b98abd61b6",
            "value": "model.safetensors: 100%"
          }
        },
        "61d890ede0824ea18c84b0472da4a29d": {
          "model_module": "@jupyter-widgets/controls",
          "model_name": "FloatProgressModel",
          "model_module_version": "1.5.0",
          "state": {
            "_dom_classes": [],
            "_model_module": "@jupyter-widgets/controls",
            "_model_module_version": "1.5.0",
            "_model_name": "FloatProgressModel",
            "_view_count": null,
            "_view_module": "@jupyter-widgets/controls",
            "_view_module_version": "1.5.0",
            "_view_name": "ProgressView",
            "bar_style": "success",
            "description": "",
            "description_tooltip": null,
            "layout": "IPY_MODEL_1c396e9397a34da4bde5fa60283a6616",
            "max": 500982668,
            "min": 0,
            "orientation": "horizontal",
            "style": "IPY_MODEL_aa8382a82f754f5c9989da27f89aa135",
            "value": 500982668
          }
        },
        "dab30b92c0e1497ca8ec9e39a446bb86": {
          "model_module": "@jupyter-widgets/controls",
          "model_name": "HTMLModel",
          "model_module_version": "1.5.0",
          "state": {
            "_dom_classes": [],
            "_model_module": "@jupyter-widgets/controls",
            "_model_module_version": "1.5.0",
            "_model_name": "HTMLModel",
            "_view_count": null,
            "_view_module": "@jupyter-widgets/controls",
            "_view_module_version": "1.5.0",
            "_view_name": "HTMLView",
            "description": "",
            "description_tooltip": null,
            "layout": "IPY_MODEL_6d8c58b93a754739a5e389606d65ab4a",
            "placeholder": "​",
            "style": "IPY_MODEL_3cec03ffaaa64fffb49575040d00a3d4",
            "value": " 501M/501M [00:06&lt;00:00, 131MB/s]"
          }
        },
        "5c0188da793b4646907eabf5251a6b94": {
          "model_module": "@jupyter-widgets/base",
          "model_name": "LayoutModel",
          "model_module_version": "1.2.0",
          "state": {
            "_model_module": "@jupyter-widgets/base",
            "_model_module_version": "1.2.0",
            "_model_name": "LayoutModel",
            "_view_count": null,
            "_view_module": "@jupyter-widgets/base",
            "_view_module_version": "1.2.0",
            "_view_name": "LayoutView",
            "align_content": null,
            "align_items": null,
            "align_self": null,
            "border": null,
            "bottom": null,
            "display": null,
            "flex": null,
            "flex_flow": null,
            "grid_area": null,
            "grid_auto_columns": null,
            "grid_auto_flow": null,
            "grid_auto_rows": null,
            "grid_column": null,
            "grid_gap": null,
            "grid_row": null,
            "grid_template_areas": null,
            "grid_template_columns": null,
            "grid_template_rows": null,
            "height": null,
            "justify_content": null,
            "justify_items": null,
            "left": null,
            "margin": null,
            "max_height": null,
            "max_width": null,
            "min_height": null,
            "min_width": null,
            "object_fit": null,
            "object_position": null,
            "order": null,
            "overflow": null,
            "overflow_x": null,
            "overflow_y": null,
            "padding": null,
            "right": null,
            "top": null,
            "visibility": null,
            "width": null
          }
        },
        "b5bb8f4e517c4f16bd36d14e8138e296": {
          "model_module": "@jupyter-widgets/base",
          "model_name": "LayoutModel",
          "model_module_version": "1.2.0",
          "state": {
            "_model_module": "@jupyter-widgets/base",
            "_model_module_version": "1.2.0",
            "_model_name": "LayoutModel",
            "_view_count": null,
            "_view_module": "@jupyter-widgets/base",
            "_view_module_version": "1.2.0",
            "_view_name": "LayoutView",
            "align_content": null,
            "align_items": null,
            "align_self": null,
            "border": null,
            "bottom": null,
            "display": null,
            "flex": null,
            "flex_flow": null,
            "grid_area": null,
            "grid_auto_columns": null,
            "grid_auto_flow": null,
            "grid_auto_rows": null,
            "grid_column": null,
            "grid_gap": null,
            "grid_row": null,
            "grid_template_areas": null,
            "grid_template_columns": null,
            "grid_template_rows": null,
            "height": null,
            "justify_content": null,
            "justify_items": null,
            "left": null,
            "margin": null,
            "max_height": null,
            "max_width": null,
            "min_height": null,
            "min_width": null,
            "object_fit": null,
            "object_position": null,
            "order": null,
            "overflow": null,
            "overflow_x": null,
            "overflow_y": null,
            "padding": null,
            "right": null,
            "top": null,
            "visibility": null,
            "width": null
          }
        },
        "635d9aa67e02454e8c8db0b98abd61b6": {
          "model_module": "@jupyter-widgets/controls",
          "model_name": "DescriptionStyleModel",
          "model_module_version": "1.5.0",
          "state": {
            "_model_module": "@jupyter-widgets/controls",
            "_model_module_version": "1.5.0",
            "_model_name": "DescriptionStyleModel",
            "_view_count": null,
            "_view_module": "@jupyter-widgets/base",
            "_view_module_version": "1.2.0",
            "_view_name": "StyleView",
            "description_width": ""
          }
        },
        "1c396e9397a34da4bde5fa60283a6616": {
          "model_module": "@jupyter-widgets/base",
          "model_name": "LayoutModel",
          "model_module_version": "1.2.0",
          "state": {
            "_model_module": "@jupyter-widgets/base",
            "_model_module_version": "1.2.0",
            "_model_name": "LayoutModel",
            "_view_count": null,
            "_view_module": "@jupyter-widgets/base",
            "_view_module_version": "1.2.0",
            "_view_name": "LayoutView",
            "align_content": null,
            "align_items": null,
            "align_self": null,
            "border": null,
            "bottom": null,
            "display": null,
            "flex": null,
            "flex_flow": null,
            "grid_area": null,
            "grid_auto_columns": null,
            "grid_auto_flow": null,
            "grid_auto_rows": null,
            "grid_column": null,
            "grid_gap": null,
            "grid_row": null,
            "grid_template_areas": null,
            "grid_template_columns": null,
            "grid_template_rows": null,
            "height": null,
            "justify_content": null,
            "justify_items": null,
            "left": null,
            "margin": null,
            "max_height": null,
            "max_width": null,
            "min_height": null,
            "min_width": null,
            "object_fit": null,
            "object_position": null,
            "order": null,
            "overflow": null,
            "overflow_x": null,
            "overflow_y": null,
            "padding": null,
            "right": null,
            "top": null,
            "visibility": null,
            "width": null
          }
        },
        "aa8382a82f754f5c9989da27f89aa135": {
          "model_module": "@jupyter-widgets/controls",
          "model_name": "ProgressStyleModel",
          "model_module_version": "1.5.0",
          "state": {
            "_model_module": "@jupyter-widgets/controls",
            "_model_module_version": "1.5.0",
            "_model_name": "ProgressStyleModel",
            "_view_count": null,
            "_view_module": "@jupyter-widgets/base",
            "_view_module_version": "1.2.0",
            "_view_name": "StyleView",
            "bar_color": null,
            "description_width": ""
          }
        },
        "6d8c58b93a754739a5e389606d65ab4a": {
          "model_module": "@jupyter-widgets/base",
          "model_name": "LayoutModel",
          "model_module_version": "1.2.0",
          "state": {
            "_model_module": "@jupyter-widgets/base",
            "_model_module_version": "1.2.0",
            "_model_name": "LayoutModel",
            "_view_count": null,
            "_view_module": "@jupyter-widgets/base",
            "_view_module_version": "1.2.0",
            "_view_name": "LayoutView",
            "align_content": null,
            "align_items": null,
            "align_self": null,
            "border": null,
            "bottom": null,
            "display": null,
            "flex": null,
            "flex_flow": null,
            "grid_area": null,
            "grid_auto_columns": null,
            "grid_auto_flow": null,
            "grid_auto_rows": null,
            "grid_column": null,
            "grid_gap": null,
            "grid_row": null,
            "grid_template_areas": null,
            "grid_template_columns": null,
            "grid_template_rows": null,
            "height": null,
            "justify_content": null,
            "justify_items": null,
            "left": null,
            "margin": null,
            "max_height": null,
            "max_width": null,
            "min_height": null,
            "min_width": null,
            "object_fit": null,
            "object_position": null,
            "order": null,
            "overflow": null,
            "overflow_x": null,
            "overflow_y": null,
            "padding": null,
            "right": null,
            "top": null,
            "visibility": null,
            "width": null
          }
        },
        "3cec03ffaaa64fffb49575040d00a3d4": {
          "model_module": "@jupyter-widgets/controls",
          "model_name": "DescriptionStyleModel",
          "model_module_version": "1.5.0",
          "state": {
            "_model_module": "@jupyter-widgets/controls",
            "_model_module_version": "1.5.0",
            "_model_name": "DescriptionStyleModel",
            "_view_count": null,
            "_view_module": "@jupyter-widgets/base",
            "_view_module_version": "1.2.0",
            "_view_name": "StyleView",
            "description_width": ""
          }
        },
        "a961fb3950a647c89a3c839c85e35e8a": {
          "model_module": "@jupyter-widgets/controls",
          "model_name": "HBoxModel",
          "model_module_version": "1.5.0",
          "state": {
            "_dom_classes": [],
            "_model_module": "@jupyter-widgets/controls",
            "_model_module_version": "1.5.0",
            "_model_name": "HBoxModel",
            "_view_count": null,
            "_view_module": "@jupyter-widgets/controls",
            "_view_module_version": "1.5.0",
            "_view_name": "HBoxView",
            "box_style": "",
            "children": [
              "IPY_MODEL_717d57be371d401986d5944899f55bb2",
              "IPY_MODEL_2346e063fe394e05800a6b228fcb454d",
              "IPY_MODEL_bb0e4d2b78be4117a43d32405182c5c3"
            ],
            "layout": "IPY_MODEL_7f4015f6bd934fdd95892f073e1b13cd"
          }
        },
        "717d57be371d401986d5944899f55bb2": {
          "model_module": "@jupyter-widgets/controls",
          "model_name": "HTMLModel",
          "model_module_version": "1.5.0",
          "state": {
            "_dom_classes": [],
            "_model_module": "@jupyter-widgets/controls",
            "_model_module_version": "1.5.0",
            "_model_name": "HTMLModel",
            "_view_count": null,
            "_view_module": "@jupyter-widgets/controls",
            "_view_module_version": "1.5.0",
            "_view_name": "HTMLView",
            "description": "",
            "description_tooltip": null,
            "layout": "IPY_MODEL_167e942d303443528feb83253ade2142",
            "placeholder": "​",
            "style": "IPY_MODEL_c96cc2b8f8314c4f976f3508dcf28cfb",
            "value": "merges.txt: "
          }
        },
        "2346e063fe394e05800a6b228fcb454d": {
          "model_module": "@jupyter-widgets/controls",
          "model_name": "FloatProgressModel",
          "model_module_version": "1.5.0",
          "state": {
            "_dom_classes": [],
            "_model_module": "@jupyter-widgets/controls",
            "_model_module_version": "1.5.0",
            "_model_name": "FloatProgressModel",
            "_view_count": null,
            "_view_module": "@jupyter-widgets/controls",
            "_view_module_version": "1.5.0",
            "_view_name": "ProgressView",
            "bar_style": "success",
            "description": "",
            "description_tooltip": null,
            "layout": "IPY_MODEL_d79e926edc984bf3897d2bb28081ff0e",
            "max": 1,
            "min": 0,
            "orientation": "horizontal",
            "style": "IPY_MODEL_2ec65ce5cc554a0ca00ec943d23c61bc",
            "value": 1
          }
        },
        "bb0e4d2b78be4117a43d32405182c5c3": {
          "model_module": "@jupyter-widgets/controls",
          "model_name": "HTMLModel",
          "model_module_version": "1.5.0",
          "state": {
            "_dom_classes": [],
            "_model_module": "@jupyter-widgets/controls",
            "_model_module_version": "1.5.0",
            "_model_name": "HTMLModel",
            "_view_count": null,
            "_view_module": "@jupyter-widgets/controls",
            "_view_module_version": "1.5.0",
            "_view_name": "HTMLView",
            "description": "",
            "description_tooltip": null,
            "layout": "IPY_MODEL_3ef44eb53d784ecc92c49bcc846680e3",
            "placeholder": "​",
            "style": "IPY_MODEL_915c8892f6624e22a92a0f6bf1d94202",
            "value": " 456k/? [00:00&lt;00:00, 7.15MB/s]"
          }
        },
        "7f4015f6bd934fdd95892f073e1b13cd": {
          "model_module": "@jupyter-widgets/base",
          "model_name": "LayoutModel",
          "model_module_version": "1.2.0",
          "state": {
            "_model_module": "@jupyter-widgets/base",
            "_model_module_version": "1.2.0",
            "_model_name": "LayoutModel",
            "_view_count": null,
            "_view_module": "@jupyter-widgets/base",
            "_view_module_version": "1.2.0",
            "_view_name": "LayoutView",
            "align_content": null,
            "align_items": null,
            "align_self": null,
            "border": null,
            "bottom": null,
            "display": null,
            "flex": null,
            "flex_flow": null,
            "grid_area": null,
            "grid_auto_columns": null,
            "grid_auto_flow": null,
            "grid_auto_rows": null,
            "grid_column": null,
            "grid_gap": null,
            "grid_row": null,
            "grid_template_areas": null,
            "grid_template_columns": null,
            "grid_template_rows": null,
            "height": null,
            "justify_content": null,
            "justify_items": null,
            "left": null,
            "margin": null,
            "max_height": null,
            "max_width": null,
            "min_height": null,
            "min_width": null,
            "object_fit": null,
            "object_position": null,
            "order": null,
            "overflow": null,
            "overflow_x": null,
            "overflow_y": null,
            "padding": null,
            "right": null,
            "top": null,
            "visibility": null,
            "width": null
          }
        },
        "167e942d303443528feb83253ade2142": {
          "model_module": "@jupyter-widgets/base",
          "model_name": "LayoutModel",
          "model_module_version": "1.2.0",
          "state": {
            "_model_module": "@jupyter-widgets/base",
            "_model_module_version": "1.2.0",
            "_model_name": "LayoutModel",
            "_view_count": null,
            "_view_module": "@jupyter-widgets/base",
            "_view_module_version": "1.2.0",
            "_view_name": "LayoutView",
            "align_content": null,
            "align_items": null,
            "align_self": null,
            "border": null,
            "bottom": null,
            "display": null,
            "flex": null,
            "flex_flow": null,
            "grid_area": null,
            "grid_auto_columns": null,
            "grid_auto_flow": null,
            "grid_auto_rows": null,
            "grid_column": null,
            "grid_gap": null,
            "grid_row": null,
            "grid_template_areas": null,
            "grid_template_columns": null,
            "grid_template_rows": null,
            "height": null,
            "justify_content": null,
            "justify_items": null,
            "left": null,
            "margin": null,
            "max_height": null,
            "max_width": null,
            "min_height": null,
            "min_width": null,
            "object_fit": null,
            "object_position": null,
            "order": null,
            "overflow": null,
            "overflow_x": null,
            "overflow_y": null,
            "padding": null,
            "right": null,
            "top": null,
            "visibility": null,
            "width": null
          }
        },
        "c96cc2b8f8314c4f976f3508dcf28cfb": {
          "model_module": "@jupyter-widgets/controls",
          "model_name": "DescriptionStyleModel",
          "model_module_version": "1.5.0",
          "state": {
            "_model_module": "@jupyter-widgets/controls",
            "_model_module_version": "1.5.0",
            "_model_name": "DescriptionStyleModel",
            "_view_count": null,
            "_view_module": "@jupyter-widgets/base",
            "_view_module_version": "1.2.0",
            "_view_name": "StyleView",
            "description_width": ""
          }
        },
        "d79e926edc984bf3897d2bb28081ff0e": {
          "model_module": "@jupyter-widgets/base",
          "model_name": "LayoutModel",
          "model_module_version": "1.2.0",
          "state": {
            "_model_module": "@jupyter-widgets/base",
            "_model_module_version": "1.2.0",
            "_model_name": "LayoutModel",
            "_view_count": null,
            "_view_module": "@jupyter-widgets/base",
            "_view_module_version": "1.2.0",
            "_view_name": "LayoutView",
            "align_content": null,
            "align_items": null,
            "align_self": null,
            "border": null,
            "bottom": null,
            "display": null,
            "flex": null,
            "flex_flow": null,
            "grid_area": null,
            "grid_auto_columns": null,
            "grid_auto_flow": null,
            "grid_auto_rows": null,
            "grid_column": null,
            "grid_gap": null,
            "grid_row": null,
            "grid_template_areas": null,
            "grid_template_columns": null,
            "grid_template_rows": null,
            "height": null,
            "justify_content": null,
            "justify_items": null,
            "left": null,
            "margin": null,
            "max_height": null,
            "max_width": null,
            "min_height": null,
            "min_width": null,
            "object_fit": null,
            "object_position": null,
            "order": null,
            "overflow": null,
            "overflow_x": null,
            "overflow_y": null,
            "padding": null,
            "right": null,
            "top": null,
            "visibility": null,
            "width": "20px"
          }
        },
        "2ec65ce5cc554a0ca00ec943d23c61bc": {
          "model_module": "@jupyter-widgets/controls",
          "model_name": "ProgressStyleModel",
          "model_module_version": "1.5.0",
          "state": {
            "_model_module": "@jupyter-widgets/controls",
            "_model_module_version": "1.5.0",
            "_model_name": "ProgressStyleModel",
            "_view_count": null,
            "_view_module": "@jupyter-widgets/base",
            "_view_module_version": "1.2.0",
            "_view_name": "StyleView",
            "bar_color": null,
            "description_width": ""
          }
        },
        "3ef44eb53d784ecc92c49bcc846680e3": {
          "model_module": "@jupyter-widgets/base",
          "model_name": "LayoutModel",
          "model_module_version": "1.2.0",
          "state": {
            "_model_module": "@jupyter-widgets/base",
            "_model_module_version": "1.2.0",
            "_model_name": "LayoutModel",
            "_view_count": null,
            "_view_module": "@jupyter-widgets/base",
            "_view_module_version": "1.2.0",
            "_view_name": "LayoutView",
            "align_content": null,
            "align_items": null,
            "align_self": null,
            "border": null,
            "bottom": null,
            "display": null,
            "flex": null,
            "flex_flow": null,
            "grid_area": null,
            "grid_auto_columns": null,
            "grid_auto_flow": null,
            "grid_auto_rows": null,
            "grid_column": null,
            "grid_gap": null,
            "grid_row": null,
            "grid_template_areas": null,
            "grid_template_columns": null,
            "grid_template_rows": null,
            "height": null,
            "justify_content": null,
            "justify_items": null,
            "left": null,
            "margin": null,
            "max_height": null,
            "max_width": null,
            "min_height": null,
            "min_width": null,
            "object_fit": null,
            "object_position": null,
            "order": null,
            "overflow": null,
            "overflow_x": null,
            "overflow_y": null,
            "padding": null,
            "right": null,
            "top": null,
            "visibility": null,
            "width": null
          }
        },
        "915c8892f6624e22a92a0f6bf1d94202": {
          "model_module": "@jupyter-widgets/controls",
          "model_name": "DescriptionStyleModel",
          "model_module_version": "1.5.0",
          "state": {
            "_model_module": "@jupyter-widgets/controls",
            "_model_module_version": "1.5.0",
            "_model_name": "DescriptionStyleModel",
            "_view_count": null,
            "_view_module": "@jupyter-widgets/base",
            "_view_module_version": "1.2.0",
            "_view_name": "StyleView",
            "description_width": ""
          }
        },
        "a53b374a13d7451cb3705275003996bd": {
          "model_module": "@jupyter-widgets/controls",
          "model_name": "HBoxModel",
          "model_module_version": "1.5.0",
          "state": {
            "_dom_classes": [],
            "_model_module": "@jupyter-widgets/controls",
            "_model_module_version": "1.5.0",
            "_model_name": "HBoxModel",
            "_view_count": null,
            "_view_module": "@jupyter-widgets/controls",
            "_view_module_version": "1.5.0",
            "_view_name": "HBoxView",
            "box_style": "",
            "children": [
              "IPY_MODEL_21c86e81cc624cf2802e8b90b6c0f486",
              "IPY_MODEL_b2288e92e8d746738001d9af4127434f",
              "IPY_MODEL_2e09fab0603d44e09f4fa78c0056cabd"
            ],
            "layout": "IPY_MODEL_500125e6c38a4d219c09dae6d7089530"
          }
        },
        "21c86e81cc624cf2802e8b90b6c0f486": {
          "model_module": "@jupyter-widgets/controls",
          "model_name": "HTMLModel",
          "model_module_version": "1.5.0",
          "state": {
            "_dom_classes": [],
            "_model_module": "@jupyter-widgets/controls",
            "_model_module_version": "1.5.0",
            "_model_name": "HTMLModel",
            "_view_count": null,
            "_view_module": "@jupyter-widgets/controls",
            "_view_module_version": "1.5.0",
            "_view_name": "HTMLView",
            "description": "",
            "description_tooltip": null,
            "layout": "IPY_MODEL_e9b485e03aaf42219862fbc69f533bd3",
            "placeholder": "​",
            "style": "IPY_MODEL_ae6d82fb7ce745e2b92aea9a6d975b38",
            "value": "special_tokens_map.json: 100%"
          }
        },
        "b2288e92e8d746738001d9af4127434f": {
          "model_module": "@jupyter-widgets/controls",
          "model_name": "FloatProgressModel",
          "model_module_version": "1.5.0",
          "state": {
            "_dom_classes": [],
            "_model_module": "@jupyter-widgets/controls",
            "_model_module_version": "1.5.0",
            "_model_name": "FloatProgressModel",
            "_view_count": null,
            "_view_module": "@jupyter-widgets/controls",
            "_view_module_version": "1.5.0",
            "_view_name": "ProgressView",
            "bar_style": "success",
            "description": "",
            "description_tooltip": null,
            "layout": "IPY_MODEL_06eaa7c59ea34cf18d720949ea883f54",
            "max": 239,
            "min": 0,
            "orientation": "horizontal",
            "style": "IPY_MODEL_23ffddd3aec145238da5500b42b1a27d",
            "value": 239
          }
        },
        "2e09fab0603d44e09f4fa78c0056cabd": {
          "model_module": "@jupyter-widgets/controls",
          "model_name": "HTMLModel",
          "model_module_version": "1.5.0",
          "state": {
            "_dom_classes": [],
            "_model_module": "@jupyter-widgets/controls",
            "_model_module_version": "1.5.0",
            "_model_name": "HTMLModel",
            "_view_count": null,
            "_view_module": "@jupyter-widgets/controls",
            "_view_module_version": "1.5.0",
            "_view_name": "HTMLView",
            "description": "",
            "description_tooltip": null,
            "layout": "IPY_MODEL_f8a308964956461c89b1608b2b707cd0",
            "placeholder": "​",
            "style": "IPY_MODEL_54bf88d60ea14d7c9e30f864fb888103",
            "value": " 239/239 [00:00&lt;00:00, 4.09kB/s]"
          }
        },
        "500125e6c38a4d219c09dae6d7089530": {
          "model_module": "@jupyter-widgets/base",
          "model_name": "LayoutModel",
          "model_module_version": "1.2.0",
          "state": {
            "_model_module": "@jupyter-widgets/base",
            "_model_module_version": "1.2.0",
            "_model_name": "LayoutModel",
            "_view_count": null,
            "_view_module": "@jupyter-widgets/base",
            "_view_module_version": "1.2.0",
            "_view_name": "LayoutView",
            "align_content": null,
            "align_items": null,
            "align_self": null,
            "border": null,
            "bottom": null,
            "display": null,
            "flex": null,
            "flex_flow": null,
            "grid_area": null,
            "grid_auto_columns": null,
            "grid_auto_flow": null,
            "grid_auto_rows": null,
            "grid_column": null,
            "grid_gap": null,
            "grid_row": null,
            "grid_template_areas": null,
            "grid_template_columns": null,
            "grid_template_rows": null,
            "height": null,
            "justify_content": null,
            "justify_items": null,
            "left": null,
            "margin": null,
            "max_height": null,
            "max_width": null,
            "min_height": null,
            "min_width": null,
            "object_fit": null,
            "object_position": null,
            "order": null,
            "overflow": null,
            "overflow_x": null,
            "overflow_y": null,
            "padding": null,
            "right": null,
            "top": null,
            "visibility": null,
            "width": null
          }
        },
        "e9b485e03aaf42219862fbc69f533bd3": {
          "model_module": "@jupyter-widgets/base",
          "model_name": "LayoutModel",
          "model_module_version": "1.2.0",
          "state": {
            "_model_module": "@jupyter-widgets/base",
            "_model_module_version": "1.2.0",
            "_model_name": "LayoutModel",
            "_view_count": null,
            "_view_module": "@jupyter-widgets/base",
            "_view_module_version": "1.2.0",
            "_view_name": "LayoutView",
            "align_content": null,
            "align_items": null,
            "align_self": null,
            "border": null,
            "bottom": null,
            "display": null,
            "flex": null,
            "flex_flow": null,
            "grid_area": null,
            "grid_auto_columns": null,
            "grid_auto_flow": null,
            "grid_auto_rows": null,
            "grid_column": null,
            "grid_gap": null,
            "grid_row": null,
            "grid_template_areas": null,
            "grid_template_columns": null,
            "grid_template_rows": null,
            "height": null,
            "justify_content": null,
            "justify_items": null,
            "left": null,
            "margin": null,
            "max_height": null,
            "max_width": null,
            "min_height": null,
            "min_width": null,
            "object_fit": null,
            "object_position": null,
            "order": null,
            "overflow": null,
            "overflow_x": null,
            "overflow_y": null,
            "padding": null,
            "right": null,
            "top": null,
            "visibility": null,
            "width": null
          }
        },
        "ae6d82fb7ce745e2b92aea9a6d975b38": {
          "model_module": "@jupyter-widgets/controls",
          "model_name": "DescriptionStyleModel",
          "model_module_version": "1.5.0",
          "state": {
            "_model_module": "@jupyter-widgets/controls",
            "_model_module_version": "1.5.0",
            "_model_name": "DescriptionStyleModel",
            "_view_count": null,
            "_view_module": "@jupyter-widgets/base",
            "_view_module_version": "1.2.0",
            "_view_name": "StyleView",
            "description_width": ""
          }
        },
        "06eaa7c59ea34cf18d720949ea883f54": {
          "model_module": "@jupyter-widgets/base",
          "model_name": "LayoutModel",
          "model_module_version": "1.2.0",
          "state": {
            "_model_module": "@jupyter-widgets/base",
            "_model_module_version": "1.2.0",
            "_model_name": "LayoutModel",
            "_view_count": null,
            "_view_module": "@jupyter-widgets/base",
            "_view_module_version": "1.2.0",
            "_view_name": "LayoutView",
            "align_content": null,
            "align_items": null,
            "align_self": null,
            "border": null,
            "bottom": null,
            "display": null,
            "flex": null,
            "flex_flow": null,
            "grid_area": null,
            "grid_auto_columns": null,
            "grid_auto_flow": null,
            "grid_auto_rows": null,
            "grid_column": null,
            "grid_gap": null,
            "grid_row": null,
            "grid_template_areas": null,
            "grid_template_columns": null,
            "grid_template_rows": null,
            "height": null,
            "justify_content": null,
            "justify_items": null,
            "left": null,
            "margin": null,
            "max_height": null,
            "max_width": null,
            "min_height": null,
            "min_width": null,
            "object_fit": null,
            "object_position": null,
            "order": null,
            "overflow": null,
            "overflow_x": null,
            "overflow_y": null,
            "padding": null,
            "right": null,
            "top": null,
            "visibility": null,
            "width": null
          }
        },
        "23ffddd3aec145238da5500b42b1a27d": {
          "model_module": "@jupyter-widgets/controls",
          "model_name": "ProgressStyleModel",
          "model_module_version": "1.5.0",
          "state": {
            "_model_module": "@jupyter-widgets/controls",
            "_model_module_version": "1.5.0",
            "_model_name": "ProgressStyleModel",
            "_view_count": null,
            "_view_module": "@jupyter-widgets/base",
            "_view_module_version": "1.2.0",
            "_view_name": "StyleView",
            "bar_color": null,
            "description_width": ""
          }
        },
        "f8a308964956461c89b1608b2b707cd0": {
          "model_module": "@jupyter-widgets/base",
          "model_name": "LayoutModel",
          "model_module_version": "1.2.0",
          "state": {
            "_model_module": "@jupyter-widgets/base",
            "_model_module_version": "1.2.0",
            "_model_name": "LayoutModel",
            "_view_count": null,
            "_view_module": "@jupyter-widgets/base",
            "_view_module_version": "1.2.0",
            "_view_name": "LayoutView",
            "align_content": null,
            "align_items": null,
            "align_self": null,
            "border": null,
            "bottom": null,
            "display": null,
            "flex": null,
            "flex_flow": null,
            "grid_area": null,
            "grid_auto_columns": null,
            "grid_auto_flow": null,
            "grid_auto_rows": null,
            "grid_column": null,
            "grid_gap": null,
            "grid_row": null,
            "grid_template_areas": null,
            "grid_template_columns": null,
            "grid_template_rows": null,
            "height": null,
            "justify_content": null,
            "justify_items": null,
            "left": null,
            "margin": null,
            "max_height": null,
            "max_width": null,
            "min_height": null,
            "min_width": null,
            "object_fit": null,
            "object_position": null,
            "order": null,
            "overflow": null,
            "overflow_x": null,
            "overflow_y": null,
            "padding": null,
            "right": null,
            "top": null,
            "visibility": null,
            "width": null
          }
        },
        "54bf88d60ea14d7c9e30f864fb888103": {
          "model_module": "@jupyter-widgets/controls",
          "model_name": "DescriptionStyleModel",
          "model_module_version": "1.5.0",
          "state": {
            "_model_module": "@jupyter-widgets/controls",
            "_model_module_version": "1.5.0",
            "_model_name": "DescriptionStyleModel",
            "_view_count": null,
            "_view_module": "@jupyter-widgets/base",
            "_view_module_version": "1.2.0",
            "_view_name": "StyleView",
            "description_width": ""
          }
        }
      }
    }
  },
  "nbformat": 4,
  "nbformat_minor": 0
}