{
 "cells": [
  {
   "cell_type": "markdown",
   "metadata": {
    "id": "iF8lDgqJnzyT"
   },
   "source": [
    "# Chapter 4: Text Classification - Hard Tasks (Solutions)\n",
    "\n",
    "Complete working solutions."
   ]
  },
  {
   "cell_type": "markdown",
   "metadata": {
    "id": "cFpMVC20nzyW"
   },
   "source": [
    "## Setup\n",
    "\n",
    "Run all cells in this section to set up the environment and load necessary data.\n"
   ]
  },
  {
   "cell_type": "markdown",
   "metadata": {
    "id": "0LGW2SD-c864"
   },
   "source": [
    "### [Optional] - Installing Packages on <img src=\"https://colab.google/static/images/icons/colab.png\" width=100>\n",
    "\n",
    "If you are viewing this notebook on Google Colab (or any other cloud vendor), you need to **uncomment and run** the following codeblock to install the dependencies for this chapter:\n",
    "\n",
    " **Note**: We will want to use a GPU to run the examples in this notebook. In Google Colab, go to\n",
    "**Runtime > Change runtime type > Hardware accelerator > GPU > GPU type > T4**.\n",
    "\n",
    "---\n"
   ]
  },
  {
   "cell_type": "code",
   "execution_count": 1,
   "metadata": {
    "id": "N-PxmOIhc865"
   },
   "outputs": [],
   "source": [
    " %%capture\n",
    "!pip install transformers sentence-transformers openai\n",
    "!pip install -U datasets"
   ]
  },
  {
   "cell_type": "markdown",
   "metadata": {
    "id": "LJorXxPFnzyZ"
   },
   "source": [
    "### Data Loading\n"
   ]
  },
  {
   "cell_type": "code",
   "execution_count": 2,
   "metadata": {
    "colab": {
     "base_uri": "https://localhost:8080/",
     "height": 616,
     "referenced_widgets": [
      "e5e2689093654217aa6ac01213318c4c",
      "3760e852d2b94d13a61e8a9e0331c51b",
      "0f652000739c4891a26893a3f111acc9",
      "2ab66db4df594766988b665d6b084f0f",
      "462ee840b21640449a4a8762b3d0b459",
      "1907b0bf7c0b4049a75d902094ad619b",
      "7347b134331e42cb94c42d3f067e2de3",
      "2b9477a1e1d047edb1a91d0f2e2a67a9",
      "a6d0938b36e94973958730b46f23d2c9",
      "b91484244a9c44a3891df275e2572d62",
      "a621498646dc4393a775e76b7e5f7230",
      "827b864ec0e34c33a7eac2f0e11f7ca1",
      "20964be7482640f19fa3810e64fb5975",
      "fd5d43de059e4969987cfd67ab17b9a4",
      "0eb73c25ab434603a692558383f43d20",
      "021738f0dd4747448b211f7e65dfd515",
      "d5392eebc29042f0bc67eb4b860e1ab7",
      "f6ea8bfefabf453f976e358adddc80b8",
      "0e35a59c6fb94330ac9373074b55876d",
      "9ed007cd4cdf4c2d83e72a8f4de880a1",
      "bef04bdf49664e50b1deb31b46209563",
      "c1ee2dfec4c94bffa9f18e0a79fd468b",
      "b55113c40fe94c429243c376701bf3b9",
      "7e9bd1f8428042938646cdc71114db40",
      "d39e0ebf0d014491abf2c35b1c81c49c",
      "2b4972d5bdfb42caae1d6a3fc51a2e38",
      "eb481d132c2442a28d9e640e363b5335",
      "bf956187de3743a6bbdd0ba53a6e69f1",
      "b482d64cfdae4019a399301a938d12b6",
      "6db257bb03e94d6dbada000680b93f08",
      "acfb0afc78eb4e0cbbda9834ca265728",
      "6e273047a31944038b83911b8cf3096e",
      "56f618be0bbf419480733eb2dc4ef70e",
      "6e33a4a691714c62afe22a6e2e5d3e5d",
      "fbc8ba5eef0c41578b1fdc5f612870b7",
      "70a2462d61be40fb9d2c51492326d101",
      "715a5a829c15404abe446f350c618592",
      "bb58563a87114b0bb3e61a64123462ca",
      "f9cfbd273a2e4bc491bf3b56c354ff83",
      "faee7b003e7545f1b19732a4f1b5fb98",
      "00347455593c42dba3711b750042fcd3",
      "ac057442b9934bc0b2ffac49d5fb6167",
      "2a57fcb7b7684cfda0f05346fc5c1a73",
      "04173aff970b44cbb90be6b632a368ea",
      "417f3bbdc4fd4923bccd227c6c4d4e25",
      "8834876b90f540b784002cbc5fda64d7",
      "7e6e3b9eb30d44d0a96908c8ff296f96",
      "2b0e487f8c6d47c791fe629e8a1f0013",
      "4a763bde145e4ea88ced6fe1a9f442dd",
      "a33d2f6ae9c346bd9566ba60242138ad",
      "26ed2e9b4ce44c47a9ef15fb368044cc",
      "0592d5c8303848ec9113aac4407d0a83",
      "0d4140e31f024d41b0882b0e75d7883a",
      "6121377a7ef744acb3c5e046bec7a64d",
      "b3473ed785b34982af995bc4dc3df3dd",
      "c0862c9213524fe9a139755443f3e514",
      "dd05d5b1b56e4725bfc7ad12ecb6c773",
      "6cc93dcc88124faaac32536a2df1060d",
      "e9fd887db2d44293b9d0510ad232cf5c",
      "9a7126edf18d4ac2800535f6f7d99e6a",
      "0cf8df88f6c34705b59db480148ce63d",
      "76a4104c5e4a4a52a447e2f62db21082",
      "18dafc3a875446fe82808d72fcfe87ad",
      "e20776785a394abb917f701db09d1c11",
      "8687327afc5d492d82e9324dea0c0346",
      "8751af1bf7f14b94a85909422f467bce",
      "aa2c449970d64b13b8d7c804e7451f57",
      "6e5e15bdc04b4945a7a38291cdbdf618",
      "c37c5056f16f4abcafc5eee49ccbac86",
      "661e79e3ffa940b3817ce9dae1303fa1",
      "68a59e6497b947f5a240915bf600489a",
      "f663a199feeb4a53890fa25db317bd34",
      "0bc20c7c2a574f89993ffebeb24d3a1e",
      "217aaa97c3114235bf49358dcb0b302b",
      "c7d5bc2ff4b44ce48dec1c3e5fa9f2c7",
      "430446d8f99e4fbc81103276665ea030",
      "6151a6ba852d47f694f0918fc17ec101"
     ]
    },
    "id": "5phRS_z2U_3T",
    "outputId": "aa69b7f5-4895-4849-8f15-e3be8a8eb40b"
   },
   "outputs": [
    {
     "output_type": "stream",
     "name": "stderr",
     "text": [
      "/usr/local/lib/python3.12/dist-packages/huggingface_hub/utils/_auth.py:94: UserWarning: \n",
      "The secret `HF_TOKEN` does not exist in your Colab secrets.\n",
      "To authenticate with the Hugging Face Hub, create a token in your settings tab (https://huggingface.co/settings/tokens), set it as secret in your Google Colab and restart your session.\n",
      "You will be able to reuse this secret in all of your notebooks.\n",
      "Please note that authentication is recommended but still optional to access public models or datasets.\n",
      "  warnings.warn(\n"
     ]
    },
    {
     "output_type": "display_data",
     "data": {
      "text/plain": [
       "README.md: 0.00B [00:00, ?B/s]"
      ],
      "application/vnd.jupyter.widget-view+json": {
       "version_major": 2,
       "version_minor": 0,
       "model_id": "e5e2689093654217aa6ac01213318c4c"
      }
     },
     "metadata": {}
    },
    {
     "output_type": "display_data",
     "data": {
      "text/plain": [
       "train.parquet:   0%|          | 0.00/699k [00:00<?, ?B/s]"
      ],
      "application/vnd.jupyter.widget-view+json": {
       "version_major": 2,
       "version_minor": 0,
       "model_id": "827b864ec0e34c33a7eac2f0e11f7ca1"
      }
     },
     "metadata": {}
    },
    {
     "output_type": "display_data",
     "data": {
      "text/plain": [
       "validation.parquet:   0%|          | 0.00/90.0k [00:00<?, ?B/s]"
      ],
      "application/vnd.jupyter.widget-view+json": {
       "version_major": 2,
       "version_minor": 0,
       "model_id": "b55113c40fe94c429243c376701bf3b9"
      }
     },
     "metadata": {}
    },
    {
     "output_type": "display_data",
     "data": {
      "text/plain": [
       "test.parquet:   0%|          | 0.00/92.2k [00:00<?, ?B/s]"
      ],
      "application/vnd.jupyter.widget-view+json": {
       "version_major": 2,
       "version_minor": 0,
       "model_id": "6e33a4a691714c62afe22a6e2e5d3e5d"
      }
     },
     "metadata": {}
    },
    {
     "output_type": "display_data",
     "data": {
      "text/plain": [
       "Generating train split:   0%|          | 0/8530 [00:00<?, ? examples/s]"
      ],
      "application/vnd.jupyter.widget-view+json": {
       "version_major": 2,
       "version_minor": 0,
       "model_id": "417f3bbdc4fd4923bccd227c6c4d4e25"
      }
     },
     "metadata": {}
    },
    {
     "output_type": "display_data",
     "data": {
      "text/plain": [
       "Generating validation split:   0%|          | 0/1066 [00:00<?, ? examples/s]"
      ],
      "application/vnd.jupyter.widget-view+json": {
       "version_major": 2,
       "version_minor": 0,
       "model_id": "c0862c9213524fe9a139755443f3e514"
      }
     },
     "metadata": {}
    },
    {
     "output_type": "display_data",
     "data": {
      "text/plain": [
       "Generating test split:   0%|          | 0/1066 [00:00<?, ? examples/s]"
      ],
      "application/vnd.jupyter.widget-view+json": {
       "version_major": 2,
       "version_minor": 0,
       "model_id": "aa2c449970d64b13b8d7c804e7451f57"
      }
     },
     "metadata": {}
    },
    {
     "output_type": "execute_result",
     "data": {
      "text/plain": [
       "DatasetDict({\n",
       "    train: Dataset({\n",
       "        features: ['text', 'label'],\n",
       "        num_rows: 8530\n",
       "    })\n",
       "    validation: Dataset({\n",
       "        features: ['text', 'label'],\n",
       "        num_rows: 1066\n",
       "    })\n",
       "    test: Dataset({\n",
       "        features: ['text', 'label'],\n",
       "        num_rows: 1066\n",
       "    })\n",
       "})"
      ]
     },
     "metadata": {},
     "execution_count": 2
    }
   ],
   "source": [
    "from datasets import load_dataset\n",
    "# Load our data\n",
    "data = load_dataset(\"rotten_tomatoes\")\n",
    "data"
   ]
  },
  {
   "cell_type": "markdown",
   "metadata": {
    "id": "GS7ZhZfGnzyc"
   },
   "source": [
    "### Helper Functions\n"
   ]
  },
  {
   "cell_type": "code",
   "execution_count": 3,
   "metadata": {
    "id": "X0KyKHtqyjn3"
   },
   "outputs": [],
   "source": [
    "from sklearn.metrics import classification_report\n",
    "def evaluate_performance(y_true, y_pred):\n",
    "    \"\"\"Create and print the classification report\"\"\"\n",
    "    performance = classification_report(\n",
    "        y_true, y_pred,\n",
    "        target_names=[\"Negative Review\", \"Positive Review\"]\n",
    "    )\n",
    "    print(performance)"
   ]
  },
  {
   "cell_type": "markdown",
   "source": [
    "## Your Turn - Text Classification Experiments\n",
    "\n",
    "Run each task first to see the baseline results. Follow the instructions to modify and experiment."
   ],
   "metadata": {
    "id": "NKYNfoaVC4hU"
   }
  },
  {
   "cell_type": "markdown",
   "source": [
    "This section is divided into EASY, MEDIUM, & HARD."
   ],
   "metadata": {
    "id": "hHVONn85DElL"
   }
  },
  {
   "cell_type": "markdown",
   "metadata": {
    "id": "hpiSzld6nzyh"
   },
   "source": [
    "## Hard Tasks\n"
   ]
  },
  {
   "cell_type": "markdown",
   "source": [
    "### Hard Tasks - Advanced Classification Challenges\n",
    "\n",
    "These tasks require significant modifications and deeper understanding. Take your time and experiment"
   ],
   "metadata": {
    "id": "sOcbrBwdGZbi"
   }
  },
  {
   "cell_type": "markdown",
   "metadata": {
    "id": "F649-TFqnzyi"
   },
   "source": [
    "#### Hard Task 1: Hierarchical Multi-Level Classifier\n",
    "Instead of flat classification (choosing from all categories at once), hierarchical classification makes decisions in steps: first broad categories, then fine-grained ones. This mirrors how humans often reason.\n",
    "Instructions:\n",
    "1. Run the 2-level classifier (Sentiment \u2192 Specific Aspect)\n",
    "2. Compare with flat classification to see confidence differences\n",
    "3. Try adding a 3rd level by uncommenting the code\n",
    "4. Analyze whether breaking decisions into steps helps or hurts"
   ]
  },
  {
   "cell_type": "code",
   "execution_count": 4,
   "metadata": {
    "id": "rYMpBGqonzyj"
   },
   "outputs": [],
   "source": [
    "# Level 1: Broad sentiment\n",
    "level1_labels = [\n",
    "    \"negative sentiment review\",\n",
    "    \"positive sentiment review\"\n",
    "]\n",
    "# Level 2: Specific aspects (conditional on Level 1)\n",
    "level2_negative = [\n",
    "    \"review criticizing entertainment value and pacing\",\n",
    "    \"review criticizing technical quality and production\"\n",
    "]\n",
    "level2_positive = [\n",
    "    \"review praising technical quality and artistry\",\n",
    "    \"review praising entertainment value and enjoyment\"\n",
    "]\n",
    "# Add Level 3 for even finer granularity\n",
    "# level3_positive_quality = [...]\n",
    "# level3_positive_entertainment = [...]"
   ]
  },
  {
   "cell_type": "code",
   "metadata": {
    "id": "DFgHMLAqnzyk",
    "outputId": "b2e94657-5949-483e-8866-8b4e6269596a",
    "colab": {
     "base_uri": "https://localhost:8080/",
     "height": 369,
     "referenced_widgets": [
      "a48ce21152824314acde39a42141e2b0",
      "bbdbc6839cae462bbc7aa836731d763c",
      "0c9971a66f0440fb9b9c438cfa903e2f",
      "ed91601fe5a645deb1d3d2e5eece9df0",
      "3f691d84b0f142df9d6003dbed539d45",
      "f03c1295e4094bfea20e6fee75fa9b40",
      "f1c9f2b7ca9a48c997522160c9f4d089",
      "91b4a69d65a24f51b2d3d585b39679cc",
      "16ba91de48c348c7b86c8e091885f61b",
      "8b9a1ffe7a9f4b5ba0c981ae6c991f3c",
      "9e0c642af2074a77a7d40565385cf965",
      "e9290de2919f4b6887a3cabeb92e2b30",
      "6a270e8dad274284bd84a025a02dfdf5",
      "c40b518ddbfb4a72b9ca0e1214da044f",
      "2c5c16b45e12497882d80d214edffad6",
      "72e70b3fa949443abe321fd58d316081",
      "1c9ceff8302948cbbd7b2b21b8963311",
      "65eabd46dbba44a0a357bdc5a4e35f98",
      "24985065b4f24c8281571617fd3092ee",
      "d159df39e99441639ad55906f6b52a7a",
      "d2a27bba52f04887934ecea82470763b",
      "55fb22dc98f5442b83d8dc032d7697a2",
      "6665db60de614bddb9b51e57ad44f9f1",
      "0b9c6bc599984899a70c6ccfb81962c7",
      "a48bdc4c2b004aa287bd2c1b4a94def8",
      "648ad011f54b4ab9bb03d9dc0bcb68b4",
      "16c112c2fe5e413f93e3e009e7639a74",
      "673049396a0c424c8f55502964501f58",
      "3e086f487590467fb51fe4a088465932",
      "359bb02d7d3e4433a45ea1761b5f108c",
      "cf1dd6b268c84b9d8e869df0bb59b61c",
      "51cb8d8d9a404b0b8bdf3ab83dd60ec3",
      "aae94215a2d44e2da9660f24ff6eb2f8",
      "cb5fbb761e61442a8425434775df9c8e",
      "48d0237043564c1e8f458d0c8c1e7d57",
      "9ed62b8138534cbd95159cd629da420a",
      "9296e27284bc4988aa7951b01f712042",
      "9409d42f892645fdbf3c7b1895f8664a",
      "d35145f419ac45699b49adf1a4c6631d",
      "7dca8070ac4f4ccdbf4de0ed4c0336d1",
      "f2a5be8d3d674732985f185a45036993",
      "0fdd7538abd4498e966747487a07df18",
      "42912cfd80e142adafed52ce739ec284",
      "d07f16c4a45b4290bed89c1690eeb871",
      "bd87d44a53404c9db4661d810ead834d",
      "b2d17e5c0cbe44bd9606d8ece4194612",
      "b5afa1fd8af14f1e867857d5df7966c2",
      "9caec963f88a4ca2ba87b2a90cf12ccd",
      "25cd3417f8b3453bbbd5f27838962ef0",
      "0b0d2fc68ab04d86aeaf2c95e81f278c",
      "4c8adbacc2d44369b24660fd72d2956f",
      "00d635975cdf4509930abb10b4955394",
      "1308c69fab0145c9ac2908dd705a2346",
      "7670157f1bc947eab51eb41c886edad2",
      "d7a1bf0dc4194b94a0b4f0408a792d78",
      "32d85bbbdfa74a78ae4372d6af46f088",
      "e2ffd22f1ee5420e93d05cfa42a7a3aa",
      "dd93f015803f49dcb4da690d3c69e911",
      "839e7cf231344c64ab4b99f053e584e9",
      "8ce00ff17e05498f9dacb311b510d9e9",
      "0bd4ffcb5120426fbc0b7be56215b3fc",
      "b3eb2ce55d1340279e898ee8628db2ee",
      "15f79127369c41f8b341bcaaa6159bd5",
      "e89ba308fb94473281521289665084d8",
      "49fbac49c2c1444d98841d11f7b0c4bf",
      "03cff9e76a024621819ba8cce9932ac6",
      "d814b1967ee14636a843b2415238ee01",
      "3f4014f5d0914b299fc5624f9a7bb88f",
      "966c3000b5084104a3eb63271acf6419",
      "b5bf9180b59f49bd88f2137cd080e90f",
      "44bb952f833a4e39b1b88b508637bf18",
      "c8a4716bf97b42c390b06f105cacfe7e",
      "6959ce4eaaad4ca6b27931c8540a8d83",
      "2e24bbc9620a45bb8e4941878b126e1b",
      "deb78e959a2c4c538d182e1dd5c6b21a",
      "11ade5583f4743e08605e94e880b7f0f",
      "40d9d605c1084019b4961b42ba8a9e2e",
      "fc63e36554e44806936d9e1d631955d1",
      "b4ab5fc130574aa2b2c9d4f087acfc6a",
      "b0f8a1d506f44cae935c43fbcb849122",
      "19ad184415104bf78850bed3a4bae35f",
      "d0e3b97d77b64437b3ed8d6acbb92de9",
      "8aa9a51f7d7b48db9241a814ad377180",
      "d921e38f1a844dab8092050d2bca3383",
      "03a5ae36848d48e7bb7ad94831c2189b",
      "50b89b683edd4d17953a1abcb8f3f20e",
      "ead310fc35cf433caca8e3f2a7753b7a",
      "70e3201225754c2d9915943e712789f1",
      "112d14e226994008ab72ea98ef94ad91",
      "8db41f9ffc6c4441912e07d42a1051d7",
      "cb79f615e02344238d8bf831df000111",
      "3a70faa3e70f4d70b30d16c014bfa61c",
      "216e932c13da4694a466b5c071ff81dd",
      "25b264d66c0c44379be28b7c388e8186",
      "f69b1e48b27145eb80c77e67309c448e",
      "fb70479e0c4b425888ffc49bb83a460e",
      "bf505f9182524ff68132d822f980e51e",
      "29eb13577e384088b8f90a026a119cec",
      "bc80663a13ee46beb2568f1461e2cb9c",
      "bf660f7ccd4743c08c9037065332efda",
      "9bb8ce3cb45a4681ac396eb6416a24bb",
      "48e58866bbcf416bad7fbbad9b751c3d",
      "17e14d0060c04a46b7ae6108661e6834",
      "4b44399a49b243f5be0a41b05074fe46",
      "f11a792a31eb410a8ceaeb9f4760fe34",
      "4c5191e112b34bfd8b773db684d02813",
      "a246b6203a644d8ab9d77d9bedafafaa",
      "ededc8a42cbc4e8e9157cd8a8e133701",
      "947fa408737549eea32850db78e9fed0",
      "1c9f52c199aa4709abfebff309d1c81d",
      "6549e058704d434e830912b57b5ed120",
      "b6fee9f81e024097a831a5989e3a9cf8",
      "66fb992e72264affa2e859f42f73516e",
      "4d0c6611a3604450aada7ee82a2ecfb6",
      "d49d3df45d7f43c0b7da14ec088ed131",
      "0f6461a94fd24e2b8feb297cb1786188",
      "0f84dc2bbeb24583bfce304af3edd169",
      "14d7b0e47b2642119b0644c4bafe8b2f",
      "4941abb1810a4f9e80611d338a57e4c6",
      "2820c66ebe444219b0e9deb00e4f395e",
      "dbd81b25a2a54b3b857c3300c88252a4"
     ]
    }
   },
   "source": [
    "from sentence_transformers import SentenceTransformer\n",
    "from sklearn.metrics.pairwise import cosine_similarity\n",
    "import numpy as np\n",
    "\n",
    "model = SentenceTransformer('sentence-transformers/all-mpnet-base-v2')\n",
    "\n",
    "test_reviews = [\n",
    "    \"Amazing cinematography and brilliant direction!\",\n",
    "    \"Terrible pacing, very boring throughout\",\n",
    "    \"Excellent acting but weak storyline\",\n",
    "    \"Poor production quality, disappointing visuals\"\n",
    "]"
   ],
   "outputs": [
    {
     "output_type": "display_data",
     "data": {
      "text/plain": [
       "modules.json:   0%|          | 0.00/349 [00:00<?, ?B/s]"
      ],
      "application/vnd.jupyter.widget-view+json": {
       "version_major": 2,
       "version_minor": 0,
       "model_id": "a48ce21152824314acde39a42141e2b0"
      }
     },
     "metadata": {}
    },
    {
     "output_type": "display_data",
     "data": {
      "text/plain": [
       "config_sentence_transformers.json:   0%|          | 0.00/116 [00:00<?, ?B/s]"
      ],
      "application/vnd.jupyter.widget-view+json": {
       "version_major": 2,
       "version_minor": 0,
       "model_id": "e9290de2919f4b6887a3cabeb92e2b30"
      }
     },
     "metadata": {}
    },
    {
     "output_type": "display_data",
     "data": {
      "text/plain": [
       "README.md: 0.00B [00:00, ?B/s]"
      ],
      "application/vnd.jupyter.widget-view+json": {
       "version_major": 2,
       "version_minor": 0,
       "model_id": "6665db60de614bddb9b51e57ad44f9f1"
      }
     },
     "metadata": {}
    },
    {
     "output_type": "display_data",
     "data": {
      "text/plain": [
       "sentence_bert_config.json:   0%|          | 0.00/53.0 [00:00<?, ?B/s]"
      ],
      "application/vnd.jupyter.widget-view+json": {
       "version_major": 2,
       "version_minor": 0,
       "model_id": "cb5fbb761e61442a8425434775df9c8e"
      }
     },
     "metadata": {}
    },
    {
     "output_type": "display_data",
     "data": {
      "text/plain": [
       "config.json:   0%|          | 0.00/571 [00:00<?, ?B/s]"
      ],
      "application/vnd.jupyter.widget-view+json": {
       "version_major": 2,
       "version_minor": 0,
       "model_id": "bd87d44a53404c9db4661d810ead834d"
      }
     },
     "metadata": {}
    },
    {
     "output_type": "display_data",
     "data": {
      "text/plain": [
       "model.safetensors:   0%|          | 0.00/438M [00:00<?, ?B/s]"
      ],
      "application/vnd.jupyter.widget-view+json": {
       "version_major": 2,
       "version_minor": 0,
       "model_id": "32d85bbbdfa74a78ae4372d6af46f088"
      }
     },
     "metadata": {}
    },
    {
     "output_type": "display_data",
     "data": {
      "text/plain": [
       "tokenizer_config.json:   0%|          | 0.00/363 [00:00<?, ?B/s]"
      ],
      "application/vnd.jupyter.widget-view+json": {
       "version_major": 2,
       "version_minor": 0,
       "model_id": "d814b1967ee14636a843b2415238ee01"
      }
     },
     "metadata": {}
    },
    {
     "output_type": "display_data",
     "data": {
      "text/plain": [
       "vocab.txt: 0.00B [00:00, ?B/s]"
      ],
      "application/vnd.jupyter.widget-view+json": {
       "version_major": 2,
       "version_minor": 0,
       "model_id": "fc63e36554e44806936d9e1d631955d1"
      }
     },
     "metadata": {}
    },
    {
     "output_type": "display_data",
     "data": {
      "text/plain": [
       "tokenizer.json: 0.00B [00:00, ?B/s]"
      ],
      "application/vnd.jupyter.widget-view+json": {
       "version_major": 2,
       "version_minor": 0,
       "model_id": "112d14e226994008ab72ea98ef94ad91"
      }
     },
     "metadata": {}
    },
    {
     "output_type": "display_data",
     "data": {
      "text/plain": [
       "special_tokens_map.json:   0%|          | 0.00/239 [00:00<?, ?B/s]"
      ],
      "application/vnd.jupyter.widget-view+json": {
       "version_major": 2,
       "version_minor": 0,
       "model_id": "bf660f7ccd4743c08c9037065332efda"
      }
     },
     "metadata": {}
    },
    {
     "output_type": "display_data",
     "data": {
      "text/plain": [
       "config.json:   0%|          | 0.00/190 [00:00<?, ?B/s]"
      ],
      "application/vnd.jupyter.widget-view+json": {
       "version_major": 2,
       "version_minor": 0,
       "model_id": "6549e058704d434e830912b57b5ed120"
      }
     },
     "metadata": {}
    }
   ],
   "execution_count": 5
  },
  {
   "cell_type": "code",
   "metadata": {
    "id": "PbnbmKYOnzyk"
   },
   "source": [
    "def hierarchical_classify_2level(review):\n",
    "    \"\"\"\n",
    "    Classify review using 2-level hierarchy:\n",
    "    Level 1: Sentiment (positive/negative)\n",
    "    Level 2: Specific aspect (quality/entertainment)\n",
    "    \"\"\"\n",
    "    # Level 1: Determine sentiment\n",
    "    level1_emb = model.encode(level1_labels)\n",
    "    review_emb = model.encode([review])\n",
    "    level1_sim = cosine_similarity(review_emb, level1_emb)[0]\n",
    "\n",
    "    level1_pred = np.argmax(level1_sim)\n",
    "    level1_conf = level1_sim[level1_pred]\n",
    "    level1_label = level1_labels[level1_pred]\n",
    "\n",
    "    # Level 2: Conditional on Level 1\n",
    "    if level1_pred == 0:  # Negative\n",
    "        level2_labels = level2_negative\n",
    "        path = \"Negative \u2192 \"\n",
    "    else:  # Positive\n",
    "        level2_labels = level2_positive\n",
    "        path = \"Positive \u2192 \"\n",
    "\n",
    "    level2_emb = model.encode(level2_labels)\n",
    "    level2_sim = cosine_similarity(review_emb, level2_emb)[0]\n",
    "\n",
    "    level2_pred = np.argmax(level2_sim)\n",
    "    level2_conf = level2_sim[level2_pred]\n",
    "    level2_label = level2_labels[level2_pred]\n",
    "    path += level2_label\n",
    "\n",
    "    return {\n",
    "        \"level1_label\": level1_label,\n",
    "        \"level1_conf\": level1_conf,\n",
    "        \"level2_label\": level2_label,\n",
    "        \"level2_conf\": level2_conf,\n",
    "        \"path\": path\n",
    "    }"
   ],
   "outputs": [],
   "execution_count": 6
  },
  {
   "cell_type": "markdown",
   "metadata": {
    "id": "Bm1JW3gBnzym"
   },
   "source": [
    "Classify the reviews:\n"
   ]
  },
  {
   "cell_type": "code",
   "execution_count": 7,
   "metadata": {
    "id": "_Hg7sMmhnzym",
    "outputId": "aa564fe2-d181-4e21-853f-2fb5f8df6931",
    "colab": {
     "base_uri": "https://localhost:8080/"
    }
   },
   "outputs": [
    {
     "output_type": "stream",
     "name": "stdout",
     "text": [
      "Hierarchical Classification (2 LEVELS)\n",
      "\n",
      "Review 1: 'Amazing cinematography and brilliant direction!'\n",
      "\n",
      "  Level 1 (Sentiment):\n",
      "     positive sentiment review\n",
      "     Confidence: 0.148\n",
      "\n",
      "  Level 2 (Specific Aspect):\n",
      "     review praising technical quality and artistry\n",
      "     Confidence: 0.306\n",
      "\n",
      "  Final Classification Path:\n",
      "     Positive \u2192 review praising technical quality and artistry\n",
      "\n",
      "Review 2: 'Terrible pacing, very boring throughout'\n",
      "\n",
      "  Level 1 (Sentiment):\n",
      "     negative sentiment review\n",
      "     Confidence: 0.295\n",
      "\n",
      "  Level 2 (Specific Aspect):\n",
      "     review criticizing entertainment value and pacing\n",
      "     Confidence: 0.651\n",
      "\n",
      "  Final Classification Path:\n",
      "     Negative \u2192 review criticizing entertainment value and pacing\n",
      "\n",
      "Review 3: 'Excellent acting but weak storyline'\n",
      "\n",
      "  Level 1 (Sentiment):\n",
      "     negative sentiment review\n",
      "     Confidence: 0.275\n",
      "\n",
      "  Level 2 (Specific Aspect):\n",
      "     review criticizing entertainment value and pacing\n",
      "     Confidence: 0.507\n",
      "\n",
      "  Final Classification Path:\n",
      "     Negative \u2192 review criticizing entertainment value and pacing\n",
      "\n",
      "Review 4: 'Poor production quality, disappointing visuals'\n",
      "\n",
      "  Level 1 (Sentiment):\n",
      "     negative sentiment review\n",
      "     Confidence: 0.307\n",
      "\n",
      "  Level 2 (Specific Aspect):\n",
      "     review criticizing technical quality and production\n",
      "     Confidence: 0.479\n",
      "\n",
      "  Final Classification Path:\n",
      "     Negative \u2192 review criticizing technical quality and production\n",
      "\n",
      "Comparison: Hierarchical vs Flat Classification\n",
      "\n",
      "Showing first 3 reviews:\n",
      "\n",
      "Review: 'Amazing cinematography and brilliant direction!...'\n",
      "  Hierarchical: review praising technical quality and artistry\n",
      "     Confidence: 0.306\n",
      "  Flat:         review praising technical quality and artistry\n",
      "     Confidence: 0.306\n",
      "  Confidence Diff: -0.000\n",
      "\n",
      "Review: 'Terrible pacing, very boring throughout...'\n",
      "  Hierarchical: review criticizing entertainment value and pacing\n",
      "     Confidence: 0.651\n",
      "  Flat:         review criticizing entertainment value and pacing\n",
      "     Confidence: 0.651\n",
      "  Confidence Diff: -0.000\n",
      "\n",
      "Review: 'Excellent acting but weak storyline...'\n",
      "  Hierarchical: review criticizing entertainment value and pacing\n",
      "     Confidence: 0.507\n",
      "  Flat:         review criticizing entertainment value and pacing\n",
      "     Confidence: 0.507\n",
      "  Confidence Diff: +0.000\n"
     ]
    }
   ],
   "source": [
    "print(\"Hierarchical Classification (2 LEVELS)\")\n",
    "for i, review in enumerate(test_reviews):\n",
    "    result = hierarchical_classify_2level(review)\n",
    "    print(f\"\\nReview {i+1}: '{review}'\")\n",
    "    print(f\"\\n  Level 1 (Sentiment):\")\n",
    "    print(f\"     {result['level1_label']}\")\n",
    "    print(f\"     Confidence: {result['level1_conf']:.3f}\")\n",
    "    print(f\"\\n  Level 2 (Specific Aspect):\")\n",
    "    print(f\"     {result['level2_label']}\")\n",
    "    print(f\"     Confidence: {result['level2_conf']:.3f}\")\n",
    "    print(f\"\\n  Final Classification Path:\")\n",
    "    print(f\"     {result['path']}\")\n",
    "# Compare with flat classification\n",
    "print()\n",
    "print(\"Comparison: Hierarchical vs Flat Classification\")\n",
    "# Flat: All 4 categories at once\n",
    "flat_labels = [\n",
    "    \"review criticizing entertainment value and pacing\",      # 0\n",
    "    \"review criticizing technical quality and production\",    # 1\n",
    "    \"review praising technical quality and artistry\",         # 2\n",
    "    \"review praising entertainment value and enjoyment\"       # 3\n",
    "]\n",
    "flat_embeddings = model.encode(flat_labels)\n",
    "review_embeddings = model.encode(test_reviews)\n",
    "flat_sim = cosine_similarity(review_embeddings, flat_embeddings)\n",
    "print(\"\\nShowing first 3 reviews:\")\n",
    "for i in range(min(3, len(test_reviews))):\n",
    "    hier_result = hierarchical_classify_2level(test_reviews[i])\n",
    "    flat_pred = np.argmax(flat_sim[i])\n",
    "    flat_conf = flat_sim[i][flat_pred]\n",
    "    print(f\"\\nReview: '{test_reviews[i][:50]}...'\")\n",
    "    print(f\"  Hierarchical: {hier_result['level2_label']}\")\n",
    "    print(f\"     Confidence: {hier_result['level2_conf']:.3f}\")\n",
    "    print(f\"  Flat:         {flat_labels[flat_pred]}\")\n",
    "    print(f\"     Confidence: {flat_conf:.3f}\")\n",
    "    print(f\"  Confidence Diff: {hier_result['level2_conf'] - flat_conf:+.3f}\")\n",
    "# After implementing 3-level, uncomment to test it:\n",
    "# print()\n",
    "# print(\"Testing 3-LEVEL Hierarchical Classification\")\n",
    "# for i, review in enumerate(test_reviews):\n",
    "#     result = hierarchical_classify_3level(review)\n",
    "#     print(f\"\\n{i+1}. '{review[:60]}...'\")\n",
    "#     print(f\"   Path: {result['path']}\")\n",
    "#     print(f\"   Level 3 confidence: {result['level3_conf']:.3f}\")"
   ]
  },
  {
   "cell_type": "markdown",
   "source": [
    "The hierarchical approach makes decisions in stages:\n",
    "1. Level 1: Determines if the review is positive or negative\n",
    "2. Level 2: Based on that sentiment, classifies the specific aspect\n",
    "\n",
    "Notice the confidence scores at each level. The hierarchical classifier's final confidence is often higher than flat classification because it's making simpler decisions at each step.\n",
    "\n",
    "Looking at the comparison between hierarchical and flat approaches:\n",
    "- Hierarchical often has higher confidence (makes easier per-step decisions)\n",
    "- But if Level 1 is wrong, Level 2 has no chance to correct it\n",
    "- Flat classification considers all options at once but may be less confident"
   ],
   "metadata": {
    "id": "DOgvT7Ffnzyn"
   }
  },
  {
   "cell_type": "markdown",
   "metadata": {
    "id": "Wea-7Goznzyo"
   },
   "source": [
    "#### Hard Task 2: Active Learning to Minimize Labeling Costs\n",
    "Labeling data is expensive. Active learning strategically selects the most informative samples to label, potentially saving 50%+ of labeling effort compared to random selection. Run the simulation to see active learning vs random sampling, observe which samples the model finds \"uncertain\", and track how many samples each approach needs to reach F1=0.85. Try implementing the alternative selection strategy (margin sampling) and compare labeling cost savings."
   ]
  },
  {
   "cell_type": "code",
   "metadata": {
    "id": "CHKseH6znzyo",
    "outputId": "a252dac1-fc22-4aab-e8d1-86604c154aa1",
    "colab": {
     "base_uri": "https://localhost:8080/"
    }
   },
   "source": [
    "from sentence_transformers import SentenceTransformer\n",
    "from sklearn.linear_model import LogisticRegression\n",
    "from sklearn.metrics import f1_score, accuracy_score\n",
    "import numpy as np\n",
    "\n",
    "# Simulate active learning vs random sampling\n",
    "print(\"Active Learning Simulation\")\n",
    "\n",
    "# Setup\n",
    "model = SentenceTransformer('sentence-transformers/all-mpnet-base-v2')\n",
    "train_data = data[\"train\"].shuffle(seed=42).select(range(1000))\n",
    "test_data = data[\"test\"].shuffle(seed=42).select(range(200))\n",
    "\n",
    "# Start with small labeled set\n",
    "labeled_size = 50\n",
    "target_f1 = 0.85\n",
    "\n",
    "print(f\"Starting with {labeled_size} labeled samples\")\n",
    "print(f\"Target F1: {target_f1}\")\n",
    "print(f\"\\nNote: This is a simplified simulation\")\n",
    "print(\"In real active learning, you'd query an oracle (human) for labels\\n\")"
   ],
   "outputs": [
    {
     "output_type": "stream",
     "name": "stdout",
     "text": [
      "Active Learning Simulation\n",
      "Starting with 50 labeled samples\n",
      "Target F1: 0.85\n",
      "\n",
      "Note: This is a simplified simulation\n",
      "In real active learning, you'd query an oracle (human) for labels\n",
      "\n"
     ]
    }
   ],
   "execution_count": 8
  },
  {
   "cell_type": "code",
   "metadata": {
    "id": "6gNoUfj4tQUU",
    "outputId": "878e7044-5107-4b98-acae-bfca791b2be2",
    "colab": {
     "base_uri": "https://localhost:8080/"
    }
   },
   "source": [
    "# Encode all training and test data upfront\n",
    "all_train_embeddings = model.encode(train_data[\"text\"], show_progress_bar=False)\n",
    "all_test_embeddings = model.encode(test_data[\"text\"], show_progress_bar=False)\n",
    "\n",
    "print(f\"Encoded {len(train_data)} training samples\")\n",
    "print(f\"Encoded {len(test_data)} test samples\")"
   ],
   "outputs": [
    {
     "output_type": "stream",
     "name": "stdout",
     "text": [
      "Encoded 1000 training samples\n",
      "Encoded 200 test samples\n"
     ]
    }
   ],
   "execution_count": 9
  },
  {
   "cell_type": "markdown",
   "metadata": {
    "id": "e4sI4kQktQUV"
   },
   "source": [
    "Start with a small labeled set and keep rest unlabeled:"
   ]
  },
  {
   "cell_type": "code",
   "metadata": {
    "id": "3c-AdbT1tQUW",
    "outputId": "41fbf446-edfb-4223-c199-85856736b0fa",
    "colab": {
     "base_uri": "https://localhost:8080/"
    }
   },
   "source": [
    "labeled_indices = list(range(labeled_size))  # First 50 samples\n",
    "unlabeled_indices = list(range(labeled_size, len(train_data)))  # Rest are unlabeled\n",
    "\n",
    "print(f\"Starting labeled set: {len(labeled_indices)} samples\")\n",
    "print(f\"Unlabeled pool: {len(unlabeled_indices)} samples\")"
   ],
   "outputs": [
    {
     "output_type": "stream",
     "name": "stdout",
     "text": [
      "Starting labeled set: 50 samples\n",
      "Unlabeled pool: 950 samples\n"
     ]
    }
   ],
   "execution_count": 10
  },
  {
   "cell_type": "markdown",
   "metadata": {
    "id": "BVeK6HAttQUX"
   },
   "source": [
    "Run active learning iterations:"
   ]
  },
  {
   "cell_type": "code",
   "metadata": {
    "id": "AEzaSddptQUX",
    "outputId": "38b15717-8792-422b-f2b3-63e3a43c8f22",
    "colab": {
     "base_uri": "https://localhost:8080/"
    }
   },
   "source": [
    "print(\"\\nIteration | Labeled Size | F1 Score\")\n",
    "\n",
    "for iteration in range(5):\n",
    "    # Train on current labeled data\n",
    "    X_train = all_train_embeddings[labeled_indices]\n",
    "    y_train = [train_data[\"label\"][i] for i in labeled_indices]\n",
    "\n",
    "    clf = LogisticRegression(random_state=42, max_iter=1000)\n",
    "    clf.fit(X_train, y_train)\n",
    "\n",
    "    # Evaluate on test set\n",
    "    y_pred = clf.predict(all_test_embeddings)\n",
    "    current_f1 = f1_score(test_data[\"label\"], y_pred, average='weighted')\n",
    "\n",
    "    print(f\"{iteration:9d} | {len(labeled_indices):12d} | {current_f1:.4f}\")\n",
    "\n",
    "    if current_f1 >= target_f1:\n",
    "        print(f\"\\nReached target F1={target_f1}!\")\n",
    "        break\n",
    "\n",
    "    # Select most uncertain samples from unlabeled pool\n",
    "    if len(unlabeled_indices) > 0:\n",
    "        unlabeled_embeddings = all_train_embeddings[unlabeled_indices]\n",
    "        probs = clf.predict_proba(unlabeled_embeddings)\n",
    "\n",
    "        # Uncertainty = 1 - max(probability)\n",
    "        uncertainties = 1 - np.max(probs, axis=1)\n",
    "\n",
    "        # Select 20 most uncertain samples\n",
    "        n_select = min(20, len(unlabeled_indices))\n",
    "        most_uncertain = np.argsort(uncertainties)[-n_select:]\n",
    "        selected_indices = [unlabeled_indices[idx] for idx in most_uncertain]\n",
    "\n",
    "        # Move to labeled set\n",
    "        labeled_indices.extend(selected_indices)\n",
    "        unlabeled_indices = [idx for idx in unlabeled_indices if idx not in selected_indices]"
   ],
   "outputs": [
    {
     "output_type": "stream",
     "name": "stdout",
     "text": [
      "\n",
      "Iteration | Labeled Size | F1 Score\n",
      "        0 |           50 | 0.7573\n",
      "        1 |           70 | 0.8052\n",
      "        2 |           90 | 0.7426\n",
      "        3 |          110 | 0.8072\n",
      "        4 |          130 | 0.8552\n",
      "\n",
      "Reached target F1=0.85!\n"
     ]
    }
   ],
   "execution_count": 11
  },
  {
   "cell_type": "markdown",
   "source": [
    "Active learning iteratively:\n",
    "1. Trains on currently labeled data\n",
    "2. Finds the most uncertain unlabeled samples\n",
    "3. \"Labels\" those samples (adds them to training set)\n",
    "4. Repeats\n",
    "\n",
    "The uncertain samples being selected typically have prediction probabilities close to 50-50. These are the most informative because they lie near the decision boundary.\n",
    "\n",
    "Compare the learning curves to see how quickly each approach improves. Active learning often reaches target performance with fewer labeled samples, saving significant labeling costs."
   ],
   "metadata": {
    "id": "yzYVwXTBHOrA"
   }
  },
  {
   "cell_type": "markdown",
   "metadata": {
    "id": "Pn-69Ygzg7Wu"
   },
   "source": [
    "Experiment: Try margin sampling as an alternative selection strategy (selects samples where top 2 predictions are close):"
   ]
  },
  {
   "cell_type": "code",
   "metadata": {
    "id": "9pOrW_E-g7Wv"
   },
   "execution_count": 12,
   "outputs": [],
   "source": [
    "# Experiment: Alternative selection strategy - Margin Sampling\n",
    "# Uncomment to try margin sampling instead of uncertainty sampling:\n",
    "#\n",
    "# # Reset for fair comparison\n",
    "# labeled_indices = list(range(labeled_size))\n",
    "# unlabeled_indices = list(range(labeled_size, len(train_data)))\n",
    "#\n",
    "# print(\"\\nMargin Sampling Strategy:\")\n",
    "# print(\"-\" * 40)\n",
    "#\n",
    "# for iteration in range(5):\n",
    "#     X_train = all_train_embeddings[labeled_indices]\n",
    "#     y_train = [train_data[\"label\"][i] for i in labeled_indices]\n",
    "#\n",
    "#     clf = LogisticRegression(random_state=42, max_iter=1000)\n",
    "#     clf.fit(X_train, y_train)\n",
    "#\n",
    "#     y_pred = clf.predict(all_test_embeddings)\n",
    "#     current_f1 = f1_score(test_data[\"label\"], y_pred, average='weighted')\n",
    "#\n",
    "#     print(f\"{iteration:9d} | {len(labeled_indices):12d} | {current_f1:.4f}\")\n",
    "#\n",
    "#     if current_f1 >= target_f1:\n",
    "#         print(f\"\\nReached target F1={target_f1}!\")\n",
    "#         break\n",
    "#\n",
    "#     if len(unlabeled_indices) > 0:\n",
    "#         unlabeled_embeddings = all_train_embeddings[unlabeled_indices]\n",
    "#         probs = clf.predict_proba(unlabeled_embeddings)\n",
    "#\n",
    "#         # Margin = difference between top 2 probabilities\n",
    "#         sorted_probs = np.sort(probs, axis=1)\n",
    "#         margins = sorted_probs[:, -1] - sorted_probs[:, -2]  # Smaller margin = more uncertain\n",
    "#\n",
    "#         n_select = min(20, len(unlabeled_indices))\n",
    "#         smallest_margins = np.argsort(margins)[:n_select]  # Get smallest margins\n",
    "#         selected_indices = [unlabeled_indices[idx] for idx in smallest_margins]\n",
    "#\n",
    "#         labeled_indices.extend(selected_indices)\n",
    "#         unlabeled_indices = [idx for idx in unlabeled_indices if idx not in selected_indices]\n",
    "#\n",
    "# print(\"\\nCompare: Did margin sampling reach target faster or slower than uncertainty sampling?\")"
   ]
  },
  {
   "cell_type": "markdown",
   "metadata": {
    "id": "R98vphjNnzyp"
   },
   "source": [
    "#### Hard Task 3: Ensemble Classifier for Improved Robustness\n",
    "\n",
    "Ensemble methods combine multiple models to reduce individual biases and improve reliability. The wisdom of crowds principle: multiple imperfect models together often beat any single model.\n",
    "\n",
    "Instructions:\n",
    "1. Run to see 3 individual models compared to ensemble methods\n",
    "2. Compare simple majority voting vs confidence-weighted voting\n",
    "3. Examine disagreement cases - when models disagree, which is usually right?\n",
    "4. Optionally add a 4th model and performance-weighted voting\n",
    "5. Determine if the ensemble beats the best individual model"
   ]
  },
  {
   "cell_type": "code",
   "metadata": {
    "id": "WD4KOy8jnzyq",
    "outputId": "1f4232ed-3367-4437-921c-edd7fd388450",
    "colab": {
     "base_uri": "https://localhost:8080/",
     "height": 952,
     "referenced_widgets": [
      "b3b0236680e0432cb33995b071689a6a",
      "5bd4c633c4ed40b1a2d5d16c3d6e61c0",
      "848c36150c4c4d1d85d14f3ae287d892",
      "669d64cd87f74034b3140d87275b1bcc",
      "491a7a8643ee4a099c78026d4865b983",
      "0037a6371e4a40fb99edceeddc211f8e",
      "d7b5c753b1af499480e4f79b3c607105",
      "d065bc6b79f64d1b9f81439c8c5e9882",
      "37a1165086bc4005bf7f3c3cfdfefe64",
      "e7dad5992c3a4cc08f89e6ee892c50c5",
      "c4dbee97c0bb4327acebb3763cb7d24f",
      "6ce9642dd7ff4b109689a61933f83811",
      "a22c9a172f834752a50f628b0c9d9f4a",
      "a4d830790e634363a958a1337fb15c3c",
      "00703399208047c38011ac447420f88c",
      "896a2ae6c46b4669baff8bf80bf95fc9",
      "16a1aef26f67409280944e6a332bf2f8",
      "e0503bf1f92442efb4431232774ce21a",
      "edcad18b154d48738ba85f7447d06c96",
      "c2146c00ded44075b2d9d52343c3076d",
      "6db6978206d8423cbe2cf708c765d34c",
      "bcaba0f59813432fbbfc5785b63f7351",
      "fc2a4bea89a949eb82bae643a5ab75fd",
      "f5681c493a5e44a6bb1248e34e7b5067",
      "62e6216755894aa9ac70d5bb6152f5f7",
      "b576464e02f24fe596cc229348525236",
      "e3332c8b40c24b5a84ac9db5399d8fd6",
      "45ebfc68e6be4106998dd1c434fda4f0",
      "074d0ebcac0842268bbe388ec68d56da",
      "e4ed6139aaae4c41b0442a6ac32db520",
      "01e10550e9bc4019b15ac77a716c570c",
      "61c9327c6e724ae3b21aa68aa63df193",
      "63c41a9e54b54533acf621c06f0812d9",
      "cd2497f13fab48c8885f3990e83e455f",
      "3dbdbf867ce24f618283be040ebea1f4",
      "e8f18e33a7e647c0a3bc4889b7bc36bd",
      "fe84a95ff8ab4b2d937ccd7705e129e6",
      "9c652ed3cc3547c6ad9955b7a2cd997d",
      "b83c542b9fcd4989a7a5113fd24feced",
      "17374305fd1541afaa1bdc93d78e6d7b",
      "4f2a920dc6974fe2804f4fcadebd7085",
      "e81e808525d1423d8108af17ce83de35",
      "35158be584024f66a1a3bdae4a8d1797",
      "9962880d53884d1e855fcfe2c090ff78",
      "c983461e46eb460ea1ddd9afab8753c1",
      "dcb0c1338a704fa18e718ae868c64c02",
      "45283f78b3444b30bed10b6fa48eb658",
      "eb1b1f1064d64588b98cc52aced0ef77",
      "a7142de3507f4fb792fd3701feed70a5",
      "5fd8a25568cc43fc847040ae25adcc8b",
      "25686829f84543668fc50483bc1434e4",
      "b7c6957ced5a4cb29f36a634b176f767",
      "a9e0ed73e7cf49f69b5e649adce2ddd8",
      "5e9f7103906347b7b16f565a5373e5db",
      "d055cbdb23754c629b1983fd3920b630",
      "66e4db6ed2b6468794bf762bb63ff55b",
      "95e187dac53d4f139b4aeb5bd74b7af3",
      "1d7e2804c3c4487c8859a217b5be80b5",
      "da0b03902124473b8f609a57827a646b",
      "6093608000de469d9c6ae866c280fce6",
      "f5c168a42c574c8a8b566f588fb9bc14",
      "ea69755fdd474802b3c3dbccef6be8ea",
      "a65f8377f16d47beaf9cd0aeaddc921d",
      "3d8ea81b2e444edb846f34f45cccef11",
      "9a81ad247ff147dd80912b2d4a595812",
      "6033452486b647f1a680c330f0a683f0",
      "62123b454b6a4ceb9c66ac9ccf0fee84",
      "c7266a6e730147538b7b6be97d6d6ce6",
      "ae4132ce3533475d9a47be81d8cb4818",
      "06eb8c4fde7140598ee9b97e8879b5de",
      "4e8c47084fa94cd785c0fab84a099436",
      "d676f8efe2164c418dcb339db212e02b",
      "70f56dbcef6a4a928bb2dea9045af076",
      "12ed605267ab42c5b567a4caf2a62344",
      "aa9cfbd1044541eea795363e00ad6a98",
      "f7b88d0f48d843c08ca1263032bada58",
      "652e8c3204a94fe6b7d1a1afd9c1f545",
      "96c394fe31914e668730087e5d82e073",
      "ad8d7edaecd74897a35e748a7ed39187",
      "a1feffe7e3214c578eef8845e48f71d8",
      "53813c6e22f44a879323de333ccc35c0",
      "4707161f0421438c8b15eec37fe9c75d",
      "2a101aa141854da6814ef39e006a5ec1",
      "fbd61460725f46b994576a2fbd667d71",
      "973ac89b045e4aeeb7f16f1a4e778d7e",
      "c969f36ad81f41a0ba46d529a033df5b",
      "98251105d10f4417bfaacb883135dfc2",
      "fa6259c6d4b3475e819eb041a4800d83",
      "6f907462850141c4994b242da9be15f9",
      "32b5a48ce974401c83993c9e6c6989b9",
      "3831d3b7530a40828723c66aeb1fc125",
      "11968ffcae3941a3a626e77a6b7dd760",
      "2bde402910904db9aa2100dde5baac0e",
      "528ca2ced4e5469f981a2204b265978d",
      "2e3589d0de5a4eb59265ae03ad52f41f",
      "ec7bb9de26774d948d1437a44347aee4",
      "657137fc1e5243b19e7eaf0a89ef33d9",
      "942242db97a748fba271bfe397a6a2f4",
      "c32f22dc6e0843c196eeb4744a873f31",
      "5eccf58148ae4bb7b53ba83c51bbb74b",
      "43effdcd7cf9461db9af95a92b86b567",
      "aa16e0c7d0844107a1f72457c91ff1dd",
      "1161c304e1894379ad6ea6aaca99b4d6",
      "d8daf677a47a43e693fdf04b608bbea4",
      "3415b5a1d2f242dda51c2465967590e6",
      "b9403257b97543a1abcae166ff846e85",
      "1da0f70b44ef4d6f93ee06d78abb47a6",
      "ca8486f5685b48b5a5d1903722a81e6a",
      "4d67b81ee35d4292ba5f1e17e9872da5",
      "669da2ef1ad74beaafa6f2700bbd73b8",
      "d6fe15238d3a4d698d2e4782bda74d3e",
      "2d4b40d6c09d453f84255d41859f8ead",
      "4276e0d96dd74e0490892d050d15f2f3",
      "872dd7b74c90481c8fa6a96fbbf07357",
      "dd2b9870c1ad4af3878ab6fff257a46e",
      "530c6ab306cf4370b21345152752a6c3",
      "fe0fae90fd5c42ecbfff1c38541dc401",
      "5c99cec6c258436b8f9961af180f6cd8",
      "73e07be72f6d49d89a54dfb33c763ba6",
      "1340718858a94c2eaab972f71e26e551",
      "ab113dec630d4f1ca3df833cb7301ba3",
      "0be2d422d5224aaba51b7ac7a5403ff1",
      "19fd14eb11c44c6883d68f97609c992a",
      "6db6bb4604004e289d7208d7f9fb5923",
      "d053f168df004e7d850eb17436b451bd",
      "21b8fe38dcf64c1498171e4bbc973e58",
      "2d19e34998fe41ef87c4feb9f02d6f5b",
      "99a32692c13b46b397a15036b78f26a5",
      "ac88fc9daca24983b88b7dd5a93fc477",
      "0d4c9fe552d649328cdd33057d096f30",
      "9508b29634d2420b8bbfdbb5bf2fb070",
      "a6aebaea98fa4a0a9f55d5f1c45b1764",
      "b0a9e9fad3f347caa47ea41f67f3f6e2",
      "166bfc23b374463788ccae6902f43f86",
      "9523d34c33ba427388251d4d1ac5ddb2",
      "79253d3645064b929979c69516271757",
      "cd4922c921de46b5874546491391b9bd",
      "e39c7d38466141a6855ba47ef706a798",
      "478e18fa1a9c41e7907a66e58b044a05",
      "1ee5936332b44e64a4169e6cb9c5a4c4",
      "3d6a46fd2b4c4653812eede2112203ea",
      "cc402ceae71841babddce864e65e9cf5",
      "4502722f688845e381fd51bea189cd36",
      "985ec989e6b649b58f13f9a74fca3ff7",
      "da34e39f3b32446da81e730a3999d126",
      "685f8857983f40e382566d74333d819f",
      "f620f27976fb434382a6314c2fc13c1b",
      "36dddff56ea44ee99551976aedfb9925",
      "e617050c6c444fe6aa021e893a2f8d4e",
      "90bc155daf6a44beb6e9317a605ed091",
      "856bc8910791460fb58d33923a24f352",
      "8ea48d392b804a52935ec19c3ead820f",
      "afe95d6b260c4779bedcd511818a65d6",
      "efbabbfca95f4ff69cd54f55d6097d7e",
      "5c8de9c63c9e40c9b42fc6f710a2310b",
      "fa315c2934e449d791c8c991f6ade2b3",
      "e8dd80c3d2c94a7c82b6f21341cfb945",
      "2b3c57405e96465ea9f609d66ae97308",
      "77dbbcca201d4ea4b352149abc9489b4",
      "a0303b12b4ed4ecb8c0c16015ab7ecfb",
      "48ecc549689e4f858b8df0760043d8b5",
      "6fa95c6848f949c28d51c0441d10403b",
      "4099782fe4da475abbc7786bbb73e84d",
      "5f6392f8a1c342f1ad3355399fbc679a",
      "818194789e794c5da32dded16149a03c",
      "32c586d0ceab437ebbb6259af2f50a41",
      "ac8a725dcb274e1f8a8b88747662ab99",
      "70d7a703a9d3497a95d0a1263e72677f",
      "eecd43aba9d54894abcae2acb627e30a",
      "eaac618fed4a429fb644db3b08180f8f",
      "17e33587f229467f817d064c90228fa9",
      "93fab00329dd46da804a070f55595111",
      "932f329a121d4ba68df7bae42e541214",
      "f25ae18bd27d43d5aa7274daf991189f",
      "916eb058b6cc40349cd56292f1d9608d",
      "c10605bf80b94908978f96630c6e1cc5",
      "0936f837074a452f8955fb9f05445a73",
      "7fb55abc41904e6fba7811f3acd96878",
      "25fb63a703b746978f85e73ce0c12fed",
      "f2c2784a12f642f4a410a98d1b254c90",
      "181bc154ee71459d9f366f159b63b69d",
      "7c0a0d1daff7435f8f980910fc43e138",
      "58b2bc29223d465d815041e3d4d23527",
      "afe3fb375fae402b99cd2578c9f4a49a",
      "e16f5973f10d4557a1899c5d33c9f93c",
      "c42b8e2d78b5456a87585bc6f5c48448",
      "698ddf8141384050b68ca542109f56d0",
      "6594cf33e88446f0821a84079b029dbb",
      "33c0d4d91bb14bce891871b4289f6d98",
      "e413b3560a854723b1c6c5641c3e733a",
      "6b0b848e0dcb4fe88ebeb773a96db93b",
      "3f5c2beff38d44c0b46a650c3f965e10",
      "03178b2da89c4d4688f32a6dc56c0020",
      "74b047c1f4114b9c8ff5c135cd4fb278",
      "48ee970a756d4f95bedb28bacd7338b2",
      "b3dae45a14bc4bf381e501b59900f07c",
      "864759145a664566b9f0a361b9a3faf6",
      "0f6053a3aec74bb2b4b7ea4a466c4f6c",
      "fbfc0247748f46f099506a0617f88eb5",
      "7e46bc9789d1407c8c119f204eed3979",
      "4610e911509f455fa5c22509ddd84604",
      "04e7ac7ab2dd4f3cb08ce1e38824ba9c",
      "cbfc8617493c47cf9876b220e3ae3da1",
      "ad98f1c4e62f4648be2e2d2ceec0d7d3",
      "e14f8bfa5af34f6f932839a34174efb7",
      "f0d8ce8903c3444491289bd85dbc9a10",
      "51bb9c91b57c41ac9e0fedfb8051cc5f",
      "0c2e23585c074eb5b43be0f9456b9e07",
      "ca0074e4765e4f14be6ffc7bb1127d89",
      "f23268d1c6324e969314f4f25abbb9e2",
      "811fd5e8af3c4ab29b96be0f0251fdf4",
      "3d72a3f788d2442aa2b0a21c52517909",
      "93747b58faad4bb5afd2bf6f11093101",
      "6936690444864ad99666198df73cd5f1",
      "2c5a92b72bdf4087aaf343c9db125686",
      "072ab9397c3c4b109ba183ecbe8a76e8",
      "f90cd13afd0a48b193d01bab2ad88f9b",
      "6baafd6c0a40492eac0eb91735a7eed5",
      "a7bba1415be04e9fbc2873a65c983d3c",
      "c4252676198b466bab0a76b9265cabe3",
      "68699ae068974f7085ef6a667fa3f887",
      "796fa71ec9ab4f939471f939a15d5487",
      "e7b9b790701b4fb19916fb01e59729da",
      "974e1b43624446b8bcd55f72575bb951",
      "a2eb10d41b5349969be4194c4cc64e77",
      "d6d80781edf845d788493c2ddde435f3",
      "01b45a5fcaa04ca3b471608678172465",
      "e5fb142c5c924eeda04afd6dacaa681d",
      "95bc9bdffcc34ab7b5dee93855252547",
      "2196773dfb294d99b8e2235eeec2fde1",
      "04b41a447f5f48d2870a3d2518de2d82",
      "9694b750e5914ab0adeea5f83cf1b64b",
      "9c55541182db47f58a14dd86771adc94",
      "0d51ba5c7fb3466abfac84dbf327cfc7",
      "8a67fc68c7f84922af381236766d8334",
      "e92de5c69c9b4a31a3b38a0cff6c2920",
      "258c9c567a9748b6b4650d244e2d9a00",
      "9fca342d3366441787d6bcbb283f5031",
      "356f8f238c29400f9f40b3f9081bd991",
      "84545e97b323445fafcf958dbe478102",
      "f54d787ce0804b74b8034520d122102b",
      "ecad3d381fb544fbbd891acd9f059889"
     ]
    }
   },
   "source": [
    "from sentence_transformers import SentenceTransformer\n",
    "from sklearn.linear_model import LogisticRegression\n",
    "from sklearn.metrics import f1_score, accuracy_score\n",
    "import numpy as np\n",
    "\n",
    "print(\"Ensemble CLASSIFIER Comparison\")\n",
    "\n",
    "# Load 3 different models\n",
    "model1 = SentenceTransformer('sentence-transformers/all-mpnet-base-v2')\n",
    "model2 = SentenceTransformer('sentence-transformers/all-MiniLM-L6-v2')\n",
    "model3 = SentenceTransformer('sentence-transformers/paraphrase-MiniLM-L3-v2')\n",
    "\n",
    "models = [model1, model2, model3]\n",
    "model_names = [\"MPNet\", \"MiniLM-L6\", \"MiniLM-L3\"]\n",
    "\n",
    "print(f\"Using {len(models)} models:\\n\")\n",
    "for name in model_names:\n",
    "    print(f\"  - {name}\")\n",
    "\n",
    "# Train each model\n",
    "train_subset = data[\"train\"].shuffle(seed=42).select(range(1000))\n",
    "test_subset = data[\"test\"].shuffle(seed=42).select(range(200))\n",
    "\n",
    "print(f\"\\nTraining on {len(train_subset)} samples...\")\n",
    "print(\"Note: In practice, ensemble diversity comes from:\")\n",
    "print(\"  - Different model architectures\")\n",
    "print(\"  - Different training data subsets\")\n",
    "print(\"  - Different hyperparameters\\n\")"
   ],
   "outputs": [
    {
     "output_type": "stream",
     "name": "stdout",
     "text": [
      "Ensemble CLASSIFIER Comparison\n"
     ]
    },
    {
     "output_type": "display_data",
     "data": {
      "text/plain": [
       "modules.json:   0%|          | 0.00/349 [00:00<?, ?B/s]"
      ],
      "application/vnd.jupyter.widget-view+json": {
       "version_major": 2,
       "version_minor": 0,
       "model_id": "b3b0236680e0432cb33995b071689a6a"
      }
     },
     "metadata": {}
    },
    {
     "output_type": "display_data",
     "data": {
      "text/plain": [
       "config_sentence_transformers.json:   0%|          | 0.00/116 [00:00<?, ?B/s]"
      ],
      "application/vnd.jupyter.widget-view+json": {
       "version_major": 2,
       "version_minor": 0,
       "model_id": "6ce9642dd7ff4b109689a61933f83811"
      }
     },
     "metadata": {}
    },
    {
     "output_type": "display_data",
     "data": {
      "text/plain": [
       "README.md: 0.00B [00:00, ?B/s]"
      ],
      "application/vnd.jupyter.widget-view+json": {
       "version_major": 2,
       "version_minor": 0,
       "model_id": "fc2a4bea89a949eb82bae643a5ab75fd"
      }
     },
     "metadata": {}
    },
    {
     "output_type": "display_data",
     "data": {
      "text/plain": [
       "sentence_bert_config.json:   0%|          | 0.00/53.0 [00:00<?, ?B/s]"
      ],
      "application/vnd.jupyter.widget-view+json": {
       "version_major": 2,
       "version_minor": 0,
       "model_id": "cd2497f13fab48c8885f3990e83e455f"
      }
     },
     "metadata": {}
    },
    {
     "output_type": "display_data",
     "data": {
      "text/plain": [
       "config.json:   0%|          | 0.00/612 [00:00<?, ?B/s]"
      ],
      "application/vnd.jupyter.widget-view+json": {
       "version_major": 2,
       "version_minor": 0,
       "model_id": "c983461e46eb460ea1ddd9afab8753c1"
      }
     },
     "metadata": {}
    },
    {
     "output_type": "display_data",
     "data": {
      "text/plain": [
       "model.safetensors:   0%|          | 0.00/90.9M [00:00<?, ?B/s]"
      ],
      "application/vnd.jupyter.widget-view+json": {
       "version_major": 2,
       "version_minor": 0,
       "model_id": "66e4db6ed2b6468794bf762bb63ff55b"
      }
     },
     "metadata": {}
    },
    {
     "output_type": "display_data",
     "data": {
      "text/plain": [
       "tokenizer_config.json:   0%|          | 0.00/350 [00:00<?, ?B/s]"
      ],
      "application/vnd.jupyter.widget-view+json": {
       "version_major": 2,
       "version_minor": 0,
       "model_id": "62123b454b6a4ceb9c66ac9ccf0fee84"
      }
     },
     "metadata": {}
    },
    {
     "output_type": "display_data",
     "data": {
      "text/plain": [
       "vocab.txt: 0.00B [00:00, ?B/s]"
      ],
      "application/vnd.jupyter.widget-view+json": {
       "version_major": 2,
       "version_minor": 0,
       "model_id": "96c394fe31914e668730087e5d82e073"
      }
     },
     "metadata": {}
    },
    {
     "output_type": "display_data",
     "data": {
      "text/plain": [
       "tokenizer.json: 0.00B [00:00, ?B/s]"
      ],
      "application/vnd.jupyter.widget-view+json": {
       "version_major": 2,
       "version_minor": 0,
       "model_id": "6f907462850141c4994b242da9be15f9"
      }
     },
     "metadata": {}
    },
    {
     "output_type": "display_data",
     "data": {
      "text/plain": [
       "special_tokens_map.json:   0%|          | 0.00/112 [00:00<?, ?B/s]"
      ],
      "application/vnd.jupyter.widget-view+json": {
       "version_major": 2,
       "version_minor": 0,
       "model_id": "5eccf58148ae4bb7b53ba83c51bbb74b"
      }
     },
     "metadata": {}
    },
    {
     "output_type": "display_data",
     "data": {
      "text/plain": [
       "config.json:   0%|          | 0.00/190 [00:00<?, ?B/s]"
      ],
      "application/vnd.jupyter.widget-view+json": {
       "version_major": 2,
       "version_minor": 0,
       "model_id": "d6fe15238d3a4d698d2e4782bda74d3e"
      }
     },
     "metadata": {}
    },
    {
     "output_type": "display_data",
     "data": {
      "text/plain": [
       "modules.json:   0%|          | 0.00/229 [00:00<?, ?B/s]"
      ],
      "application/vnd.jupyter.widget-view+json": {
       "version_major": 2,
       "version_minor": 0,
       "model_id": "0be2d422d5224aaba51b7ac7a5403ff1"
      }
     },
     "metadata": {}
    },
    {
     "output_type": "display_data",
     "data": {
      "text/plain": [
       "config_sentence_transformers.json:   0%|          | 0.00/122 [00:00<?, ?B/s]"
      ],
      "application/vnd.jupyter.widget-view+json": {
       "version_major": 2,
       "version_minor": 0,
       "model_id": "b0a9e9fad3f347caa47ea41f67f3f6e2"
      }
     },
     "metadata": {}
    },
    {
     "output_type": "display_data",
     "data": {
      "text/plain": [
       "README.md: 0.00B [00:00, ?B/s]"
      ],
      "application/vnd.jupyter.widget-view+json": {
       "version_major": 2,
       "version_minor": 0,
       "model_id": "985ec989e6b649b58f13f9a74fca3ff7"
      }
     },
     "metadata": {}
    },
    {
     "output_type": "display_data",
     "data": {
      "text/plain": [
       "sentence_bert_config.json:   0%|          | 0.00/53.0 [00:00<?, ?B/s]"
      ],
      "application/vnd.jupyter.widget-view+json": {
       "version_major": 2,
       "version_minor": 0,
       "model_id": "5c8de9c63c9e40c9b42fc6f710a2310b"
      }
     },
     "metadata": {}
    },
    {
     "output_type": "display_data",
     "data": {
      "text/plain": [
       "config.json:   0%|          | 0.00/629 [00:00<?, ?B/s]"
      ],
      "application/vnd.jupyter.widget-view+json": {
       "version_major": 2,
       "version_minor": 0,
       "model_id": "32c586d0ceab437ebbb6259af2f50a41"
      }
     },
     "metadata": {}
    },
    {
     "output_type": "display_data",
     "data": {
      "text/plain": [
       "model.safetensors:   0%|          | 0.00/69.6M [00:00<?, ?B/s]"
      ],
      "application/vnd.jupyter.widget-view+json": {
       "version_major": 2,
       "version_minor": 0,
       "model_id": "0936f837074a452f8955fb9f05445a73"
      }
     },
     "metadata": {}
    },
    {
     "output_type": "display_data",
     "data": {
      "text/plain": [
       "tokenizer_config.json:   0%|          | 0.00/314 [00:00<?, ?B/s]"
      ],
      "application/vnd.jupyter.widget-view+json": {
       "version_major": 2,
       "version_minor": 0,
       "model_id": "6594cf33e88446f0821a84079b029dbb"
      }
     },
     "metadata": {}
    },
    {
     "output_type": "display_data",
     "data": {
      "text/plain": [
       "vocab.txt: 0.00B [00:00, ?B/s]"
      ],
      "application/vnd.jupyter.widget-view+json": {
       "version_major": 2,
       "version_minor": 0,
       "model_id": "fbfc0247748f46f099506a0617f88eb5"
      }
     },
     "metadata": {}
    },
    {
     "output_type": "display_data",
     "data": {
      "text/plain": [
       "tokenizer.json: 0.00B [00:00, ?B/s]"
      ],
      "application/vnd.jupyter.widget-view+json": {
       "version_major": 2,
       "version_minor": 0,
       "model_id": "f23268d1c6324e969314f4f25abbb9e2"
      }
     },
     "metadata": {}
    },
    {
     "output_type": "display_data",
     "data": {
      "text/plain": [
       "special_tokens_map.json:   0%|          | 0.00/112 [00:00<?, ?B/s]"
      ],
      "application/vnd.jupyter.widget-view+json": {
       "version_major": 2,
       "version_minor": 0,
       "model_id": "68699ae068974f7085ef6a667fa3f887"
      }
     },
     "metadata": {}
    },
    {
     "output_type": "display_data",
     "data": {
      "text/plain": [
       "config.json:   0%|          | 0.00/190 [00:00<?, ?B/s]"
      ],
      "application/vnd.jupyter.widget-view+json": {
       "version_major": 2,
       "version_minor": 0,
       "model_id": "9694b750e5914ab0adeea5f83cf1b64b"
      }
     },
     "metadata": {}
    },
    {
     "output_type": "stream",
     "name": "stdout",
     "text": [
      "Using 3 models:\n",
      "\n",
      "  - MPNet\n",
      "  - MiniLM-L6\n",
      "  - MiniLM-L3\n",
      "\n",
      "Training on 1000 samples...\n",
      "Note: In practice, ensemble diversity comes from:\n",
      "  - Different model architectures\n",
      "  - Different training data subsets\n",
      "  - Different hyperparameters\n",
      "\n"
     ]
    }
   ],
   "execution_count": 13
  },
  {
   "cell_type": "markdown",
   "metadata": {
    "id": "7NXodRdVtQUb"
   },
   "source": [
    "Train each model individually and track performance:"
   ]
  },
  {
   "cell_type": "code",
   "metadata": {
    "id": "2Z7qnySgtQUc",
    "outputId": "8065b593-d782-4460-9608-4e282ae018fd",
    "colab": {
     "base_uri": "https://localhost:8080/"
    }
   },
   "source": [
    "classifiers = []\n",
    "individual_f1s = []\n",
    "\n",
    "print(\"Training individual models...\")"
   ],
   "outputs": [
    {
     "output_type": "stream",
     "name": "stdout",
     "text": [
      "Training individual models...\n",
      "\n"
     ]
    }
   ],
   "execution_count": 14
  },
  {
   "cell_type": "code",
   "metadata": {
    "id": "iLXRUDIJtQUd",
    "outputId": "ecf5ac57-8ef7-4646-c15a-1aa87c410950",
    "colab": {
     "base_uri": "https://localhost:8080/"
    }
   },
   "source": [
    "for i, (model, name) in enumerate(zip(models, model_names)):\n",
    "    # Encode with this model\n",
    "    train_emb = model.encode(train_subset[\"text\"], show_progress_bar=False)\n",
    "    test_emb = model.encode(test_subset[\"text\"], show_progress_bar=False)\n",
    "\n",
    "    # Train classifier\n",
    "    clf = LogisticRegression(random_state=42, max_iter=1000)\n",
    "    clf.fit(train_emb, train_subset[\"label\"])\n",
    "\n",
    "    # Evaluate\n",
    "    y_pred = clf.predict(test_emb)\n",
    "    f1 = f1_score(test_subset[\"label\"], y_pred, average='weighted')\n",
    "\n",
    "    classifiers.append((clf, test_emb))\n",
    "    individual_f1s.append(f1)\n",
    "\n",
    "    print(f\"{name:12s}: F1 = {f1:.4f}\")"
   ],
   "outputs": [
    {
     "output_type": "stream",
     "name": "stdout",
     "text": [
      "MPNet       : F1 = 0.8698\n",
      "MiniLM-L6   : F1 = 0.7300\n",
      "MiniLM-L3   : F1 = 0.6554\n"
     ]
    }
   ],
   "execution_count": 15
  },
  {
   "cell_type": "markdown",
   "metadata": {
    "id": "FbGPrIsktQUd"
   },
   "source": [
    "Collect predictions from all models for ensemble voting:"
   ]
  },
  {
   "cell_type": "code",
   "metadata": {
    "id": "Aj9MEcB3tQUf",
    "outputId": "f1d7a419-19e0-4aff-8bfc-a9edcbff8b6c",
    "colab": {
     "base_uri": "https://localhost:8080/"
    }
   },
   "source": [
    "all_predictions = []\n",
    "\n",
    "for clf, test_emb in classifiers:\n",
    "    preds = clf.predict(test_emb)\n",
    "    all_predictions.append(preds)\n",
    "\n",
    "all_predictions = np.array(all_predictions)\n",
    "print(f\"\\nCollected predictions from {len(all_predictions)} models\")"
   ],
   "outputs": [
    {
     "output_type": "stream",
     "name": "stdout",
     "text": [
      "\n",
      "Collected predictions from 3 models\n"
     ]
    }
   ],
   "execution_count": 16
  },
  {
   "cell_type": "markdown",
   "metadata": {
    "id": "J8WbCrwltQUf"
   },
   "source": [
    "Apply majority voting to get ensemble predictions:"
   ]
  },
  {
   "cell_type": "code",
   "metadata": {
    "id": "X7ieksGgtQUf",
    "outputId": "d9dd31dd-3355-461b-911a-f7c25f5539e9",
    "colab": {
     "base_uri": "https://localhost:8080/"
    }
   },
   "source": [
    "ensemble_predictions = []\n",
    "\n",
    "for i in range(len(test_subset)):\n",
    "    votes = all_predictions[:, i]\n",
    "    unique, counts = np.unique(votes, return_counts=True)\n",
    "    majority = unique[np.argmax(counts)]  # Pick most common vote\n",
    "    ensemble_predictions.append(majority)\n",
    "\n",
    "ensemble_f1 = f1_score(test_subset[\"label\"], ensemble_predictions, average='weighted')\n",
    "print(f\"Ensemble F1: {ensemble_f1:.4f}\")"
   ],
   "outputs": [
    {
     "output_type": "stream",
     "name": "stdout",
     "text": [
      "Ensemble F1: 0.7652\n"
     ]
    }
   ],
   "execution_count": 17
  },
  {
   "cell_type": "markdown",
   "metadata": {
    "id": "OcnCWwR0tQUf"
   },
   "source": [
    "Compare ensemble vs individual models:"
   ]
  },
  {
   "cell_type": "code",
   "metadata": {
    "id": "_oOfUqkJtQUg",
    "outputId": "426aaf2f-6412-4dd1-9c35-f05b6b46c039",
    "colab": {
     "base_uri": "https://localhost:8080/"
    }
   },
   "source": [
    "print(\"\\nResults Comparison\")\n",
    "print(\"-\" * 40)\n",
    "\n",
    "for name, f1 in zip(model_names, individual_f1s):\n",
    "    print(f\"{name:12s}: {f1:.4f}\")\n",
    "\n",
    "print(f\"\\nEnsemble:     {ensemble_f1:.4f}\")\n",
    "\n",
    "best_individual = max(individual_f1s)\n",
    "if ensemble_f1 > best_individual:\n",
    "    gain = ensemble_f1 - best_individual\n",
    "    print(f\"\\n\u2713 Ensemble wins by {gain:.4f}!\")\n",
    "else:\n",
    "    diff = best_individual - ensemble_f1\n",
    "    print(f\"\\nBest individual model wins by {diff:.4f}\")"
   ],
   "outputs": [
    {
     "output_type": "stream",
     "name": "stdout",
     "text": [
      "\n",
      "Results Comparison\n",
      "----------------------------------------\n",
      "MPNet       : 0.8698\n",
      "MiniLM-L6   : 0.7300\n",
      "MiniLM-L3   : 0.6554\n",
      "\n",
      "Ensemble:     0.7652\n",
      "\n",
      "Best individual model wins by 0.1046\n"
     ]
    }
   ],
   "execution_count": 18
  },
  {
   "cell_type": "markdown",
   "metadata": {
    "id": "e_Vuabsqg7W0"
   },
   "source": [
    "Try implementing confidence-weighted voting where each model's vote is weighted by its prediction confidence:"
   ]
  },
  {
   "cell_type": "code",
   "metadata": {
    "id": "YoDs5C6sg7W0",
    "outputId": "0d957301-e904-4668-935d-f27a393b615e",
    "colab": {
     "base_uri": "https://localhost:8080/"
    }
   },
   "execution_count": 19,
   "outputs": [
    {
     "output_type": "stream",
     "name": "stdout",
     "text": [
      "\n",
      "Confidence-weighted ensemble F1: 0.7647\n",
      "Simple majority F1: 0.7652\n",
      "Difference: -0.0005\n"
     ]
    }
   ],
   "source": [
    "# Complete this: Confidence-weighted ensemble\n",
    "# Instead of simple majority voting, weight each vote by confidence\n",
    "\n",
    "# Get prediction probabilities from all models\n",
    "all_probabilities = []\n",
    "\n",
    "for clf, test_emb in classifiers:\n",
    "    # Hint: Use predict_proba() to get probabilities instead of predict()\n",
    "    probs = clf.predict_proba(test_emb)\n",
    "    all_probabilities.append(probs)\n",
    "\n",
    "all_probabilities = np.array(all_probabilities)\n",
    "\n",
    "# Calculate weighted predictions\n",
    "weighted_predictions = []\n",
    "\n",
    "for i in range(len(test_subset)):\n",
    "    # For each sample, sum the confidence-weighted votes\n",
    "    # Hint: For each class, sum probabilities across all models using all_probabilities[:, i, :]\n",
    "    # Then use np.sum() along axis 0 to get scores for each class\n",
    "    class_scores = np.sum(all_probabilities[:, i, :], axis=0)\n",
    "\n",
    "    # Pick class with highest weighted score\n",
    "    # Hint: Use np.argmax()\n",
    "    weighted_pred = np.argmax(class_scores)\n",
    "    weighted_predictions.append(weighted_pred)\n",
    "\n",
    "weighted_f1 = f1_score(test_subset[\"label\"], weighted_predictions, average='weighted')\n",
    "\n",
    "print(f\"\\nConfidence-weighted ensemble F1: {weighted_f1:.4f}\")\n",
    "print(f\"Simple majority F1: {ensemble_f1:.4f}\")\n",
    "print(f\"Difference: {weighted_f1 - ensemble_f1:+.4f}\")"
   ]
  },
  {
   "cell_type": "markdown",
   "metadata": {
    "id": "hGa8u5Ghnzyq"
   },
   "source": [
    "#### Hard Task 4: Cross-Domain Transfer Learning\n",
    "\n",
    "Can a classifier trained on movie reviews work on restaurant, product, or book reviews? Observe zero-shot transfer (no adaptation) performance on each domain, see which domains transfer well and which don't, then try few-shot adaptation (adding just 4 examples from target domain). Analyze domain similarity using embedding distances and optionally add your own custom domain to test."
   ]
  },
  {
   "cell_type": "markdown",
   "metadata": {
    "id": "nhueGby3nzyr"
   },
   "source": [
    "Load dependencies and set up source/target domains:"
   ]
  },
  {
   "cell_type": "code",
   "metadata": {
    "id": "574s5OB8nzys"
   },
   "source": [
    "from sentence_transformers import SentenceTransformer\n",
    "from sklearn.linear_model import LogisticRegression\n",
    "from sklearn.metrics import f1_score, accuracy_score\n",
    "import numpy as np"
   ],
   "outputs": [],
   "execution_count": 20
  },
  {
   "cell_type": "markdown",
   "metadata": {
    "id": "9m7SiDmknzys"
   },
   "source": [
    "Define source domain (movies) and target domains:"
   ]
  },
  {
   "cell_type": "code",
   "metadata": {
    "id": "7NsPi1yMnzys"
   },
   "source": [
    "movie_data = load_dataset(\"rotten_tomatoes\")\n",
    "model = SentenceTransformer('sentence-transformers/all-mpnet-base-v2')\n",
    "\n",
    "movie_train = movie_data[\"train\"].shuffle(seed=42).select(range(2000))\n",
    "movie_test = movie_data[\"test\"].shuffle(seed=42).select(range(200))"
   ],
   "outputs": [],
   "execution_count": 21
  },
  {
   "cell_type": "code",
   "metadata": {
    "id": "XmFlUawpnzyt"
   },
   "source": [
    "restaurant_reviews = {\n",
    "    'text': [\n",
    "        \"Amazing food and excellent service!\",\n",
    "        \"Best restaurant in town, highly recommend\",\n",
    "        \"Delicious meals and great atmosphere\",\n",
    "        \"Outstanding cuisine and friendly staff\",\n",
    "        \"Terrible food, very disappointing\",\n",
    "        \"Awful service and poor quality\",\n",
    "        \"Not worth the money, mediocre at best\",\n",
    "        \"Disgusting food and rude waiters\",\n",
    "        \"The pasta was okay but nothing special\",\n",
    "        \"Decent place for a quick meal\"\n",
    "    ],\n",
    "    'label': [1, 1, 1, 1, 0, 0, 0, 0, 0, 0]\n",
    "}\n",
    "\n",
    "product_reviews = {\n",
    "    'text': [\n",
    "        \"This product is amazing! Works perfectly\",\n",
    "        \"Excellent quality, very satisfied\",\n",
    "        \"Great value for money, highly recommend\",\n",
    "        \"Perfect! Exactly what I needed\",\n",
    "        \"Terrible product, broke immediately\",\n",
    "        \"Waste of money, very poor quality\",\n",
    "        \"Doesn't work as advertised, disappointed\",\n",
    "        \"Awful, don't buy this\",\n",
    "        \"It's okay, does the job\",\n",
    "        \"Average product, nothing special\"\n",
    "    ],\n",
    "    'label': [1, 1, 1, 1, 0, 0, 0, 0, 0, 0]\n",
    "}\n",
    "\n",
    "book_reviews = {\n",
    "    'text': [\n",
    "        \"Brilliant book! Couldn't put it down\",\n",
    "        \"Masterfully written, highly engaging\",\n",
    "        \"One of the best books I've read\",\n",
    "        \"Fantastic story and great characters\",\n",
    "        \"Boring and poorly written\",\n",
    "        \"Terrible book, waste of time\",\n",
    "        \"Disappointing, not worth reading\",\n",
    "        \"Awful plot and weak characters\",\n",
    "        \"Decent read but nothing groundbreaking\",\n",
    "        \"It was fine, not great not terrible\"\n",
    "    ],\n",
    "    'label': [1, 1, 1, 1, 0, 0, 0, 0, 0, 0]\n",
    "}"
   ],
   "outputs": [],
   "execution_count": 22
  },
  {
   "cell_type": "markdown",
   "metadata": {
    "id": "QJ7yP7KVnzyu"
   },
   "source": [
    "Train classifier on source domain (movies):"
   ]
  },
  {
   "cell_type": "code",
   "metadata": {
    "id": "NhM4esP1nzyv",
    "outputId": "8174900f-9cc7-4732-be8a-d5c009cf5176",
    "colab": {
     "base_uri": "https://localhost:8080/",
     "height": 102,
     "referenced_widgets": [
      "3c4bdde8738c4dfd839a845c74331ceb",
      "4e624710fd3047f38a89ecc7fbaaee6c",
      "e39b016311a94864a285e6c96f45a5da",
      "dcc1eba4b1374203bb31ccc59c17f065",
      "682b3be39ca24cea98ff6e74d521a2e4",
      "176ef12d052b4486bf49604ac080d90a",
      "1b02d2d1e3944710a229bf9411b9c95f",
      "0c632b404e6e4fa5a30d1e343094d7d7",
      "4ae755af067e43daaf689774a74698bf",
      "3c2e4dcc830b4fd5bd3523d2b56623b9",
      "41c2ffe4357e4d2a8c7ba1921d177745"
     ]
    }
   },
   "source": [
    "print(\"Training on movie reviews...\")\n",
    "train_embeddings = model.encode(movie_train[\"text\"], show_progress_bar=True)\n",
    "\n",
    "clf = LogisticRegression(random_state=42, max_iter=1000)\n",
    "# Hint: clf.fit()\n",
    "clf.fit(train_embeddings, movie_train[\"label\"])\n",
    "\n",
    "# Test on source domain\n",
    "movie_test_embeddings = model.encode(movie_test[\"text\"], show_progress_bar=False)\n",
    "movie_test_pred = clf.predict(movie_test_embeddings)\n",
    "source_f1 = f1_score(movie_test[\"label\"], movie_test_pred, average='weighted')\n",
    "\n",
    "print(f\"\\nSource domain F1: {source_f1:.4f}\")"
   ],
   "outputs": [
    {
     "output_type": "stream",
     "name": "stdout",
     "text": [
      "Training on movie reviews...\n"
     ]
    },
    {
     "output_type": "display_data",
     "data": {
      "text/plain": [
       "Batches:   0%|          | 0/63 [00:00<?, ?it/s]"
      ],
      "application/vnd.jupyter.widget-view+json": {
       "version_major": 2,
       "version_minor": 0,
       "model_id": "3c4bdde8738c4dfd839a845c74331ceb"
      }
     },
     "metadata": {}
    },
    {
     "output_type": "stream",
     "name": "stdout",
     "text": [
      "\n",
      "Source domain F1: 0.8497\n"
     ]
    }
   ],
   "execution_count": 23
  },
  {
   "cell_type": "markdown",
   "metadata": {
    "id": "yEr0prtsnzyw"
   },
   "source": [
    "Test zero-shot transfer to target domains (no adaptation):"
   ]
  },
  {
   "cell_type": "code",
   "metadata": {
    "id": "VPD8PXiZnzyx",
    "outputId": "e5d90b9e-b21a-4091-f01a-17bff200a3bc",
    "colab": {
     "base_uri": "https://localhost:8080/"
    }
   },
   "source": [
    "target_domains = {\n",
    "    \"Restaurant\": restaurant_reviews,\n",
    "    \"Product\": product_reviews,\n",
    "    \"Book\": book_reviews,\n",
    "}\n",
    "\n",
    "transfer_results = {}\n",
    "\n",
    "print(\"\\nZero-shot transfer results:\")\n",
    "for domain_name, domain_data in target_domains.items():\n",
    "    domain_embeddings = model.encode(domain_data['text'])\n",
    "    domain_pred = clf.predict(domain_embeddings)\n",
    "    domain_f1 = f1_score(domain_data['label'], domain_pred, average='weighted')\n",
    "    # Hint: use accuracy_score()\n",
    "    domain_acc = accuracy_score(domain_data['label'], domain_pred)\n",
    "\n",
    "    print(f\"\\n{domain_name}: F1={domain_f1:.4f}, Acc={domain_acc:.4f}\")\n",
    "    print(f\"  Drop from source: {source_f1 - domain_f1:.4f}\")\n",
    "\n",
    "    transfer_results[domain_name] = {\n",
    "        'zero_shot_f1': domain_f1,\n",
    "        'embeddings': domain_embeddings\n",
    "    }"
   ],
   "outputs": [
    {
     "output_type": "stream",
     "name": "stdout",
     "text": [
      "\n",
      "Zero-shot transfer results:\n",
      "\n",
      "Restaurant: F1=0.9010, Acc=0.9000\n",
      "  Drop from source: -0.0513\n",
      "\n",
      "Product: F1=1.0000, Acc=1.0000\n",
      "  Drop from source: -0.1503\n",
      "\n",
      "Book: F1=0.9010, Acc=0.9000\n",
      "  Drop from source: -0.0513\n"
     ]
    }
   ],
   "execution_count": 24
  },
  {
   "cell_type": "markdown",
   "metadata": {
    "id": "EEPIxwrLnzyy"
   },
   "source": [
    "Few-shot adaptation (add 4 examples from target domain):"
   ]
  },
  {
   "cell_type": "code",
   "metadata": {
    "id": "3SRItXyjnzyy",
    "outputId": "94718507-a089-4d09-884a-b3495a72645e",
    "colab": {
     "base_uri": "https://localhost:8080/"
    }
   },
   "source": [
    "adaptation_size = 4\n",
    "\n",
    "# Experiment: Try different adaptation sizes\n",
    "# Uncomment to see how performance changes with more examples:\n",
    "# adaptation_size = 2   # Minimal adaptation\n",
    "# adaptation_size = 8   # More examples\n",
    "# adaptation_size = 16  # Even more examples\n",
    "\n",
    "print(f\"\\nFew-shot adaptation ({adaptation_size} examples):\")\n",
    "for domain_name, domain_data in target_domains.items():\n",
    "    # Split: first N for adaptation, rest for testing\n",
    "    adapt_texts = domain_data['text'][:adaptation_size]\n",
    "    adapt_labels = domain_data['label'][:adaptation_size]\n",
    "    test_texts = domain_data['text'][adaptation_size:]\n",
    "    test_labels = domain_data['label'][adaptation_size:]\n",
    "\n",
    "    # Combine source + adaptation\n",
    "    adapt_embeddings = model.encode(adapt_texts)\n",
    "    combined_embeddings = np.vstack([train_embeddings, adapt_embeddings])\n",
    "    combined_labels = list(movie_train[\"label\"]) + adapt_labels\n",
    "\n",
    "    # Retrain\n",
    "    clf_adapted = LogisticRegression(random_state=42, max_iter=1000)\n",
    "    clf_adapted.fit(combined_embeddings, combined_labels)\n",
    "\n",
    "    # Test\n",
    "    test_embeddings = model.encode(test_texts)\n",
    "    adapted_pred = clf_adapted.predict(test_embeddings)\n",
    "    adapted_f1 = f1_score(test_labels, adapted_pred, average='weighted')\n",
    "\n",
    "    zero_shot_f1 = transfer_results[domain_name]['zero_shot_f1']\n",
    "    improvement = adapted_f1 - zero_shot_f1\n",
    "\n",
    "    print(f\"\\n{domain_name}:\")\n",
    "    print(f\"  Zero-shot: {zero_shot_f1:.4f}\")\n",
    "    print(f\"  Adapted:   {adapted_f1:.4f}\")\n",
    "    print(f\"  Gain:      {improvement:+.4f}\")\n",
    "\n",
    "    transfer_results[domain_name]['adapted_f1'] = adapted_f1\n",
    "    transfer_results[domain_name]['improvement'] = improvement"
   ],
   "outputs": [
    {
     "output_type": "stream",
     "name": "stdout",
     "text": [
      "\n",
      "Few-shot adaptation (4 examples):\n",
      "\n",
      "Restaurant:\n",
      "  Zero-shot: 0.9010\n",
      "  Adapted:   0.9091\n",
      "  Gain:      +0.0081\n",
      "\n",
      "Product:\n",
      "  Zero-shot: 1.0000\n",
      "  Adapted:   1.0000\n",
      "  Gain:      +0.0000\n",
      "\n",
      "Book:\n",
      "  Zero-shot: 0.9010\n",
      "  Adapted:   0.9091\n",
      "  Gain:      +0.0081\n"
     ]
    }
   ],
   "execution_count": 25
  },
  {
   "cell_type": "markdown",
   "metadata": {
    "id": "yc6UDdfinzyz"
   },
   "source": [
    "Analyze domain similarity (embedding distance):"
   ]
  },
  {
   "cell_type": "code",
   "metadata": {
    "id": "4YMFCMYUnzyz",
    "outputId": "7c1b9e61-a1df-47e7-e938-897293c80b0e",
    "colab": {
     "base_uri": "https://localhost:8080/"
    }
   },
   "source": [
    "source_centroid = np.mean(train_embeddings, axis=0)\n",
    "\n",
    "print(\"\\nDomain distances from source:\")\n",
    "for domain_name in target_domains.keys():\n",
    "    domain_embeddings = transfer_results[domain_name]['embeddings']\n",
    "    domain_centroid = np.mean(domain_embeddings, axis=0)\n",
    "    distance = np.linalg.norm(source_centroid - domain_centroid)\n",
    "\n",
    "    zero_f1 = transfer_results[domain_name]['zero_shot_f1']\n",
    "    drop = source_f1 - zero_f1\n",
    "\n",
    "    print(f\"\\n{domain_name:12s}: distance={distance:.3f}, drop={drop:.3f}\")\n",
    "\n",
    "print(\"\\nObservation: Smaller distance = better transfer\")"
   ],
   "outputs": [
    {
     "output_type": "stream",
     "name": "stdout",
     "text": [
      "\n",
      "Domain distances from source:\n",
      "\n",
      "Restaurant  : distance=0.716, drop=-0.051\n",
      "\n",
      "Product     : distance=0.678, drop=-0.150\n",
      "\n",
      "Book        : distance=0.534, drop=-0.051\n",
      "\n",
      "Observation: Smaller distance = better transfer\n"
     ]
    }
   ],
   "execution_count": 26
  },
  {
   "cell_type": "markdown",
   "metadata": {
    "id": "kBJkCQOGnzy0"
   },
   "source": [
    "### Questions\n",
    "\n",
    "1. Which domain transferred best from movies? Which worst?\n",
    "\n",
    "2. Do you see patterns in what transfers well vs what fails?\n",
    "\n",
    "3. After few-shot adaptation: Which domains benefited most from just 4 examples?\n"
   ]
  },
  {
   "cell_type": "code",
   "source": [],
   "metadata": {
    "id": "yZLqm3S4IP2e"
   },
   "execution_count": 26,
   "outputs": []
  }
 ],
 "metadata": {
  "accelerator": "GPU",
  "colab": {
   "gpuType": "T4",
   "provenance": []
  },
  "kernelspec": {
   "display_name": "Python 3 (ipykernel)",
   "language": "python",
   "name": "python3"
  },
  "language_info": {
   "codemirror_mode": {
    "name": "ipython",
    "version": 3
   },
   "file_extension": ".py",
   "mimetype": "text/x-python",
   "name": "python",
   "nbconvert_exporter": "python",
   "pygments_lexer": "ipython3",
   "version": "3.12.9"
  }
 },
 "nbformat": 4,
 "nbformat_minor": 0
}