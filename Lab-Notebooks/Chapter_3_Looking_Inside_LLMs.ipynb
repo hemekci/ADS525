{
  "cells": [
    {
      "cell_type": "markdown",
      "metadata": {
        "id": "adFzzFsB-Ofl"
      },
      "source": [
        "<h1>Chapter 3 - Looking Inside Transformer LLMs</h1>\n",
        "<i>An extensive look into the transformer architecture of generative LLMs</i>\n",
        "\n",
        "<a href=\"https://www.amazon.com/Hands-Large-Language-Models-Understanding/dp/1098150961\"><img src=\"https://img.shields.io/badge/Buy%20the%20Book!-grey?logo=amazon\"></a>\n",
        "<a href=\"https://www.oreilly.com/library/view/hands-on-large-language/9781098150952/\"><img src=\"https://img.shields.io/badge/O'Reilly-white.svg?logo=data:image/svg%2bxml;base64,PHN2ZyB3aWR0aD0iMzQiIGhlaWdodD0iMjciIHZpZXdCb3g9IjAgMCAzNCAyNyIgZmlsbD0ibm9uZSIgeG1sbnM9Imh0dHA6Ly93d3cudzMub3JnLzIwMDAvc3ZnIj4KPGNpcmNsZSBjeD0iMTMiIGN5PSIxNCIgcj0iMTEiIHN0cm9rZT0iI0Q0MDEwMSIgc3Ryb2tlLXdpZHRoPSI0Ii8+CjxjaXJjbGUgY3g9IjMwLjUiIGN5PSIzLjUiIHI9IjMuNSIgZmlsbD0iI0Q0MDEwMSIvPgo8L3N2Zz4K\"></a>\n",
        "<a href=\"https://github.com/HandsOnLLM/Hands-On-Large-Language-Models\"><img src=\"https://img.shields.io/badge/GitHub%20Repository-black?logo=github\"></a>\n",
        "[![Open In Colab](https://colab.research.google.com/assets/colab-badge.svg)](https://colab.research.google.com/github/HandsOnLLM/Hands-On-Large-Language-Models/blob/main/chapter03/Chapter%203%20-%20Looking%20Inside%20LLMs.ipynb)\n",
        "\n",
        "---\n",
        "\n",
        "This notebook is for Chapter 3 of the [Hands-On Large Language Models](https://www.amazon.com/Hands-Large-Language-Models-Understanding/dp/1098150961) book by [Jay Alammar](https://www.linkedin.com/in/jalammar) and [Maarten Grootendorst](https://www.linkedin.com/in/mgrootendorst/).\n",
        "\n",
        "---\n",
        "\n",
        "<a href=\"https://www.amazon.com/Hands-Large-Language-Models-Understanding/dp/1098150961\">\n",
        "<img src=\"https://raw.githubusercontent.com/HandsOnLLM/Hands-On-Large-Language-Models/main/images/book_cover.png\" width=\"350\"/></a>"
      ]
    },
    {
      "cell_type": "markdown",
      "metadata": {
        "id": "3iXmaCjDLYvT"
      },
      "source": [
        "### [OPTIONAL] - Installing Packages on <img src=\"https://colab.google/static/images/icons/colab.png\" width=100>\n",
        "\n",
        "If you are viewing this notebook on Google Colab (or any other cloud vendor), you need to **uncomment and run** the following codeblock to install the dependencies for this chapter:\n",
        "\n",
        "---\n",
        "\n",
        "💡 **NOTE**: We will want to use a GPU to run the examples in this notebook. In Google Colab, go to\n",
        "**Runtime > Change runtime type > Hardware accelerator > GPU > GPU type > T4**.\n",
        "\n",
        "---\n"
      ]
    },
    {
      "cell_type": "code",
      "execution_count": 1,
      "metadata": {
        "id": "eUVLNvn8LYvU"
      },
      "outputs": [],
      "source": [
        "%%capture\n",
        "!pip install transformers>=4.41.2 accelerate>=0.31.0"
      ]
    },
    {
      "cell_type": "markdown",
      "metadata": {
        "id": "W_23Z_do-faF"
      },
      "source": ["# Loading the LLM"]
    },
    {
      "cell_type": "code",
      "execution_count": 2,
      "metadata": {
        "colab": {
          "base_uri": "https://localhost:8080/",
          "height": 580,
          "referenced_widgets": [
            "55a60487fd624f9c8c54ce27779602d6",
            "c8f263c94103482f99260b8dc6dcec63",
            "2139880aa8784677bc0a7a10fc10d6b0",
            "3297ace2f0234b36834fa04ba88c0b38",
            "cff2a70908ab45e29f5b577c97d7e861",
            "87c45c2549054df2b4fc9ffa63059f36",
            "ba8045c3d3834692b8f3e5c2d97a945f",
            "cc3ba4411c744e34a10a1fb79c4e895e",
            "0de90e8999614e8aab75240936fdc550",
            "c32d30befb034888962a83dcb31ee218",
            "d1b2bb4ba6a947e8add089ad5d2314fe",
            "cf1ced4b1f5a484095c1004497cbf4c4",
            "24aa50e2e9e54afa837e57761ee2401c",
            "339633fdf28246eb860026ea9801569a",
            "4076b03d20204b63b26ad2c2a50630d9",
            "dfc5872663d84f158de612cad5696c00",
            "5b7f5bcad7dd44b4b83301b25e035fe4",
            "178fc010a8ed4c4ea887aad4f3944ca2",
            "315075f8c31d4c438b7d325380cca0e6",
            "a9b6f1ba4c564604a21eb3c8915b456c",
            "2279433bd48d4a748b8f521a6dcb39a7",
            "65c45ce9c66b402aa07a5961823b48c5",
            "d46f25ca43de4d4fb9ad6c8b8018439d",
            "026caefa0562417db5f6da109dc7f1fc",
            "14afae42c77d4eb186de3ec80882ff15",
            "5905a644e21b46d48bd9ef664e49c965",
            "c2ace23913594b7a9b17d39a7307c596",
            "85e75bcc5aff467581ea2b6689154197",
            "117a273c7f384950af3c9cde958c1499",
            "44c9f11d27af4b5fa433bb5e0d4e197e",
            "39d8392d0f4c43f7a1b6bee67419703c",
            "10cd91f8d0474d21891dac5c6ed797c4",
            "f3c42ee46b3e45b58b3e88aba60c7f1f",
            "6facb46828cb4c3f923b081f17b1daab",
            "283ede56914f4d528d112dbffc69d497",
            "6ce2c189953c435ca95ac91304edba96",
            "954ba50ac2d540d686e854d8af16110d",
            "8b62745ea83641778c158cf007e83108",
            "6ecd7b6f19aa440e88636a4489bd4cb8",
            "0a4f5fa73fc840c79060725cfff9bb4a",
            "53a74682568c4bc2b56a48b71baa598b",
            "8eca987c8e5747c3817b3b6f11aba33a",
            "18ee99554db1495e9931420a706f9558",
            "6abd923165d444ef9677ef1df1378f9a",
            "4d5cff4925db43128d38193f68291f6b",
            "6dc58fa53a3f425a919dd0f748df0af4",
            "bea4d4bd9da449bea56028e72f8adbd8",
            "bd85ca48e8af4efdbd69cbde9255fb21",
            "83c894472ab7433d8d605be449add3f6",
            "f6b79e6ee8ec444a910d427ba01bfb09",
            "c4c8551ba787430d96fe37d063d2fc6d",
            "7eebb979f16f4b57b6715e93ca29e1c0",
            "6f24aaa04cc34c2b9c16643599bbc4e5",
            "93be49ed1f8344068db076099e766a0a",
            "3f4bfa36006a453284e5ac605de5c404",
            "b321022d222a490588a94757ba63c1ff",
            "c97432d03c1d4d48a3e7b0c0be8d7644",
            "54d7470eb8254c6680a98c33990351ab",
            "4683558f038e48659a1f3eb1641bd423",
            "aa43faeb45664663843d24cf8b069b60",
            "e3c4c99c6d734972b80ef1ee25dea3c0",
            "8e602dd32f81415c88faa836a7ff70e1",
            "35fa3c2052f44347a89964790a5b031b",
            "149bec6d06ff4de681aebeb10b111c8d",
            "5a4d2c70ba724a84ba52bf1299580347",
            "e37da8d877e84848a178bd171091d3e8",
            "38d0225ee7fc41eaa7061da8eab0213d",
            "6dd94bfed519406a8049d7985d932b72",
            "1846503b88b44cc19e62e275ed4a8f3a",
            "f09b21bdf656400883242e2bfd7a06f3",
            "8094269a54094a76badbf9c3cd995da4",
            "cdbe9753af574fd09df954fa8e7d7c2b",
            "4cf779e9ea6e411d8e94d78ddf1b7206",
            "1cbb327e45054ac1b1973277bacba00c",
            "2f28a2ff925e466bb0314771df0b6fad",
            "d42448526ef84ef49c1169ac5352b4a0",
            "1a8552ffc188410f93cc6773b30043bd",
            "46d43cbc9c3249daa67e96c2d89c8f5d",
            "95c5a48730f049a3959315274e0ad523",
            "43b013d7eb7d4f199ac8ae99c142689d",
            "1930d895677546db8b56bf27b7a1054f",
            "47515df25e8748529afcd8419a41345d",
            "fbd318ac401b45a1a4ebfb0331c7993f",
            "f15170e401cf4922a6f8ebbafdf628ca",
            "e550da31e2984c7f9e1ef4f4df33ab07",
            "426c7d68a4c6403f9398d126c5d51c9d",
            "d1d455da3d1a4331ad13f2fafb211079",
            "228f36ef7b114668b56294a94035d535",
            "0b14cacc7ca94a4dbb8e8ff540631d15",
            "0317055132b24dc19be42419d852ad81",
            "dd577ff3203b415290ab90a6007cdeeb",
            "0c13560c432f4291a690c2085f72db07",
            "21d57e83fd2d48009ac197cdaa735349",
            "5b9eca5808734adebcf4ae7fd8a54171",
            "7db2dfe2b0784d9582619b8dc3ad7ee3",
            "46e02f0e7fa54943b9472e9b7ad7b50e",
            "724c1502e2c8460a9a74959199191a63",
            "0c57ffc10f8f44e48f005e4686dd169a",
            "02999f0fad6d49b6b8d5e4d8367b55bc",
            "f1c5ab10ce014001a7f5fbe3f61cbec6",
            "d29111109f2f48b5bfa14fb909bf2510",
            "aada4a4fa4964b04b492cba9c78bb00d",
            "570959be54fd468fbc1817239bf8dd42",
            "86c0d926959a48218577304fd63bb79b",
            "2d5182c1c107453f8503533ceaab399d",
            "1ccb00a51f9c4bb2859d10556ee79450",
            "b26d2b2397cb4b7eacfcc12f8a2fafa1",
            "4ed1a3cbf6eb41aab457a202d6d25179",
            "f55906d079c248db849de64c4b9ea56d",
            "1e79d2543f6b486da955bc1864afa30f",
            "73f197be405d40aa87221a75bb0bfa95",
            "5b51a1f1fe97420dbef56be7989ee8b5",
            "af44dc63f51b4e88b90430e06330f456",
            "70277d72b39e4789a00935641a21a1ed",
            "56b642cad3234ef69dd38516af8186b5",
            "55bd84f0aa154470be9389ee8fd3faad",
            "1dbf26426ee440c3a57c84873d0d409c",
            "4b60f257d2cf495ea9401f4bd27d1ec4",
            "15e68e03970f45f3b30e680905514e9c",
            "c90965208d604e75b0c616e79dda1c5e",
            "3f9e4ac24f05419f9d6a737acc7ca030",
            "6a77d0c12e7844c1b2bedbdf4a82a567",
            "26353085d39f4886b6ffd2cf55717755",
            "02f55b74eb6647fb92b3a6847a6ebced",
            "a8cc57a46b274542bd46bebba6f94ad4",
            "9d1f8e284bfc44fc89447d850a1f7d92",
            "912b11588efb422ebcb0551f134e1253",
            "2431229621504d65bcfed168a1543b91",
            "9a9bc6ff9ebd4bafb951e331aaed5a42",
            "3ce5895898814d39914a51d9e06e36f4",
            "41e1cfaf368e4ef5bdb1c26ea872c0a6",
            "04ce6c2742ca44f986008e832adb2d4e"
          ]
        },
        "id": "-5RLd6dI-Ytm",
        "outputId": "cd94e656-1f17-4d77-c634-a7a1561a0bb1"
      },
      "outputs": [
        {
          "name": "stderr",
          "output_type": "stream",
          "text": [
            "/usr/local/lib/python3.12/dist-packages/huggingface_hub/utils/_auth.py:94: UserWarning: \n",
            "The secret `HF_TOKEN` does not exist in your Colab secrets.\n",
            "To authenticate with the Hugging Face Hub, create a token in your settings tab (https://huggingface.co/settings/tokens), set it as secret in your Google Colab and restart your session.\n",
            "You will be able to reuse this secret in all of your notebooks.\n",
            "Please note that authentication is recommended but still optional to access public models or datasets.\n",
            "  warnings.warn(\n"
          ]
        },
        {
          "data": {
            "application/vnd.jupyter.widget-view+json": {
              "model_id": "55a60487fd624f9c8c54ce27779602d6",
              "version_major": 2,
              "version_minor": 0
            },
            "text/plain": ["tokenizer_config.json: 0.00B [00:00, ?B/s]"]
          },
          "metadata": {},
          "output_type": "display_data"
        },
        {
          "data": {
            "application/vnd.jupyter.widget-view+json": {
              "model_id": "cf1ced4b1f5a484095c1004497cbf4c4",
              "version_major": 2,
              "version_minor": 0
            },
            "text/plain": [
              "tokenizer.model:   0%|          | 0.00/500k [00:00<?, ?B/s]"
            ]
          },
          "metadata": {},
          "output_type": "display_data"
        },
        {
          "data": {
            "application/vnd.jupyter.widget-view+json": {
              "model_id": "d46f25ca43de4d4fb9ad6c8b8018439d",
              "version_major": 2,
              "version_minor": 0
            },
            "text/plain": ["tokenizer.json: 0.00B [00:00, ?B/s]"]
          },
          "metadata": {},
          "output_type": "display_data"
        },
        {
          "data": {
            "application/vnd.jupyter.widget-view+json": {
              "model_id": "6facb46828cb4c3f923b081f17b1daab",
              "version_major": 2,
              "version_minor": 0
            },
            "text/plain": [
              "added_tokens.json:   0%|          | 0.00/306 [00:00<?, ?B/s]"
            ]
          },
          "metadata": {},
          "output_type": "display_data"
        },
        {
          "data": {
            "application/vnd.jupyter.widget-view+json": {
              "model_id": "4d5cff4925db43128d38193f68291f6b",
              "version_major": 2,
              "version_minor": 0
            },
            "text/plain": [
              "special_tokens_map.json:   0%|          | 0.00/599 [00:00<?, ?B/s]"
            ]
          },
          "metadata": {},
          "output_type": "display_data"
        },
        {
          "data": {
            "application/vnd.jupyter.widget-view+json": {
              "model_id": "b321022d222a490588a94757ba63c1ff",
              "version_major": 2,
              "version_minor": 0
            },
            "text/plain": [
              "config.json:   0%|          | 0.00/967 [00:00<?, ?B/s]"
            ]
          },
          "metadata": {},
          "output_type": "display_data"
        },
        {
          "name": "stderr",
          "output_type": "stream",
          "text": ["`torch_dtype` is deprecated! Use `dtype` instead!\n"]
        },
        {
          "data": {
            "application/vnd.jupyter.widget-view+json": {
              "model_id": "38d0225ee7fc41eaa7061da8eab0213d",
              "version_major": 2,
              "version_minor": 0
            },
            "text/plain": ["model.safetensors.index.json: 0.00B [00:00, ?B/s]"]
          },
          "metadata": {},
          "output_type": "display_data"
        },
        {
          "data": {
            "application/vnd.jupyter.widget-view+json": {
              "model_id": "46d43cbc9c3249daa67e96c2d89c8f5d",
              "version_major": 2,
              "version_minor": 0
            },
            "text/plain": [
              "Fetching 2 files:   0%|          | 0/2 [00:00<?, ?it/s]"
            ]
          },
          "metadata": {},
          "output_type": "display_data"
        },
        {
          "data": {
            "application/vnd.jupyter.widget-view+json": {
              "model_id": "0b14cacc7ca94a4dbb8e8ff540631d15",
              "version_major": 2,
              "version_minor": 0
            },
            "text/plain": [
              "model-00002-of-00002.safetensors:   0%|          | 0.00/2.67G [00:00<?, ?B/s]"
            ]
          },
          "metadata": {},
          "output_type": "display_data"
        },
        {
          "data": {
            "application/vnd.jupyter.widget-view+json": {
              "model_id": "f1c5ab10ce014001a7f5fbe3f61cbec6",
              "version_major": 2,
              "version_minor": 0
            },
            "text/plain": [
              "model-00001-of-00002.safetensors:   0%|          | 0.00/4.97G [00:00<?, ?B/s]"
            ]
          },
          "metadata": {},
          "output_type": "display_data"
        },
        {
          "data": {
            "application/vnd.jupyter.widget-view+json": {
              "model_id": "73f197be405d40aa87221a75bb0bfa95",
              "version_major": 2,
              "version_minor": 0
            },
            "text/plain": [
              "Loading checkpoint shards:   0%|          | 0/2 [00:00<?, ?it/s]"
            ]
          },
          "metadata": {},
          "output_type": "display_data"
        },
        {
          "data": {
            "application/vnd.jupyter.widget-view+json": {
              "model_id": "6a77d0c12e7844c1b2bedbdf4a82a567",
              "version_major": 2,
              "version_minor": 0
            },
            "text/plain": [
              "generation_config.json:   0%|          | 0.00/181 [00:00<?, ?B/s]"
            ]
          },
          "metadata": {},
          "output_type": "display_data"
        },
        {
          "name": "stderr",
          "output_type": "stream",
          "text": [
            "Device set to use cuda\n",
            "The following generation flags are not valid and may be ignored: ['temperature']. Set `TRANSFORMERS_VERBOSITY=info` for more details.\n"
          ]
        }
      ],
      "source": [
        "from transformers import AutoModelForCausalLM, AutoTokenizer, pipeline\n",
        "\n",
        "# Load model and tokenizer\n",
        "tokenizer = AutoTokenizer.from_pretrained(\"microsoft/Phi-3-mini-4k-instruct\")\n",
        "\n",
        "model = AutoModelForCausalLM.from_pretrained(\n",
        "    \"microsoft/Phi-3-mini-4k-instruct\",\n",
        "    device_map=\"cuda\",\n",
        "    torch_dtype=\"auto\",\n",
        "    trust_remote_code=False,\n",
        ")\n",
        "\n",
        "# Create a pipeline\n",
        "generator = pipeline(\n",
        "    \"text-generation\",\n",
        "    model=model,\n",
        "    tokenizer=tokenizer,\n",
        "    return_full_text=False,\n",
        "    max_new_tokens=50,\n",
        "    do_sample=False,\n",
        ")"
      ]
    },
    {
      "cell_type": "markdown",
      "metadata": {
        "id": "AyIaIilBd7nK"
      },
      "source": [
        "#### Understanding the Model Architecture\n",
        "\n",
        "Recall from Chapter 3 that Transformer LLMs consist of stacked transformer blocks, each containing self-attention and feedforward layers. Let's examine the Phi-3 model structure we just loaded."
      ]
    },
    {
      "cell_type": "code",
      "execution_count": 44,
      "metadata": {
        "colab": {
          "base_uri": "https://localhost:8080/"
        },
        "id": "6E6XhbkNeEke",
        "outputId": "da51079d-05ce-4413-954a-236315fb0107"
      },
      "outputs": [
        {
          "name": "stdout",
          "output_type": "stream",
          "text": [
            "Model has 32 transformer blocks\n",
            "Vocabulary size: 32064\n",
            "Hidden dimension: 3072\n",
            "Number of attention heads: 32\n",
            "\n",
            "First transformer block structure:\n",
            "Phi3DecoderLayer(\n",
            "  (self_attn): Phi3Attention(\n",
            "    (o_proj): Linear(in_features=3072, out_features=3072, bias=False)\n",
            "    (qkv_proj): Linear(in_features=3072, out_features=9216, bias=False)\n",
            "  )\n",
            "  (mlp): Phi3MLP(\n",
            "    (gate_up_proj): Linear(in_features=3072, out_features=16384, bias=False)\n",
            "    (down_proj): Linear(in_features=8192, out_features=3072, bias=False)\n",
            "    (activation_fn): SiLU()\n",
            "  )\n",
            "  (input_layernorm): Phi3RMSNorm((3072,), eps=1e-05)\n",
            "  (post_attention_layernorm): Phi3RMSNorm((3072,), eps=1e-05)\n",
            "  (resid_attn_dropout): Dropout(p=0.0, inplace=False)\n",
            "  (resid_mlp_dropout): Dropout(p=0.0, inplace=False)\n",
            ")\n"
          ]
        }
      ],
      "source": [
        "# Explore the model architecture - this implements concepts from Chapter 3, Figure 3-5\n",
        "print(f\"Model has {len(model.model.layers)} transformer blocks\")\n",
        "print(f\"Vocabulary size: {model.config.vocab_size}\")\n",
        "print(f\"Hidden dimension: {model.config.hidden_size}\")\n",
        "print(f\"Number of attention heads: {model.config.num_attention_heads}\")\n",
        "print(f\"\\nFirst transformer block structure:\")\n",
        "print(model.model.layers[0])"
      ]
    },
    {
      "cell_type": "markdown",
      "metadata": {
        "id": "REqcz-ID_XgV"
      },
      "source": ["# The Inputs and Outputs of a Trained Transformer LLM\n"]
    },
    {
      "cell_type": "code",
      "execution_count": 45,
      "metadata": {
        "colab": {
          "base_uri": "https://localhost:8080/"
        },
        "id": "17h6TPHluJ-i",
        "outputId": "9af5b568-69b4-4824-86e6-807d4c049261"
      },
      "outputs": [
        {
          "name": "stdout",
          "output_type": "stream",
          "text": [
            " Mention the steps you're taking to prevent it in the future.\n",
            "\n",
            "Dear Sarah,\n",
            "\n",
            "I hope this message finds you well. I am writing to express my sincerest apologies for the unfortunate incident that occurred\n"
          ]
        }
      ],
      "source": [
        "prompt = \"Write an email apologizing to Sarah for the tragic gardening mishap. Explain how it happened.\"\n",
        "\n",
        "output = generator(prompt)\n",
        "\n",
        "print(output[0]['generated_text'])"
      ]
    },
    {
      "cell_type": "code",
      "execution_count": 46,
      "metadata": {
        "colab": {
          "base_uri": "https://localhost:8080/"
        },
        "id": "eoFkdTd6_g5o",
        "outputId": "379d0dd1-a005-43f0-ac97-d885b2231429"
      },
      "outputs": [
        {
          "name": "stdout",
          "output_type": "stream",
          "text": [
            "Phi3ForCausalLM(\n",
            "  (model): Phi3Model(\n",
            "    (embed_tokens): Embedding(32064, 3072, padding_idx=32000)\n",
            "    (layers): ModuleList(\n",
            "      (0-31): 32 x Phi3DecoderLayer(\n",
            "        (self_attn): Phi3Attention(\n",
            "          (o_proj): Linear(in_features=3072, out_features=3072, bias=False)\n",
            "          (qkv_proj): Linear(in_features=3072, out_features=9216, bias=False)\n",
            "        )\n",
            "        (mlp): Phi3MLP(\n",
            "          (gate_up_proj): Linear(in_features=3072, out_features=16384, bias=False)\n",
            "          (down_proj): Linear(in_features=8192, out_features=3072, bias=False)\n",
            "          (activation_fn): SiLU()\n",
            "        )\n",
            "        (input_layernorm): Phi3RMSNorm((3072,), eps=1e-05)\n",
            "        (post_attention_layernorm): Phi3RMSNorm((3072,), eps=1e-05)\n",
            "        (resid_attn_dropout): Dropout(p=0.0, inplace=False)\n",
            "        (resid_mlp_dropout): Dropout(p=0.0, inplace=False)\n",
            "      )\n",
            "    )\n",
            "    (norm): Phi3RMSNorm((3072,), eps=1e-05)\n",
            "    (rotary_emb): Phi3RotaryEmbedding()\n",
            "  )\n",
            "  (lm_head): Linear(in_features=3072, out_features=32064, bias=False)\n",
            ")\n"
          ]
        }
      ],
      "source": ["print(model)"]
    },
    {
      "cell_type": "markdown",
      "metadata": {
        "id": "RTrwzB67BYVY"
      },
      "source": [
        "# Choosing a single token from the probability distribution (sampling / decoding)"
      ]
    },
    {
      "cell_type": "code",
      "execution_count": 47,
      "metadata": {
        "id": "sEcxYgJxBYbJ"
      },
      "outputs": [],
      "source": [
        "prompt = \"The capital of France is\"\n",
        "\n",
        "# Tokenize the input prompt\n",
        "input_ids = tokenizer(prompt, return_tensors=\"pt\").input_ids\n",
        "\n",
        "# Tokenize the input prompt\n",
        "input_ids = input_ids.to(\"cuda\")\n",
        "\n",
        "# Get the output of the model before the lm_head\n",
        "model_output = model.model(input_ids)\n",
        "\n",
        "# Get the output of the lm_head\n",
        "lm_head_output = model.lm_head(model_output[0])"
      ]
    },
    {
      "cell_type": "code",
      "execution_count": 48,
      "metadata": {
        "colab": {
          "base_uri": "https://localhost:8080/",
          "height": 35
        },
        "id": "68YUSS4GBf9Q",
        "outputId": "befd80ef-0e19-489c-d849-f2308c45c67a"
      },
      "outputs": [
        {
          "data": {
            "application/vnd.google.colaboratory.intrinsic+json": {
              "type": "string"
            },
            "text/plain": ["'Paris'"]
          },
          "execution_count": 48,
          "metadata": {},
          "output_type": "execute_result"
        }
      ],
      "source": [
        "token_id = lm_head_output[0,-1].argmax(-1)\n",
        "tokenizer.decode(token_id)"
      ]
    },
    {
      "cell_type": "code",
      "execution_count": 49,
      "metadata": {
        "colab": {
          "base_uri": "https://localhost:8080/"
        },
        "id": "cWWrfC5oBjwp",
        "outputId": "de838e28-7b35-42ee-e828-7c4266bf0185"
      },
      "outputs": [
        {
          "data": {
            "text/plain": ["torch.Size([1, 5, 3072])"]
          },
          "execution_count": 49,
          "metadata": {},
          "output_type": "execute_result"
        }
      ],
      "source": ["model_output[0].shape"]
    },
    {
      "cell_type": "code",
      "execution_count": 50,
      "metadata": {
        "colab": {
          "base_uri": "https://localhost:8080/"
        },
        "id": "nC1PdOnTBnxZ",
        "outputId": "ab3cb1e8-1bab-476e-c170-00c16ca62096"
      },
      "outputs": [
        {
          "data": {
            "text/plain": ["torch.Size([1, 5, 32064])"]
          },
          "execution_count": 50,
          "metadata": {},
          "output_type": "execute_result"
        }
      ],
      "source": ["lm_head_output.shape"]
    },
    {
      "cell_type": "markdown",
      "metadata": {
        "id": "t0SFOiTqeZNM"
      },
      "source": [
        "## Deep Dive: Tracing the Forward Pass\n",
        "\n",
        "As explained in Chapter 3 (Figure 3-4), the forward pass flows through tokenizer → transformer blocks → LM head. Let's trace this path step by step."
      ]
    },
    {
      "cell_type": "code",
      "execution_count": 51,
      "metadata": {
        "id": "zALb9UG4e8mq"
      },
      "outputs": [],
      "source": [
        "import torch\n",
        "import torch.nn.functional as F\n",
        "import matplotlib.pyplot as plt\n",
        "import numpy as np\n",
        "import time"
      ]
    },
    {
      "cell_type": "code",
      "execution_count": 52,
      "metadata": {
        "colab": {
          "base_uri": "https://localhost:8080/"
        },
        "id": "nbC0sNoQedjh",
        "outputId": "23c5b00d-d6f2-4255-d858-b47fb16511a4"
      },
      "outputs": [
        {
          "name": "stdout",
          "output_type": "stream",
          "text": [
            "Step 1 - Embedding shape: torch.Size([1, 5, 3072])\n",
            "Step 2 - First block output shape: torch.Size([1, 5, 3072])\n",
            "Step 3 - All blocks output shape: torch.Size([1, 5, 3072])\n",
            "Step 4 - Logits shape: torch.Size([1, 5, 32064])\n",
            "\n",
            "Predicted next token: 'Washington'\n"
          ]
        }
      ],
      "source": [
        "# Complete working example - tracing the forward pass\n",
        "prompt = \"The capital of USA is\"\n",
        "input_ids = tokenizer(prompt, return_tensors=\"pt\").input_ids.to(\"cuda\")\n",
        "\n",
        "# Step 1: Embeddings\n",
        "embeddings = model.model.embed_tokens(input_ids)\n",
        "print(f\"Step 1 - Embedding shape: {embeddings.shape}\")\n",
        "\n",
        "# Step 2: Pass through the full model (which handles position embeddings internally)\n",
        "with torch.no_grad():\n",
        "    # Get the hidden states from all layers\n",
        "    outputs = model(input_ids, output_hidden_states=True)\n",
        "\n",
        "    # First transformer block output (after first layer)\n",
        "    first_block_output = outputs.hidden_states[1]  # Index 0 is embeddings, 1 is after first block\n",
        "    print(f\"Step 2 - First block output shape: {first_block_output.shape}\")\n",
        "\n",
        "    # All blocks output (final hidden state)\n",
        "    all_blocks_output = outputs.hidden_states[-1]\n",
        "    print(f\"Step 3 - All blocks output shape: {all_blocks_output.shape}\")\n",
        "\n",
        "    # Step 4: LM head for token probabilities (already computed in outputs)\n",
        "    logits = outputs.logits\n",
        "    print(f\"Step 4 - Logits shape: {logits.shape}\")\n",
        "\n",
        "# Get the predicted next token\n",
        "next_token_id = logits[0, -1].argmax()\n",
        "print(f\"\\nPredicted next token: '{tokenizer.decode(next_token_id)}'\")"
      ]
    },
    {
      "cell_type": "markdown",
      "metadata": {
        "id": "Of2_rP4QBqrZ"
      },
      "source": ["# Speeding up generation by caching keys and values\n"]
    },
    {
      "cell_type": "code",
      "execution_count": 53,
      "metadata": {
        "id": "B0n6JhNHBrin"
      },
      "outputs": [],
      "source": [
        "prompt = \"Write a very long email apologizing to Sarah for the tragic gardening mishap. Explain how it happened.\"\n",
        "\n",
        "# Tokenize the input prompt\n",
        "input_ids = tokenizer(prompt, return_tensors=\"pt\").input_ids\n",
        "input_ids = input_ids.to(\"cuda\")"
      ]
    },
    {
      "cell_type": "code",
      "execution_count": 54,
      "metadata": {
        "colab": {
          "base_uri": "https://localhost:8080/"
        },
        "id": "BwIvt6jSByAF",
        "outputId": "93992ce2-f0d7-4921-85b4-a7a32703645f"
      },
      "outputs": [
        {
          "name": "stdout",
          "output_type": "stream",
          "text": [
            "4.98 s ± 666 ms per loop (mean ± std. dev. of 7 runs, 1 loop each)\n"
          ]
        }
      ],
      "source": [
        "%%timeit -n 1\n",
        "# Generate the text\n",
        "generation_output = model.generate(\n",
        "  input_ids=input_ids,\n",
        "  max_new_tokens=100,\n",
        "  use_cache=True\n",
        ")"
      ]
    },
    {
      "cell_type": "code",
      "execution_count": 55,
      "metadata": {
        "colab": {
          "base_uri": "https://localhost:8080/"
        },
        "id": "dFb1dcvJByCW",
        "outputId": "616be068-a094-4893-953b-c52a0d28ac5d"
      },
      "outputs": [
        {
          "name": "stdout",
          "output_type": "stream",
          "text": [
            "31.2 s ± 138 ms per loop (mean ± std. dev. of 7 runs, 1 loop each)\n"
          ]
        }
      ],
      "source": [
        "%%timeit -n 1\n",
        "# Generate the text\n",
        "generation_output = model.generate(\n",
        "  input_ids=input_ids,\n",
        "  max_new_tokens=100,\n",
        "  use_cache=False\n",
        ")"
      ]
    },
    {
      "cell_type": "markdown",
      "metadata": {
        "id": "NxMNQOOKfneX"
      },
      "source": [
        "# Your Turn\n",
        "Now let's apply what we learned from Chapter 3 with practical experiments. Each task has a working example you can run, followed by an exercise where you modify the code."
      ]
    },
    {
      "cell_type": "markdown",
      "metadata": {
        "id": "vdUvRgjBgC86"
      },
      "source": [
        "## Task 1: Vocabulary Exploration\n",
        "Recall from Chapter 3 Notes (page 8) that the LM head outputs probabilities for every token in the vocabulary."
      ]
    },
    {
      "cell_type": "code",
      "execution_count": 56,
      "metadata": {
        "colab": {
          "base_uri": "https://localhost:8080/"
        },
        "id": "NCpXUWe7yEnf",
        "outputId": "d8c2f24d-0de8-4e11-fbdf-a3cb97115fe3"
      },
      "outputs": [
        {
          "name": "stdout",
          "output_type": "stream",
          "text": [
            "Top 10 predictions after 'The weather today is':\n",
            "\n",
            " 1. 'so             ': 17.77%\n",
            " 2. 'quite          ': 13.87%\n",
            " 3. 'absolutely     ':  8.40%\n",
            " 4. 'perfect        ':  8.40%\n",
            " 5. 'sun            ':  6.54%\n",
            " 6. 'beautiful      ':  5.10%\n",
            " 7. 'really         ':  2.40%\n",
            " 8. 'a              ':  2.40%\n",
            " 9. 'sc             ':  1.88%\n",
            "10. 'warm           ':  1.88%\n"
          ]
        }
      ],
      "source": [
        "# EXAMPLE: See the top 10 most probable next tokens\n",
        "prompt = \"The weather today is\"\n",
        "input_ids = tokenizer(prompt, return_tensors=\"pt\").input_ids.to(\"cuda\")\n",
        "\n",
        "# Get model output\n",
        "model_output = model.model(input_ids)\n",
        "lm_head_output = model.lm_head(model_output[0])\n",
        "\n",
        "# Get probabilities using softmax\n",
        "import torch.nn.functional as F\n",
        "probabilities = F.softmax(lm_head_output[0, -1], dim=-1)\n",
        "\n",
        "# Get top 10 tokens\n",
        "top_probs, top_indices = torch.topk(probabilities, 10)\n",
        "\n",
        "print(f\"Top 10 predictions after '{prompt}':\\n\")\n",
        "for i in range(10):\n",
        "    token = tokenizer.decode(top_indices[i])\n",
        "    prob = top_probs[i].item()\n",
        "    print(f\"{i+1:2d}. '{token:15s}': {prob:6.2%}\")"
      ]
    },
    {
      "cell_type": "code",
      "execution_count": 57,
      "metadata": {
        "colab": {
          "base_uri": "https://localhost:8080/"
        },
        "id": "MdSyl5IoyZTm",
        "outputId": "ddb3347c-8b8c-434e-afe0-08591ad898cb"
      },
      "outputs": [
        {
          "name": "stdout",
          "output_type": "stream",
          "text": [
            "Your predictions for 'The best programming language is':\n",
            "\n",
            "1. 'subject': 31.25%\n",
            "2. 'one': 14.75%\n",
            "3. 'a': 14.75%\n",
            "4. 'the': 8.94%\n",
            "5. 'often': 5.42%\n",
            "6. 'not': 2.56%\n",
            "7. 'Python': 2.56%\n",
            "8. 'highly': 1.56%\n",
            "9. 'always': 0.95%\n",
            "10. 'context': 0.95%\n"
          ]
        }
      ],
      "source": [
        "# YOUR TURN - Task 1: Try different prompts and compare the predictions\n",
        "# Modify the prompt below and see how predictions change\n",
        "\n",
        "# TODO: Change this prompt to something else\n",
        "your_prompt = \"The best programming language is\"  # <-- MODIFY THIS\n",
        "\n",
        "input_ids = tokenizer(your_prompt, return_tensors=\"pt\").input_ids.to(\"cuda\")\n",
        "\n",
        "# TODO: Complete the code to get top 5 predictions instead of 10\n",
        "model_output = model.model(input_ids)\n",
        "lm_head_output = model.lm_head(model_output[0])\n",
        "probabilities = F.softmax(lm_head_output[0, -1], dim=-1)\n",
        "\n",
        "# TODO: Change this to get top 5\n",
        "top_probs, top_indices = torch.topk(probabilities, 10)  # <-- CHANGE TO 5\n",
        "\n",
        "print(f\"Your predictions for '{your_prompt}':\\n\")\n",
        "# TODO: Modify the loop to show only top 5\n",
        "for i in range(10):  # <-- CHANGE THIS TOO\n",
        "    token = tokenizer.decode(top_indices[i])\n",
        "    prob = top_probs[i].item()\n",
        "    print(f\"{i+1}. '{token}': {prob:.2%}\")"
      ]
    },
    {
      "cell_type": "markdown",
      "metadata": {
        "id": "0YUsaG3WzUCD"
      },
      "source": [
        "### Reflection Questions - Task 1\n",
        "\n",
        "Q1) Why does the model assign different probabilities to each token in its vocabulary? How does this relate to the training process described in Chapter 3?\n",
        "\n",
        "--\n",
        "\n",
        "Q2) When you changed the prompt, did certain types of words (nouns, verbs, articles) consistently get higher probabilities? What might this tell you about the model's training data?\n",
        "\n",
        "--\n",
        "\n",
        "Q3) The model predicts \"Paris\" after \"The capital of France is\". Where is this specific knowledge stored in the transformer architecture? (Hint: Think about Chapter 3's discussion of feedforward networks vs attention layers)\n",
        "\n",
        "--\n",
        "\n",
        "Q4) If you wanted the model to predict less common completions (like \"Lyon\" instead of \"Paris\"), which generation parameter would you adjust and why?"
      ]
    },
    {
      "cell_type": "markdown",
      "metadata": {
        "id": "3iGSLh3FygCD"
      },
      "source": [
        "## Task 2: Layer-by-Layer Information Processing\n",
        "Chapter 3 explained how information flows through transformer layers. Let's see how the model's predictions evolve as data passes through each layer."
      ]
    },
    {
      "cell_type": "code",
      "execution_count": 58,
      "metadata": {
        "colab": {
          "base_uri": "https://localhost:8080/"
        },
        "id": "-DTiAbl7yeRw",
        "outputId": "8ff54f08-135e-4e5e-e8c4-64aa5a3a13fe"
      },
      "outputs": [
        {
          "name": "stdout",
          "output_type": "stream",
          "text": [
            "Number of layers (including embedding): 33\n",
            "Shape of each hidden state: torch.Size([1, 5, 3072])\n",
            "\n",
            "Embedding predictions:\n",
            "  1. 'hed': 0.01%\n",
            "  2. 'already': 0.00%\n",
            "  3. 'omer': 0.00%\n",
            "  4. 'nt': 0.00%\n",
            "  5. 'indeed': 0.00%\n",
            "\n",
            "Layer 8 predictions:\n",
            "  1. 'přek': 0.39%\n",
            "  2. '﻿': 0.39%\n",
            "  3. ' ': 0.36%\n",
            "  4. 'often': 0.28%\n",
            "  5. 'phantom': 0.23%\n",
            "\n",
            "Layer 16 predictions:\n",
            "  1. 'indeed': 29.88%\n",
            "  2. 'remark': 9.72%\n",
            "  3. '﻿': 6.30%\n",
            "  4. 'remarkable': 4.88%\n",
            "': 4.88%\n",
            "\n",
            "Layer 24 predictions:\n",
            "  1. 'Paris': 100.00%\n",
            "  2. 'París': 0.00%\n",
            "  3. 'France': 0.00%\n",
            "  4. 'capital': 0.00%\n",
            "  5. '_': 0.00%\n",
            "\n",
            "Layer 32 predictions:\n",
            "  1. 'Paris': 87.89%\n",
            "  2. '_': 2.65%\n",
            "  3. 'not': 1.25%\n",
            "  4. '...': 0.76%\n",
            "  5. '\n",
            "': 0.59%\n",
            "\n",
            "Notice how predictions become more confident and accurate in later layers!\n"
          ]
        }
      ],
      "source": [
        "# EXAMPLE: See how predictions change through the layers\n",
        "prompt = \"The capital of France is\"\n",
        "input_ids = tokenizer(prompt, return_tensors=\"pt\").input_ids.to(\"cuda\")\n",
        "\n",
        "# Get hidden states from all layers\n",
        "with torch.no_grad():\n",
        "    outputs = model(input_ids, output_hidden_states=True)\n",
        "    all_hidden_states = outputs.hidden_states  # Tuple of hidden states from each layer\n",
        "\n",
        "print(f\"Number of layers (including embedding): {len(all_hidden_states)}\")\n",
        "print(f\"Shape of each hidden state: {all_hidden_states[0].shape}\\n\")\n",
        "\n",
        "# Check predictions at different layers\n",
        "layers_to_check = [0, 8, 16, 24, 32]  # Embedding, early, middle, late, final\n",
        "\n",
        "for layer_idx in layers_to_check:\n",
        "    if layer_idx < len(all_hidden_states):\n",
        "        hidden_state = all_hidden_states[layer_idx]\n",
        "\n",
        "        # Apply LM head to this layer's output\n",
        "        logits = model.lm_head(hidden_state)\n",
        "        probs = F.softmax(logits[0, -1], dim=-1)\n",
        "\n",
        "        # Get top 5 predictions\n",
        "        top_probs, top_indices = torch.topk(probs, 5)\n",
        "\n",
        "        layer_name = \"Embedding\" if layer_idx == 0 else f\"Layer {layer_idx}\"\n",
        "        print(f\"{layer_name} predictions:\")\n",
        "        for i in range(5):\n",
        "            token = tokenizer.decode(top_indices[i])\n",
        "            prob = top_probs[i].item()\n",
        "            print(f\"  {i+1}. '{token}': {prob:.2%}\")\n",
        "        print()\n",
        "\n",
        "print(\"Notice how predictions become more confident and accurate in later layers!\")"
      ]
    },
    {
      "cell_type": "code",
      "execution_count": 59,
      "metadata": {
        "colab": {
          "base_uri": "https://localhost:8080/",
          "height": 495
        },
        "id": "TKGU11_qyjUL",
        "outputId": "1632f3b8-582e-4769-9a92-2c412b3c554a"
      },
      "outputs": [
        {
          "data": {
            "image/png": "[encoded data removed]",
            "text/plain": ["<Figure size 1200x400 with 3 Axes>"]
          },
          "metadata": {},
          "output_type": "display_data"
        },
        {
          "name": "stdout",
          "output_type": "stream",
          "text": [
            "\n",
            "Tracking candidates for: 'The best programming language is'\n",
            "Python      : Early=0.00%, Middle=0.00%, Final=2.56%\n",
            "JavaScript  : Early=0.00%, Middle=0.00%, Final=0.16%\n",
            "Java        : Early=0.00%, Middle=0.00%, Final=0.21%\n",
            "C++         : Early=0.00%, Middle=0.00%, Final=0.08%\n"
          ]
        }
      ],
      "source": [
        "# YOUR TURN - Task 2: Track how specific predictions evolve\n",
        "# Explore how the model gradually builds up to its final answer\n",
        "\n",
        "def track_token_probability(prompt, target_token, layers_to_plot=None):\n",
        "    \"\"\"\n",
        "    Track how the probability of a specific token changes through layers\n",
        "    \"\"\"\n",
        "    input_ids = tokenizer(prompt, return_tensors=\"pt\").input_ids.to(\"cuda\")\n",
        "\n",
        "    # Get the token ID for the target\n",
        "    target_id = tokenizer.encode(target_token, add_special_tokens=False)[0]\n",
        "\n",
        "    with torch.no_grad():\n",
        "        outputs = model(input_ids, output_hidden_states=True)\n",
        "        hidden_states = outputs.hidden_states\n",
        "\n",
        "    # TODO: Calculate probability at each layer\n",
        "    probabilities = []\n",
        "    for hidden_state in hidden_states:\n",
        "        # YOUR CODE: Apply LM head and softmax\n",
        "        logits = model.lm_head(hidden_state)\n",
        "        probs = F.softmax(logits[0, -1], dim=-1)  # <-- Complete this\n",
        "\n",
        "        # YOUR CODE: Extract probability for target token\n",
        "        target_prob = probs[target_id].item()  # <-- Complete this\n",
        "        probabilities.append(target_prob)\n",
        "\n",
        "    return probabilities\n",
        "\n",
        "# TODO: Try different prompts and target tokens\n",
        "test_cases = [\n",
        "    (\"The capital of France is\", \"Paris\"),\n",
        "    (\"The opposite of hot is\", \"cold\"),\n",
        "    (\"Two plus two equals\", \"four\"),\n",
        "]\n",
        "\n",
        "# Visualize how probabilities evolve\n",
        "plt.figure(figsize=(12, 4))\n",
        "\n",
        "for idx, (prompt, target) in enumerate(test_cases, 1):\n",
        "    plt.subplot(1, 3, idx)\n",
        "\n",
        "    # TODO: Get probabilities through layers\n",
        "    probs = track_token_probability(prompt, target)\n",
        "\n",
        "    plt.plot(probs, marker='o', markersize=3)\n",
        "    plt.xlabel('Layer')\n",
        "    plt.ylabel(f'P(\"{target}\")')\n",
        "    plt.title(f'\"{prompt}...\"')\n",
        "    plt.grid(True, alpha=0.3)\n",
        "\n",
        "    # TODO: Add annotation for final probability\n",
        "    final_prob = probs[-1]  # <-- Get final probability\n",
        "    plt.annotate(f'Final: {final_prob:.2%}',\n",
        "                xy=(len(probs)-1, final_prob),\n",
        "                xytext=(len(probs)-5, final_prob),\n",
        "                arrowprops=dict(arrowstyle='->', alpha=0.5))\n",
        "\n",
        "plt.tight_layout()\n",
        "plt.show()\n",
        "\n",
        "# TODO: Experiment with ambiguous prompts\n",
        "ambiguous_prompt = \"The best programming language is\"  # <-- MODIFY THIS\n",
        "candidates = [\"Python\", \"JavaScript\", \"Java\", \"C++\"]  # <-- MODIFY THESE\n",
        "\n",
        "print(f\"\\nTracking candidates for: '{ambiguous_prompt}'\")\n",
        "for candidate in candidates:\n",
        "    probs = track_token_probability(ambiguous_prompt, candidate)\n",
        "    print(f\"{candidate:12s}: Early={probs[5]:.2%}, Middle={probs[16]:.2%}, Final={probs[-1]:.2%}\")"
      ]
    },
    {
      "cell_type": "markdown",
      "metadata": {
        "id": "ttGTJS9KzY_k"
      },
      "source": [
        "### Reflection Questions - Task 2\n",
        "\n",
        "Q1) Why do predictions often become more confident (higher probability for top choice) in later layers? What are the early layers learning versus the later layers?\n",
        "\n",
        "--\n",
        "\n",
        "Q2) For factual prompts like \"The capital of France is\", at which layer does \"Paris\" become the top prediction? What might this tell you about where factual knowledge is processed?\n",
        "\n",
        "--\n",
        "\n",
        "Q3) When tracking ambiguous completions (like \"best programming language\"), do all candidates' probabilities change smoothly through layers, or are there sudden jumps? What might cause these jumps?\n",
        "\n",
        "--\n",
        "\n",
        "Q4) The embedding layer (layer 0) often has very different predictions than even layer 1. Why might this be, considering that embeddings haven't gone through any transformer blocks yet?\n",
        "\n",
        "--\n",
        "\n",
        "Q5) If you wanted to extract the model's \"uncertainty\" about a prediction, which layer's output would be most informative and why?"
      ]
    },
    {
      "cell_type": "markdown",
      "metadata": {
        "id": "bNb7ob0Tyq88"
      },
      "source": [
        "## Task 3: Temperature Effects\n",
        "As discussed in Chapter 3 (page 7), temperature controls randomness in token selection."
      ]
    },
    {
      "cell_type": "code",
      "execution_count": 60,
      "metadata": {
        "colab": {
          "base_uri": "https://localhost:8080/"
        },
        "id": "3aXRB8V7ymfc",
        "outputId": "b3da2d34-7459-42ea-ffc3-20460526108c"
      },
      "outputs": [
        {
          "name": "stdout",
          "output_type": "stream",
          "text": [
            "Same prompt, different temperatures:\n",
            "\n",
            "Temp 0.1: , , , , ,\n",
            "Temp 0.5: in in , , ,\n",
            "Temp 1.0: , , , , in\n",
            "Temp 2.0: in , , … in\n"
          ]
        }
      ],
      "source": [
        "# EXAMPLE: See how temperature affects generation\n",
        "import torch\n",
        "\n",
        "prompt = \"Once upon a time\"\n",
        "input_ids = tokenizer(prompt, return_tensors=\"pt\").input_ids.to(\"cuda\")\n",
        "\n",
        "# Function to sample with temperature\n",
        "def sample_with_temperature(logits, temperature):\n",
        "    scaled_logits = logits / temperature\n",
        "    probs = F.softmax(scaled_logits, dim=-1)\n",
        "    return torch.multinomial(probs, 1)\n",
        "\n",
        "with torch.no_grad():\n",
        "    outputs = model(input_ids)\n",
        "    logits = outputs.logits[0, -1, :]\n",
        "\n",
        "print(\"Same prompt, different temperatures:\\n\")\n",
        "for temp in [0.1, 0.5, 1.0, 2.0]:\n",
        "    sampled_tokens = []\n",
        "    for _ in range(5):\n",
        "        token_id = sample_with_temperature(logits, temp)\n",
        "        sampled_tokens.append(tokenizer.decode(token_id))\n",
        "    print(f\"Temp {temp:3.1f}: {' '.join(sampled_tokens)}\")"
      ]
    },
    {
      "cell_type": "code",
      "execution_count": 61,
      "metadata": {
        "colab": {
          "base_uri": "https://localhost:8080/"
        },
        "id": "3ZkpfWrUyt-n",
        "outputId": "1674e0b8-2790-49da-9f7b-a14287e103a7"
      },
      "outputs": [
        {
          "name": "stdout",
          "output_type": "stream",
          "text": [
            "Low temperature (0.3) - More focused:\n",
            "The secret to happiness is simple but often overlooked.\n",
            "\n",
            "I'm sorry, but it seems that there was\n",
            "\n",
            "Medium temperature (0.8) - Balanced:\n",
            "\n",
            "High temperature (1.5) - More creative:\n"
          ]
        }
      ],
      "source": [
        "# YOUR TURN - Task 3: Generate full sentences with different temperatures\n",
        "# This implements the concept from Chapter 3 about sampling strategies\n",
        "\n",
        "def generate_with_temperature(prompt, temperature, length=20):\n",
        "    \"\"\"Generate text with specified temperature\"\"\"\n",
        "    input_ids = tokenizer(prompt, return_tensors=\"pt\").input_ids.to(\"cuda\")\n",
        "    generated = input_ids[0].tolist()\n",
        "\n",
        "    for _ in range(length):\n",
        "        with torch.no_grad():\n",
        "            outputs = model(torch.tensor([generated]).to(\"cuda\"))\n",
        "            logits = outputs.logits[0, -1, :]\n",
        "\n",
        "            # TODO: Apply temperature scaling here\n",
        "            if temperature > 0:\n",
        "                scaled_logits = logits  # <-- MODIFY: Divide by temperature\n",
        "            else:\n",
        "                # For temperature=0, use greedy decoding\n",
        "                next_token = logits.argmax()\n",
        "                generated.append(next_token.item())\n",
        "                continue\n",
        "\n",
        "            # TODO: Get probabilities and sample\n",
        "            probs = F.softmax(scaled_logits, dim=-1)\n",
        "            next_token = torch.multinomial(probs, 1)\n",
        "            generated.append(next_token.item())\n",
        "\n",
        "    return tokenizer.decode(generated)\n",
        "\n",
        "# TODO: Try your own prompt and temperatures\n",
        "your_prompt = \"The secret to happiness is\"  # <-- MODIFY THIS\n",
        "\n",
        "print(\"Low temperature (0.3) - More focused:\")\n",
        "print(generate_with_temperature(your_prompt, 0.3))\n",
        "\n",
        "print(\"\\nMedium temperature (0.8) - Balanced:\")\n",
        "# TODO: Generate with temperature 0.8\n",
        "\n",
        "print(\"\\nHigh temperature (1.5) - More creative:\")\n",
        "# TODO: Generate with temperature 1.5"
      ]
    },
    {
      "cell_type": "markdown",
      "metadata": {
        "id": "sHre-TCEzc-X"
      },
      "source": [
        "### Reflection Questions - Task 3\n",
        "\n",
        "Q1) At temperature 0.1, why do you often see the same token repeated multiple times? What mathematical operation causes this behavior?\n",
        "\n",
        "--\n",
        "\n",
        "Q2) High temperature sometimes produces nonsensical tokens. Explain why this happens in terms of the probability distribution discussed in Chapter 3.\n",
        "\n",
        "--\n",
        "\n",
        "Q3) For creative writing, would you use high or low temperature? For factual question answering? Justify your choices based on what temperature does to the distribution.\n",
        "\n",
        "--\n",
        "\n",
        "Q4) Temperature 0 gives deterministic output (always the same). Why might this still produce different results for slightly different prompts?\n",
        "\n",
        "--\n",
        "\n",
        "Q5) Could you achieve similar effects to temperature by modifying the top-k or top-p parameters instead? What would be the difference?|"
      ]
    },
    {
      "cell_type": "markdown",
      "metadata": {
        "id": "szm7ioRayxr4"
      },
      "source": [
        "## Task 4: KV Cache Performance\n",
        "Chapter 3 (Figure 3-10) explained how caching speeds up generation. Let's measure it."
      ]
    },
    {
      "cell_type": "code",
      "execution_count": 62,
      "metadata": {
        "colab": {
          "base_uri": "https://localhost:8080/"
        },
        "id": "hvzgc6sLyvxr",
        "outputId": "344d9bb4-71f1-4fb3-d1c0-c0256a36205c"
      },
      "outputs": [
        {
          "name": "stdout",
          "output_type": "stream",
          "text": [
            "With cache: 1.39s\n",
            "Without cache: 5.97s\n",
            "Speedup: 4.3x\n",
            "\n",
            "Generated text:\n",
            "The history of artificial intelligence began in the 1950s with the creation of the first AI programs. These early programs were designed to mimic human intelligence and\n"
          ]
        }
      ],
      "source": [
        "# EXAMPLE: Measure cache impact\n",
        "import time\n",
        "\n",
        "prompt = \"The history of artificial intelligence began\"\n",
        "input_ids = tokenizer(prompt, return_tensors=\"pt\").input_ids.to(\"cuda\")\n",
        "\n",
        "# With cache\n",
        "start = time.time()\n",
        "with torch.no_grad():\n",
        "    output_cache = model.generate(input_ids, max_new_tokens=30, use_cache=True, do_sample=False)\n",
        "cache_time = time.time() - start\n",
        "\n",
        "# Without cache\n",
        "start = time.time()\n",
        "with torch.no_grad():\n",
        "    output_no_cache = model.generate(input_ids, max_new_tokens=30, use_cache=False, do_sample=False)\n",
        "no_cache_time = time.time() - start\n",
        "\n",
        "print(f\"With cache: {cache_time:.2f}s\")\n",
        "print(f\"Without cache: {no_cache_time:.2f}s\")\n",
        "print(f\"Speedup: {no_cache_time/cache_time:.1f}x\\n\")\n",
        "print(\"Generated text:\")\n",
        "print(tokenizer.decode(output_cache[0], skip_special_tokens=True))"
      ]
    },
    {
      "cell_type": "code",
      "execution_count": 63,
      "metadata": {
        "colab": {
          "base_uri": "https://localhost:8080/"
        },
        "id": "rLT8bVIAy0ql",
        "outputId": "f96a49be-648d-4d20-c46c-6d4df02e8674"
      },
      "outputs": [
        {
          "name": "stdout",
          "output_type": "stream",
          "text": [
            "Length  10: Cache=0.70s, No-cache=1.95s, Speedup=0.0x\n",
            "Length  25: Cache=1.20s, No-cache=4.95s, Speedup=0.0x\n",
            "Length  50: Cache=2.21s, No-cache=10.24s, Speedup=0.0x\n"
          ]
        }
      ],
      "source": [
        "# YOUR TURN - Task 4: Test cache efficiency with different sequence lengths\n",
        "# This demonstrates the importance of KV cache from Chapter 3\n",
        "\n",
        "def measure_generation_time(prompt, num_tokens, use_cache):\n",
        "    \"\"\"Measure generation time with or without cache\"\"\"\n",
        "    input_ids = tokenizer(prompt, return_tensors=\"pt\").input_ids.to(\"cuda\")\n",
        "\n",
        "    start = time.time()\n",
        "    with torch.no_grad():\n",
        "        output = model.generate(\n",
        "            input_ids,\n",
        "            max_new_tokens=num_tokens,\n",
        "            use_cache=use_cache,\n",
        "            do_sample=False\n",
        "        )\n",
        "    elapsed = time.time() - start\n",
        "\n",
        "    return elapsed, output\n",
        "\n",
        "# TODO: Test with different sequence lengths\n",
        "test_lengths = [10, 25, 50]  # <-- MODIFY: Try adding 75 or 100\n",
        "\n",
        "your_prompt = \"In the future, robots will\"  # <-- MODIFY: Try your own prompt\n",
        "\n",
        "for length in test_lengths:\n",
        "    # TODO: Complete the measurements\n",
        "    cache_time, output_with = measure_generation_time(your_prompt, length, True)\n",
        "    no_cache_time, _ = measure_generation_time(your_prompt, length, False)\n",
        "\n",
        "    # TODO: Calculate and print speedup\n",
        "    speedup = 0  # <-- CALCULATE: no_cache_time / cache_time\n",
        "\n",
        "    print(f\"Length {length:3d}: Cache={cache_time:.2f}s, No-cache={no_cache_time:.2f}s, Speedup={speedup:.1f}x\")"
      ]
    },
    {
      "cell_type": "markdown",
      "metadata": {
        "id": "ICoQxHKBzgCR"
      },
      "source": [
        "### Reflection Questions - Task 4\n",
        "\n",
        "Q1) Why does the speedup from caching increase with longer sequences? Think about what computations are being saved at each token generation step.\n",
        "\n",
        "--\n",
        "\n",
        "Q2) The cache stores K and V matrices but not Q. Based on Chapter 3's explanation of attention, why is caching Q unnecessary?\n",
        "\n",
        "--\n",
        "\n",
        "Q3) If a model has 32 layers and generates 100 tokens, how many K matrices are stored in the cache by the end? How many attention computations were avoided?\n",
        "\n",
        "--\n",
        "\n",
        "Q4) What would happen to the cache if we wanted to \"edit\" a token in the middle of an already-generated sequence? Why might this be problematic?\n",
        "\n",
        "--\n",
        "\n",
        "Q5) Given that caching increases memory usage, when might you choose to disable it despite the speed penalty?"
      ]
    },
    {
      "cell_type": "markdown",
      "metadata": {
        "id": "ddayLBrdy7Ln"
      },
      "source": [
        "## Task 5: Complete Generation Pipeline\n",
        "Combining all concepts from Chapter 3, let's build our own generation function."
      ]
    },
    {
      "cell_type": "code",
      "execution_count": 64,
      "metadata": {
        "colab": {
          "base_uri": "https://localhost:8080/",
          "height": 230
        },
        "id": "RgG_4m7ry44k",
        "outputId": "0958462f-c6bf-4352-86f1-7202b089b985"
      },
      "outputs": [
        {
          "name": "stdout",
          "output_type": "stream",
          "text": [
            "Generating from: 'The meaning of life is'\n",
            "\n",
            "Step 1: Generated 'to' (prob: 26.56%)\n",
            "Step 2: Generated 'find' (prob: 31.45%)\n",
            "Step 3: Generated 'our' (prob: 2.44%)\n",
            "\n",
            "Final: The meaning of life is to find our place in the world.\n",
            "\n",
            "## ask:\n",
            "\n",
            "\n"
          ]
        },
        {
          "data": {
            "application/vnd.google.colaboratory.intrinsic+json": {
              "type": "string"
            },
            "text/plain": [
              "'The meaning of life is to find our place in the world.\\n\\n## ask:\\n\\n'"
            ]
          },
          "execution_count": 64,
          "metadata": {},
          "output_type": "execute_result"
        }
      ],
      "source": [
        "# EXAMPLE: Complete custom generation with all concepts\n",
        "def custom_generate_demo(prompt, max_tokens=15, temperature=0.8):\n",
        "    \"\"\"\n",
        "    Demonstrates all concepts from Chapter 3:\n",
        "    - Forward pass\n",
        "    - KV caching\n",
        "    - Temperature sampling\n",
        "    \"\"\"\n",
        "    input_ids = tokenizer(prompt, return_tensors=\"pt\").input_ids.to(\"cuda\")\n",
        "    generated_ids = input_ids[0].tolist()\n",
        "    past_key_values = None\n",
        "\n",
        "    print(f\"Generating from: '{prompt}'\\n\")\n",
        "\n",
        "    for step in range(max_tokens):\n",
        "        with torch.no_grad():\n",
        "            # Use cache after first iteration\n",
        "            if past_key_values:\n",
        "                input_tensor = torch.tensor([generated_ids[-1:]]).to(\"cuda\")\n",
        "            else:\n",
        "                input_tensor = torch.tensor([generated_ids]).to(\"cuda\")\n",
        "\n",
        "            outputs = model(\n",
        "                input_ids=input_tensor,\n",
        "                past_key_values=past_key_values,\n",
        "                use_cache=True\n",
        "            )\n",
        "\n",
        "            logits = outputs.logits[0, -1, :]\n",
        "\n",
        "            # Apply temperature\n",
        "            scaled_logits = logits / temperature\n",
        "            probs = F.softmax(scaled_logits, dim=-1)\n",
        "\n",
        "            # Sample\n",
        "            next_token_id = torch.multinomial(probs, 1).item()\n",
        "            generated_ids.append(next_token_id)\n",
        "\n",
        "            # Update cache\n",
        "            past_key_values = outputs.past_key_values\n",
        "\n",
        "            # Show progress for first 3 tokens\n",
        "            if step < 3:\n",
        "                token = tokenizer.decode(next_token_id)\n",
        "                top_prob = probs[next_token_id].item()\n",
        "                print(f\"Step {step+1}: Generated '{token}' (prob: {top_prob:.2%})\")\n",
        "\n",
        "    result = tokenizer.decode(generated_ids, skip_special_tokens=True)\n",
        "    print(f\"\\nFinal: {result}\")\n",
        "    return result\n",
        "\n",
        "# Run the demo\n",
        "custom_generate_demo(\"The meaning of life is\", max_tokens=15, temperature=0.8)"
      ]
    },
    {
      "cell_type": "code",
      "execution_count": 65,
      "metadata": {
        "colab": {
          "base_uri": "https://localhost:8080/"
        },
        "id": "Je8PUaK9y9lK",
        "outputId": "3df80bbb-987e-4b8e-bc02-a49d1fab8745"
      },
      "outputs": [
        {
          "name": "stdout",
          "output_type": "stream",
          "text": [
            "Step 1 alternatives:\n",
            "  1. 'has': 21.29%\n",
            "  2. 'is': 12.89%\n",
            "  3. 'and': 12.89%\n",
            "Step 2 alternatives:\n",
            "  1. 'you': 30.08%\n",
            "  2. 'me': 23.44%\n",
            "  3. 'myself': 6.69%\n",
            "Step 3 alternatives:\n",
            "  1. 'are': 35.35%\n",
            "  2. 'is': 12.99%\n",
            "  3. 'can': 10.11%\n",
            "\n",
            "Generated: In a world where AI like you can predict with high accuracy your daily schedule based on your morning routine, the most efficient time you start working is determined solely by an A\n"
          ]
        }
      ],
      "source": [
        "# YOUR TURN - Task 5: Build an advanced generator with beam search concepts\n",
        "# This extends Chapter 3's concepts to more advanced generation\n",
        "\n",
        "def advanced_generate(prompt, max_tokens=20, temperature=1.0, top_k=50, show_alternatives=False):\n",
        "    \"\"\"\n",
        "    TODO: Complete this advanced generator that combines:\n",
        "    - KV caching (Chapter 3, page 11)\n",
        "    - Temperature sampling (Chapter 3, page 7)\n",
        "    - Top-k filtering for better quality\n",
        "    - Optional: Show alternative paths\n",
        "    \"\"\"\n",
        "    input_ids = tokenizer(prompt, return_tensors=\"pt\").input_ids.to(\"cuda\")\n",
        "    generated_ids = input_ids[0].tolist()\n",
        "    past_key_values = None\n",
        "\n",
        "    for step in range(max_tokens):\n",
        "        with torch.no_grad():\n",
        "            # TODO: Implement proper input handling with cache\n",
        "            if past_key_values:\n",
        "                input_tensor = torch.tensor([generated_ids[-1:]]).to(\"cuda\")  # <-- FIX: Use only last token\n",
        "            else:\n",
        "                input_tensor = torch.tensor([generated_ids]).to(\"cuda\")\n",
        "\n",
        "            outputs = model(\n",
        "                input_ids=input_tensor,\n",
        "                past_key_values=past_key_values,\n",
        "                use_cache=True\n",
        "            )\n",
        "\n",
        "            logits = outputs.logits[0, -1, :]\n",
        "\n",
        "            # TODO: Implement top-k filtering\n",
        "            # Keep only top k tokens, set others to -inf\n",
        "            if top_k > 0:\n",
        "                # YOUR CODE: Filter to keep only top-k logits\n",
        "                # Hint: Use torch.topk to get indices, then create a mask\n",
        "                top_k_values, top_k_indices = torch.topk(logits, top_k)\n",
        "                filtered_logits = torch.full_like(logits, float('-inf'))\n",
        "                filtered_logits[top_k_indices] = logits[top_k_indices]\n",
        "                logits = filtered_logits\n",
        "\n",
        "            # TODO: Apply temperature and get probabilities\n",
        "            scaled_logits = logits / temperature  # <-- MODIFY: Apply temperature\n",
        "            probs = F.softmax(scaled_logits, dim=-1)\n",
        "\n",
        "            # Show alternatives if requested\n",
        "            if show_alternatives and step < 3:\n",
        "                # TODO: Show top 3 alternatives\n",
        "                # YOUR CODE: Get top 3 tokens and their probabilities\n",
        "                top3_probs, top3_indices = torch.topk(probs, 3)\n",
        "                print(f\"Step {step+1} alternatives:\")\n",
        "                for i in range(3):\n",
        "                    token = tokenizer.decode(top3_indices[i])\n",
        "                    prob = top3_probs[i].item()\n",
        "                    print(f\"  {i+1}. '{token}': {prob:.2%}\")\n",
        "\n",
        "            # TODO: Sample next token\n",
        "            next_token_id = torch.multinomial(probs, 1).item()  # <-- FIX: Sample from distribution\n",
        "\n",
        "            generated_ids.append(next_token_id)\n",
        "            past_key_values = outputs.past_key_values\n",
        "\n",
        "            # Stop at EOS\n",
        "            if next_token_id == tokenizer.eos_token_id:\n",
        "                break\n",
        "\n",
        "    return tokenizer.decode(generated_ids, skip_special_tokens=True)\n",
        "\n",
        "# TODO: Test your advanced generator\n",
        "your_creative_prompt = \"In a world where AI\"  # <-- MODIFY\n",
        "\n",
        "result = advanced_generate(\n",
        "    your_creative_prompt,\n",
        "    max_tokens=30,\n",
        "    temperature=0.9,  # <-- TRY DIFFERENT VALUES\n",
        "    top_k=40,         # <-- TRY DIFFERENT VALUES\n",
        "    show_alternatives=True\n",
        ")\n",
        "\n",
        "print(f\"\\nGenerated: {result}\")"
      ]
    },
    {
      "cell_type": "markdown",
      "metadata": {
        "id": "AIqMc76gzjcp"
      },
      "source": [
        "### Reflection Questions - Task 5\n",
        "\n",
        "Q1) In your custom generation function, you only feed the last token after the first iteration. Why is this sufficient when using KV cache? What information allows the model to \"remember\" previous tokens?\n",
        "\n",
        "--\n",
        "\n",
        "Q2) How does the past_key_values object grow with each generated token? What is the relationship between cache size and sequence length?\n",
        "\n",
        "--\n",
        "\n",
        "Q3) If you wanted to implement beam search (keeping multiple generation paths), how would you need to modify the KV cache handling?\n",
        "\n",
        "--\n",
        "\n",
        "Q4) The generation loop stops at EOS (end-of-sequence) token. Where does the model learn when to output this token? How might this relate to the training data format?\n",
        "\n",
        "--\n",
        "\n",
        "Q5) Compare your custom generation with the built-in model.generate(). What additional features does the built-in method likely include that yours doesn't?"
      ]
    },
    {
      "cell_type": "markdown",
      "metadata": {
        "id": "ZLw4N8-OzDns"
      },
      "source": [
        "## Task 6 (Optional): Inside an Attention Head\n",
        "Let's dive deep into a single attention head to see exactly how the Query, Key, and Value matrices work - implementing the concepts from Chapter 3 (Figures 3-18 through 3-21)."
      ]
    },
    {
      "cell_type": "code",
      "execution_count": 66,
      "metadata": {
        "colab": {
          "base_uri": "https://localhost:8080/",
          "height": 743
        },
        "id": "imZxQ6o8y_4z",
        "outputId": "77f042df-658d-473a-b42f-fc89a89bbf65"
      },
      "outputs": [
        {
          "name": "stdout",
          "output_type": "stream",
          "text": [
            "Shapes after projection:\n",
            "  Query (Q): torch.Size([5, 96]) - What each token is looking for\n",
            "  Key (K):   torch.Size([5, 96]) - What each token offers\n",
            "  Value (V): torch.Size([5, 96]) - Information to be passed along\n",
            "\n",
            "Attention scores shape: torch.Size([5, 5])\n",
            "Attention output shape: torch.Size([5, 96])\n"
          ]
        },
        {
          "data": {
            "image/png": "[encoded data removed]",
            "text/plain": ["<Figure size 600x500 with 2 Axes>"]
          },
          "metadata": {},
          "output_type": "display_data"
        },
        {
          "name": "stdout",
          "output_type": "stream",
          "text": [
            "\n",
            "Strongest attention connections:\n",
            "'cat' → 'The' (50.39%)\n",
            "'lov' → 'lov' (34.18%)\n",
            "'es' → 'lov' (25.20%)\n",
            "'fish' → 'fish' (20.12%)\n"
          ]
        }
      ],
      "source": [
        "# EXAMPLE: Manually compute attention like a single attention head does\n",
        "import torch\n",
        "import torch.nn.functional as F\n",
        "import numpy as np\n",
        "\n",
        "# Step 1: Get hidden states from the model\n",
        "prompt = \"The cat loves fish\"\n",
        "input_ids = tokenizer(prompt, return_tensors=\"pt\").input_ids.to(\"cuda\")\n",
        "\n",
        "with torch.no_grad():\n",
        "    # Get hidden states before any transformer blocks\n",
        "    embeddings = model.model.embed_tokens(input_ids)\n",
        "\n",
        "    # Get the actual Q, K, V projection weights from first layer, first head\n",
        "    first_layer = model.model.layers[0]\n",
        "    qkv_proj = first_layer.self_attn.qkv_proj\n",
        "\n",
        "    # Project to Q, K, V (this is what happens inside the attention head)\n",
        "    qkv = qkv_proj(embeddings)  # Shape: [1, seq_len, 3 * hidden_size]\n",
        "\n",
        "    # Split into Q, K, V\n",
        "    hidden_size = model.config.hidden_size\n",
        "    num_heads = model.config.num_attention_heads\n",
        "    head_dim = hidden_size // num_heads\n",
        "\n",
        "    # Reshape for multi-head attention\n",
        "    batch_size, seq_len = input_ids.shape\n",
        "    qkv = qkv.reshape(batch_size, seq_len, 3, num_heads, head_dim)\n",
        "    qkv = qkv.permute(2, 0, 3, 1, 4)  # [3, batch, heads, seq_len, head_dim]\n",
        "\n",
        "    # Extract Q, K, V for first head only\n",
        "    q = qkv[0, 0, 0]  # Query for first head [seq_len, head_dim]\n",
        "    k = qkv[1, 0, 0]  # Key for first head\n",
        "    v = qkv[2, 0, 0]  # Value for first head\n",
        "\n",
        "    print(f\"Shapes after projection:\")\n",
        "    print(f\"  Query (Q): {q.shape} - What each token is looking for\")\n",
        "    print(f\"  Key (K):   {k.shape} - What each token offers\")\n",
        "    print(f\"  Value (V): {v.shape} - Information to be passed along\")\n",
        "\n",
        "    # Step 2: Compute attention scores (Q @ K^T)\n",
        "    scores = torch.matmul(q, k.transpose(-2, -1)) / np.sqrt(head_dim)\n",
        "\n",
        "    # Apply causal mask (can't attend to future tokens)\n",
        "    mask = torch.triu(torch.ones(seq_len, seq_len), diagonal=1).bool().to(\"cuda\")\n",
        "    scores.masked_fill_(mask, float('-inf'))\n",
        "\n",
        "    # Step 3: Get attention weights with softmax\n",
        "    attention_weights = F.softmax(scores, dim=-1)\n",
        "\n",
        "    # Step 4: Apply attention to values\n",
        "    attention_output = torch.matmul(attention_weights, v)\n",
        "\n",
        "    print(f\"\\nAttention scores shape: {scores.shape}\")\n",
        "    print(f\"Attention output shape: {attention_output.shape}\")\n",
        "\n",
        "    # Visualize the attention pattern\n",
        "    tokens = [tokenizer.decode([id]) for id in input_ids[0]]\n",
        "\n",
        "    # FIX: Convert from BFloat16 to Float32 then to numpy\n",
        "    attention_weights_np = attention_weights.float().cpu().numpy()\n",
        "\n",
        "    plt.figure(figsize=(6, 5))\n",
        "    plt.imshow(attention_weights_np, cmap='Blues', vmin=0)\n",
        "    plt.colorbar(label='Attention Weight')\n",
        "    plt.xlabel('Keys (attending from)')\n",
        "    plt.ylabel('Queries (attending to)')\n",
        "    plt.xticks(range(len(tokens)), tokens)\n",
        "    plt.yticks(range(len(tokens)), tokens)\n",
        "    plt.title('Manual Attention Computation - First Head')\n",
        "    plt.tight_layout()\n",
        "    plt.show()\n",
        "\n",
        "    # Show what each token attends to most\n",
        "    print(\"\\nStrongest attention connections:\")\n",
        "    for i, token in enumerate(tokens):\n",
        "        if i > 0:  # Skip first token (it can only attend to itself)\n",
        "            max_attention_idx = attention_weights[i, :i+1].argmax().item()\n",
        "            max_attention_val = attention_weights[i, max_attention_idx].item()\n",
        "            print(f\"'{token}' → '{tokens[max_attention_idx]}' ({max_attention_val:.2%})\")"
      ]
    },
    {
      "cell_type": "code",
      "execution_count": 67,
      "metadata": {
        "colab": {
          "base_uri": "https://localhost:8080/",
          "height": 743
        },
        "id": "u25Cz8S2zGF0",
        "outputId": "3fc61dbc-3054-40d6-cfbe-3af08e58bfd7"
      },
      "outputs": [
        {
          "name": "stdout",
          "output_type": "stream",
          "text": [
            "Shapes after projection:\n",
            "  Query (Q): torch.Size([5, 96]) - What each token is looking for\n",
            "  Key (K):   torch.Size([5, 96]) - What each token offers\n",
            "  Value (V): torch.Size([5, 96]) - Information to be passed along\n",
            "\n",
            "Attention scores shape: torch.Size([5, 5])\n",
            "Attention output shape: torch.Size([5, 96])\n"
          ]
        },
        {
          "data": {
            "image/png": "[encoded data removed]",
            "text/plain": ["<Figure size 600x500 with 2 Axes>"]
          },
          "metadata": {},
          "output_type": "display_data"
        },
        {
          "name": "stdout",
          "output_type": "stream",
          "text": [
            "\n",
            "Strongest attention connections:\n",
            "'cat' → 'The' (50.39%)\n",
            "'lov' → 'lov' (34.18%)\n",
            "'es' → 'lov' (25.20%)\n",
            "'fish' → 'fish' (20.12%)\n"
          ]
        }
      ],
      "source": [
        "# EXAMPLE: Manually compute attention like a single attention head does\n",
        "import torch\n",
        "import torch.nn.functional as F\n",
        "import numpy as np\n",
        "\n",
        "# Step 1: Get hidden states from the model\n",
        "prompt = \"The cat loves fish\"\n",
        "input_ids = tokenizer(prompt, return_tensors=\"pt\").input_ids.to(\"cuda\")\n",
        "\n",
        "with torch.no_grad():\n",
        "    # Get hidden states before any transformer blocks\n",
        "    embeddings = model.model.embed_tokens(input_ids)\n",
        "\n",
        "    # Get the actual Q, K, V projection weights from first layer, first head\n",
        "    first_layer = model.model.layers[0]\n",
        "    qkv_proj = first_layer.self_attn.qkv_proj\n",
        "\n",
        "    # Project to Q, K, V (this is what happens inside the attention head)\n",
        "    qkv = qkv_proj(embeddings)  # Shape: [1, seq_len, 3 * hidden_size]\n",
        "\n",
        "    # Split into Q, K, V\n",
        "    hidden_size = model.config.hidden_size\n",
        "    num_heads = model.config.num_attention_heads\n",
        "    head_dim = hidden_size // num_heads\n",
        "\n",
        "    # Reshape for multi-head attention\n",
        "    batch_size, seq_len = input_ids.shape\n",
        "    qkv = qkv.reshape(batch_size, seq_len, 3, num_heads, head_dim)\n",
        "    qkv = qkv.permute(2, 0, 3, 1, 4)  # [3, batch, heads, seq_len, head_dim]\n",
        "\n",
        "    # Extract Q, K, V for first head only\n",
        "    q = qkv[0, 0, 0]  # Query for first head [seq_len, head_dim]\n",
        "    k = qkv[1, 0, 0]  # Key for first head\n",
        "    v = qkv[2, 0, 0]  # Value for first head\n",
        "\n",
        "    print(f\"Shapes after projection:\")\n",
        "    print(f\"  Query (Q): {q.shape} - What each token is looking for\")\n",
        "    print(f\"  Key (K):   {k.shape} - What each token offers\")\n",
        "    print(f\"  Value (V): {v.shape} - Information to be passed along\")\n",
        "\n",
        "    # Step 2: Compute attention scores (Q @ K^T)\n",
        "    scores = torch.matmul(q, k.transpose(-2, -1)) / np.sqrt(head_dim)\n",
        "\n",
        "    # Apply causal mask (can't attend to future tokens)\n",
        "    mask = torch.triu(torch.ones(seq_len, seq_len), diagonal=1).bool().to(\"cuda\")\n",
        "    scores.masked_fill_(mask, float('-inf'))\n",
        "\n",
        "    # Step 3: Get attention weights with softmax\n",
        "    attention_weights = F.softmax(scores, dim=-1)\n",
        "\n",
        "    # Step 4: Apply attention to values\n",
        "    attention_output = torch.matmul(attention_weights, v)\n",
        "\n",
        "    print(f\"\\nAttention scores shape: {scores.shape}\")\n",
        "    print(f\"Attention output shape: {attention_output.shape}\")\n",
        "\n",
        "    # Visualize the attention pattern\n",
        "    tokens = [tokenizer.decode([id]) for id in input_ids[0]]\n",
        "\n",
        "    # FIX: Convert from BFloat16 to Float32 then to numpy\n",
        "    attention_weights_np = attention_weights.float().cpu().numpy()\n",
        "\n",
        "    plt.figure(figsize=(6, 5))\n",
        "    plt.imshow(attention_weights_np, cmap='Blues', vmin=0)\n",
        "    plt.colorbar(label='Attention Weight')\n",
        "    plt.xlabel('Keys (attending from)')\n",
        "    plt.ylabel('Queries (attending to)')\n",
        "    plt.xticks(range(len(tokens)), tokens)\n",
        "    plt.yticks(range(len(tokens)), tokens)\n",
        "    plt.title('Manual Attention Computation - First Head')\n",
        "    plt.tight_layout()\n",
        "    plt.show()\n",
        "\n",
        "    # Show what each token attends to most\n",
        "    print(\"\\nStrongest attention connections:\")\n",
        "    for i, token in enumerate(tokens):\n",
        "        if i > 0:  # Skip first token (it can only attend to itself)\n",
        "            max_attention_idx = attention_weights[i, :i+1].argmax().item()\n",
        "            max_attention_val = attention_weights[i, max_attention_idx].item()\n",
        "            print(f\"'{token}' → '{tokens[max_attention_idx]}' ({max_attention_val:.2%})\")"
      ]
    },
    {
      "cell_type": "code",
      "execution_count": 68,
      "metadata": {
        "colab": {
          "base_uri": "https://localhost:8080/"
        },
        "id": "u8ro612OzIPn",
        "outputId": "29a3dc21-ca82-43d2-8121-508b16dfbd41"
      },
      "outputs": [
        {
          "name": "stdout",
          "output_type": "stream",
          "text": [
            "Starting prompt: 'The secret of the universe is'\n",
            "Initial tokens: 6\n",
            "\n",
            "Cache structure after first pass:\n",
            "  Number of layers: 32\n",
            "  Each layer caches: K and V matrices\n",
            "\n",
            "First layer cache dimensions:\n",
            "  Key cache shape:   torch.Size([1, 32, 6, 96])\n",
            "  Value cache shape: torch.Size([1, 32, 6, 96])\n",
            "\n",
            "After generating token 1 ('that'):\n",
            "  Key cache shape: torch.Size([1, 32, 7, 96])\n",
            "  Sequence length in cache: 7\n",
            "\n",
            "After generating token 2 ('everything'):\n",
            "  Key cache shape: torch.Size([1, 32, 8, 96])\n",
            "  Sequence length in cache: 8\n",
            "\n",
            "After generating token 3 ('is'):\n",
            "  Key cache shape: torch.Size([1, 32, 9, 96])\n",
            "  Sequence length in cache: 9\n",
            "\n",
            "After generating token 4 ('connected'):\n",
            "  Key cache shape: torch.Size([1, 32, 10, 96])\n",
            "  Sequence length in cache: 10\n",
            "\n",
            "After generating token 5 ('.'):\n",
            "  Key cache shape: torch.Size([1, 32, 11, 96])\n",
            "  Sequence length in cache: 11\n",
            "\n",
            "Final text: The secret of the universe is that everything is connected.\n",
            "\n",
            "Memory efficiency:\n",
            "  Parameters in cache: 2,162,688\n",
            "  Parameters without cache: 3,244,032\n",
            "  Savings: 33.3%\n"
          ]
        }
      ],
      "source": [
        "# BONUS: See how KV caching actually stores these computations\n",
        "def explore_kv_cache_internals(prompt, tokens_to_generate=3):\n",
        "    \"\"\"\n",
        "    Demonstrates what actually gets cached - the K and V matrices from each layer\n",
        "    Reference: Chapter 3, Figure 3-10\n",
        "    \"\"\"\n",
        "    input_ids = tokenizer(prompt, return_tensors=\"pt\").input_ids.to(\"cuda\")\n",
        "\n",
        "    print(f\"Starting prompt: '{prompt}'\")\n",
        "    print(f\"Initial tokens: {input_ids.shape[1]}\\n\")\n",
        "\n",
        "    with torch.no_grad():\n",
        "        # First forward pass - no cache\n",
        "        outputs = model(input_ids, use_cache=True)\n",
        "        past_kv = outputs.past_key_values\n",
        "\n",
        "        print(f\"Cache structure after first pass:\")\n",
        "        print(f\"  Number of layers: {len(past_kv)}\")\n",
        "        print(f\"  Each layer caches: K and V matrices\")\n",
        "\n",
        "        # Check dimensions of cached values\n",
        "        first_layer_cache = past_kv[0]\n",
        "        print(f\"\\nFirst layer cache dimensions:\")\n",
        "        print(f\"  Key cache shape:   {first_layer_cache[0].shape}\")\n",
        "        print(f\"  Value cache shape: {first_layer_cache[1].shape}\")\n",
        "\n",
        "        # Generate a few tokens to see cache grow\n",
        "        generated_ids = input_ids[0].tolist()\n",
        "\n",
        "        for step in range(tokens_to_generate):\n",
        "            # Use only the last token as input (because we have cache)\n",
        "            new_input = torch.tensor([[generated_ids[-1]]]).to(\"cuda\")\n",
        "\n",
        "            outputs = model(new_input, past_key_values=past_kv, use_cache=True)\n",
        "\n",
        "            # Get next token\n",
        "            next_token_id = outputs.logits[0, -1].argmax()\n",
        "            generated_ids.append(next_token_id.item())\n",
        "\n",
        "            # Update cache\n",
        "            past_kv = outputs.past_key_values\n",
        "\n",
        "            # Show cache growth\n",
        "            print(f\"\\nAfter generating token {step + 1} ('{tokenizer.decode(next_token_id)}'):\")\n",
        "            print(f\"  Key cache shape: {past_kv[0][0].shape}\")\n",
        "            print(f\"  Sequence length in cache: {past_kv[0][0].shape[2]}\")\n",
        "\n",
        "        print(f\"\\nFinal text: {tokenizer.decode(generated_ids)}\")\n",
        "\n",
        "        # Calculate memory saved\n",
        "        cache_params = past_kv[0][0].numel() * len(past_kv) * 2  # K and V for all layers\n",
        "        full_params = model.config.hidden_size * len(generated_ids) * len(past_kv) * 3  # Q, K, V without cache\n",
        "\n",
        "        print(f\"\\nMemory efficiency:\")\n",
        "        print(f\"  Parameters in cache: {cache_params:,}\")\n",
        "        print(f\"  Parameters without cache: {full_params:,}\")\n",
        "        print(f\"  Savings: {(1 - cache_params/full_params)*100:.1f}%\")\n",
        "\n",
        "# Run the cache exploration\n",
        "explore_kv_cache_internals(\"The secret of the universe is\", tokens_to_generate=5)"
      ]
    },
    {
      "cell_type": "markdown",
      "metadata": {
        "id": "E0K9YQTxzovO"
      },
      "source": [
        "### Reflection Questions - Task 6\n",
        "\n",
        "Q1) The head dimension is hidden_size // num_heads. Why is the hidden size split this way across heads rather than having each head process the full hidden size?\n",
        "\n",
        "--\n",
        "\n",
        "Q2) When you computed scores = Q @ K^T, the result was divided by sqrt(head_dim). What problem does this scaling solve? (Hint: Consider what happens to dot products in high dimensions)\n",
        "\n",
        "--\n",
        "\n",
        "Q3) Different heads in the same layer showed different attention patterns. How do these diverse patterns get combined back into a single representation? What part of Chapter 3 discusses this?\n",
        "\n",
        "--\n",
        "\n",
        "Q4) The causal mask sets future positions to -inf before softmax. What happens to exp(-inf) in the softmax operation, and why is this the correct way to prevent attending to future tokens?\n",
        "\n",
        "--\n",
        "\n",
        "Q5) In the cache exploration, you saw that V and K have the same shape. Could they be combined into a single matrix to save memory? Why or why not, based on how they're used in attention?\n",
        "\n",
        "--\n",
        "\n",
        "Q6) If you wanted to allow the model to \"forget\" very old tokens to save memory (sliding window attention), which matrices would you need to truncate and how would this affect generation quality?"
      ]
    }
  ],
  "metadata": {
    "accelerator": "GPU",
    "colab": {
      "gpuType": "T4",
      "provenance": []
    },
    "kernelspec": {
      "display_name": "Python 3 (ipykernel)",
      "language": "python",
      "name": "python3"
    },
    "language_info": {
      "codemirror_mode": {
        "name": "ipython",
        "version": 3
      },
      "file_extension": ".py",
      "mimetype": "text/x-python",
      "name": "python",
      "nbconvert_exporter": "python",
      "pygments_lexer": "ipython3",
      "version": "3.12.9"
    }
  },
  "nbformat": 4,
  "nbformat_minor": 0
}
